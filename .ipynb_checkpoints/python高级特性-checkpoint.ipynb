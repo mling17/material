{
 "cells": [
  {
   "cell_type": "markdown",
   "id": "bdf56d01",
   "metadata": {},
   "source": [
    "# 1. 生成器"
   ]
  },
  {
   "cell_type": "markdown",
   "id": "939630e6",
   "metadata": {},
   "source": [
    "## 推导式"
   ]
  },
  {
   "cell_type": "markdown",
   "id": "80e5a7f6",
   "metadata": {},
   "source": [
    "### 列表推导式"
   ]
  },
  {
   "cell_type": "markdown",
   "id": "7474fd12",
   "metadata": {},
   "source": [
    "### 字典推导式"
   ]
  },
  {
   "cell_type": "markdown",
   "id": "b03e3e56",
   "metadata": {},
   "source": [
    "### 生成器推导式"
   ]
  },
  {
   "cell_type": "markdown",
   "id": "b7ce12e0",
   "metadata": {},
   "source": [
    "## 1.2 生成器表达式"
   ]
  },
  {
   "cell_type": "markdown",
   "id": "6c060833",
   "metadata": {},
   "source": [
    "## 生成器函数"
   ]
  },
  {
   "cell_type": "markdown",
   "id": "cb7337aa",
   "metadata": {},
   "source": [
    "# 迭代器"
   ]
  },
  {
   "cell_type": "markdown",
   "id": "97603b84",
   "metadata": {},
   "source": [
    "## 定义"
   ]
  },
  {
   "cell_type": "markdown",
   "id": "a0c83d09",
   "metadata": {},
   "source": [
    "1. 迭代器协议是指：对象必须提供一个next方法，执行方法要么返回迭代器中的下一项，要么就引起一个StopIteration异常，以终止迭代（只能往后走，不能往前退）\n",
    "2. 可迭代对象：实现了迭代器协议的对象（实现方式:对象内部定义了一个__iter__()方法）\n",
    "3. 协议是一种约定，可迭代对象实现了迭代器协议，Python的内部工具（如for循环，sum，min，max函数等）使用迭代器协议访问对象。"
   ]
  },
  {
   "cell_type": "code",
   "execution_count": null,
   "id": "a55baed4",
   "metadata": {},
   "outputs": [],
   "source": []
  },
  {
   "cell_type": "code",
   "execution_count": null,
   "id": "f1bcf2aa",
   "metadata": {},
   "outputs": [],
   "source": []
  },
  {
   "cell_type": "code",
   "execution_count": null,
   "id": "85da983e",
   "metadata": {},
   "outputs": [],
   "source": []
  },
  {
   "cell_type": "code",
   "execution_count": null,
   "id": "79592327",
   "metadata": {},
   "outputs": [],
   "source": []
  },
  {
   "cell_type": "markdown",
   "id": "f7679d48",
   "metadata": {},
   "source": [
    "# 函数式编程"
   ]
  },
  {
   "cell_type": "markdown",
   "id": "064dbf08",
   "metadata": {},
   "source": [
    "## 高阶函数\n",
    "函数的参数为另一个函数名，或者函数的返回值为另一个函数（返回自己为递归），这种函数称为高阶函数"
   ]
  },
  {
   "cell_type": "code",
   "execution_count": 2,
   "id": "0eb545a4",
   "metadata": {},
   "outputs": [
    {
     "data": {
      "text/plain": [
       "3"
      ]
     },
     "execution_count": 2,
     "metadata": {},
     "output_type": "execute_result"
    }
   ],
   "source": [
    "def func(a,b,f):\n",
    "    return f(a)+f(b)\n",
    "func(1,2,abs)"
   ]
  },
  {
   "cell_type": "code",
   "execution_count": 6,
   "id": "5c898df1",
   "metadata": {},
   "outputs": [
    {
     "name": "stdout",
     "output_type": "stream",
     "text": [
      "<function foo.<locals>.inner at 0x000002544AB068B0>\n",
      "inner function\n"
     ]
    }
   ],
   "source": [
    "def foo():\n",
    "    def inner():\n",
    "        print('inner function')\n",
    "    return inner\n",
    "print(foo())\n",
    "foo()()"
   ]
  },
  {
   "cell_type": "markdown",
   "id": "158ba28b",
   "metadata": {},
   "source": [
    "## 内置高阶函数"
   ]
  },
  {
   "cell_type": "markdown",
   "id": "396ea8cb",
   "metadata": {},
   "source": [
    "- map\n",
    "- filter\n",
    "- reduce：是functools模块中的函数，需要导入\n",
    "- sorted"
   ]
  },
  {
   "cell_type": "markdown",
   "id": "ae88e4c0",
   "metadata": {},
   "source": [
    "## 闭包\n",
    "在函数中可以（嵌套）定义另一个函数时，如果内部的函数引用了外部的函数的变量，则可能产生闭包。闭包可以用来在一个函数与一组“私有”变量之间创建关联关系。在给定函数被多次调用的过程中，这些私有变量能够保持其持久性。"
   ]
  },
  {
   "cell_type": "markdown",
   "id": "60ecc8a2",
   "metadata": {},
   "source": [
    "### 闭包的定义"
   ]
  },
  {
   "cell_type": "markdown",
   "id": "24c1ce39",
   "metadata": {},
   "source": [
    "在函数中可以定义另一个函数时（函数嵌套），如果内部的函数引用了外部的函数的变量，则可能产生闭包。闭包可以用来在一个函数与一组“私有”变量之间创建关联关系。在给定函数被多次调用的过程中，这些私有变量能够保持其持久性。"
   ]
  },
  {
   "cell_type": "markdown",
   "id": "ee70be2b",
   "metadata": {},
   "source": [
    "### 闭包的条件"
   ]
  },
  {
   "cell_type": "markdown",
   "id": "eb6bdb8b",
   "metadata": {},
   "source": [
    "- 外部函数中定义了内部函数\n",
    "- 外部函数是有返回值\n",
    "- 返回值是：内部函数\n",
    "- 内部函数还引用了外部函数的变量"
   ]
  },
  {
   "cell_type": "markdown",
   "id": "fcd9cba0",
   "metadata": {},
   "source": [
    "闭包基本格式:\n",
    "```python\n",
    "def 外部函数():\n",
    "    ...\n",
    "    def 内部函数():\n",
    "        ...\n",
    "    return 内部函数\n",
    "```"
   ]
  },
  {
   "cell_type": "code",
   "execution_count": 7,
   "id": "424b3931",
   "metadata": {},
   "outputs": [
    {
     "name": "stdout",
     "output_type": "stream",
     "text": [
      "<function func.<locals>.inner_func at 0x000002544AB06790>\n",
      "100 200\n"
     ]
    }
   ],
   "source": [
    "def func():\n",
    "    a = 100\n",
    " \n",
    "    def inner_func():\n",
    "        b = 200\n",
    "        print(a, b)\n",
    " \n",
    "    return inner_func\n",
    " \n",
    " \n",
    "x = func()\n",
    "print(x)  # <function func.<locals>.inner_func at 0x0000021704CD9620>\n",
    "x()  # 100 200\n",
    "# 这样就可以直接调用inner_func函数，如果return不返回一个内部函数的话是不会有任何输出的"
   ]
  },
  {
   "cell_type": "markdown",
   "id": "3e8aa825",
   "metadata": {},
   "source": [
    "### 闭包的优缺点"
   ]
  },
  {
   "cell_type": "markdown",
   "id": "0bcda932",
   "metadata": {},
   "source": [
    "优点：\n",
    "- 可以同时使用内部函数变量和外部函数的变量\n",
    "- 将外层函数的变量持久地保存在内存中。"
   ]
  },
  {
   "cell_type": "markdown",
   "id": "889f3c47",
   "metadata": {},
   "source": [
    "缺点：\n",
    "- 作用域没有那么直观\n",
    "- 因为变量不会被垃圾回收所以有一定的内存占用问题。"
   ]
  },
  {
   "cell_type": "markdown",
   "id": "28e2e461",
   "metadata": {},
   "source": [
    "## 装饰器\n",
    "装饰器是在不改变原函数及调用方式的前提下添加新的功能。\n",
    "特点：\n",
    "1. 不改变原函数\n",
    "2. 不改变原函数的调用"
   ]
  },
  {
   "cell_type": "markdown",
   "id": "5402b797",
   "metadata": {},
   "source": [
    "### 从需求开始\n",
    "在不改变index函数源代码以及调用方式的前提下，为其添加统计运行时间的功能"
   ]
  },
  {
   "cell_type": "code",
   "execution_count": 12,
   "id": "65f7412c",
   "metadata": {},
   "outputs": [
    {
     "name": "stdout",
     "output_type": "stream",
     "text": [
      "index function\n"
     ]
    }
   ],
   "source": [
    "import time\n",
    "def index():\n",
    "    time.sleep(3)\n",
    "    print('index function')\n",
    "index()"
   ]
  },
  {
   "cell_type": "markdown",
   "id": "287561d5",
   "metadata": {},
   "source": [
    "### 方式一，修改源码"
   ]
  },
  {
   "cell_type": "code",
   "execution_count": 13,
   "id": "d9a763ff",
   "metadata": {},
   "outputs": [
    {
     "name": "stdout",
     "output_type": "stream",
     "text": [
      "index function\n",
      "程序运行用时：3.0062413215637207\n"
     ]
    }
   ],
   "source": [
    "import time\n",
    "def index():\n",
    "    start = time.time()\n",
    "    time.sleep(3)\n",
    "    print('index function')\n",
    "    stop= time.time()\n",
    "    print(f'程序运行用时：{stop-start}')\n",
    "index()"
   ]
  },
  {
   "cell_type": "markdown",
   "id": "12650b22",
   "metadata": {},
   "source": [
    "此种方式，没有修改函数的调用方式，但是改了其源代码，所以此种方式不符合要求"
   ]
  },
  {
   "cell_type": "markdown",
   "id": "be16190a",
   "metadata": {},
   "source": [
    "### 方式二，在另一个函数种调用"
   ]
  },
  {
   "cell_type": "code",
   "execution_count": 11,
   "id": "1e37b67b",
   "metadata": {},
   "outputs": [
    {
     "name": "stdout",
     "output_type": "stream",
     "text": [
      "index 111 222\n",
      "程序运行用时：3.0070884227752686\n"
     ]
    }
   ],
   "source": [
    "import time\n",
    "\n",
    "def index(x,y):\n",
    "    time.sleep(3)\n",
    "    print('index %s %s'%(x,y))\n",
    "    \n",
    "def wrapper():\n",
    "    start=time.time()\n",
    "    index(111,222)\n",
    "    stop= time.time()\n",
    "    print(f'程序运行用时：{stop-start}')\n",
    "\n",
    "wrapper()"
   ]
  },
  {
   "cell_type": "markdown",
   "id": "7b9115ce",
   "metadata": {},
   "source": [
    "此种方式，没有修改函数的源代码，但是改了其调用方式，所以此种方式不符合要求"
   ]
  },
  {
   "cell_type": "markdown",
   "id": "950f4244",
   "metadata": {},
   "source": [
    "### 方式三，使用高阶函数"
   ]
  },
  {
   "cell_type": "code",
   "execution_count": 16,
   "id": "5d2416d4",
   "metadata": {},
   "outputs": [
    {
     "name": "stdout",
     "output_type": "stream",
     "text": [
      "index function\n",
      "程序运行用时：3.0142173767089844\n"
     ]
    }
   ],
   "source": [
    "import time\n",
    "\n",
    "def index():\n",
    "    time.sleep(3)\n",
    "    print('index function')\n",
    "    \n",
    "def wrapper(func):\n",
    "    start=time.time()\n",
    "    func()\n",
    "    stop= time.time()\n",
    "    print(f'程序运行用时：{stop-start}')\n",
    "\n",
    "wrapper(index)"
   ]
  },
  {
   "cell_type": "markdown",
   "id": "6b24cdd7",
   "metadata": {},
   "source": [
    "此种方式，同样改变了函数的调用方式"
   ]
  },
  {
   "cell_type": "markdown",
   "id": "2293ce4c",
   "metadata": {},
   "source": [
    "### 方式四，高阶函数+闭包"
   ]
  },
  {
   "cell_type": "code",
   "execution_count": 18,
   "id": "902b6131",
   "metadata": {},
   "outputs": [
    {
     "name": "stdout",
     "output_type": "stream",
     "text": [
      "index function\n",
      "程序运行用时：3.0138185024261475\n"
     ]
    }
   ],
   "source": [
    "import time\n",
    "\n",
    "def index():\n",
    "    time.sleep(3)\n",
    "    print('index function')\n",
    "    \n",
    "def wrapper(func):\n",
    "    def inner():\n",
    "        start=time.time()\n",
    "        func()\n",
    "        stop= time.time()\n",
    "        print(f'程序运行用时：{stop-start}')\n",
    "    return inner\n",
    "\n",
    "index = wrapper(index)\n",
    "index()"
   ]
  },
  {
   "cell_type": "markdown",
   "id": "02987230",
   "metadata": {},
   "source": [
    "此种方式实现了我们的需求"
   ]
  },
  {
   "cell_type": "markdown",
   "id": "77a3c331",
   "metadata": {},
   "source": [
    "### 使用@"
   ]
  },
  {
   "cell_type": "markdown",
   "id": "dffb4fb4",
   "metadata": {},
   "source": [
    "在被装饰函数的上一行，使用@符号+装饰函数。此种方式也称为语法糖"
   ]
  },
  {
   "cell_type": "code",
   "execution_count": 24,
   "id": "f0b97559",
   "metadata": {},
   "outputs": [
    {
     "name": "stdout",
     "output_type": "stream",
     "text": [
      "index function\n",
      "程序运行用时：3.0107123851776123\n"
     ]
    }
   ],
   "source": [
    "import time\n",
    "\n",
    "    \n",
    "def wrapper(func):\n",
    "    def inner():\n",
    "        start=time.time()\n",
    "        func()\n",
    "        stop= time.time()\n",
    "        print(f'程序运行用时：{stop-start}')\n",
    "    return inner\n",
    "\n",
    "@wrapper # 等效于index = wrapper(index)\n",
    "def index():\n",
    "    time.sleep(3)\n",
    "    print('index function')\n",
    "index()"
   ]
  },
  {
   "cell_type": "markdown",
   "id": "ea22cfb7",
   "metadata": {},
   "source": [
    "至此装饰器就完成了，所以装饰器=高阶函数+闭包+语法糖"
   ]
  },
  {
   "cell_type": "markdown",
   "id": "149ea764",
   "metadata": {},
   "source": [
    "### 无参装饰器"
   ]
  },
  {
   "cell_type": "code",
   "execution_count": 29,
   "id": "852993af",
   "metadata": {},
   "outputs": [],
   "source": [
    "# 通用无参装饰函数\n",
    "def wrapper(func):\n",
    "    def inner():\n",
    "        func()\n",
    "    return inner\n"
   ]
  },
  {
   "cell_type": "code",
   "execution_count": 30,
   "id": "9552452c",
   "metadata": {},
   "outputs": [
    {
     "name": "stdout",
     "output_type": "stream",
     "text": [
      "foo开始执行\n",
      "foo执行完毕\n",
      "执行用时：3.0075247287750244秒\n"
     ]
    }
   ],
   "source": [
    "# 示例，计时器\n",
    "import time\n",
    "def timer(func):\n",
    "    def inner():\n",
    "        start = time.time()\n",
    "        func()\n",
    "        print(f'执行用时：{time.time()-start}秒')\n",
    "    return inner\n",
    "\n",
    "@timer\n",
    "def foo():\n",
    "    print('foo开始执行')\n",
    "    time.sleep(3)\n",
    "    print('foo执行完毕')\n",
    "\n",
    "foo()"
   ]
  },
  {
   "cell_type": "markdown",
   "id": "14f32165",
   "metadata": {},
   "source": [
    "### 有参数装饰器"
   ]
  },
  {
   "cell_type": "code",
   "execution_count": 49,
   "id": "1a3ab0ef",
   "metadata": {},
   "outputs": [
    {
     "name": "stdout",
     "output_type": "stream",
     "text": [
      "欢迎登录你的首页\n",
      "request\n"
     ]
    }
   ],
   "source": [
    "# 示例，认证\n",
    "import time\n",
    "def auth(user,pwd,*args,**kwargs):\n",
    "    def dector(func):\n",
    "        def inner(*args,**kwargs):\n",
    "            if user=='chen' and pwd=='123':\n",
    "                func(*args,**kwargs)\n",
    "            else:\n",
    "                print('用户名或密码错误')\n",
    "        return inner\n",
    "    return dector\n",
    "\n",
    "@auth('chen','123','abcd',a=10)\n",
    "def index(request):\n",
    "    print('欢迎登录你的首页')\n",
    "    print(request)\n",
    "\n",
    "\n",
    "index('request')"
   ]
  },
  {
   "cell_type": "markdown",
   "id": "b8d07e42",
   "metadata": {},
   "source": [
    "### 装饰器中functools.wraps"
   ]
  },
  {
   "cell_type": "code",
   "execution_count": 51,
   "id": "d4a0789c",
   "metadata": {},
   "outputs": [
    {
     "name": "stdout",
     "output_type": "stream",
     "text": [
      "wrapper\n",
      "num2\n"
     ]
    }
   ],
   "source": [
    "def user_login_data(f):\n",
    "    def wrapper(*args, **kwargs):\n",
    "        return f(*args, **kwargs)\n",
    "    return wrapper\n",
    "\n",
    "# 用装饰器装饰以下两个函数\n",
    "\n",
    "@user_login_data\n",
    "def num1():\n",
    "    print(\"aaa\")\n",
    "def num2():\n",
    "    print(\"aaa\")\n",
    "\n",
    "print(num1.__name__) # 函数的名字被改变，因为本质上运行的就是wrapper函数\n",
    "print(num2.__name__)"
   ]
  },
  {
   "cell_type": "markdown",
   "id": "cbda33fb",
   "metadata": {},
   "source": [
    "你写了一个装饰器作用在某个函数上，但是这个函数的重要的元信息比如名字、文档字符串、注解和参数签名都丢失了。\n",
    "\n",
    "任何时候你定义装饰器的时候，都应该使用 functools 库中的 @wraps 装饰器来注解底层包装函数。"
   ]
  },
  {
   "cell_type": "code",
   "execution_count": 54,
   "id": "e52abca1",
   "metadata": {},
   "outputs": [
    {
     "name": "stdout",
     "output_type": "stream",
     "text": [
      "num1\n",
      "num2\n"
     ]
    }
   ],
   "source": [
    "from functools import wraps\n",
    "\n",
    "def user_login_data(f):\n",
    "    @wraps(f)\n",
    "    def wrapper(*args, **kwargs):\n",
    "        return f(*args, **kwargs)\n",
    "    return wrapper\n",
    "\n",
    "# 用装饰器装饰以下两个函数\n",
    "\n",
    "@user_login_data\n",
    "def num1():\n",
    "    print(\"aaa\")\n",
    "def num2():\n",
    "    print(\"aaa\")\n",
    "\n",
    "print(num1.__name__) # 通过wraps装饰器就可以保留被装饰函数的元信息\n",
    "print(num2.__name__)"
   ]
  },
  {
   "cell_type": "markdown",
   "id": "5aa4c7ff",
   "metadata": {},
   "source": [
    "- 在写装饰器，请务必加上wraps装饰器"
   ]
  },
  {
   "cell_type": "code",
   "execution_count": null,
   "id": "cbac101b",
   "metadata": {},
   "outputs": [],
   "source": []
  },
  {
   "cell_type": "code",
   "execution_count": 68,
   "id": "3ca94a1c",
   "metadata": {},
   "outputs": [
    {
     "name": "stdout",
     "output_type": "stream",
     "text": [
      "index fun 100\n",
      "<__main__.Dector object at 0x000002544D524CD0>\n"
     ]
    }
   ],
   "source": [
    "from functools import wraps\n",
    "\n",
    "class Dector:\n",
    "    def __init__(self,func):\n",
    "        self.func = func\n",
    "    \n",
    "    def __call__(self, *args, **kwargs):\n",
    "        self.func(*args,**kwargs)\n",
    "@Dector\n",
    "def index(a):\n",
    "    print('index fun',a)\n",
    "\n",
    "index(100)\n",
    "print(index)"
   ]
  },
  {
   "cell_type": "code",
   "execution_count": null,
   "id": "a57af247",
   "metadata": {},
   "outputs": [],
   "source": []
  },
  {
   "cell_type": "code",
   "execution_count": null,
   "id": "efc835b7",
   "metadata": {},
   "outputs": [],
   "source": []
  },
  {
   "cell_type": "markdown",
   "id": "2976d2f4",
   "metadata": {},
   "source": [
    "## 偏函数"
   ]
  },
  {
   "cell_type": "markdown",
   "id": "518ccde9",
   "metadata": {},
   "source": [
    "# 面向对象编程"
   ]
  },
  {
   "cell_type": "markdown",
   "id": "de8e0400",
   "metadata": {},
   "source": [
    "## 类与对象"
   ]
  },
  {
   "cell_type": "markdown",
   "id": "ee5995bb",
   "metadata": {},
   "source": [
    "## 访问限制"
   ]
  },
  {
   "cell_type": "markdown",
   "id": "54ce1d8b",
   "metadata": {},
   "source": [
    "## 面向对象三大特性"
   ]
  },
  {
   "cell_type": "markdown",
   "id": "50607b34",
   "metadata": {},
   "source": [
    "### 继承"
   ]
  },
  {
   "cell_type": "markdown",
   "id": "d2a7b92c",
   "metadata": {},
   "source": [
    "### 封装"
   ]
  },
  {
   "cell_type": "markdown",
   "id": "deafaa5a",
   "metadata": {},
   "source": [
    "### 多态"
   ]
  },
  {
   "cell_type": "markdown",
   "id": "388359b8",
   "metadata": {},
   "source": [
    "## 内置方法"
   ]
  },
  {
   "cell_type": "markdown",
   "id": "c66bd26d",
   "metadata": {},
   "source": [
    "## 元类"
   ]
  },
  {
   "cell_type": "code",
   "execution_count": 1,
   "id": "6dc29123",
   "metadata": {},
   "outputs": [
    {
     "name": "stdout",
     "output_type": "stream",
     "text": [
      "1\n",
      "3\n"
     ]
    }
   ],
   "source": [
    "for i in {1,1,3}:\n",
    "    print(i)"
   ]
  }
 ],
 "metadata": {
  "kernelspec": {
   "display_name": "Python 3 (ipykernel)",
   "language": "python",
   "name": "python3"
  },
  "language_info": {
   "codemirror_mode": {
    "name": "ipython",
    "version": 3
   },
   "file_extension": ".py",
   "mimetype": "text/x-python",
   "name": "python",
   "nbconvert_exporter": "python",
   "pygments_lexer": "ipython3",
   "version": "3.8.6"
  },
  "toc": {
   "base_numbering": 1,
   "nav_menu": {},
   "number_sections": true,
   "sideBar": true,
   "skip_h1_title": false,
   "title_cell": "Table of Contents",
   "title_sidebar": "Contents",
   "toc_cell": false,
   "toc_position": {},
   "toc_section_display": true,
   "toc_window_display": false
  }
 },
 "nbformat": 4,
 "nbformat_minor": 5
}
