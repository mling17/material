{
 "cells": [
  {
   "cell_type": "markdown",
   "id": "4c600aa9",
   "metadata": {},
   "source": [
    "# 1. 文件操作"
   ]
  },
  {
   "cell_type": "markdown",
   "id": "9b21a6b4",
   "metadata": {},
   "source": [
    "# 2. 函数"
   ]
  },
  {
   "cell_type": "markdown",
   "id": "290d5d30",
   "metadata": {},
   "source": [
    "## 2.1 定义函数"
   ]
  },
  {
   "cell_type": "markdown",
   "id": "f8a615a3",
   "metadata": {},
   "source": [
    "## 2.2 调用函数"
   ]
  },
  {
   "cell_type": "markdown",
   "id": "18e3efb5",
   "metadata": {},
   "source": [
    "## 2.3 函数的参数"
   ]
  },
  {
   "cell_type": "markdown",
   "id": "c8894824",
   "metadata": {},
   "source": [
    "## 2.4 全局变量和局部变量"
   ]
  },
  {
   "cell_type": "markdown",
   "id": "f419b24f",
   "metadata": {},
   "source": [
    "### 2.4.1 全局变量 global"
   ]
  },
  {
   "cell_type": "markdown",
   "id": "eba70359",
   "metadata": {},
   "source": [
    "### 2.4.2 局部变量 nonlocal"
   ]
  },
  {
   "cell_type": "markdown",
   "id": "0d7c5a8b",
   "metadata": {},
   "source": [
    "### 2.4.3 变量作用域"
   ]
  },
  {
   "cell_type": "markdown",
   "id": "e25507da",
   "metadata": {},
   "source": [
    "## 2.5 递归函数"
   ]
  },
  {
   "cell_type": "markdown",
   "id": "194b52cd",
   "metadata": {},
   "source": [
    "# 3. 模块和包"
   ]
  },
  {
   "cell_type": "markdown",
   "id": "b8fb0806",
   "metadata": {},
   "source": [
    "# 4. 异常处理"
   ]
  },
  {
   "cell_type": "markdown",
   "id": "7c1e5f8d",
   "metadata": {},
   "source": [
    "# 5. 常用模块"
   ]
  },
  {
   "cell_type": "markdown",
   "id": "a324ad30",
   "metadata": {},
   "source": []
  },
  {
   "cell_type": "markdown",
   "id": "6468938a",
   "metadata": {},
   "source": []
  }
 ],
 "metadata": {
  "kernelspec": {
   "display_name": "Python 3 (ipykernel)",
   "language": "python",
   "name": "python3"
  },
  "language_info": {
   "codemirror_mode": {
    "name": "ipython",
    "version": 3
   },
   "file_extension": ".py",
   "mimetype": "text/x-python",
   "name": "python",
   "nbconvert_exporter": "python",
   "pygments_lexer": "ipython3",
   "version": "3.9.7"
  }
 },
 "nbformat": 4,
 "nbformat_minor": 5
}
