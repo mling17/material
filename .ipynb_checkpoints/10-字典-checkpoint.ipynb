{
 "cells": [
  {
   "cell_type": "code",
   "execution_count": 7,
   "id": "ff18118e",
   "metadata": {},
   "outputs": [
    {
     "name": "stdout",
     "output_type": "stream",
     "text": [
      "5\n",
      "兰山\n"
     ]
    }
   ],
   "source": [
    "# 练习：\n",
    "# 1. 存储如下信息，省份山东，城市潍坊，区潍城、奎文、高新、坊子、寒亭；城市临沂，区兰山、河东、罗庄\n",
    "# 2. 统计潍坊有多少个区\n",
    "# 3. 找到兰山区\n",
    "area_dic = {\n",
    "    '山东':[\n",
    "        {'city':'潍坊','dis':['潍城','奎文','高新','坊子','寒亭']},\n",
    "        {'city':'临沂','dis':['兰山','河东','罗庄']},\n",
    "    ],\n",
    "    '江苏':[]\n",
    "}\n",
    "print(len(area_dic['山东'][0]['dis']))\n",
    "print(area_dic['山东'][1]['dis'][0])"
   ]
  },
  {
   "cell_type": "code",
   "execution_count": null,
   "id": "a130b23c",
   "metadata": {},
   "outputs": [],
   "source": [
    "1. 通过key来获取value，修改value，添加key-value，删除key\n",
    "2. dict的内置方法"
   ]
  },
  {
   "cell_type": "code",
   "execution_count": 9,
   "id": "118c6b9a",
   "metadata": {},
   "outputs": [],
   "source": [
    "d = {'city':'潍坊','dis':['潍城','奎文','高新','坊子','寒亭']}"
   ]
  },
  {
   "cell_type": "code",
   "execution_count": 11,
   "id": "56761f9b",
   "metadata": {},
   "outputs": [],
   "source": [
    "d['city'] = '潍坊市'"
   ]
  },
  {
   "cell_type": "code",
   "execution_count": 12,
   "id": "5c05d951",
   "metadata": {},
   "outputs": [
    {
     "data": {
      "text/plain": [
       "{'city': '潍坊市', 'dis': ['潍城', '奎文', '高新', '坊子', '寒亭']}"
      ]
     },
     "execution_count": 12,
     "metadata": {},
     "output_type": "execute_result"
    }
   ],
   "source": [
    "d"
   ]
  },
  {
   "cell_type": "code",
   "execution_count": 13,
   "id": "914500f1",
   "metadata": {},
   "outputs": [],
   "source": [
    "d['pepole'] = 900"
   ]
  },
  {
   "cell_type": "code",
   "execution_count": 14,
   "id": "af943e51",
   "metadata": {},
   "outputs": [
    {
     "data": {
      "text/plain": [
       "{'city': '潍坊市', 'dis': ['潍城', '奎文', '高新', '坊子', '寒亭'], 'pepole': 900}"
      ]
     },
     "execution_count": 14,
     "metadata": {},
     "output_type": "execute_result"
    }
   ],
   "source": [
    "d\n"
   ]
  },
  {
   "cell_type": "code",
   "execution_count": 15,
   "id": "be368c5d",
   "metadata": {},
   "outputs": [],
   "source": [
    "del d['pepole']"
   ]
  },
  {
   "cell_type": "code",
   "execution_count": 17,
   "id": "7f0bb50e",
   "metadata": {},
   "outputs": [
    {
     "data": {
      "text/plain": [
       "{'city': '潍坊市', 'dis': ['潍城', '奎文', '高新', '坊子', '寒亭']}"
      ]
     },
     "execution_count": 17,
     "metadata": {},
     "output_type": "execute_result"
    }
   ],
   "source": [
    "d"
   ]
  },
  {
   "cell_type": "code",
   "execution_count": null,
   "id": "6ec84094",
   "metadata": {},
   "outputs": [],
   "source": [
    "#增删改查全通过key来实现"
   ]
  },
  {
   "cell_type": "code",
   "execution_count": 18,
   "id": "19e5069f",
   "metadata": {},
   "outputs": [
    {
     "data": {
      "text/plain": [
       "False"
      ]
     },
     "execution_count": 18,
     "metadata": {},
     "output_type": "execute_result"
    }
   ],
   "source": [
    "'pepole' in d"
   ]
  },
  {
   "cell_type": "code",
   "execution_count": 19,
   "id": "9b3da3e8",
   "metadata": {},
   "outputs": [
    {
     "data": {
      "text/plain": [
       "True"
      ]
     },
     "execution_count": 19,
     "metadata": {},
     "output_type": "execute_result"
    }
   ],
   "source": [
    "'city' in d"
   ]
  },
  {
   "cell_type": "code",
   "execution_count": 20,
   "id": "af00f273",
   "metadata": {},
   "outputs": [
    {
     "data": {
      "text/plain": [
       "1"
      ]
     },
     "execution_count": 20,
     "metadata": {},
     "output_type": "execute_result"
    }
   ],
   "source": [
    "l = [1,2,3,4,5]\n",
    "l[0]"
   ]
  },
  {
   "cell_type": "code",
   "execution_count": null,
   "id": "8a00aa0a",
   "metadata": {},
   "outputs": [],
   "source": [
    "score = {'math':90,'Chinese':96} #字典没有索引\n",
    "1. 获取数学成绩\n",
    "2. 修改语文成绩为99\n",
    "3. 添加英语成绩89"
   ]
  },
  {
   "cell_type": "code",
   "execution_count": 21,
   "id": "81773acc",
   "metadata": {},
   "outputs": [
    {
     "ename": "SyntaxError",
     "evalue": "expression cannot contain assignment, perhaps you meant \"==\"? (259015637.py, line 3)",
     "output_type": "error",
     "traceback": [
      "\u001b[0;36m  File \u001b[0;32m\"/var/folders/7_/gl5k51h93z55mwsdpj89djpw0000gn/T/ipykernel_20152/259015637.py\"\u001b[0;36m, line \u001b[0;32m3\u001b[0m\n\u001b[0;31m    print(score[2]=99)\u001b[0m\n\u001b[0m          ^\u001b[0m\n\u001b[0;31mSyntaxError\u001b[0m\u001b[0;31m:\u001b[0m expression cannot contain assignment, perhaps you meant \"==\"?\n"
     ]
    }
   ],
   "source": [
    "score = {'math':90,'Chinese':96} \n",
    "print(score[1]) \n",
    "print(score[2]=99)\n",
    "score = {'math':90,'Chinese':96,'Engl':89} \n",
    "print(score[3]）"
   ]
  },
  {
   "cell_type": "code",
   "execution_count": 22,
   "id": "fc6e7e24",
   "metadata": {},
   "outputs": [
    {
     "name": "stdout",
     "output_type": "stream",
     "text": [
      "90\n"
     ]
    }
   ],
   "source": [
    "score = {'math':90,'Chinese':96} #字典没有索引\n",
    "print(score['math'])"
   ]
  },
  {
   "cell_type": "code",
   "execution_count": 24,
   "id": "8c342f1d",
   "metadata": {},
   "outputs": [
    {
     "name": "stdout",
     "output_type": "stream",
     "text": [
      "96\n"
     ]
    }
   ],
   "source": [
    "print(score['Chinese'])"
   ]
  },
  {
   "cell_type": "code",
   "execution_count": 25,
   "id": "a957aec2",
   "metadata": {},
   "outputs": [],
   "source": [
    "score['Chinese'] = 99"
   ]
  },
  {
   "cell_type": "code",
   "execution_count": 26,
   "id": "e19c6a3e",
   "metadata": {},
   "outputs": [
    {
     "data": {
      "text/plain": [
       "{'math': 90, 'Chinese': 99}"
      ]
     },
     "execution_count": 26,
     "metadata": {},
     "output_type": "execute_result"
    }
   ],
   "source": [
    "score"
   ]
  },
  {
   "cell_type": "code",
   "execution_count": 27,
   "id": "5e3bf8a2",
   "metadata": {},
   "outputs": [],
   "source": [
    "score['english'] = 89"
   ]
  },
  {
   "cell_type": "code",
   "execution_count": 28,
   "id": "396c3820",
   "metadata": {},
   "outputs": [
    {
     "data": {
      "text/plain": [
       "{'math': 90, 'Chinese': 99, 'english': 89}"
      ]
     },
     "execution_count": 28,
     "metadata": {},
     "output_type": "execute_result"
    }
   ],
   "source": [
    "score"
   ]
  },
  {
   "cell_type": "code",
   "execution_count": 29,
   "id": "d304e413",
   "metadata": {},
   "outputs": [],
   "source": [
    "del score['math']"
   ]
  },
  {
   "cell_type": "code",
   "execution_count": 30,
   "id": "4e44d96a",
   "metadata": {},
   "outputs": [
    {
     "data": {
      "text/plain": [
       "{'Chinese': 99, 'english': 89}"
      ]
     },
     "execution_count": 30,
     "metadata": {},
     "output_type": "execute_result"
    }
   ],
   "source": [
    "score"
   ]
  },
  {
   "cell_type": "code",
   "execution_count": 31,
   "id": "7affab76",
   "metadata": {},
   "outputs": [
    {
     "ename": "KeyError",
     "evalue": "'math11111'",
     "output_type": "error",
     "traceback": [
      "\u001b[0;31m---------------------------------------------------------------------------\u001b[0m",
      "\u001b[0;31mKeyError\u001b[0m                                  Traceback (most recent call last)",
      "\u001b[0;32m/var/folders/7_/gl5k51h93z55mwsdpj89djpw0000gn/T/ipykernel_20152/4133910577.py\u001b[0m in \u001b[0;36m<module>\u001b[0;34m\u001b[0m\n\u001b[0;32m----> 1\u001b[0;31m \u001b[0;32mdel\u001b[0m \u001b[0mscore\u001b[0m\u001b[0;34m[\u001b[0m\u001b[0;34m'math11111'\u001b[0m\u001b[0;34m]\u001b[0m\u001b[0;34m\u001b[0m\u001b[0;34m\u001b[0m\u001b[0m\n\u001b[0m",
      "\u001b[0;31mKeyError\u001b[0m: 'math11111'"
     ]
    }
   ],
   "source": [
    "del score['math11111']"
   ]
  },
  {
   "cell_type": "code",
   "execution_count": 32,
   "id": "def7f557",
   "metadata": {},
   "outputs": [
    {
     "ename": "KeyError",
     "evalue": "'math11111'",
     "output_type": "error",
     "traceback": [
      "\u001b[0;31m---------------------------------------------------------------------------\u001b[0m",
      "\u001b[0;31mKeyError\u001b[0m                                  Traceback (most recent call last)",
      "\u001b[0;32m/var/folders/7_/gl5k51h93z55mwsdpj89djpw0000gn/T/ipykernel_20152/3688089926.py\u001b[0m in \u001b[0;36m<module>\u001b[0;34m\u001b[0m\n\u001b[0;32m----> 1\u001b[0;31m \u001b[0mscore\u001b[0m\u001b[0;34m[\u001b[0m\u001b[0;34m'math11111'\u001b[0m\u001b[0;34m]\u001b[0m\u001b[0;34m\u001b[0m\u001b[0;34m\u001b[0m\u001b[0m\n\u001b[0m",
      "\u001b[0;31mKeyError\u001b[0m: 'math11111'"
     ]
    }
   ],
   "source": [
    "score['math11111']"
   ]
  },
  {
   "cell_type": "code",
   "execution_count": 33,
   "id": "118ff8c6",
   "metadata": {},
   "outputs": [
    {
     "ename": "NameError",
     "evalue": "name 'a' is not defined",
     "output_type": "error",
     "traceback": [
      "\u001b[0;31m---------------------------------------------------------------------------\u001b[0m",
      "\u001b[0;31mNameError\u001b[0m                                 Traceback (most recent call last)",
      "\u001b[0;32m/var/folders/7_/gl5k51h93z55mwsdpj89djpw0000gn/T/ipykernel_20152/1189138062.py\u001b[0m in \u001b[0;36m<module>\u001b[0;34m\u001b[0m\n\u001b[0;32m----> 1\u001b[0;31m \u001b[0mprint\u001b[0m\u001b[0;34m(\u001b[0m\u001b[0ma\u001b[0m\u001b[0;34m)\u001b[0m\u001b[0;34m\u001b[0m\u001b[0;34m\u001b[0m\u001b[0m\n\u001b[0m",
      "\u001b[0;31mNameError\u001b[0m: name 'a' is not defined"
     ]
    }
   ],
   "source": [
    "print(a)"
   ]
  },
  {
   "cell_type": "code",
   "execution_count": null,
   "id": "caa8172b",
   "metadata": {},
   "outputs": [],
   "source": [
    "字典内置方法\n",
    "str\n",
    "list\n",
    "tuple\n",
    "dict"
   ]
  },
  {
   "cell_type": "code",
   "execution_count": 34,
   "id": "6a8b9211",
   "metadata": {},
   "outputs": [
    {
     "data": {
      "text/plain": [
       "['__class__',\n",
       " '__class_getitem__',\n",
       " '__contains__',\n",
       " '__delattr__',\n",
       " '__delitem__',\n",
       " '__dir__',\n",
       " '__doc__',\n",
       " '__eq__',\n",
       " '__format__',\n",
       " '__ge__',\n",
       " '__getattribute__',\n",
       " '__getitem__',\n",
       " '__gt__',\n",
       " '__hash__',\n",
       " '__init__',\n",
       " '__init_subclass__',\n",
       " '__ior__',\n",
       " '__iter__',\n",
       " '__le__',\n",
       " '__len__',\n",
       " '__lt__',\n",
       " '__ne__',\n",
       " '__new__',\n",
       " '__or__',\n",
       " '__reduce__',\n",
       " '__reduce_ex__',\n",
       " '__repr__',\n",
       " '__reversed__',\n",
       " '__ror__',\n",
       " '__setattr__',\n",
       " '__setitem__',\n",
       " '__sizeof__',\n",
       " '__str__',\n",
       " '__subclasshook__',\n",
       " 'clear',\n",
       " 'copy',\n",
       " 'fromkeys',\n",
       " 'get',\n",
       " 'items',\n",
       " 'keys',\n",
       " 'pop',\n",
       " 'popitem',\n",
       " 'setdefault',\n",
       " 'update',\n",
       " 'values']"
      ]
     },
     "execution_count": 34,
     "metadata": {},
     "output_type": "execute_result"
    }
   ],
   "source": [
    "dir(dict)"
   ]
  },
  {
   "cell_type": "code",
   "execution_count": 35,
   "id": "69972428",
   "metadata": {},
   "outputs": [
    {
     "data": {
      "text/plain": [
       "{}"
      ]
     },
     "execution_count": 35,
     "metadata": {},
     "output_type": "execute_result"
    }
   ],
   "source": [
    "# clear() 清空所有的key-value\n",
    "d = {'a':1}\n",
    "d.clear()\n",
    "d"
   ]
  },
  {
   "cell_type": "code",
   "execution_count": 36,
   "id": "ed09c42e",
   "metadata": {},
   "outputs": [
    {
     "data": {
      "text/plain": [
       "{'a': 1}"
      ]
     },
     "execution_count": 36,
     "metadata": {},
     "output_type": "execute_result"
    }
   ],
   "source": [
    "# copy() 复制\n",
    "\n",
    "d = {'a':1}\n",
    "d1 = d.copy()\n",
    "d1"
   ]
  },
  {
   "cell_type": "code",
   "execution_count": 39,
   "id": "5df55180",
   "metadata": {},
   "outputs": [
    {
     "data": {
      "text/plain": [
       "{'a': 4, 'b': 4, 'c': 4}"
      ]
     },
     "execution_count": 39,
     "metadata": {},
     "output_type": "execute_result"
    }
   ],
   "source": [
    "# fromkeys()\n",
    "# a,b,c->1\n",
    "d = dict.fromkeys(['a','b','c'],4)#str,list,dict,tuple可以被for循环\n",
    "d"
   ]
  },
  {
   "cell_type": "code",
   "execution_count": 40,
   "id": "5afbfe8a",
   "metadata": {},
   "outputs": [
    {
     "data": {
      "text/plain": [
       "{'a': None, 'b': None, 'c': None}"
      ]
     },
     "execution_count": 40,
     "metadata": {},
     "output_type": "execute_result"
    }
   ],
   "source": [
    "d = dict.fromkeys(['a','b','c'])#str,list,dict,tuple可以被for循环\n",
    "d"
   ]
  },
  {
   "cell_type": "code",
   "execution_count": 41,
   "id": "7e236ca2",
   "metadata": {},
   "outputs": [
    {
     "data": {
      "text/plain": [
       "1"
      ]
     },
     "execution_count": 41,
     "metadata": {},
     "output_type": "execute_result"
    }
   ],
   "source": [
    "# get() 通过key获取value,如果key不存在则返回默认值 *****\n",
    "d = {'a':1}\n",
    "d['a']"
   ]
  },
  {
   "cell_type": "code",
   "execution_count": 42,
   "id": "0ec78f16",
   "metadata": {},
   "outputs": [
    {
     "ename": "KeyError",
     "evalue": "'b'",
     "output_type": "error",
     "traceback": [
      "\u001b[0;31m---------------------------------------------------------------------------\u001b[0m",
      "\u001b[0;31mKeyError\u001b[0m                                  Traceback (most recent call last)",
      "\u001b[0;32m/var/folders/7_/gl5k51h93z55mwsdpj89djpw0000gn/T/ipykernel_20152/4280578593.py\u001b[0m in \u001b[0;36m<module>\u001b[0;34m\u001b[0m\n\u001b[0;32m----> 1\u001b[0;31m \u001b[0md\u001b[0m\u001b[0;34m[\u001b[0m\u001b[0;34m'b'\u001b[0m\u001b[0;34m]\u001b[0m\u001b[0;34m\u001b[0m\u001b[0;34m\u001b[0m\u001b[0m\n\u001b[0m",
      "\u001b[0;31mKeyError\u001b[0m: 'b'"
     ]
    }
   ],
   "source": [
    "d['b']"
   ]
  },
  {
   "cell_type": "code",
   "execution_count": 43,
   "id": "703f4ba4",
   "metadata": {},
   "outputs": [
    {
     "data": {
      "text/plain": [
       "1"
      ]
     },
     "execution_count": 43,
     "metadata": {},
     "output_type": "execute_result"
    }
   ],
   "source": [
    "d.get('a')"
   ]
  },
  {
   "cell_type": "code",
   "execution_count": 45,
   "id": "1f6914c8",
   "metadata": {},
   "outputs": [
    {
     "name": "stdout",
     "output_type": "stream",
     "text": [
      "None\n"
     ]
    }
   ],
   "source": [
    "print(d.get('b'))"
   ]
  },
  {
   "cell_type": "code",
   "execution_count": 46,
   "id": "a6e7aa2a",
   "metadata": {},
   "outputs": [
    {
     "name": "stdout",
     "output_type": "stream",
     "text": [
      "asdfalskj\n"
     ]
    }
   ],
   "source": [
    "print(d.get('b','asdfalskj'))"
   ]
  },
  {
   "cell_type": "code",
   "execution_count": 48,
   "id": "41aa063b",
   "metadata": {},
   "outputs": [
    {
     "data": {
      "text/plain": [
       "dict_keys([1, 2, 3])"
      ]
     },
     "execution_count": 48,
     "metadata": {},
     "output_type": "execute_result"
    }
   ],
   "source": [
    "# keys,values,items *****\n",
    "d = {1:'a',2:'b',3:'c'}\n",
    "d.keys()# 获取字典的所有的键"
   ]
  },
  {
   "cell_type": "code",
   "execution_count": 49,
   "id": "4be38ced",
   "metadata": {},
   "outputs": [
    {
     "data": {
      "text/plain": [
       "dict_values(['a', 'b', 'c'])"
      ]
     },
     "execution_count": 49,
     "metadata": {},
     "output_type": "execute_result"
    }
   ],
   "source": [
    "d.values()# 获取字典所有的值"
   ]
  },
  {
   "cell_type": "code",
   "execution_count": 50,
   "id": "7a296c08",
   "metadata": {},
   "outputs": [
    {
     "data": {
      "text/plain": [
       "dict_items([(1, 'a'), (2, 'b'), (3, 'c')])"
      ]
     },
     "execution_count": 50,
     "metadata": {},
     "output_type": "execute_result"
    }
   ],
   "source": [
    "d.items()# 获取所有的key和value"
   ]
  },
  {
   "cell_type": "code",
   "execution_count": 51,
   "id": "a213df1c",
   "metadata": {},
   "outputs": [
    {
     "name": "stdout",
     "output_type": "stream",
     "text": [
      "1\n",
      "2\n",
      "3\n"
     ]
    }
   ],
   "source": [
    "for i in d.keys():\n",
    "    print(i)"
   ]
  },
  {
   "cell_type": "code",
   "execution_count": 52,
   "id": "96769968",
   "metadata": {},
   "outputs": [
    {
     "name": "stdout",
     "output_type": "stream",
     "text": [
      "a\n",
      "b\n",
      "c\n"
     ]
    }
   ],
   "source": [
    "for i in d.values():\n",
    "    print(i)"
   ]
  },
  {
   "cell_type": "code",
   "execution_count": 53,
   "id": "fc65b947",
   "metadata": {},
   "outputs": [
    {
     "name": "stdout",
     "output_type": "stream",
     "text": [
      "(1, 'a')\n",
      "(2, 'b')\n",
      "(3, 'c')\n"
     ]
    }
   ],
   "source": [
    "for i in d.items():\n",
    "    print(i)"
   ]
  },
  {
   "cell_type": "code",
   "execution_count": 54,
   "id": "c1ef7cc9",
   "metadata": {},
   "outputs": [
    {
     "name": "stdout",
     "output_type": "stream",
     "text": [
      "1 a\n",
      "2 b\n",
      "3 c\n"
     ]
    }
   ],
   "source": [
    "for k,v in d.items():\n",
    "    print(k,v)"
   ]
  },
  {
   "cell_type": "code",
   "execution_count": 57,
   "id": "dc62a035",
   "metadata": {},
   "outputs": [
    {
     "name": "stdout",
     "output_type": "stream",
     "text": [
      "a\n"
     ]
    }
   ],
   "source": [
    "# pop() 删除指定的key，获取到这个key的值\n",
    "d = {1:'a',2:'b',3:'c'}\n",
    "ret = d.pop(1)\n",
    "print(ret)"
   ]
  },
  {
   "cell_type": "code",
   "execution_count": 58,
   "id": "86387948",
   "metadata": {},
   "outputs": [
    {
     "data": {
      "text/plain": [
       "{2: 'b', 3: 'c'}"
      ]
     },
     "execution_count": 58,
     "metadata": {},
     "output_type": "execute_result"
    }
   ],
   "source": [
    "d"
   ]
  },
  {
   "cell_type": "code",
   "execution_count": 59,
   "id": "d11fc1d9",
   "metadata": {},
   "outputs": [
    {
     "ename": "KeyError",
     "evalue": "10",
     "output_type": "error",
     "traceback": [
      "\u001b[0;31m---------------------------------------------------------------------------\u001b[0m",
      "\u001b[0;31mKeyError\u001b[0m                                  Traceback (most recent call last)",
      "\u001b[0;32m/var/folders/7_/gl5k51h93z55mwsdpj89djpw0000gn/T/ipykernel_20152/2949074192.py\u001b[0m in \u001b[0;36m<module>\u001b[0;34m\u001b[0m\n\u001b[0;32m----> 1\u001b[0;31m \u001b[0md\u001b[0m\u001b[0;34m.\u001b[0m\u001b[0mpop\u001b[0m\u001b[0;34m(\u001b[0m\u001b[0;36m10\u001b[0m\u001b[0;34m)\u001b[0m\u001b[0;34m\u001b[0m\u001b[0;34m\u001b[0m\u001b[0m\n\u001b[0m",
      "\u001b[0;31mKeyError\u001b[0m: 10"
     ]
    }
   ],
   "source": [
    "d.pop(10)"
   ]
  },
  {
   "cell_type": "code",
   "execution_count": 65,
   "id": "692c1039",
   "metadata": {},
   "outputs": [
    {
     "name": "stdout",
     "output_type": "stream",
     "text": [
      "(3, 'c')\n"
     ]
    }
   ],
   "source": [
    "d = {1:'a',2:'b',3:'c'}\n",
    "ret = d.popitem() # 随机删除一个key，并获取到这个随机key和value组成的元组，伪随机，字典是无序的\n",
    "print(ret)# 返回key，value组成的元组"
   ]
  },
  {
   "cell_type": "code",
   "execution_count": 66,
   "id": "919afa5b",
   "metadata": {},
   "outputs": [
    {
     "data": {
      "text/plain": [
       "'a'"
      ]
     },
     "execution_count": 66,
     "metadata": {},
     "output_type": "execute_result"
    }
   ],
   "source": [
    "# setdefault(),获取指定的key，如果没有的话，会给你加上这个key-value,默认value上None\n",
    "d = {1:'a',2:'b',3:'c'}\n",
    "d.setdefault(1)"
   ]
  },
  {
   "cell_type": "code",
   "execution_count": 67,
   "id": "511d6829",
   "metadata": {},
   "outputs": [],
   "source": [
    "d.setdefault(10)"
   ]
  },
  {
   "cell_type": "code",
   "execution_count": 68,
   "id": "79a018a8",
   "metadata": {},
   "outputs": [
    {
     "data": {
      "text/plain": [
       "{1: 'a', 2: 'b', 3: 'c', 10: None}"
      ]
     },
     "execution_count": 68,
     "metadata": {},
     "output_type": "execute_result"
    }
   ],
   "source": [
    "d"
   ]
  },
  {
   "cell_type": "code",
   "execution_count": 72,
   "id": "e5e52b65",
   "metadata": {},
   "outputs": [
    {
     "data": {
      "text/plain": [
       "'default'"
      ]
     },
     "execution_count": 72,
     "metadata": {},
     "output_type": "execute_result"
    }
   ],
   "source": [
    "d.setdefault(11,'default')"
   ]
  },
  {
   "cell_type": "code",
   "execution_count": 73,
   "id": "ae17083e",
   "metadata": {},
   "outputs": [
    {
     "data": {
      "text/plain": [
       "{1: 'a', 2: 'b', 3: 'c', 10: None, 11: 'default'}"
      ]
     },
     "execution_count": 73,
     "metadata": {},
     "output_type": "execute_result"
    }
   ],
   "source": [
    "d"
   ]
  },
  {
   "cell_type": "code",
   "execution_count": 75,
   "id": "02c12fef",
   "metadata": {},
   "outputs": [
    {
     "data": {
      "text/plain": [
       "'c'"
      ]
     },
     "execution_count": 75,
     "metadata": {},
     "output_type": "execute_result"
    }
   ],
   "source": [
    "d.setdefault(3,'default')"
   ]
  },
  {
   "cell_type": "code",
   "execution_count": 76,
   "id": "c881f074",
   "metadata": {},
   "outputs": [],
   "source": [
    "# update()更新，把两个字典进行合并，如果key重复，则用后面的值覆盖前面，key不重复的话则添加。\n",
    "d1 = {1: 'a', 2: 'b', 3: 'c', 10: None, 11: 'default'}\n",
    "d2 = {1: 'a', 2: 'bb', 3: 'c', 12: 'new'}\n",
    "d1.update(d2)#用d2更新d1的key-value\n",
    "# 差分更新，有就更新，没有就插入"
   ]
  },
  {
   "cell_type": "code",
   "execution_count": 77,
   "id": "755997d8",
   "metadata": {},
   "outputs": [
    {
     "data": {
      "text/plain": [
       "{1: 'a', 2: 'bb', 3: 'c', 10: None, 11: 'default', 12: 'new'}"
      ]
     },
     "execution_count": 77,
     "metadata": {},
     "output_type": "execute_result"
    }
   ],
   "source": [
    "d1"
   ]
  },
  {
   "cell_type": "code",
   "execution_count": 78,
   "id": "c238f06e",
   "metadata": {},
   "outputs": [
    {
     "name": "stdout",
     "output_type": "stream",
     "text": [
      "1\n",
      "2\n",
      "3\n",
      "10\n",
      "11\n",
      "12\n"
     ]
    }
   ],
   "source": [
    "#字典的for循环\n",
    "d = {1: 'a', 2: 'bb', 3: 'c', 10: None, 11: 'default', 12: 'new'}\n",
    "for i in d:\n",
    "    print(i)"
   ]
  },
  {
   "cell_type": "code",
   "execution_count": null,
   "id": "ab4ed1a6",
   "metadata": {},
   "outputs": [],
   "source": []
  }
 ],
 "metadata": {
  "kernelspec": {
   "display_name": "Python 3 (ipykernel)",
   "language": "python",
   "name": "python3"
  },
  "language_info": {
   "codemirror_mode": {
    "name": "ipython",
    "version": 3
   },
   "file_extension": ".py",
   "mimetype": "text/x-python",
   "name": "python",
   "nbconvert_exporter": "python",
   "pygments_lexer": "ipython3",
   "version": "3.9.7"
  }
 },
 "nbformat": 4,
 "nbformat_minor": 5
}
