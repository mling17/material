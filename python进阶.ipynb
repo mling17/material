{
 "cells": [
  {
   "cell_type": "markdown",
   "id": "4c600aa9",
   "metadata": {},
   "source": [
    "# 1. 文件操作\n",
    "Python内置了一个open()方法，可以对文件进行读写操作。"
   ]
  },
  {
   "cell_type": "markdown",
   "id": "ad533eb4",
   "metadata": {},
   "source": [
    "## 1.1 打开文件"
   ]
  },
  {
   "cell_type": "markdown",
   "id": "fe47a006",
   "metadata": {},
   "source": [
    "open()方法的返回值是一个file对象，可以将它赋值给一个变量（文件句柄）。"
   ]
  },
  {
   "cell_type": "markdown",
   "id": "695ac04a",
   "metadata": {},
   "source": [
    "其基本语法格式为:\n",
    "f = open(filename, mode, encode)\n",
    "- filename: 文件路径或文件描述符\n",
    "- mode：打开模式，默认是只读r\n",
    "r:\n",
    "w:\n",
    "a:\n",
    "r+:\n",
    "w+:\n",
    "a+:\n",
    "rb:\n",
    "wb:\n",
    "ab:\n",
    "rb+:\n",
    "wb+:\n",
    "ab+:\n",
    "- encode:默认是utf8，如果读取utf8的文件需要指定编码格式"
   ]
  },
  {
   "cell_type": "markdown",
   "id": "eb426015",
   "metadata": {},
   "source": [
    "## 1.2 文件对象操作"
   ]
  },
  {
   "cell_type": "markdown",
   "id": "264dba02",
   "metadata": {},
   "source": [
    " ### 1.2.1 f.read(size)"
   ]
  },
  {
   "cell_type": "markdown",
   "id": "1b747969",
   "metadata": {},
   "source": [
    "读取一定大小的数据, 然后作为字符串或字节对象返回。size是一个可选的数字类型的参数，用于指定读取的数据量。当size被忽略了或者为负值，那么该文件的所有内容都将被读取并且返回。\n",
    "\n"
   ]
  },
  {
   "cell_type": "markdown",
   "id": "6875f6fb",
   "metadata": {},
   "source": [
    "### 1.2.2 f.readline()"
   ]
  },
  {
   "cell_type": "markdown",
   "id": "593bb3a6",
   "metadata": {},
   "source": [
    "从文件中读取一行n内容。换行符为'\\n'。如果返回一个空字符串，说明已经已经读取到最后一行。这种方法，通常是读一行，处理一行的情况下使用。"
   ]
  },
  {
   "cell_type": "markdown",
   "id": "87651714",
   "metadata": {},
   "source": [
    "### 1.2.3 f.readlines()"
   ]
  },
  {
   "cell_type": "markdown",
   "id": "0b45445e",
   "metadata": {},
   "source": [
    "将文件中所有的行，一行一行全部读入一个列表内，按顺序一个一个作为列表的元素，并返回这个列表。readlines方法会一次性将文件全部读入内存，所以也存在一定的弊端。但是它有个好处，每行都保存在列表里，可随意存取。"
   ]
  },
  {
   "cell_type": "markdown",
   "id": "0c3fdc6b",
   "metadata": {},
   "source": [
    "### 1.2.4 遍历文件"
   ]
  },
  {
   "cell_type": "markdown",
   "id": "dcaf42d9",
   "metadata": {},
   "source": [
    "实际情况中，我们会将文件对象作为一个迭代器来使用。\n",
    "\n",
    "#打开一个文件f = open(\"1.txt\", \"r\")for line in f:print(line, end='')# 关闭打开的文件f.close()\n",
    "\n",
    "这个方法很简单, 不需要将文件一次性读出，但是同样没有提供一个很好的控制，与readline方法一样只能前进，不能回退。\n",
    "\n",
    "几种不同的读取和遍历文件的方法比较：\n",
    "\n",
    "如果文件很小，read()一次性读取最方便；\n",
    "\n",
    "如果不能确定文件大小，反复调用read(size)比较保险；\n",
    "\n",
    "如果是配置文件，调用readlines()最方便。普通情况，使用for循环更好，速度更快。"
   ]
  },
  {
   "cell_type": "markdown",
   "id": "b61b9d62",
   "metadata": {},
   "source": [
    "### 1.2.5 f.write()"
   ]
  },
  {
   "cell_type": "markdown",
   "id": "a1a0cad1",
   "metadata": {},
   "source": [
    "使用write()可以完成向文件写入数据。"
   ]
  },
  {
   "cell_type": "markdown",
   "id": "df1a36ce",
   "metadata": {},
   "source": [
    "### 1.2.6 f.tell()"
   ]
  },
  {
   "cell_type": "markdown",
   "id": "e4e35e47",
   "metadata": {},
   "source": [
    "返回文件读写指针当前所处的位置，它是从文件开头开始算起的字节数。一定要注意了，是字节数，不是字符数。"
   ]
  },
  {
   "cell_type": "markdown",
   "id": "6ca1e8af",
   "metadata": {},
   "source": [
    "### 1.2.7 f.seek()"
   ]
  },
  {
   "cell_type": "markdown",
   "id": "79dc892f",
   "metadata": {},
   "source": [
    "如果要改变位置指针的位置, 可以使用f.seek(offset, from_what)方法。seek()经常和tell()方法配合使用。\n",
    "\n",
    "from_what的值，如果是0表示从文件开头计算，如果是1表示从文件读写指针的当前位置开始计算，2表示从文件的结尾开始计算，默认为0，例如：\n",
    "\n",
    "offset：表示偏移量。\n",
    "\n",
    "seek(x,0) ：从起始位置即文件首行首字符开始移动 x 个字符。\n",
    "seek(x,1) ：表示从当前位置往后移动x个字符。\n",
    "seek(-x,2)：表示从文件的结尾往前移动x个字符。"
   ]
  },
  {
   "cell_type": "markdown",
   "id": "7b26c37c",
   "metadata": {},
   "source": [
    "### 1.2.8 f.close()"
   ]
  },
  {
   "cell_type": "markdown",
   "id": "b56a3363",
   "metadata": {},
   "source": [
    "关闭文件对象。当处理完一个文件后，调用f.close()来关闭文件并释放系统的资源。文件关闭后，如果尝试再次调用该文件对象，则会抛出异常。忘记调用close()的后果是数据可能只写了一部分到磁盘，剩下的丢失了，或者更糟糕的结果。"
   ]
  },
  {
   "cell_type": "markdown",
   "id": "f7d42d18",
   "metadata": {},
   "source": [
    "## 1.3 with"
   ]
  },
  {
   "cell_type": "markdown",
   "id": "9cd46754",
   "metadata": {},
   "source": [
    "with关键字用于Python的上下文管理器机制。为了防止open这一类文件打开方法，在操作过程出现异常或错误，或者最后忘了执行close方法，文件非正常关闭等可能导致文件泄露、破坏的问题。\n",
    "\n",
    "Python提供了with这个上下文管理器机制，保证文件会被正常关闭。不需要再写close语句。"
   ]
  },
  {
   "cell_type": "code",
   "execution_count": null,
   "id": "b9c40a1a",
   "metadata": {},
   "outputs": [],
   "source": []
  },
  {
   "cell_type": "markdown",
   "id": "9b21a6b4",
   "metadata": {},
   "source": [
    "# 2. 函数\n",
    "完成特定功能的一个语句组，通过调用函数名来完成语句组的功能。"
   ]
  },
  {
   "cell_type": "markdown",
   "id": "290d5d30",
   "metadata": {},
   "source": [
    "## 2.1 定义函数"
   ]
  },
  {
   "cell_type": "markdown",
   "id": "8b03774e",
   "metadata": {},
   "source": [
    "自定义函数格式：\n",
    "```\n",
    "def 函数名(参数1,参数2,....):\n",
    "    函数体\n",
    "return 返回值\n",
    "```\n",
    "Tips:\n",
    "- def是define的引文缩写\n",
    "- 函数名能尽量表达函数的功能\n",
    "- 函数名的命名应符合命名规则\n",
    "- 参数是可选项\n",
    "- return 返回值是可选项，默认返回None\n",
    "- 返回值是可选项，默认返回None"
   ]
  },
  {
   "cell_type": "code",
   "execution_count": 1,
   "id": "489ad806",
   "metadata": {},
   "outputs": [],
   "source": [
    "def circle_area(r):\n",
    "    # 求圆的面积\n",
    "    area = 3.14 * r **2\n",
    "    return area"
   ]
  },
  {
   "cell_type": "code",
   "execution_count": null,
   "id": "510eff9d",
   "metadata": {},
   "outputs": [],
   "source": []
  },
  {
   "cell_type": "markdown",
   "id": "f8a615a3",
   "metadata": {},
   "source": [
    "## 2.2 调用函数"
   ]
  },
  {
   "cell_type": "code",
   "execution_count": 23,
   "id": "60ef6aa3",
   "metadata": {},
   "outputs": [],
   "source": [
    "def say_hello():\n",
    "    # 打招呼\n",
    "    print('Hello')\n",
    "    \n",
    "def max(x,y):\n",
    "    if x>=y:\n",
    "        print(x)\n",
    "    else:\n",
    "        print(y)"
   ]
  },
  {
   "cell_type": "code",
   "execution_count": 22,
   "id": "701a0503",
   "metadata": {},
   "outputs": [
    {
     "name": "stdout",
     "output_type": "stream",
     "text": [
      "Hello\n"
     ]
    }
   ],
   "source": [
    "# 无参数函数的调用\n",
    "say_hello()"
   ]
  },
  {
   "cell_type": "code",
   "execution_count": 24,
   "id": "f53730e4",
   "metadata": {},
   "outputs": [
    {
     "name": "stdout",
     "output_type": "stream",
     "text": [
      "20\n"
     ]
    }
   ],
   "source": [
    "# 有参数函数的调用方式1: \n",
    "max(10,20)"
   ]
  },
  {
   "cell_type": "code",
   "execution_count": 26,
   "id": "63ecd182",
   "metadata": {},
   "outputs": [
    {
     "name": "stdout",
     "output_type": "stream",
     "text": [
      "21\n"
     ]
    }
   ],
   "source": [
    "# 有参数函数的调用方式2: \n",
    "max(y=12,x=21)"
   ]
  },
  {
   "cell_type": "markdown",
   "id": "18e3efb5",
   "metadata": {},
   "source": [
    "## 2.3 函数的参数\n",
    "函数参数能够增加函数的通用性，针对相同的数据处理逻辑，能够是适应更多的数据。"
   ]
  },
  {
   "cell_type": "markdown",
   "id": "c91d0526",
   "metadata": {},
   "source": [
    "### 2.3.1 形参和实参\n",
    "\n",
    "- 形式参数：定义函数时，函数名后面圆括号中的变量，简称“形参”。形参只在函数内部有效\n",
    "\n",
    "- 实际参数：调用函数时，函数名后面圆括号中的变量，简称 “实参”。"
   ]
  },
  {
   "cell_type": "markdown",
   "id": "afe4c3bf",
   "metadata": {},
   "source": [
    "### 2.3.2 参数类型"
   ]
  },
  {
   "cell_type": "markdown",
   "id": "7d218e3f",
   "metadata": {},
   "source": [
    "#### 2.3.2.1 位置参数"
   ]
  },
  {
   "cell_type": "code",
   "execution_count": 15,
   "id": "5e57179c",
   "metadata": {},
   "outputs": [],
   "source": [
    "def subtraction(x,y):\n",
    "    # 求两个数的差\n",
    "    s = x - y\n",
    "    return s"
   ]
  },
  {
   "cell_type": "code",
   "execution_count": 16,
   "id": "5c13c4c4",
   "metadata": {},
   "outputs": [
    {
     "ename": "TypeError",
     "evalue": "subtraction() missing 2 required positional arguments: 'x' and 'y'",
     "output_type": "error",
     "traceback": [
      "\u001b[1;31m---------------------------------------------------------------------------\u001b[0m",
      "\u001b[1;31mTypeError\u001b[0m                                 Traceback (most recent call last)",
      "Input \u001b[1;32mIn [16]\u001b[0m, in \u001b[0;36m<cell line: 2>\u001b[1;34m()\u001b[0m\n\u001b[0;32m      1\u001b[0m \u001b[38;5;66;03m# 函数调用时，位置参数必须传值，否则会报错误\u001b[39;00m\n\u001b[1;32m----> 2\u001b[0m \u001b[43msubtraction\u001b[49m\u001b[43m(\u001b[49m\u001b[43m)\u001b[49m\n",
      "\u001b[1;31mTypeError\u001b[0m: subtraction() missing 2 required positional arguments: 'x' and 'y'"
     ]
    }
   ],
   "source": [
    "# 函数调用时，位置参数必须传值，否则会报错误\n",
    "subtraction()"
   ]
  },
  {
   "cell_type": "code",
   "execution_count": 17,
   "id": "641f2322",
   "metadata": {},
   "outputs": [
    {
     "name": "stdout",
     "output_type": "stream",
     "text": [
      "6\n",
      "-6\n"
     ]
    }
   ],
   "source": [
    "# 函数调用时，实参会按顺序依次赋值给形参\n",
    "print(subtraction(10,4))\n",
    "print(subtraction(4,10))"
   ]
  },
  {
   "cell_type": "markdown",
   "id": "a636be55",
   "metadata": {},
   "source": [
    "#### 2.3.2.2 默认参数"
   ]
  },
  {
   "cell_type": "code",
   "execution_count": 19,
   "id": "20cddc38",
   "metadata": {},
   "outputs": [],
   "source": [
    "def printinfo( name, age=18 ):\n",
    "   \"打印信息\"\n",
    "   print (\"名字: \", name)\n",
    "   print (\"年龄: \", age)\n",
    "   return"
   ]
  },
  {
   "cell_type": "code",
   "execution_count": 20,
   "id": "c991f1c1",
   "metadata": {},
   "outputs": [
    {
     "name": "stdout",
     "output_type": "stream",
     "text": [
      "名字:  Tom\n",
      "年龄:  18\n"
     ]
    }
   ],
   "source": [
    "# 如果某个形参在大多数情况下都是一个值，那么可以给这个形参一个默认值，函数调用如下\n",
    "printinfo('Tom')"
   ]
  },
  {
   "cell_type": "code",
   "execution_count": 21,
   "id": "ebee9336",
   "metadata": {},
   "outputs": [
    {
     "name": "stdout",
     "output_type": "stream",
     "text": [
      "名字:  Tom\n",
      "年龄:  28\n"
     ]
    }
   ],
   "source": [
    "# 从上面的示例可以看出，默认参数简化了函数的调用，不用每次调用时传递所有的参数\n",
    "# 如果要修改默认参数的值，直接赋值即可，如\n",
    "printinfo('Tom',28)"
   ]
  },
  {
   "cell_type": "markdown",
   "id": "b85fcae5",
   "metadata": {},
   "source": [
    "有多个默认参数时，调用的时候，既可以按顺序提供默认参数也可以不按顺序提供部分默认参数。当不按顺序提供部分默认参数时，需要把参数名写上。"
   ]
  },
  {
   "cell_type": "markdown",
   "id": "bea5e294",
   "metadata": {},
   "source": [
    "#### 2.3.2.3 可变参数\n",
    "在Python函数中，还可以定义可变参数。顾名思义，可变参数就是传入的参数个数是可变的"
   ]
  },
  {
   "cell_type": "code",
   "execution_count": 27,
   "id": "82bc1fd7",
   "metadata": {},
   "outputs": [
    {
     "name": "stdout",
     "output_type": "stream",
     "text": [
      "84\n"
     ]
    }
   ],
   "source": [
    "def calc(*numbers):\n",
    "    sum = 0\n",
    "    for n in numbers:\n",
    "        sum = sum + n * n\n",
    "    return sum\n",
    "print(calc(1,2,3,3,3,3,2,2,1,3,4,3))"
   ]
  },
  {
   "cell_type": "markdown",
   "id": "67be7602",
   "metadata": {},
   "source": [
    "定义可变参数和定义一个list或tuple参数相比，仅仅在参数前面加了一个*号。在函数内部，参数numbers接收到的是一个tuple，因此，函数代码完全不变。但是，调用该函数时，可以传入任意个参数，包括0个参数"
   ]
  },
  {
   "cell_type": "code",
   "execution_count": null,
   "id": "2f1619f6",
   "metadata": {},
   "outputs": [],
   "source": []
  },
  {
   "cell_type": "markdown",
   "id": "3ffddb43",
   "metadata": {},
   "source": [
    "#### 2.3.2.4 关键字参数"
   ]
  },
  {
   "cell_type": "code",
   "execution_count": null,
   "id": "1b6a11bf",
   "metadata": {},
   "outputs": [],
   "source": []
  },
  {
   "cell_type": "markdown",
   "id": "a85f26d9",
   "metadata": {},
   "source": [
    "#### 2.3.2.5 参数组合"
   ]
  },
  {
   "cell_type": "markdown",
   "id": "a5a9d47c",
   "metadata": {},
   "source": [
    "在Python中定义函数，可以用位置参数、默认参数、可变参数、关键字参数和命名关键字参数，这5种参数都可以组合使用。但是请注意，参数定义的顺序必须是：位置参数、默认参数、可变参数、命名关键字参数和关键字参数。"
   ]
  },
  {
   "cell_type": "markdown",
   "id": "c8894824",
   "metadata": {},
   "source": [
    "## 2.4 全局变量和局部变量"
   ]
  },
  {
   "cell_type": "markdown",
   "id": "f419b24f",
   "metadata": {},
   "source": [
    "### 2.4.1 全局变量 global"
   ]
  },
  {
   "cell_type": "markdown",
   "id": "eba70359",
   "metadata": {},
   "source": [
    "### 2.4.2 局部变量 nonlocal"
   ]
  },
  {
   "cell_type": "markdown",
   "id": "0d7c5a8b",
   "metadata": {},
   "source": [
    "### 2.4.3 变量作用域"
   ]
  },
  {
   "cell_type": "markdown",
   "id": "e25507da",
   "metadata": {},
   "source": [
    "## 2.5 递归函数"
   ]
  },
  {
   "cell_type": "markdown",
   "id": "194b52cd",
   "metadata": {},
   "source": [
    "# 3. 模块和包"
   ]
  },
  {
   "cell_type": "markdown",
   "id": "b8fb0806",
   "metadata": {},
   "source": [
    "# 4. 异常处理"
   ]
  },
  {
   "cell_type": "markdown",
   "id": "7c1e5f8d",
   "metadata": {},
   "source": [
    "# 5. 常用模块"
   ]
  },
  {
   "cell_type": "markdown",
   "id": "a324ad30",
   "metadata": {},
   "source": []
  },
  {
   "cell_type": "markdown",
   "id": "6468938a",
   "metadata": {},
   "source": []
  }
 ],
 "metadata": {
  "kernelspec": {
   "display_name": "Python 3 (ipykernel)",
   "language": "python",
   "name": "python3"
  },
  "language_info": {
   "codemirror_mode": {
    "name": "ipython",
    "version": 3
   },
   "file_extension": ".py",
   "mimetype": "text/x-python",
   "name": "python",
   "nbconvert_exporter": "python",
   "pygments_lexer": "ipython3",
   "version": "3.8.6"
  }
 },
 "nbformat": 4,
 "nbformat_minor": 5
}
