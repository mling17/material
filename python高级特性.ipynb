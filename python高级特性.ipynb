{
 "cells": [
  {
   "cell_type": "markdown",
   "id": "bdf56d01",
   "metadata": {},
   "source": [
    "# 1. 生成器"
   ]
  },
  {
   "cell_type": "markdown",
   "id": "939630e6",
   "metadata": {},
   "source": [
    "## 推导式"
   ]
  },
  {
   "cell_type": "markdown",
   "id": "68b7b386",
   "metadata": {},
   "source": [
    "### 列表推导式"
   ]
  },
  {
   "cell_type": "markdown",
   "id": "4a72cfc2",
   "metadata": {},
   "source": [
    "### 字典推导式"
   ]
  },
  {
   "cell_type": "markdown",
   "id": "e5045a2e",
   "metadata": {},
   "source": [
    "### 生成器推导式"
   ]
  },
  {
   "cell_type": "markdown",
   "id": "b7ce12e0",
   "metadata": {},
   "source": [
    "## 1.2 生成器表达式"
   ]
  },
  {
   "cell_type": "markdown",
   "id": "6c060833",
   "metadata": {},
   "source": [
    "## 生成器函数"
   ]
  },
  {
   "cell_type": "markdown",
   "id": "cb7337aa",
   "metadata": {},
   "source": [
    "# 迭代器"
   ]
  },
  {
   "cell_type": "markdown",
   "id": "556a3a56",
   "metadata": {},
   "source": [
    "## 定义"
   ]
  },
  {
   "cell_type": "markdown",
   "id": "a59af05f",
   "metadata": {},
   "source": [
    "1. 迭代器协议是指：对象必须提供一个next方法，执行方法要么返回迭代器中的下一项，要么就引起一个StopIteration异常，以终止迭代（只能往后走，不能往前退）\n",
    "2. 可迭代对象：实现了迭代器协议的对象（实现方式:对象内部定义了一个__iter__()方法）\n",
    "3. 协议是一种约定，可迭代对象实现了迭代器协议，Python的内部工具（如for循环，sum，min，max函数等）使用迭代器协议访问对象。"
   ]
  },
  {
   "cell_type": "code",
   "execution_count": null,
   "id": "d3e7af59",
   "metadata": {},
   "outputs": [],
   "source": []
  },
  {
   "cell_type": "code",
   "execution_count": null,
   "id": "fd14fb06",
   "metadata": {},
   "outputs": [],
   "source": []
  },
  {
   "cell_type": "code",
   "execution_count": null,
   "id": "3386adcb",
   "metadata": {},
   "outputs": [],
   "source": []
  },
  {
   "cell_type": "code",
   "execution_count": null,
   "id": "66d170fe",
   "metadata": {},
   "outputs": [],
   "source": []
  },
  {
   "cell_type": "markdown",
   "id": "f7679d48",
   "metadata": {},
   "source": [
    "# 函数式编程"
   ]
  },
  {
   "cell_type": "markdown",
   "id": "064dbf08",
   "metadata": {},
   "source": [
    "## 高阶函数\n",
    "函数的参数为另一个函数名，或者函数的返回值为另一个函数（返回自己为递归），这种函数称为高阶函数"
   ]
  },
  {
   "cell_type": "code",
   "execution_count": 2,
   "id": "4771b138",
   "metadata": {},
   "outputs": [
    {
     "data": {
      "text/plain": [
       "3"
      ]
     },
     "execution_count": 2,
     "metadata": {},
     "output_type": "execute_result"
    }
   ],
   "source": [
    "def func(a,b,f):\n",
    "    return f(a)+f(b)\n",
    "func(1,2,abs)"
   ]
  },
  {
   "cell_type": "code",
   "execution_count": 6,
   "id": "400a7c9f",
   "metadata": {},
   "outputs": [
    {
     "name": "stdout",
     "output_type": "stream",
     "text": [
      "<function foo.<locals>.inner at 0x000002544AB068B0>\n",
      "inner function\n"
     ]
    }
   ],
   "source": [
    "def foo():\n",
    "    def inner():\n",
    "        print('inner function')\n",
    "    return inner\n",
    "print(foo())\n",
    "foo()()"
   ]
  },
  {
   "cell_type": "markdown",
   "id": "158ba28b",
   "metadata": {},
   "source": [
    "## 内置高阶函数"
   ]
  },
  {
   "cell_type": "markdown",
   "id": "8e8f1b41",
   "metadata": {},
   "source": [
    "- map\n",
    "- filter\n",
    "- reduce：是functools模块中的函数，需要导入\n",
    "- sorted"
   ]
  },
  {
   "cell_type": "markdown",
   "id": "ae88e4c0",
   "metadata": {},
   "source": [
    "## 闭包\n",
    "在函数中可以（嵌套）定义另一个函数时，如果内部的函数引用了外部的函数的变量，则可能产生闭包。闭包可以用来在一个函数与一组“私有”变量之间创建关联关系。在给定函数被多次调用的过程中，这些私有变量能够保持其持久性。"
   ]
  },
  {
   "cell_type": "markdown",
   "id": "a70492ea",
   "metadata": {},
   "source": [
    "### 闭包的定义"
   ]
  },
  {
   "cell_type": "markdown",
   "id": "944128fd",
   "metadata": {},
   "source": [
    "在函数中可以定义另一个函数时（函数嵌套），如果内部的函数引用了外部的函数的变量，则可能产生闭包。闭包可以用来在一个函数与一组“私有”变量之间创建关联关系。在给定函数被多次调用的过程中，这些私有变量能够保持其持久性。"
   ]
  },
  {
   "cell_type": "markdown",
   "id": "3f6aea0e",
   "metadata": {},
   "source": [
    "### 闭包的条件"
   ]
  },
  {
   "cell_type": "markdown",
   "id": "d8d2b4c4",
   "metadata": {},
   "source": [
    "- 外部函数中定义了内部函数\n",
    "- 外部函数是有返回值\n",
    "- 返回值是：内部函数\n",
    "- 内部函数还引用了外部函数的变量"
   ]
  },
  {
   "cell_type": "markdown",
   "id": "f05e0688",
   "metadata": {},
   "source": [
    "闭包基本格式:\n",
    "```python\n",
    "def 外部函数():\n",
    "    ...\n",
    "    def 内部函数():\n",
    "        ...\n",
    "    return 内部函数\n",
    "```"
   ]
  },
  {
   "cell_type": "code",
   "execution_count": 7,
   "id": "9f8b969f",
   "metadata": {},
   "outputs": [
    {
     "name": "stdout",
     "output_type": "stream",
     "text": [
      "<function func.<locals>.inner_func at 0x000002544AB06790>\n",
      "100 200\n"
     ]
    }
   ],
   "source": [
    "def func():\n",
    "    a = 100\n",
    " \n",
    "    def inner_func():\n",
    "        b = 200\n",
    "        print(a, b)\n",
    " \n",
    "    return inner_func\n",
    " \n",
    " \n",
    "x = func()\n",
    "print(x)  # <function func.<locals>.inner_func at 0x0000021704CD9620>\n",
    "x()  # 100 200\n",
    "# 这样就可以直接调用inner_func函数，如果return不返回一个内部函数的话是不会有任何输出的"
   ]
  },
  {
   "cell_type": "markdown",
   "id": "3bc37b49",
   "metadata": {},
   "source": [
    "### 闭包的优缺点"
   ]
  },
  {
   "cell_type": "markdown",
   "id": "3450a51b",
   "metadata": {},
   "source": [
    "优点：\n",
    "- 可以同时使用内部函数变量和外部函数的变量\n",
    "- 将外层函数的变量持久地保存在内存中。"
   ]
  },
  {
   "cell_type": "markdown",
   "id": "7053c1e1",
   "metadata": {},
   "source": [
    "缺点：\n",
    "- 作用域没有那么直观\n",
    "- 因为变量不会被垃圾回收所以有一定的内存占用问题。"
   ]
  },
  {
   "cell_type": "markdown",
   "id": "28e2e461",
   "metadata": {},
   "source": [
    "## 装饰器\n",
    "装饰器是在不改变原函数及调用方式的前提下添加新的功能。\n",
    "特点：\n",
    "1. 不改变原函数\n",
    "2. 不改变原函数的调用"
   ]
  },
  {
   "cell_type": "markdown",
   "id": "cc2b6b39",
   "metadata": {},
   "source": [
    "### 从需求开始\n",
    "在不改变index函数源代码以及调用方式的前提下，为其添加统计运行时间的功能"
   ]
  },
  {
   "cell_type": "code",
   "execution_count": 12,
   "id": "98d52829",
   "metadata": {},
   "outputs": [
    {
     "name": "stdout",
     "output_type": "stream",
     "text": [
      "index function\n"
     ]
    }
   ],
   "source": [
    "import time\n",
    "def index():\n",
    "    time.sleep(3)\n",
    "    print('index function')\n",
    "index()"
   ]
  },
  {
   "cell_type": "markdown",
   "id": "0d1af7fc",
   "metadata": {},
   "source": [
    "### 方式一，修改源码"
   ]
  },
  {
   "cell_type": "code",
   "execution_count": 13,
   "id": "05c398ca",
   "metadata": {},
   "outputs": [
    {
     "name": "stdout",
     "output_type": "stream",
     "text": [
      "index function\n",
      "程序运行用时：3.0062413215637207\n"
     ]
    }
   ],
   "source": [
    "import time\n",
    "def index():\n",
    "    start = time.time()\n",
    "    time.sleep(3)\n",
    "    print('index function')\n",
    "    stop= time.time()\n",
    "    print(f'程序运行用时：{stop-start}')\n",
    "index()"
   ]
  },
  {
   "cell_type": "markdown",
   "id": "c8ca3f29",
   "metadata": {},
   "source": [
    "此种方式，没有修改函数的调用方式，但是改了其源代码，所以此种方式不符合要求"
   ]
  },
  {
   "cell_type": "markdown",
   "id": "d03531ee",
   "metadata": {},
   "source": [
    "### 方式二，在另一个函数种调用"
   ]
  },
  {
   "cell_type": "code",
   "execution_count": 11,
   "id": "184b151d",
   "metadata": {},
   "outputs": [
    {
     "name": "stdout",
     "output_type": "stream",
     "text": [
      "index 111 222\n",
      "程序运行用时：3.0070884227752686\n"
     ]
    }
   ],
   "source": [
    "import time\n",
    "\n",
    "def index(x,y):\n",
    "    time.sleep(3)\n",
    "    print('index %s %s'%(x,y))\n",
    "    \n",
    "def wrapper():\n",
    "    start=time.time()\n",
    "    index(111,222)\n",
    "    stop= time.time()\n",
    "    print(f'程序运行用时：{stop-start}')\n",
    "\n",
    "wrapper()"
   ]
  },
  {
   "cell_type": "markdown",
   "id": "cde88415",
   "metadata": {},
   "source": [
    "此种方式，没有修改函数的源代码，但是改了其调用方式，所以此种方式不符合要求"
   ]
  },
  {
   "cell_type": "markdown",
   "id": "57131529",
   "metadata": {},
   "source": [
    "### 方式三，使用高阶函数"
   ]
  },
  {
   "cell_type": "code",
   "execution_count": 16,
   "id": "9fd0488f",
   "metadata": {},
   "outputs": [
    {
     "name": "stdout",
     "output_type": "stream",
     "text": [
      "index function\n",
      "程序运行用时：3.0142173767089844\n"
     ]
    }
   ],
   "source": [
    "import time\n",
    "\n",
    "def index():\n",
    "    time.sleep(3)\n",
    "    print('index function')\n",
    "    \n",
    "def wrapper(func):\n",
    "    start=time.time()\n",
    "    func()\n",
    "    stop= time.time()\n",
    "    print(f'程序运行用时：{stop-start}')\n",
    "\n",
    "wrapper(index)"
   ]
  },
  {
   "cell_type": "markdown",
   "id": "4420a0a6",
   "metadata": {},
   "source": [
    "此种方式，同样改变了函数的调用方式"
   ]
  },
  {
   "cell_type": "markdown",
   "id": "d4a0dd64",
   "metadata": {},
   "source": [
    "### 方式四，高阶函数+闭包"
   ]
  },
  {
   "cell_type": "code",
   "execution_count": 18,
   "id": "f12cac86",
   "metadata": {},
   "outputs": [
    {
     "name": "stdout",
     "output_type": "stream",
     "text": [
      "index function\n",
      "程序运行用时：3.0138185024261475\n"
     ]
    }
   ],
   "source": [
    "import time\n",
    "\n",
    "def index():\n",
    "    time.sleep(3)\n",
    "    print('index function')\n",
    "    \n",
    "def wrapper(func):\n",
    "    def inner():\n",
    "        start=time.time()\n",
    "        func()\n",
    "        stop= time.time()\n",
    "        print(f'程序运行用时：{stop-start}')\n",
    "    return inner\n",
    "\n",
    "index = wrapper(index)\n",
    "index()"
   ]
  },
  {
   "cell_type": "markdown",
   "id": "6ad3bfd1",
   "metadata": {},
   "source": [
    "此种方式实现了我们的需求"
   ]
  },
  {
   "cell_type": "markdown",
   "id": "82ad4b9c",
   "metadata": {},
   "source": [
    "### 使用@"
   ]
  },
  {
   "cell_type": "markdown",
   "id": "dab2986e",
   "metadata": {},
   "source": [
    "在被装饰函数的上一行，使用@符号+装饰函数。此种方式也称为语法糖"
   ]
  },
  {
   "cell_type": "code",
   "execution_count": 24,
   "id": "7e382963",
   "metadata": {},
   "outputs": [
    {
     "name": "stdout",
     "output_type": "stream",
     "text": [
      "index function\n",
      "程序运行用时：3.0107123851776123\n"
     ]
    }
   ],
   "source": [
    "import time\n",
    "\n",
    "    \n",
    "def wrapper(func):\n",
    "    def inner():\n",
    "        start=time.time()\n",
    "        func()\n",
    "        stop= time.time()\n",
    "        print(f'程序运行用时：{stop-start}')\n",
    "    return inner\n",
    "\n",
    "@wrapper # 等效于index = wrapper(index)\n",
    "def index():\n",
    "    time.sleep(3)\n",
    "    print('index function')\n",
    "index()"
   ]
  },
  {
   "cell_type": "markdown",
   "id": "97bd3692",
   "metadata": {},
   "source": [
    "至此装饰器就完成了，所以装饰器=高阶函数+闭包+语法糖"
   ]
  },
  {
   "cell_type": "markdown",
   "id": "3ab650ab",
   "metadata": {},
   "source": [
    "### 无参装饰器"
   ]
  },
  {
   "cell_type": "code",
   "execution_count": 29,
   "id": "86b2eb37",
   "metadata": {},
   "outputs": [],
   "source": [
    "# 通用无参装饰函数\n",
    "def wrapper(func):\n",
    "    def inner():\n",
    "        func()\n",
    "    return inner\n"
   ]
  },
  {
   "cell_type": "code",
   "execution_count": 30,
   "id": "6f0ab7ee",
   "metadata": {},
   "outputs": [
    {
     "name": "stdout",
     "output_type": "stream",
     "text": [
      "foo开始执行\n",
      "foo执行完毕\n",
      "执行用时：3.0075247287750244秒\n"
     ]
    }
   ],
   "source": [
    "# 示例，计时器\n",
    "import time\n",
    "def timer(func):\n",
    "    def inner():\n",
    "        start = time.time()\n",
    "        func()\n",
    "        print(f'执行用时：{time.time()-start}秒')\n",
    "    return inner\n",
    "\n",
    "@timer\n",
    "def foo():\n",
    "    print('foo开始执行')\n",
    "    time.sleep(3)\n",
    "    print('foo执行完毕')\n",
    "\n",
    "foo()"
   ]
  },
  {
   "cell_type": "markdown",
   "id": "dd48a307",
   "metadata": {},
   "source": [
    "### 有参数装饰器"
   ]
  },
  {
   "cell_type": "code",
   "execution_count": 49,
   "id": "70f3d4bb",
   "metadata": {},
   "outputs": [
    {
     "name": "stdout",
     "output_type": "stream",
     "text": [
      "欢迎登录你的首页\n",
      "request\n"
     ]
    }
   ],
   "source": [
    "# 示例，认证\n",
    "import time\n",
    "def auth(user,pwd,*args,**kwargs):\n",
    "    def dector(func):\n",
    "        def inner(*args,**kwargs):\n",
    "            if user=='chen' and pwd=='123':\n",
    "                func(*args,**kwargs)\n",
    "            else:\n",
    "                print('用户名或密码错误')\n",
    "        return inner\n",
    "    return dector\n",
    "\n",
    "@auth('chen','123','abcd',a=10)\n",
    "def index(request):\n",
    "    print('欢迎登录你的首页')\n",
    "    print(request)\n",
    "\n",
    "\n",
    "index('request')"
   ]
  },
  {
   "cell_type": "markdown",
   "id": "a8a8d742",
   "metadata": {},
   "source": [
    "### 装饰器中functools.wraps"
   ]
  },
  {
   "cell_type": "code",
   "execution_count": 51,
   "id": "9d61acfe",
   "metadata": {},
   "outputs": [
    {
     "name": "stdout",
     "output_type": "stream",
     "text": [
      "wrapper\n",
      "num2\n"
     ]
    }
   ],
   "source": [
    "def user_login_data(f):\n",
    "    def wrapper(*args, **kwargs):\n",
    "        return f(*args, **kwargs)\n",
    "    return wrapper\n",
    "\n",
    "# 用装饰器装饰以下两个函数\n",
    "\n",
    "@user_login_data\n",
    "def num1():\n",
    "    print(\"aaa\")\n",
    "def num2():\n",
    "    print(\"aaa\")\n",
    "\n",
    "print(num1.__name__) # 函数的名字被改变，因为本质上运行的就是wrapper函数\n",
    "print(num2.__name__)"
   ]
  },
  {
   "cell_type": "markdown",
   "id": "2f6c0a17",
   "metadata": {},
   "source": [
    "你写了一个装饰器作用在某个函数上，但是这个函数的重要的元信息比如名字、文档字符串、注解和参数签名都丢失了。\n",
    "\n",
    "任何时候你定义装饰器的时候，都应该使用 functools 库中的 @wraps 装饰器来注解底层包装函数。"
   ]
  },
  {
   "cell_type": "code",
   "execution_count": 54,
   "id": "48706f20",
   "metadata": {},
   "outputs": [
    {
     "name": "stdout",
     "output_type": "stream",
     "text": [
      "num1\n",
      "num2\n"
     ]
    }
   ],
   "source": [
    "from functools import wraps\n",
    "\n",
    "def user_login_data(f):\n",
    "    @wraps(f)\n",
    "    def wrapper(*args, **kwargs):\n",
    "        return f(*args, **kwargs)\n",
    "    return wrapper\n",
    "\n",
    "# 用装饰器装饰以下两个函数\n",
    "\n",
    "@user_login_data\n",
    "def num1():\n",
    "    print(\"aaa\")\n",
    "def num2():\n",
    "    print(\"aaa\")\n",
    "\n",
    "print(num1.__name__) # 通过wraps装饰器就可以保留被装饰函数的元信息\n",
    "print(num2.__name__)"
   ]
  },
  {
   "cell_type": "markdown",
   "id": "d363ad75",
   "metadata": {},
   "source": [
    "- 在写装饰器时，请务必加上wraps装饰器"
   ]
  },
  {
   "cell_type": "code",
   "execution_count": null,
   "id": "4d0dddcb",
   "metadata": {},
   "outputs": [],
   "source": []
  },
  {
   "cell_type": "code",
   "execution_count": 68,
   "id": "580c9441",
   "metadata": {},
   "outputs": [
    {
     "name": "stdout",
     "output_type": "stream",
     "text": [
      "index fun 100\n",
      "<__main__.Dector object at 0x000002544D524CD0>\n"
     ]
    }
   ],
   "source": [
    "from functools import wraps\n",
    "\n",
    "class Dector:\n",
    "    def __init__(self,func):\n",
    "        self.func = func\n",
    "    \n",
    "    def __call__(self, *args, **kwargs):\n",
    "        self.func(*args,**kwargs)\n",
    "@Dector\n",
    "def index(a):\n",
    "    print('index fun',a)\n",
    "\n",
    "index(100)\n",
    "print(index)"
   ]
  },
  {
   "cell_type": "code",
   "execution_count": 70,
   "id": "c6851690",
   "metadata": {},
   "outputs": [
    {
     "name": "stdout",
     "output_type": "stream",
     "text": [
      "6\n",
      "6\n",
      "7\n"
     ]
    }
   ],
   "source": [
    "from functools import partial\n",
    "def mun(a,b,c):\n",
    "    sum = a+b+c\n",
    "    return sum\n",
    "s = mun(1,2,3)# 调用时需要传入三个参数\n",
    "print(s)\n",
    "mun_1 = partial(mun,b=2,c=3)# 包装一下原函数为一个新函数\n",
    "s1 = mun_1(1)\n",
    "s2 = mun_1(2)\n",
    "print(s1)\n",
    "print(s2)"
   ]
  },
  {
   "cell_type": "code",
   "execution_count": 75,
   "id": "17413f9c",
   "metadata": {},
   "outputs": [
    {
     "name": "stdout",
     "output_type": "stream",
     "text": [
      "18\n",
      "28\n"
     ]
    }
   ],
   "source": [
    "from functools import partial\n",
    "def sum(*args):\n",
    "    # 这个函数只能计算n个数地和\n",
    "    s = 0\n",
    "    for n in args:\n",
    "        s += n\n",
    "    return s\n",
    "s = sum(3,4,5,6)\n",
    "print(s)\n",
    "\n",
    "# 在原函数地基础上做一个扩展，让所有地值相加再加上10\n",
    "func_1 = partial(sum,10)\n",
    "s1 = func_1(3,4,5,6)\n",
    "print(s1)"
   ]
  },
  {
   "cell_type": "code",
   "execution_count": null,
   "id": "d0f61cac",
   "metadata": {},
   "outputs": [],
   "source": []
  },
  {
   "cell_type": "code",
   "execution_count": null,
   "id": "af25ce53",
   "metadata": {},
   "outputs": [],
   "source": []
  },
  {
   "cell_type": "code",
   "execution_count": null,
   "id": "fc3ae716",
   "metadata": {},
   "outputs": [],
   "source": []
  },
  {
   "cell_type": "code",
   "execution_count": null,
   "id": "937c0d3d",
   "metadata": {},
   "outputs": [],
   "source": []
  },
  {
   "cell_type": "code",
   "execution_count": null,
   "id": "096b2721",
   "metadata": {},
   "outputs": [],
   "source": []
  },
  {
   "cell_type": "code",
   "execution_count": null,
   "id": "db6e14c2",
   "metadata": {},
   "outputs": [],
   "source": []
  },
  {
   "cell_type": "code",
   "execution_count": null,
   "id": "5907d794",
   "metadata": {},
   "outputs": [],
   "source": []
  },
  {
   "cell_type": "markdown",
   "id": "2976d2f4",
   "metadata": {},
   "source": [
    "## 偏函数"
   ]
  },
  {
   "cell_type": "markdown",
   "id": "dd7a527d",
   "metadata": {},
   "source": [
    "在介绍函数参数的时候，我们讲到，通过设定参数的默认值，可以降低函数调用的难度。而偏函数也可以做到这一点。"
   ]
  },
  {
   "cell_type": "markdown",
   "id": "5c15124b",
   "metadata": {},
   "source": [
    "### 偏函数的作用\n",
    "- 如果一个函数有很多参数，并且会在很多地方调用，那么每次调用都要传入很多参数；是不是有一种办法固定住那些不会变化的参数\n",
    "- 在不改变原函数的基础上，对函数功能进行扩展，类似于装饰器decorator的作用"
   ]
  },
  {
   "cell_type": "code",
   "execution_count": null,
   "id": "ed69b002",
   "metadata": {},
   "outputs": [],
   "source": []
  },
  {
   "cell_type": "code",
   "execution_count": null,
   "id": "3736b177",
   "metadata": {},
   "outputs": [],
   "source": []
  },
  {
   "cell_type": "code",
   "execution_count": null,
   "id": "1e6a6550",
   "metadata": {},
   "outputs": [],
   "source": []
  },
  {
   "cell_type": "code",
   "execution_count": null,
   "id": "ec3b249b",
   "metadata": {},
   "outputs": [],
   "source": []
  },
  {
   "cell_type": "code",
   "execution_count": null,
   "id": "e2e54b82",
   "metadata": {},
   "outputs": [],
   "source": []
  },
  {
   "cell_type": "markdown",
   "id": "518ccde9",
   "metadata": {},
   "source": [
    "# 面向对象编程"
   ]
  },
  {
   "cell_type": "markdown",
   "id": "de8e0400",
   "metadata": {},
   "source": [
    "## 类与对象"
   ]
  },
  {
   "cell_type": "markdown",
   "id": "ee5995bb",
   "metadata": {},
   "source": [
    "## 访问限制"
   ]
  },
  {
   "cell_type": "markdown",
   "id": "54ce1d8b",
   "metadata": {},
   "source": [
    "## 面向对象三大特性"
   ]
  },
  {
   "cell_type": "markdown",
   "id": "50607b34",
   "metadata": {},
   "source": [
    "### 继承"
   ]
  },
  {
   "cell_type": "markdown",
   "id": "d2a7b92c",
   "metadata": {},
   "source": [
    "### 封装"
   ]
  },
  {
   "cell_type": "markdown",
   "id": "deafaa5a",
   "metadata": {},
   "source": [
    "### 多态"
   ]
  },
  {
   "cell_type": "markdown",
   "id": "388359b8",
   "metadata": {},
   "source": [
    "## 内置方法"
   ]
  },
  {
   "cell_type": "markdown",
   "id": "c66bd26d",
   "metadata": {},
   "source": [
    "## 元类"
   ]
  },
  {
   "cell_type": "code",
   "execution_count": 1,
   "id": "9da6fbdb",
   "metadata": {},
   "outputs": [
    {
     "name": "stdout",
     "output_type": "stream",
     "text": [
      "1\n",
      "3\n"
     ]
    }
   ],
   "source": [
    "for i in {1,1,3}:\n",
    "    print(i)"
   ]
  }
 ],
 "metadata": {
  "kernelspec": {
   "display_name": "Python 3 (ipykernel)",
   "language": "python",
   "name": "python3"
  },
  "language_info": {
   "codemirror_mode": {
    "name": "ipython",
    "version": 3
   },
   "file_extension": ".py",
   "mimetype": "text/x-python",
   "name": "python",
   "nbconvert_exporter": "python",
   "pygments_lexer": "ipython3",
   "version": "3.8.6"
  },
  "toc": {
   "base_numbering": 1,
   "nav_menu": {},
   "number_sections": true,
   "sideBar": true,
   "skip_h1_title": false,
   "title_cell": "Table of Contents",
   "title_sidebar": "Contents",
   "toc_cell": false,
   "toc_position": {},
   "toc_section_display": true,
   "toc_window_display": false
  }
 },
 "nbformat": 4,
 "nbformat_minor": 5
}
