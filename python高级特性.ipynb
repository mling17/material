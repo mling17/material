{
 "cells": [
  {
   "cell_type": "markdown",
   "id": "bdf56d01",
   "metadata": {},
   "source": [
    "# 1. 生成器"
   ]
  },
  {
   "cell_type": "markdown",
   "id": "939630e6",
   "metadata": {},
   "source": [
    "## 1.1 列表推导式"
   ]
  },
  {
   "cell_type": "markdown",
   "id": "b7ce12e0",
   "metadata": {},
   "source": [
    "## 1.2 生成器表达式"
   ]
  },
  {
   "cell_type": "markdown",
   "id": "6c060833",
   "metadata": {},
   "source": [
    "## 1.3 生成器函数"
   ]
  },
  {
   "cell_type": "markdown",
   "id": "cb7337aa",
   "metadata": {},
   "source": [
    "# 2. 迭代器"
   ]
  },
  {
   "cell_type": "markdown",
   "id": "f7679d48",
   "metadata": {},
   "source": [
    "# 3. 函数式编程"
   ]
  },
  {
   "cell_type": "markdown",
   "id": "064dbf08",
   "metadata": {},
   "source": [
    "## 3.1 高阶函数"
   ]
  },
  {
   "cell_type": "markdown",
   "id": "158ba28b",
   "metadata": {},
   "source": [
    "## 3.2 内置高阶函数"
   ]
  },
  {
   "cell_type": "markdown",
   "id": "ae88e4c0",
   "metadata": {},
   "source": [
    "## 3.3 闭包"
   ]
  },
  {
   "cell_type": "markdown",
   "id": "28e2e461",
   "metadata": {},
   "source": [
    "## 3.4 装饰器"
   ]
  },
  {
   "cell_type": "markdown",
   "id": "ff69b7ce",
   "metadata": {},
   "source": [
    "## 3.5 匿名函数"
   ]
  },
  {
   "cell_type": "markdown",
   "id": "2976d2f4",
   "metadata": {},
   "source": [
    "## 3.6 偏函数"
   ]
  },
  {
   "cell_type": "markdown",
   "id": "518ccde9",
   "metadata": {},
   "source": [
    "# 4. 面向对象编程"
   ]
  },
  {
   "cell_type": "markdown",
   "id": "de8e0400",
   "metadata": {},
   "source": [
    "## 4.1 类与对象"
   ]
  },
  {
   "cell_type": "markdown",
   "id": "ee5995bb",
   "metadata": {},
   "source": [
    "## 4.2 访问限制"
   ]
  },
  {
   "cell_type": "markdown",
   "id": "54ce1d8b",
   "metadata": {},
   "source": [
    "## 4.3 面向对象三大特性"
   ]
  },
  {
   "cell_type": "markdown",
   "id": "50607b34",
   "metadata": {},
   "source": [
    "### 4.3.1 继承"
   ]
  },
  {
   "cell_type": "markdown",
   "id": "d2a7b92c",
   "metadata": {},
   "source": [
    "### 4.3.2 封装"
   ]
  },
  {
   "cell_type": "markdown",
   "id": "deafaa5a",
   "metadata": {},
   "source": [
    "### 4.3.3 多态"
   ]
  },
  {
   "cell_type": "markdown",
   "id": "388359b8",
   "metadata": {},
   "source": [
    "## 4.4 内置方法"
   ]
  },
  {
   "cell_type": "markdown",
   "id": "c66bd26d",
   "metadata": {},
   "source": [
    "## 4.5 元类"
   ]
  }
 ],
 "metadata": {
  "kernelspec": {
   "display_name": "Python 3 (ipykernel)",
   "language": "python",
   "name": "python3"
  },
  "language_info": {
   "codemirror_mode": {
    "name": "ipython",
    "version": 3
   },
   "file_extension": ".py",
   "mimetype": "text/x-python",
   "name": "python",
   "nbconvert_exporter": "python",
   "pygments_lexer": "ipython3",
   "version": "3.9.7"
  }
 },
 "nbformat": 4,
 "nbformat_minor": 5
}
