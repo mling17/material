{
 "cells": [
  {
   "cell_type": "markdown",
   "id": "1b74e48c",
   "metadata": {
    "toc": true
   },
   "source": [
    "<h1>Table of Contents<span class=\"tocSkip\"></span></h1>\n",
    "<div class=\"toc\"><ul class=\"toc-item\"><li><span><a href=\"#输入输出\" data-toc-modified-id=\"输入输出-1\"><span class=\"toc-item-num\">1&nbsp;&nbsp;</span>输入输出</a></span><ul class=\"toc-item\"><li><span><a href=\"#输出-print()\" data-toc-modified-id=\"输出-print()-1.1\"><span class=\"toc-item-num\">1.1&nbsp;&nbsp;</span>输出-print()</a></span></li><li><span><a href=\"#输入-input()\" data-toc-modified-id=\"输入-input()-1.2\"><span class=\"toc-item-num\">1.2&nbsp;&nbsp;</span>输入-input()</a></span></li></ul></li><li><span><a href=\"#变量及注释\" data-toc-modified-id=\"变量及注释-2\"><span class=\"toc-item-num\">2&nbsp;&nbsp;</span>变量及注释</a></span><ul class=\"toc-item\"><li><span><a href=\"#变量\" data-toc-modified-id=\"变量-2.1\"><span class=\"toc-item-num\">2.1&nbsp;&nbsp;</span>变量</a></span><ul class=\"toc-item\"><li><span><a href=\"#变量命名规则\" data-toc-modified-id=\"变量命名规则-2.1.1\"><span class=\"toc-item-num\">2.1.1&nbsp;&nbsp;</span>变量命名规则</a></span></li><li><span><a href=\"#与变量相关异常\" data-toc-modified-id=\"与变量相关异常-2.1.2\"><span class=\"toc-item-num\">2.1.2&nbsp;&nbsp;</span>与变量相关异常</a></span></li><li><span><a href=\"#常见关键字\" data-toc-modified-id=\"常见关键字-2.1.3\"><span class=\"toc-item-num\">2.1.3&nbsp;&nbsp;</span>常见关键字</a></span></li></ul></li><li><span><a href=\"#注释\" data-toc-modified-id=\"注释-2.2\"><span class=\"toc-item-num\">2.2&nbsp;&nbsp;</span>注释</a></span><ul class=\"toc-item\"><li><span><a href=\"#单行注释\" data-toc-modified-id=\"单行注释-2.2.1\"><span class=\"toc-item-num\">2.2.1&nbsp;&nbsp;</span>单行注释</a></span></li><li><span><a href=\"#多行注释\" data-toc-modified-id=\"多行注释-2.2.2\"><span class=\"toc-item-num\">2.2.2&nbsp;&nbsp;</span>多行注释</a></span></li></ul></li></ul></li><li><span><a href=\"#运算符\" data-toc-modified-id=\"运算符-3\"><span class=\"toc-item-num\">3&nbsp;&nbsp;</span>运算符</a></span><ul class=\"toc-item\"><li><span><a href=\"#算术运算符\" data-toc-modified-id=\"算术运算符-3.1\"><span class=\"toc-item-num\">3.1&nbsp;&nbsp;</span>算术运算符</a></span></li><li><span><a href=\"#比较(关系)运算符\" data-toc-modified-id=\"比较(关系)运算符-3.2\"><span class=\"toc-item-num\">3.2&nbsp;&nbsp;</span>比较(关系)运算符</a></span></li><li><span><a href=\"#赋值运算符\" data-toc-modified-id=\"赋值运算符-3.3\"><span class=\"toc-item-num\">3.3&nbsp;&nbsp;</span>赋值运算符</a></span></li><li><span><a href=\"#逻辑运算符\" data-toc-modified-id=\"逻辑运算符-3.4\"><span class=\"toc-item-num\">3.4&nbsp;&nbsp;</span>逻辑运算符</a></span></li><li><span><a href=\"#位运算符\" data-toc-modified-id=\"位运算符-3.5\"><span class=\"toc-item-num\">3.5&nbsp;&nbsp;</span>位运算符</a></span></li><li><span><a href=\"#成员运算符\" data-toc-modified-id=\"成员运算符-3.6\"><span class=\"toc-item-num\">3.6&nbsp;&nbsp;</span>成员运算符</a></span></li><li><span><a href=\"#身份运算符\" data-toc-modified-id=\"身份运算符-3.7\"><span class=\"toc-item-num\">3.7&nbsp;&nbsp;</span>身份运算符</a></span></li><li><span><a href=\"#运算符优先级\" data-toc-modified-id=\"运算符优先级-3.8\"><span class=\"toc-item-num\">3.8&nbsp;&nbsp;</span>运算符优先级</a></span></li></ul></li><li><span><a href=\"#判断语句\" data-toc-modified-id=\"判断语句-4\"><span class=\"toc-item-num\">4&nbsp;&nbsp;</span>判断语句</a></span><ul class=\"toc-item\"><li><span><a href=\"#单分支\" data-toc-modified-id=\"单分支-4.1\"><span class=\"toc-item-num\">4.1&nbsp;&nbsp;</span>单分支</a></span></li><li><span><a href=\"#双分支\" data-toc-modified-id=\"双分支-4.2\"><span class=\"toc-item-num\">4.2&nbsp;&nbsp;</span>双分支</a></span></li><li><span><a href=\"#多分支\" data-toc-modified-id=\"多分支-4.3\"><span class=\"toc-item-num\">4.3&nbsp;&nbsp;</span>多分支</a></span></li><li><span><a href=\"#三元运算符\" data-toc-modified-id=\"三元运算符-4.4\"><span class=\"toc-item-num\">4.4&nbsp;&nbsp;</span>三元运算符</a></span></li></ul></li><li><span><a href=\"#循环语句\" data-toc-modified-id=\"循环语句-5\"><span class=\"toc-item-num\">5&nbsp;&nbsp;</span>循环语句</a></span><ul class=\"toc-item\"><li><span><a href=\"#for-循环\" data-toc-modified-id=\"for-循环-5.1\"><span class=\"toc-item-num\">5.1&nbsp;&nbsp;</span>for 循环</a></span></li><li><span><a href=\"#while循环\" data-toc-modified-id=\"while循环-5.2\"><span class=\"toc-item-num\">5.2&nbsp;&nbsp;</span>while循环</a></span></li><li><span><a href=\"#循环控制语句\" data-toc-modified-id=\"循环控制语句-5.3\"><span class=\"toc-item-num\">5.3&nbsp;&nbsp;</span>循环控制语句</a></span><ul class=\"toc-item\"><li><span><a href=\"#continue，结束本次循环，进行下次循环\" data-toc-modified-id=\"continue，结束本次循环，进行下次循环-5.3.1\"><span class=\"toc-item-num\">5.3.1&nbsp;&nbsp;</span>continue，结束本次循环，进行下次循环</a></span></li><li><span><a href=\"#break，结束循环\" data-toc-modified-id=\"break，结束循环-5.3.2\"><span class=\"toc-item-num\">5.3.2&nbsp;&nbsp;</span>break，结束循环</a></span></li></ul></li></ul></li><li><span><a href=\"#内置函数\" data-toc-modified-id=\"内置函数-6\"><span class=\"toc-item-num\">6&nbsp;&nbsp;</span>内置函数</a></span><ul class=\"toc-item\"><li><span><a href=\"#abs()\" data-toc-modified-id=\"abs()-6.1\"><span class=\"toc-item-num\">6.1&nbsp;&nbsp;</span>abs()</a></span></li><li><span><a href=\"#all()\" data-toc-modified-id=\"all()-6.2\"><span class=\"toc-item-num\">6.2&nbsp;&nbsp;</span>all()</a></span></li><li><span><a href=\"#any()\" data-toc-modified-id=\"any()-6.3\"><span class=\"toc-item-num\">6.3&nbsp;&nbsp;</span>any()</a></span></li><li><span><a href=\"#bin()\" data-toc-modified-id=\"bin()-6.4\"><span class=\"toc-item-num\">6.4&nbsp;&nbsp;</span>bin()</a></span></li><li><span><a href=\"#bool()\" data-toc-modified-id=\"bool()-6.5\"><span class=\"toc-item-num\">6.5&nbsp;&nbsp;</span>bool()</a></span></li><li><span><a href=\"#bytes()\" data-toc-modified-id=\"bytes()-6.6\"><span class=\"toc-item-num\">6.6&nbsp;&nbsp;</span>bytes()</a></span></li><li><span><a href=\"#chr()\" data-toc-modified-id=\"chr()-6.7\"><span class=\"toc-item-num\">6.7&nbsp;&nbsp;</span>chr()</a></span></li><li><span><a href=\"#dict()\" data-toc-modified-id=\"dict()-6.8\"><span class=\"toc-item-num\">6.8&nbsp;&nbsp;</span>dict()</a></span></li><li><span><a href=\"#enumerate()\" data-toc-modified-id=\"enumerate()-6.9\"><span class=\"toc-item-num\">6.9&nbsp;&nbsp;</span>enumerate()</a></span></li><li><span><a href=\"#eval()\" data-toc-modified-id=\"eval()-6.10\"><span class=\"toc-item-num\">6.10&nbsp;&nbsp;</span>eval()</a></span></li><li><span><a href=\"#float()\" data-toc-modified-id=\"float()-6.11\"><span class=\"toc-item-num\">6.11&nbsp;&nbsp;</span>float()</a></span></li><li><span><a href=\"#hex()\" data-toc-modified-id=\"hex()-6.12\"><span class=\"toc-item-num\">6.12&nbsp;&nbsp;</span>hex()</a></span></li><li><span><a href=\"#input()\" data-toc-modified-id=\"input()-6.13\"><span class=\"toc-item-num\">6.13&nbsp;&nbsp;</span>input()</a></span></li><li><span><a href=\"#int()\" data-toc-modified-id=\"int()-6.14\"><span class=\"toc-item-num\">6.14&nbsp;&nbsp;</span>int()</a></span></li><li><span><a href=\"#len()\" data-toc-modified-id=\"len()-6.15\"><span class=\"toc-item-num\">6.15&nbsp;&nbsp;</span>len()</a></span></li><li><span><a href=\"#list()\" data-toc-modified-id=\"list()-6.16\"><span class=\"toc-item-num\">6.16&nbsp;&nbsp;</span>list()</a></span></li><li><span><a href=\"#map()\" data-toc-modified-id=\"map()-6.17\"><span class=\"toc-item-num\">6.17&nbsp;&nbsp;</span>map()</a></span></li><li><span><a href=\"#max()\" data-toc-modified-id=\"max()-6.18\"><span class=\"toc-item-num\">6.18&nbsp;&nbsp;</span>max()</a></span></li><li><span><a href=\"#min()\" data-toc-modified-id=\"min()-6.19\"><span class=\"toc-item-num\">6.19&nbsp;&nbsp;</span>min()</a></span></li><li><span><a href=\"#open()\" data-toc-modified-id=\"open()-6.20\"><span class=\"toc-item-num\">6.20&nbsp;&nbsp;</span>open()</a></span></li><li><span><a href=\"#ord()\" data-toc-modified-id=\"ord()-6.21\"><span class=\"toc-item-num\">6.21&nbsp;&nbsp;</span>ord()</a></span></li><li><span><a href=\"#pow(n,m)\" data-toc-modified-id=\"pow(n,m)-6.22\"><span class=\"toc-item-num\">6.22&nbsp;&nbsp;</span>pow(n,m)</a></span></li><li><span><a href=\"#print()\" data-toc-modified-id=\"print()-6.23\"><span class=\"toc-item-num\">6.23&nbsp;&nbsp;</span>print()</a></span></li><li><span><a href=\"#range(a,b,c)\" data-toc-modified-id=\"range(a,b,c)-6.24\"><span class=\"toc-item-num\">6.24&nbsp;&nbsp;</span>range(a,b,c)</a></span></li><li><span><a href=\"#round()\" data-toc-modified-id=\"round()-6.25\"><span class=\"toc-item-num\">6.25&nbsp;&nbsp;</span>round()</a></span></li><li><span><a href=\"#set()\" data-toc-modified-id=\"set()-6.26\"><span class=\"toc-item-num\">6.26&nbsp;&nbsp;</span>set()</a></span></li><li><span><a href=\"#sorted()\" data-toc-modified-id=\"sorted()-6.27\"><span class=\"toc-item-num\">6.27&nbsp;&nbsp;</span>sorted()</a></span></li><li><span><a href=\"#str()\" data-toc-modified-id=\"str()-6.28\"><span class=\"toc-item-num\">6.28&nbsp;&nbsp;</span>str()</a></span></li><li><span><a href=\"#sum()\" data-toc-modified-id=\"sum()-6.29\"><span class=\"toc-item-num\">6.29&nbsp;&nbsp;</span>sum()</a></span></li><li><span><a href=\"#tuple()\" data-toc-modified-id=\"tuple()-6.30\"><span class=\"toc-item-num\">6.30&nbsp;&nbsp;</span>tuple()</a></span></li><li><span><a href=\"#type()\" data-toc-modified-id=\"type()-6.31\"><span class=\"toc-item-num\">6.31&nbsp;&nbsp;</span>type()</a></span></li><li><span><a href=\"#zip()#-数据结合\" data-toc-modified-id=\"zip()#-数据结合-6.32\"><span class=\"toc-item-num\">6.32&nbsp;&nbsp;</span>zip()# 数据结合</a></span></li><li><span><a href=\"#filter()\" data-toc-modified-id=\"filter()-6.33\"><span class=\"toc-item-num\">6.33&nbsp;&nbsp;</span>filter()</a></span></li></ul></li><li><span><a href=\"#数据类型\" data-toc-modified-id=\"数据类型-7\"><span class=\"toc-item-num\">7&nbsp;&nbsp;</span>数据类型</a></span><ul class=\"toc-item\"><li><span><a href=\"#数字\" data-toc-modified-id=\"数字-7.1\"><span class=\"toc-item-num\">7.1&nbsp;&nbsp;</span>数字</a></span></li><li><span><a href=\"#字符串\" data-toc-modified-id=\"字符串-7.2\"><span class=\"toc-item-num\">7.2&nbsp;&nbsp;</span>字符串</a></span><ul class=\"toc-item\"><li><span><a href=\"#字符串索引\" data-toc-modified-id=\"字符串索引-7.2.1\"><span class=\"toc-item-num\">7.2.1&nbsp;&nbsp;</span>字符串索引</a></span></li><li><span><a href=\"#字符串取值\" data-toc-modified-id=\"字符串取值-7.2.2\"><span class=\"toc-item-num\">7.2.2&nbsp;&nbsp;</span>字符串取值</a></span><ul class=\"toc-item\"><li><span><a href=\"#字符串取单个值\" data-toc-modified-id=\"字符串取单个值-7.2.2.1\"><span class=\"toc-item-num\">7.2.2.1&nbsp;&nbsp;</span>字符串取单个值</a></span></li><li><span><a href=\"#字符串切片，取多个值\" data-toc-modified-id=\"字符串切片，取多个值-7.2.2.2\"><span class=\"toc-item-num\">7.2.2.2&nbsp;&nbsp;</span>字符串切片，取多个值</a></span></li></ul></li><li><span><a href=\"#字符串拼接\" data-toc-modified-id=\"字符串拼接-7.2.3\"><span class=\"toc-item-num\">7.2.3&nbsp;&nbsp;</span>字符串拼接</a></span><ul class=\"toc-item\"><li><span><a href=\"#+\" data-toc-modified-id=\"+-7.2.3.1\"><span class=\"toc-item-num\">7.2.3.1&nbsp;&nbsp;</span>+</a></span></li><li><span><a href=\"#%s,%d,%f\" data-toc-modified-id=\"%s,%d,%f-7.2.3.2\"><span class=\"toc-item-num\">7.2.3.2&nbsp;&nbsp;</span>%s,%d,%f</a></span></li><li><span><a href=\"#str.format()\" data-toc-modified-id=\"str.format()-7.2.3.3\"><span class=\"toc-item-num\">7.2.3.3&nbsp;&nbsp;</span>str.format()</a></span></li><li><span><a href=\"#f''\" data-toc-modified-id=\"f''-7.2.3.4\"><span class=\"toc-item-num\">7.2.3.4&nbsp;&nbsp;</span>f''</a></span></li></ul></li><li><span><a href=\"#字符串方法\" data-toc-modified-id=\"字符串方法-7.2.4\"><span class=\"toc-item-num\">7.2.4&nbsp;&nbsp;</span>字符串方法</a></span></li></ul></li><li><span><a href=\"#列表\" data-toc-modified-id=\"列表-7.3\"><span class=\"toc-item-num\">7.3&nbsp;&nbsp;</span>列表</a></span><ul class=\"toc-item\"><li><span><a href=\"#列表的访问\" data-toc-modified-id=\"列表的访问-7.3.1\"><span class=\"toc-item-num\">7.3.1&nbsp;&nbsp;</span>列表的访问</a></span><ul class=\"toc-item\"><li><span><a href=\"#列表索引\" data-toc-modified-id=\"列表索引-7.3.1.1\"><span class=\"toc-item-num\">7.3.1.1&nbsp;&nbsp;</span>列表索引</a></span></li><li><span><a href=\"#列表取单个值\" data-toc-modified-id=\"列表取单个值-7.3.1.2\"><span class=\"toc-item-num\">7.3.1.2&nbsp;&nbsp;</span>列表取单个值</a></span></li><li><span><a href=\"#取多个值（切片）\" data-toc-modified-id=\"取多个值（切片）-7.3.1.3\"><span class=\"toc-item-num\">7.3.1.3&nbsp;&nbsp;</span>取多个值（切片）</a></span></li><li><span><a href=\"#嵌套列表取值\" data-toc-modified-id=\"嵌套列表取值-7.3.1.4\"><span class=\"toc-item-num\">7.3.1.4&nbsp;&nbsp;</span>嵌套列表取值</a></span></li></ul></li><li><span><a href=\"#列表的修改\" data-toc-modified-id=\"列表的修改-7.3.2\"><span class=\"toc-item-num\">7.3.2&nbsp;&nbsp;</span>列表的修改</a></span></li><li><span><a href=\"#列表的查询\" data-toc-modified-id=\"列表的查询-7.3.3\"><span class=\"toc-item-num\">7.3.3&nbsp;&nbsp;</span>列表的查询</a></span><ul class=\"toc-item\"><li><span><a href=\"#查找某个元素是否在列表中\" data-toc-modified-id=\"查找某个元素是否在列表中-7.3.3.1\"><span class=\"toc-item-num\">7.3.3.1&nbsp;&nbsp;</span>查找某个元素是否在列表中</a></span></li><li><span><a href=\"#根据元素查找元素的索引值\" data-toc-modified-id=\"根据元素查找元素的索引值-7.3.3.2\"><span class=\"toc-item-num\">7.3.3.2&nbsp;&nbsp;</span>根据元素查找元素的索引值</a></span></li><li><span><a href=\"#查看某个元素在列表中出现的次数\" data-toc-modified-id=\"查看某个元素在列表中出现的次数-7.3.3.3\"><span class=\"toc-item-num\">7.3.3.3&nbsp;&nbsp;</span>查看某个元素在列表中出现的次数</a></span></li><li><span><a href=\"#查看列表长度\" data-toc-modified-id=\"查看列表长度-7.3.3.4\"><span class=\"toc-item-num\">7.3.3.4&nbsp;&nbsp;</span>查看列表长度</a></span></li></ul></li><li><span><a href=\"#列表的增加\" data-toc-modified-id=\"列表的增加-7.3.4\"><span class=\"toc-item-num\">7.3.4&nbsp;&nbsp;</span>列表的增加</a></span><ul class=\"toc-item\"><li><span><a href=\"#列表追加\" data-toc-modified-id=\"列表追加-7.3.4.1\"><span class=\"toc-item-num\">7.3.4.1&nbsp;&nbsp;</span>列表追加</a></span></li><li><span><a href=\"#列表插入\" data-toc-modified-id=\"列表插入-7.3.4.2\"><span class=\"toc-item-num\">7.3.4.2&nbsp;&nbsp;</span>列表插入</a></span></li><li><span><a href=\"#列表扩展（合并）\" data-toc-modified-id=\"列表扩展（合并）-7.3.4.3\"><span class=\"toc-item-num\">7.3.4.3&nbsp;&nbsp;</span>列表扩展（合并）</a></span></li></ul></li><li><span><a href=\"#列表删除\" data-toc-modified-id=\"列表删除-7.3.5\"><span class=\"toc-item-num\">7.3.5&nbsp;&nbsp;</span>列表删除</a></span><ul class=\"toc-item\"><li><span><a href=\"#删除某个元素或者整个列表\" data-toc-modified-id=\"删除某个元素或者整个列表-7.3.5.1\"><span class=\"toc-item-num\">7.3.5.1&nbsp;&nbsp;</span>删除某个元素或者整个列表</a></span></li><li><span><a href=\"#删除某个元素，并返回该元素。可以指定索引，默认-1\" data-toc-modified-id=\"删除某个元素，并返回该元素。可以指定索引，默认-1-7.3.5.2\"><span class=\"toc-item-num\">7.3.5.2&nbsp;&nbsp;</span>删除某个元素，并返回该元素。可以指定索引，默认-1</a></span></li><li><span><a href=\"#删除列表中指定元素，如果元素重复则删除最左侧的一个\" data-toc-modified-id=\"删除列表中指定元素，如果元素重复则删除最左侧的一个-7.3.5.3\"><span class=\"toc-item-num\">7.3.5.3&nbsp;&nbsp;</span>删除列表中指定元素，如果元素重复则删除最左侧的一个</a></span></li><li><span><a href=\"#清空列表\" data-toc-modified-id=\"清空列表-7.3.5.4\"><span class=\"toc-item-num\">7.3.5.4&nbsp;&nbsp;</span>清空列表</a></span></li></ul></li><li><span><a href=\"#列表方法\" data-toc-modified-id=\"列表方法-7.3.6\"><span class=\"toc-item-num\">7.3.6&nbsp;&nbsp;</span>列表方法</a></span></li></ul></li><li><span><a href=\"#元组\" data-toc-modified-id=\"元组-7.4\"><span class=\"toc-item-num\">7.4&nbsp;&nbsp;</span>元组</a></span><ul class=\"toc-item\"><li><span><a href=\"#元组的访问\" data-toc-modified-id=\"元组的访问-7.4.1\"><span class=\"toc-item-num\">7.4.1&nbsp;&nbsp;</span>元组的访问</a></span><ul class=\"toc-item\"><li><span><a href=\"#元组索引\" data-toc-modified-id=\"元组索引-7.4.1.1\"><span class=\"toc-item-num\">7.4.1.1&nbsp;&nbsp;</span>元组索引</a></span></li><li><span><a href=\"#元组取单个值\" data-toc-modified-id=\"元组取单个值-7.4.1.2\"><span class=\"toc-item-num\">7.4.1.2&nbsp;&nbsp;</span>元组取单个值</a></span></li><li><span><a href=\"#取多个值（切片）\" data-toc-modified-id=\"取多个值（切片）-7.4.1.3\"><span class=\"toc-item-num\">7.4.1.3&nbsp;&nbsp;</span>取多个值（切片）</a></span></li><li><span><a href=\"#嵌套列表取值\" data-toc-modified-id=\"嵌套列表取值-7.4.1.4\"><span class=\"toc-item-num\">7.4.1.4&nbsp;&nbsp;</span>嵌套列表取值</a></span></li></ul></li><li><span><a href=\"#元组方法\" data-toc-modified-id=\"元组方法-7.4.2\"><span class=\"toc-item-num\">7.4.2&nbsp;&nbsp;</span>元组方法</a></span></li></ul></li><li><span><a href=\"#字典\" data-toc-modified-id=\"字典-7.5\"><span class=\"toc-item-num\">7.5&nbsp;&nbsp;</span>字典</a></span><ul class=\"toc-item\"><li><span><a href=\"#什么是字典\" data-toc-modified-id=\"什么是字典-7.5.1\"><span class=\"toc-item-num\">7.5.1&nbsp;&nbsp;</span>什么是字典</a></span></li><li><span><a href=\"#创建字典\" data-toc-modified-id=\"创建字典-7.5.2\"><span class=\"toc-item-num\">7.5.2&nbsp;&nbsp;</span>创建字典</a></span></li><li><span><a href=\"#字典的基本用法\" data-toc-modified-id=\"字典的基本用法-7.5.3\"><span class=\"toc-item-num\">7.5.3&nbsp;&nbsp;</span>字典的基本用法</a></span></li><li><span><a href=\"#字典的常用方法\" data-toc-modified-id=\"字典的常用方法-7.5.4\"><span class=\"toc-item-num\">7.5.4&nbsp;&nbsp;</span>字典的常用方法</a></span><ul class=\"toc-item\"><li><span><a href=\"#clear()方法\" data-toc-modified-id=\"clear()方法-7.5.4.1\"><span class=\"toc-item-num\">7.5.4.1&nbsp;&nbsp;</span>clear()方法</a></span></li><li><span><a href=\"#get()方法\" data-toc-modified-id=\"get()方法-7.5.4.2\"><span class=\"toc-item-num\">7.5.4.2&nbsp;&nbsp;</span>get()方法</a></span></li><li><span><a href=\"#update()方法\" data-toc-modified-id=\"update()方法-7.5.4.3\"><span class=\"toc-item-num\">7.5.4.3&nbsp;&nbsp;</span>update()方法</a></span></li><li><span><a href=\"#items()、keys()、values()\" data-toc-modified-id=\"items()、keys()、values()-7.5.4.4\"><span class=\"toc-item-num\">7.5.4.4&nbsp;&nbsp;</span>items()、keys()、values()</a></span></li><li><span><a href=\"#pop()\" data-toc-modified-id=\"pop()-7.5.4.5\"><span class=\"toc-item-num\">7.5.4.5&nbsp;&nbsp;</span>pop()</a></span></li><li><span><a href=\"#popitem()方法\" data-toc-modified-id=\"popitem()方法-7.5.4.6\"><span class=\"toc-item-num\">7.5.4.6&nbsp;&nbsp;</span>popitem()方法</a></span></li><li><span><a href=\"#setdefault()方法\" data-toc-modified-id=\"setdefault()方法-7.5.4.7\"><span class=\"toc-item-num\">7.5.4.7&nbsp;&nbsp;</span>setdefault()方法</a></span></li><li><span><a href=\"#fromkeys()方法\" data-toc-modified-id=\"fromkeys()方法-7.5.4.8\"><span class=\"toc-item-num\">7.5.4.8&nbsp;&nbsp;</span>fromkeys()方法</a></span></li></ul></li></ul></li><li><span><a href=\"#集合\" data-toc-modified-id=\"集合-7.6\"><span class=\"toc-item-num\">7.6&nbsp;&nbsp;</span>集合</a></span><ul class=\"toc-item\"><li><span><a href=\"#集合的定义及创建\" data-toc-modified-id=\"集合的定义及创建-7.6.1\"><span class=\"toc-item-num\">7.6.1&nbsp;&nbsp;</span>集合的定义及创建</a></span></li><li><span><a href=\"#集合作用\" data-toc-modified-id=\"集合作用-7.6.2\"><span class=\"toc-item-num\">7.6.2&nbsp;&nbsp;</span>集合作用</a></span></li><li><span><a href=\"#创建集合\" data-toc-modified-id=\"创建集合-7.6.3\"><span class=\"toc-item-num\">7.6.3&nbsp;&nbsp;</span>创建集合</a></span></li><li><span><a href=\"#集合的运算\" data-toc-modified-id=\"集合的运算-7.6.4\"><span class=\"toc-item-num\">7.6.4&nbsp;&nbsp;</span>集合的运算</a></span></li><li><span><a href=\"#集合内置方法\" data-toc-modified-id=\"集合内置方法-7.6.5\"><span class=\"toc-item-num\">7.6.5&nbsp;&nbsp;</span>集合内置方法</a></span></li></ul></li></ul></li></ul></div>"
   ]
  },
  {
   "cell_type": "markdown",
   "id": "c4c659a0",
   "metadata": {},
   "source": [
    "# 输入输出"
   ]
  },
  {
   "cell_type": "markdown",
   "id": "8e8f5fb7",
   "metadata": {},
   "source": [
    "## 输出-print()\n",
    "print()函数用于向屏幕输出信息。"
   ]
  },
  {
   "cell_type": "code",
   "execution_count": 1,
   "id": "d825d14d",
   "metadata": {},
   "outputs": [
    {
     "name": "stdout",
     "output_type": "stream",
     "text": [
      "hellow world\n"
     ]
    }
   ],
   "source": [
    "# 输出字符串\n",
    "print('hellow world')"
   ]
  },
  {
   "cell_type": "code",
   "execution_count": 2,
   "id": "1f004a18",
   "metadata": {},
   "outputs": [
    {
     "name": "stdout",
     "output_type": "stream",
     "text": [
      "I use python 3\n"
     ]
    }
   ],
   "source": [
    "# 输出多个信息，使用逗号隔开\n",
    "print('I use python',3)"
   ]
  },
  {
   "cell_type": "code",
   "execution_count": 3,
   "id": "68677408",
   "metadata": {},
   "outputs": [
    {
     "name": "stdout",
     "output_type": "stream",
     "text": [
      "I use python3\n"
     ]
    }
   ],
   "source": [
    "# sep参数，用于指定多个输出时的间隔符，默认是空格\n",
    "print('I use python',3,sep='')"
   ]
  },
  {
   "cell_type": "code",
   "execution_count": 4,
   "id": "3c9364fa",
   "metadata": {},
   "outputs": [
    {
     "name": "stdout",
     "output_type": "stream",
     "text": [
      "功能:修改print结尾符号\n"
     ]
    }
   ],
   "source": [
    "# end参数，用于修改print的结束符，默认是换行符\n",
    "print('功能',end=':')\n",
    "print('修改print结尾符号')"
   ]
  },
  {
   "cell_type": "code",
   "execution_count": null,
   "id": "0bc7e19d",
   "metadata": {},
   "outputs": [],
   "source": [
    "\"\"\"\n",
    "两个常用的特殊符号\n",
    "\\t:制表符，即键盘的Tab键\n",
    "\\n:换行符，即键盘的Enter键，也是print函数中end参数的默认值\n",
    "\"\"\""
   ]
  },
  {
   "cell_type": "markdown",
   "id": "f62bcb52",
   "metadata": {},
   "source": [
    "## 输入-input()\n",
    "input()函数，用于在控制台向计算机输入信息。"
   ]
  },
  {
   "cell_type": "code",
   "execution_count": 9,
   "id": "09140582",
   "metadata": {},
   "outputs": [
    {
     "name": "stdout",
     "output_type": "stream",
     "text": [
      "输入一些信息，然后回车hello\n",
      "您输入的信息是：hello\n"
     ]
    }
   ],
   "source": [
    "inp = input(\"输入一些信息，然后回车\")\n",
    "print(f\"您输入的信息是：{inp}\")"
   ]
  },
  {
   "cell_type": "code",
   "execution_count": 7,
   "id": "aec93751",
   "metadata": {},
   "outputs": [],
   "source": [
    "\"\"\"\n",
    "使用input()函数只需要记住四点：\n",
    "1. 在控制台向计算机输入信息时使用input()函数\n",
    "2. 括号内写入提示信息(一个字符串)，提示用户要输入什么内容\n",
    "3. 输入的信息要赋值给一个变量，以供后面处理\n",
    "4. 变量的数据类型是字符串\n",
    "\"\"\""
   ]
  },
  {
   "cell_type": "markdown",
   "id": "c43ec7a1",
   "metadata": {},
   "source": [
    "# 变量及注释"
   ]
  },
  {
   "cell_type": "markdown",
   "id": "8f376e26",
   "metadata": {},
   "source": [
    "## 变量\n",
    "变量用于标记存储在内存中的数据，相当于给给每个数据起了一个名字。"
   ]
  },
  {
   "cell_type": "markdown",
   "id": "718eb7ee",
   "metadata": {},
   "source": [
    "### 变量命名规则"
   ]
  },
  {
   "cell_type": "code",
   "execution_count": 11,
   "id": "4cef3364",
   "metadata": {},
   "outputs": [
    {
     "data": {
      "text/plain": [
       "'\\n变量命名规则：\\n1. 只能包含数字字母和下划线\\n2. 数字不能作为变量的开头\\n3. 关键字不能作为变量名\\n4. 变量区分大小写\\n5. 命名变量时尽量有意义\\n'"
      ]
     },
     "execution_count": 11,
     "metadata": {},
     "output_type": "execute_result"
    }
   ],
   "source": [
    "\"\"\"\n",
    "1. 只能包含数字字母和下划线\n",
    "2. 数字不能作为变量的开头\n",
    "3. 关键字不能作为变量名\n",
    "4. 变量区分大小写\n",
    "5. 命名变量时尽量有意义\n",
    "\"\"\""
   ]
  },
  {
   "cell_type": "markdown",
   "id": "d5132d6e",
   "metadata": {},
   "source": [
    "### 与变量相关异常"
   ]
  },
  {
   "cell_type": "code",
   "execution_count": 10,
   "id": "1f5c3162",
   "metadata": {
    "scrolled": true
   },
   "outputs": [
    {
     "ename": "NameError",
     "evalue": "name 'a' is not defined",
     "output_type": "error",
     "traceback": [
      "\u001b[1;31m---------------------------------------------------------------------------\u001b[0m",
      "\u001b[1;31mNameError\u001b[0m                                 Traceback (most recent call last)",
      "Input \u001b[1;32mIn [10]\u001b[0m, in \u001b[0;36m<cell line: 1>\u001b[1;34m()\u001b[0m\n\u001b[1;32m----> 1\u001b[0m \u001b[38;5;28mprint\u001b[39m(\u001b[43ma\u001b[49m)\n",
      "\u001b[1;31mNameError\u001b[0m: name 'a' is not defined"
     ]
    }
   ],
   "source": [
    "print(a)"
   ]
  },
  {
   "cell_type": "markdown",
   "id": "e30e52ab",
   "metadata": {},
   "source": [
    "上面是常见报错NameError，就说明你使用了变量但是这个变量并没有定义"
   ]
  },
  {
   "cell_type": "markdown",
   "id": "5d017bca",
   "metadata": {},
   "source": [
    "### 常见关键字"
   ]
  },
  {
   "cell_type": "code",
   "execution_count": null,
   "id": "268ac035",
   "metadata": {},
   "outputs": [],
   "source": [
    "# 常见关键字：\n",
    "# False               break               for                 not\n",
    "# None                class               from                or\n",
    "# True                continue            global              pass     \n",
    "# def                 if                  raise\n",
    "# and                 del                 import              return\n",
    "# as                  elif                in                  try\n",
    "# assert              else                is                  while\n",
    "# except              lambda              with                finally\n",
    "                            "
   ]
  },
  {
   "cell_type": "markdown",
   "id": "4ae38342",
   "metadata": {},
   "source": [
    "## 注释\n",
    "注释就是对代码的解释和说明，其目的是让人们能够更加轻松地了解代码。注释是编写程序时，写程序的人给一个语句、程序段、函数等的解释或提示，能提高程序代码的可读性。注释只是为了提高可读性，不会被计算机编译。"
   ]
  },
  {
   "cell_type": "markdown",
   "id": "3eb36e6c",
   "metadata": {},
   "source": [
    "### 单行注释\n",
    "注释没有换行时，可以使用#进行注释"
   ]
  },
  {
   "cell_type": "code",
   "execution_count": 12,
   "id": "6e67251b",
   "metadata": {},
   "outputs": [
    {
     "name": "stdout",
     "output_type": "stream",
     "text": [
      "hello world\n"
     ]
    }
   ],
   "source": [
    "print('hello world') # 输出hello world"
   ]
  },
  {
   "cell_type": "markdown",
   "id": "700f9bf7",
   "metadata": {},
   "source": [
    "### 多行注释\n",
    "当注释比较长，需要换行时，使用三引号进行注释，有两种方式"
   ]
  },
  {
   "cell_type": "code",
   "execution_count": 13,
   "id": "d68a8253",
   "metadata": {},
   "outputs": [
    {
     "data": {
      "text/plain": [
       "'\\n注释信息1\\n注释信息2\\n'"
      ]
     },
     "execution_count": 13,
     "metadata": {},
     "output_type": "execute_result"
    }
   ],
   "source": [
    "\"\"\"\n",
    "注释信息1\n",
    "注释信息2\n",
    "\"\"\""
   ]
  },
  {
   "cell_type": "code",
   "execution_count": 14,
   "id": "fd60c5d2",
   "metadata": {},
   "outputs": [
    {
     "data": {
      "text/plain": [
       "'\\n注释信息1\\n注释信息2\\n'"
      ]
     },
     "execution_count": 14,
     "metadata": {},
     "output_type": "execute_result"
    }
   ],
   "source": [
    "'''\n",
    "注释信息1\n",
    "注释信息2\n",
    "'''"
   ]
  },
  {
   "cell_type": "markdown",
   "id": "d3ab536a",
   "metadata": {},
   "source": [
    "# 运算符"
   ]
  },
  {
   "cell_type": "markdown",
   "id": "dddad950",
   "metadata": {},
   "source": [
    "## 算术运算符\n",
    "加法：+\n",
    "减法：-\n",
    "乘法：*\n",
    "除法：/\n",
    "整除：//\n",
    "取余：%\n",
    "幂：**"
   ]
  },
  {
   "cell_type": "code",
   "execution_count": 29,
   "id": "6dd383fa",
   "metadata": {},
   "outputs": [
    {
     "data": {
      "text/plain": [
       "2"
      ]
     },
     "execution_count": 29,
     "metadata": {},
     "output_type": "execute_result"
    }
   ],
   "source": [
    "1+1"
   ]
  },
  {
   "cell_type": "code",
   "execution_count": 30,
   "id": "a675f8cb",
   "metadata": {},
   "outputs": [
    {
     "data": {
      "text/plain": [
       "1"
      ]
     },
     "execution_count": 30,
     "metadata": {},
     "output_type": "execute_result"
    }
   ],
   "source": [
    "2-1"
   ]
  },
  {
   "cell_type": "code",
   "execution_count": 31,
   "id": "e8d7741c",
   "metadata": {},
   "outputs": [
    {
     "data": {
      "text/plain": [
       "6"
      ]
     },
     "execution_count": 31,
     "metadata": {},
     "output_type": "execute_result"
    }
   ],
   "source": [
    "2*3"
   ]
  },
  {
   "cell_type": "code",
   "execution_count": 32,
   "id": "9b1b21e1",
   "metadata": {},
   "outputs": [
    {
     "data": {
      "text/plain": [
       "4.75"
      ]
     },
     "execution_count": 32,
     "metadata": {},
     "output_type": "execute_result"
    }
   ],
   "source": [
    "19/4"
   ]
  },
  {
   "cell_type": "code",
   "execution_count": 33,
   "id": "8dc60b08",
   "metadata": {},
   "outputs": [
    {
     "data": {
      "text/plain": [
       "4"
      ]
     },
     "execution_count": 33,
     "metadata": {},
     "output_type": "execute_result"
    }
   ],
   "source": [
    "19//4 # 注意与/进行区分，/的结果是浮点数，//的结果是整数且不进行四舍五入"
   ]
  },
  {
   "cell_type": "code",
   "execution_count": 34,
   "id": "3613e8e6",
   "metadata": {},
   "outputs": [
    {
     "data": {
      "text/plain": [
       "1"
      ]
     },
     "execution_count": 34,
     "metadata": {},
     "output_type": "execute_result"
    }
   ],
   "source": [
    "10 % 3 # 10除以3取余数"
   ]
  },
  {
   "cell_type": "code",
   "execution_count": 35,
   "id": "2d583848",
   "metadata": {},
   "outputs": [
    {
     "data": {
      "text/plain": [
       "1024"
      ]
     },
     "execution_count": 35,
     "metadata": {},
     "output_type": "execute_result"
    }
   ],
   "source": [
    "2**10 # 2的10次方"
   ]
  },
  {
   "cell_type": "markdown",
   "id": "f60e1ab0",
   "metadata": {},
   "source": [
    "## 比较(关系)运算符\n",
    "等于：== 不等于：!= 大于：> 小于：< 大于等于：>= 小于等于：<="
   ]
  },
  {
   "cell_type": "code",
   "execution_count": 46,
   "id": "ff828f58",
   "metadata": {
    "scrolled": true
   },
   "outputs": [
    {
     "name": "stdout",
     "output_type": "stream",
     "text": [
      "False\n",
      "True\n",
      "True\n",
      "False\n",
      "True\n",
      "False\n"
     ]
    }
   ],
   "source": [
    "a = 10\n",
    "b = 3\n",
    "print(a == b) # 注意此处是两个=，要与赋值运算符区分开\n",
    "print(a != b)\n",
    "print(a > b)\n",
    "print(a < b)\n",
    "print(a >= b)\n",
    "print(a <= b)"
   ]
  },
  {
   "cell_type": "markdown",
   "id": "c6b95f7e",
   "metadata": {},
   "source": [
    "## 赋值运算符"
   ]
  },
  {
   "cell_type": "code",
   "execution_count": 49,
   "id": "19122872",
   "metadata": {
    "scrolled": true
   },
   "outputs": [
    {
     "name": "stdout",
     "output_type": "stream",
     "text": [
      "12\n",
      "22\n",
      "12\n",
      "120\n",
      "12.0\n",
      "2.0\n",
      "1024.0\n",
      "102.0\n"
     ]
    }
   ],
   "source": [
    "a = 10 \n",
    "b = 2\n",
    "c = a + b # 简单的赋值运算符,将 a + b 的运算结果赋值为 c\n",
    "print(c)\n",
    "c += a\n",
    "print(c) # 加法赋值运算符，等效于 c = c + a\n",
    "c -= a # 减法赋值运算符，等效于 c = c - a\n",
    "print(c)\n",
    "c *= a # 乘法赋值运算符，等效于 c = c * a\n",
    "print(c)\n",
    "c /= a # 除法赋值运算符，等效于 c = c / a\n",
    "print(c)\n",
    "c %= a # 取模赋值运算符，等效于 c = c % a\n",
    "print(c)\n",
    "c **= a # 幂赋值运算符，等效于 c = c ** a\n",
    "print(c)\n",
    "c //= a # 取整除赋值运算符，等效于 c = c // a\n",
    "print(c)"
   ]
  },
  {
   "cell_type": "markdown",
   "id": "0a4b7be6",
   "metadata": {},
   "source": [
    "## 逻辑运算符\n",
    "与：and  或：or  非：not"
   ]
  },
  {
   "cell_type": "code",
   "execution_count": 51,
   "id": "20c0ce24",
   "metadata": {},
   "outputs": [
    {
     "name": "stdout",
     "output_type": "stream",
     "text": [
      "0\n",
      "5\n",
      "True\n"
     ]
    }
   ],
   "source": [
    "x = 0\n",
    "y = 5\n",
    "print(x and y) # 如果 x 为 False，x and y 返回 False，否则它返回 y 的计算值。\n",
    "print(x or y) # 如果 x 是非 0，它返回 x 的计算值，否则它返回 y 的计算值。\n",
    "print(not x)# 如果 x 为 True，返回 False 。如果 x 为 False，它返回 True。\n"
   ]
  },
  {
   "cell_type": "code",
   "execution_count": 52,
   "id": "2d712407",
   "metadata": {},
   "outputs": [
    {
     "data": {
      "text/plain": [
       "True"
      ]
     },
     "execution_count": 52,
     "metadata": {},
     "output_type": "execute_result"
    }
   ],
   "source": [
    "# 优先级：not > and > or\n",
    "0 or 1 and not 0"
   ]
  },
  {
   "cell_type": "markdown",
   "id": "e5ce7659",
   "metadata": {},
   "source": [
    "## 位运算符"
   ]
  },
  {
   "cell_type": "code",
   "execution_count": null,
   "id": "884bf1df",
   "metadata": {},
   "outputs": [],
   "source": [
    "# &\t按位与运算符\n",
    "# |\t按位或运算符\n",
    "# ^\t按位异或运算符\n",
    "# ~\t按位取反运算符\n",
    "# <<\t左移动运算符\n",
    "# >>\t右移动运算符"
   ]
  },
  {
   "cell_type": "markdown",
   "id": "95a668c9",
   "metadata": {},
   "source": [
    "## 成员运算符\n",
    "in\t如果在指定的序列中找到值返回 True，否则返回 False。\tx 在 y 序列中 , 如果 x 在 y 序列中返回 True。\n",
    "not in\t如果在指定的序列中没有找到值返回 True，否则返回 False。\tx 不在 y 序列中 , 如果 x 不在 y 序列中返回 True。"
   ]
  },
  {
   "cell_type": "code",
   "execution_count": 55,
   "id": "426f7b6d",
   "metadata": {},
   "outputs": [
    {
     "name": "stdout",
     "output_type": "stream",
     "text": [
      "True\n"
     ]
    }
   ],
   "source": [
    "print('h' in 'hello')"
   ]
  },
  {
   "cell_type": "code",
   "execution_count": 56,
   "id": "9d647c1b",
   "metadata": {},
   "outputs": [
    {
     "name": "stdout",
     "output_type": "stream",
     "text": [
      "False\n"
     ]
    }
   ],
   "source": [
    "print('x' not in ['1',2,'x'])"
   ]
  },
  {
   "cell_type": "markdown",
   "id": "ce168ab5",
   "metadata": {},
   "source": [
    "## 身份运算符\n",
    "is 是判断两个标识符是不是引用自一个对象\tx is y, 类似 id(x) == id(y) , 如果引用的是同一个对象则返回 True，否则返回 False.\n",
    "is not 是判断两个标识符是不是引用自不同对象\tx is not y ， 类似 id(a) != id(b)。如果引用的不是同一个对象则返回结果 True，否则返回 False。"
   ]
  },
  {
   "cell_type": "code",
   "execution_count": 59,
   "id": "aa23e210",
   "metadata": {},
   "outputs": [
    {
     "name": "stdout",
     "output_type": "stream",
     "text": [
      "True\n",
      "False\n"
     ]
    }
   ],
   "source": [
    "a = 10 \n",
    "b = 10\n",
    "print(a is b) # 类似 id(x) == id(y)\n",
    "print(a is not b) # 类似 id(x) != id(y)"
   ]
  },
  {
   "cell_type": "markdown",
   "id": "5799ff9c",
   "metadata": {},
   "source": [
    "## 运算符优先级"
   ]
  },
  {
   "cell_type": "code",
   "execution_count": null,
   "id": "6664ed3b",
   "metadata": {},
   "outputs": [],
   "source": [
    "# **\t指数 (最高优先级)\n",
    "# ~ + -\t按位翻转, 一元加号和减号 (最后两个的方法名为 +@ 和 -@)\n",
    "# * / % //\t乘，除，取模和取整除\n",
    "# + -\t加法减法\n",
    "# >> <<\t右移，左移运算符\n",
    "# &\t位 'AND'\n",
    "# ^ |\t位运算符\n",
    "# <= < > >=\t比较运算符\n",
    "# <> == !=\t等于运算符\n",
    "# = %= /= //= -= += *= **=\t赋值运算符\n",
    "# is is not\t身份运算符\n",
    "# in not in\t成员运算符\n",
    "# not and or\t逻辑运算符"
   ]
  },
  {
   "cell_type": "markdown",
   "id": "06d4fc38",
   "metadata": {},
   "source": [
    "# 判断语句\n",
    "if 语句要注意书写形式。条件的后面有冒号，条件成立的语句要有四个空格"
   ]
  },
  {
   "cell_type": "markdown",
   "id": "e7f1bcf2",
   "metadata": {},
   "source": [
    "## 单分支"
   ]
  },
  {
   "cell_type": "code",
   "execution_count": null,
   "id": "1ad2350f",
   "metadata": {
    "scrolled": true
   },
   "outputs": [],
   "source": [
    "a = 5\n",
    "if a== 5:\n",
    "    print('a的值时5')"
   ]
  },
  {
   "cell_type": "markdown",
   "id": "7d434990",
   "metadata": {},
   "source": [
    "## 双分支"
   ]
  },
  {
   "cell_type": "code",
   "execution_count": null,
   "id": "080bda19",
   "metadata": {
    "scrolled": true
   },
   "outputs": [],
   "source": [
    "a = 5\n",
    "if a > 5:\n",
    "    print('a的值大于5')\n",
    "else:\n",
    "    print('a的值小于等于5')"
   ]
  },
  {
   "cell_type": "markdown",
   "id": "addf5505",
   "metadata": {},
   "source": [
    "## 多分支"
   ]
  },
  {
   "cell_type": "code",
   "execution_count": null,
   "id": "e23d54c9",
   "metadata": {},
   "outputs": [],
   "source": [
    "a = 5\n",
    "if a > 5:\n",
    "    print('a的值大于5')\n",
    "elif a< 5:\n",
    "    print('a的值小于5')\n",
    "else:\n",
    "    print('a的值等于5')"
   ]
  },
  {
   "cell_type": "markdown",
   "id": "10524642",
   "metadata": {},
   "source": [
    "## 三元运算符"
   ]
  },
  {
   "cell_type": "code",
   "execution_count": 60,
   "id": "adbee75d",
   "metadata": {},
   "outputs": [
    {
     "name": "stdout",
     "output_type": "stream",
     "text": [
      "1\n"
     ]
    }
   ],
   "source": [
    "a = 10\n",
    "a = 1 if a >=10 else 0\n",
    "print(a)"
   ]
  },
  {
   "cell_type": "code",
   "execution_count": 62,
   "id": "a8d0ccac",
   "metadata": {},
   "outputs": [
    {
     "name": "stdout",
     "output_type": "stream",
     "text": [
      "1\n"
     ]
    }
   ],
   "source": [
    "# 上面的语句等效于\n",
    "a = 10\n",
    "if a >= 10:\n",
    "    a = 1\n",
    "else:\n",
    "    a = 0\n",
    "print(a)"
   ]
  },
  {
   "cell_type": "markdown",
   "id": "30e5ae08",
   "metadata": {},
   "source": [
    "# 循环语句"
   ]
  },
  {
   "cell_type": "markdown",
   "id": "43df90df",
   "metadata": {},
   "source": [
    "## for 循环"
   ]
  },
  {
   "cell_type": "code",
   "execution_count": null,
   "id": "4806fcb2",
   "metadata": {},
   "outputs": [],
   "source": [
    "# 应用场景遍历项目,for循环天然带有边界\n",
    "# 如，遍历字符串\n",
    "for i in 'python3':\n",
    "    print(i)"
   ]
  },
  {
   "cell_type": "code",
   "execution_count": null,
   "id": "c2f112d4",
   "metadata": {},
   "outputs": [],
   "source": [
    "# 遍历可迭代对象\n",
    "for i in range(5):\n",
    "    print(i)"
   ]
  },
  {
   "cell_type": "markdown",
   "id": "ec725621",
   "metadata": {},
   "source": [
    "## while循环"
   ]
  },
  {
   "cell_type": "code",
   "execution_count": null,
   "id": "ef14e3f5",
   "metadata": {},
   "outputs": [],
   "source": [
    "# 应用场景，循环次数不确定的情况，或者，在某个条件下进行循环。\n",
    "# 有点类似if语句，不用的是while在循环完毕后会重新判断条件是否成立，而if只判断一次"
   ]
  },
  {
   "cell_type": "code",
   "execution_count": null,
   "id": "1a9c611f",
   "metadata": {},
   "outputs": [],
   "source": [
    "a = 5\n",
    "while a>1:\n",
    "    print(i)\n",
    "    a -= 1"
   ]
  },
  {
   "cell_type": "markdown",
   "id": "a9c7183d",
   "metadata": {},
   "source": [
    "## 循环控制语句"
   ]
  },
  {
   "cell_type": "markdown",
   "id": "abd31191",
   "metadata": {},
   "source": [
    "### continue，结束本次循环，进行下次循环"
   ]
  },
  {
   "cell_type": "code",
   "execution_count": 49,
   "id": "ce95e655",
   "metadata": {},
   "outputs": [
    {
     "name": "stdout",
     "output_type": "stream",
     "text": [
      "0\n",
      "1\n",
      "2\n",
      "4\n"
     ]
    }
   ],
   "source": [
    "for i in range(5):\n",
    "    if i == 3:\n",
    "        continue\n",
    "    print(i)"
   ]
  },
  {
   "cell_type": "markdown",
   "id": "8d376de2",
   "metadata": {},
   "source": [
    "### break，结束循环"
   ]
  },
  {
   "cell_type": "code",
   "execution_count": 48,
   "id": "0dcfea05",
   "metadata": {},
   "outputs": [
    {
     "name": "stdout",
     "output_type": "stream",
     "text": [
      "0\n",
      "1\n",
      "2\n"
     ]
    }
   ],
   "source": [
    "for i in range(5):\n",
    "    if i == 3:\n",
    "        break\n",
    "    print(i)"
   ]
  },
  {
   "cell_type": "markdown",
   "id": "854a4830",
   "metadata": {},
   "source": [
    "# 内置函数"
   ]
  },
  {
   "cell_type": "code",
   "execution_count": null,
   "id": "ad6311c7",
   "metadata": {},
   "outputs": [],
   "source": [
    "\"\"\"\n",
    "数学运算(7个)\n",
    "    -- abs：求数值的绝对值\n",
    "    -- divmod：返回两个数值的商和余数\n",
    "    -- max：返回可迭代对象中的元素中的最大值或者所有参数的最大值\n",
    "    -- min：返回可迭代对象中的元素中的最小值或者所有参数的最小值\n",
    "    -- pow：返回两个数值的幂运算值或其与指定整数的模值\n",
    "    -- round：对浮点数进行四舍五入求值\n",
    "    -- sum：对元素类型是数值的可迭代对象中的每个元素求和\n",
    "类型转换(24个)\n",
    "    -- bool：根据传入的参数的逻辑值创建一个新的布尔值\n",
    "    -- int：根据传入的参数创建一个新的整数\n",
    "    -- float：根据传入的参数创建一个新的浮点数\n",
    "    -- complex：根据传入参数创建一个新的复数\n",
    "    -- str：返回一个对象的字符串表现形式(给用户)\n",
    "    -- bytearray：根据传入的参数创建一个新的字节数组\n",
    "    -- bytes：根据传入的参数创建一个新的不可变字节数组\n",
    "    -- memoryview：根据传入的参数创建一个新的内存查看对象\n",
    "    -- ord：返回Unicode字符对应的整数\n",
    "    -- chr：返回整数所对应的Unicode字符\n",
    "    -- bin：将整数转换成2进制字符串\n",
    "    -- oct：将整数转化成8进制数字符串\n",
    "    -- hex：将整数转换成16进制字符串\n",
    "    -- tuple：根据传入的参数创建一个新的元组\n",
    "    -- list：根据传入的参数创建一个新的列表\n",
    "    -- dict：根据传入的参数创建一个新的字典\n",
    "    -- set：根据传入的参数创建一个新的集合\n",
    "    -- frozenset：根据传入的参数创建一个新的不可变集合\n",
    "    -- enumerate：根据可迭代对象创建枚举对象\n",
    "    -- range：根据传入的参数创建一个新的range对象\n",
    "    -- iter：根据传入的参数创建一个新的可迭代对象\n",
    "    -- slice：根据传入的参数创建一个新的切片对象\n",
    "    -- super：根据传入的参数创建一个新的子类和父类关系的代理对象\n",
    "    -- object：创建一个新的object对象\n",
    "序列操作(8个)\n",
    "    -- all：判断可迭代对象的每个元素是否都为True值\n",
    "    -- any：判断可迭代对象的元素是否有为True值的元素\n",
    "    -- filter：使用指定方法过滤可迭代对象的元素\n",
    "    -- map：使用指定方法去作用传入的每个可迭代对象的元素，生成新的可迭代对象\n",
    "    -- next：返回可迭代对象中的下一个元素值\n",
    "    -- reversed：反转序列生成新的可迭代对象\n",
    "    -- sorted：对可迭代对象进行排序，返回一个新的列表\n",
    "    -- zip：聚合传入的每个迭代器中相同位置的元素，返回一个新的元组类型迭代器\n",
    "对象操作(7个)\n",
    "    -- help：返回对象的帮助信息\n",
    "    -- dir：返回对象或者当前作用域内的属性列表\n",
    "    -- id：返回对象的唯一标识符\n",
    "    -- hash：获取对象的哈希值\n",
    "    -- type：返回对象的类型，或者根据传入的参数创建一个新的类型\n",
    "    -- len：返回对象的长度\n",
    "    -- ascii：返回对象的可打印表字符串表现方式\n",
    "    -- format：格式化显示值\n",
    "    -- vars：返回当前作用域内的局部变量和其值组成的字典，或者返回对象的属性列表\n",
    "反射操作(8个)\n",
    "    -- __import__：动态导入模块\n",
    "    -- isinstance：判断对象是否是类或者类型元组中任意类元素的实例\n",
    "    -- issubclass：判断类是否是另外一个类或者类型元组中任意类元素的子类\n",
    "    -- hasattr：检查对象是否含有属性\n",
    "    -- getattr：获取对象的属性值\n",
    "    -- setattr：设置对象的属性值\n",
    "    -- delattr：删除对象的属性\n",
    "    -- callable：检测对象是否可被调用\n",
    "变量操作(2个)\n",
    "    -- globals：返回当前作用域内的全局变量和其值组成的字典\n",
    "    -- locals：返回当前作用域内的局部变量和其值组成的字典\n",
    "交互操作(2个)\n",
    "    -- print：向标准输出对象打印输出\n",
    "    -- input：读取用户输入值\n",
    "文件操作(1个)\n",
    "    -- open：使用指定的模式和编码打开文件，返回文件读写对象\n",
    "编译执行(4个)\n",
    "    -- compile：将字符串编译为代码或者AST对象，使之能够通过exec语句来执行或者eval进行求值\n",
    "    -- eval：执行动态表达式求值\n",
    "    -- exec：执行动态语句块\n",
    "    -- repr：返回一个对象的字符串表现形式(给解释器)\n",
    "装饰器(3个)\n",
    "    -- property：标示属性的装饰器\n",
    "    -- classmethod：标示方法为类方法的装饰器\n",
    "    -- staticmethod：标示方法为静态方法的装饰器\n",
    "\"\"\""
   ]
  },
  {
   "cell_type": "markdown",
   "id": "b50e4e16",
   "metadata": {},
   "source": [
    "## abs()\n",
    "绝对值"
   ]
  },
  {
   "cell_type": "code",
   "execution_count": 71,
   "id": "b7377763",
   "metadata": {},
   "outputs": [
    {
     "data": {
      "text/plain": [
       "5"
      ]
     },
     "execution_count": 71,
     "metadata": {},
     "output_type": "execute_result"
    }
   ],
   "source": [
    "abs(-5)"
   ]
  },
  {
   "cell_type": "markdown",
   "id": "7a3affd2",
   "metadata": {},
   "source": [
    "## all()\n",
    "所有元素都为True返回True"
   ]
  },
  {
   "cell_type": "code",
   "execution_count": 70,
   "id": "6fb95101",
   "metadata": {},
   "outputs": [],
   "source": [
    "# all()# "
   ]
  },
  {
   "cell_type": "code",
   "execution_count": 72,
   "id": "d7fb53a3",
   "metadata": {},
   "outputs": [
    {
     "data": {
      "text/plain": [
       "False"
      ]
     },
     "execution_count": 72,
     "metadata": {},
     "output_type": "execute_result"
    }
   ],
   "source": [
    "all(('010',0))"
   ]
  },
  {
   "cell_type": "code",
   "execution_count": 73,
   "id": "46169575",
   "metadata": {
    "scrolled": true
   },
   "outputs": [
    {
     "data": {
      "text/plain": [
       "True"
      ]
     },
     "execution_count": 73,
     "metadata": {},
     "output_type": "execute_result"
    }
   ],
   "source": [
    "all([1,2])"
   ]
  },
  {
   "cell_type": "code",
   "execution_count": 77,
   "id": "d0124f70",
   "metadata": {},
   "outputs": [
    {
     "data": {
      "text/plain": [
       "False"
      ]
     },
     "execution_count": 77,
     "metadata": {},
     "output_type": "execute_result"
    }
   ],
   "source": [
    "all((False,0))"
   ]
  },
  {
   "cell_type": "markdown",
   "id": "41d5ddb2",
   "metadata": {},
   "source": [
    "## any()\n",
    "有一个为True即为True"
   ]
  },
  {
   "cell_type": "code",
   "execution_count": 74,
   "id": "7abfbd1a",
   "metadata": {},
   "outputs": [
    {
     "data": {
      "text/plain": [
       "True"
      ]
     },
     "execution_count": 74,
     "metadata": {},
     "output_type": "execute_result"
    }
   ],
   "source": [
    "any(('010',0))"
   ]
  },
  {
   "cell_type": "code",
   "execution_count": 76,
   "id": "91c983b2",
   "metadata": {},
   "outputs": [
    {
     "data": {
      "text/plain": [
       "False"
      ]
     },
     "execution_count": 76,
     "metadata": {},
     "output_type": "execute_result"
    }
   ],
   "source": [
    "any((False,0))"
   ]
  },
  {
   "cell_type": "markdown",
   "id": "f82010d8",
   "metadata": {},
   "source": [
    "## bin()\n",
    "将整数转成二进制字符串,以0b开头"
   ]
  },
  {
   "cell_type": "code",
   "execution_count": 78,
   "id": "daed0871",
   "metadata": {},
   "outputs": [
    {
     "data": {
      "text/plain": [
       "'0b11'"
      ]
     },
     "execution_count": 78,
     "metadata": {},
     "output_type": "execute_result"
    }
   ],
   "source": [
    "bin(3)"
   ]
  },
  {
   "cell_type": "code",
   "execution_count": null,
   "id": "23153001",
   "metadata": {},
   "outputs": [],
   "source": []
  },
  {
   "cell_type": "markdown",
   "id": "6c495912",
   "metadata": {},
   "source": [
    "## bool()\n",
    "判断表达式的布尔值"
   ]
  },
  {
   "cell_type": "code",
   "execution_count": 79,
   "id": "5ba39bc8",
   "metadata": {},
   "outputs": [
    {
     "data": {
      "text/plain": [
       "False"
      ]
     },
     "execution_count": 79,
     "metadata": {},
     "output_type": "execute_result"
    }
   ],
   "source": [
    "bool('1' and 0)"
   ]
  },
  {
   "cell_type": "markdown",
   "id": "8bfd79b6",
   "metadata": {},
   "source": [
    "## bytes()\n",
    "转成字节"
   ]
  },
  {
   "cell_type": "code",
   "execution_count": 80,
   "id": "7bb92ce5",
   "metadata": {
    "scrolled": true
   },
   "outputs": [
    {
     "data": {
      "text/plain": [
       "b'\\xe6\\x88\\x91\\xe7\\x88\\xb1python'"
      ]
     },
     "execution_count": 80,
     "metadata": {},
     "output_type": "execute_result"
    }
   ],
   "source": [
    "bytes('我爱python','utf8')"
   ]
  },
  {
   "cell_type": "markdown",
   "id": "a465aa57",
   "metadata": {},
   "source": [
    "## chr()\n",
    "ascii码值转字符"
   ]
  },
  {
   "cell_type": "code",
   "execution_count": 82,
   "id": "f74c0982",
   "metadata": {},
   "outputs": [
    {
     "data": {
      "text/plain": [
       "'Z'"
      ]
     },
     "execution_count": 82,
     "metadata": {},
     "output_type": "execute_result"
    }
   ],
   "source": [
    "chr(90)"
   ]
  },
  {
   "cell_type": "markdown",
   "id": "2a4fedd2",
   "metadata": {},
   "source": [
    "## dict()\n",
    "转成字典数据类型"
   ]
  },
  {
   "cell_type": "code",
   "execution_count": 86,
   "id": "10fa1ae7",
   "metadata": {},
   "outputs": [
    {
     "data": {
      "text/plain": [
       "{'a': '1', 'b': '2'}"
      ]
     },
     "execution_count": 86,
     "metadata": {},
     "output_type": "execute_result"
    }
   ],
   "source": [
    "dict(a='1',b='2')"
   ]
  },
  {
   "cell_type": "code",
   "execution_count": null,
   "id": "05cd00c6",
   "metadata": {},
   "outputs": [],
   "source": [
    "## 6.9 divmod()\n",
    "获取商和余数(商值,余数)"
   ]
  },
  {
   "cell_type": "code",
   "execution_count": 87,
   "id": "0a050dc9",
   "metadata": {},
   "outputs": [
    {
     "data": {
      "text/plain": [
       "(3, 1)"
      ]
     },
     "execution_count": 87,
     "metadata": {},
     "output_type": "execute_result"
    }
   ],
   "source": [
    "divmod(10,3)"
   ]
  },
  {
   "cell_type": "markdown",
   "id": "3e4ec353",
   "metadata": {},
   "source": [
    "## enumerate()\n",
    "遍历时获得一个索引值"
   ]
  },
  {
   "cell_type": "code",
   "execution_count": 88,
   "id": "ab35588d",
   "metadata": {},
   "outputs": [
    {
     "name": "stdout",
     "output_type": "stream",
     "text": [
      "(0, 'a')\n",
      "(1, 'b')\n",
      "(2, 'c')\n"
     ]
    }
   ],
   "source": [
    "list = ['a','b','c']\n",
    "for i in enumerate(list):\n",
    "    print(i)"
   ]
  },
  {
   "cell_type": "code",
   "execution_count": 90,
   "id": "9bc07485",
   "metadata": {},
   "outputs": [
    {
     "name": "stdout",
     "output_type": "stream",
     "text": [
      "(10, 'a')\n",
      "(11, 'b')\n",
      "(12, 'c')\n"
     ]
    }
   ],
   "source": [
    "list = ['a','b','c']\n",
    "for i in enumerate(list,10):# 指定起始值\n",
    "    print(i)"
   ]
  },
  {
   "cell_type": "markdown",
   "id": "41648b72",
   "metadata": {},
   "source": [
    "## eval()\n",
    "执行一个字符串表达式，并返回表达式的值"
   ]
  },
  {
   "cell_type": "code",
   "execution_count": 91,
   "id": "b1ec7cff",
   "metadata": {},
   "outputs": [
    {
     "data": {
      "text/plain": [
       "3"
      ]
     },
     "execution_count": 91,
     "metadata": {},
     "output_type": "execute_result"
    }
   ],
   "source": [
    "a = 1\n",
    "b = 2\n",
    "eval('a+b')#执行一个字符串表达式，并返回表达式的值"
   ]
  },
  {
   "cell_type": "code",
   "execution_count": 96,
   "id": "6d9c3651",
   "metadata": {},
   "outputs": [
    {
     "name": "stdout",
     "output_type": "stream",
     "text": [
      "5\n",
      "b=6\n"
     ]
    }
   ],
   "source": [
    "def func(n):\n",
    "    print(n)\n",
    "    return n+1\n",
    "b = eval('func(5)')\n",
    "print(f'b={b}')"
   ]
  },
  {
   "cell_type": "code",
   "execution_count": 97,
   "id": "e9290434",
   "metadata": {},
   "outputs": [
    {
     "data": {
      "text/plain": [
       "9"
      ]
     },
     "execution_count": 97,
     "metadata": {},
     "output_type": "execute_result"
    }
   ],
   "source": [
    "eval('(1+2)*3')"
   ]
  },
  {
   "cell_type": "markdown",
   "id": "76f2790e",
   "metadata": {},
   "source": [
    "## float()\n",
    "转成浮点数类型"
   ]
  },
  {
   "cell_type": "code",
   "execution_count": 99,
   "id": "05220f64",
   "metadata": {},
   "outputs": [
    {
     "data": {
      "text/plain": [
       "10.8"
      ]
     },
     "execution_count": 99,
     "metadata": {},
     "output_type": "execute_result"
    }
   ],
   "source": [
    "float('10.8')"
   ]
  },
  {
   "cell_type": "code",
   "execution_count": 100,
   "id": "944116af",
   "metadata": {},
   "outputs": [
    {
     "data": {
      "text/plain": [
       "-10.0"
      ]
     },
     "execution_count": 100,
     "metadata": {},
     "output_type": "execute_result"
    }
   ],
   "source": [
    "float(-10)"
   ]
  },
  {
   "cell_type": "code",
   "execution_count": 1,
   "id": "2da3c897",
   "metadata": {
    "scrolled": true
   },
   "outputs": [
    {
     "ename": "ValueError",
     "evalue": "could not convert string to float: '10.a'",
     "output_type": "error",
     "traceback": [
      "\u001b[1;31m---------------------------------------------------------------------------\u001b[0m",
      "\u001b[1;31mValueError\u001b[0m                                Traceback (most recent call last)",
      "Input \u001b[1;32mIn [1]\u001b[0m, in \u001b[0;36m<cell line: 1>\u001b[1;34m()\u001b[0m\n\u001b[1;32m----> 1\u001b[0m \u001b[38;5;28;43mfloat\u001b[39;49m\u001b[43m(\u001b[49m\u001b[38;5;124;43m'\u001b[39;49m\u001b[38;5;124;43m10.a\u001b[39;49m\u001b[38;5;124;43m'\u001b[39;49m\u001b[43m)\u001b[49m\n",
      "\u001b[1;31mValueError\u001b[0m: could not convert string to float: '10.a'"
     ]
    }
   ],
   "source": [
    "float('10.a') # 只能转换仅包含数字、小数点和负号的字符串"
   ]
  },
  {
   "cell_type": "markdown",
   "id": "6589049f",
   "metadata": {},
   "source": [
    "## hex()\n",
    "将整数转成十六进制字符串，0x开头"
   ]
  },
  {
   "cell_type": "code",
   "execution_count": 108,
   "id": "af1ee8a9",
   "metadata": {},
   "outputs": [
    {
     "data": {
      "text/plain": [
       "'0x11'"
      ]
     },
     "execution_count": 108,
     "metadata": {},
     "output_type": "execute_result"
    }
   ],
   "source": [
    "hex(17)"
   ]
  },
  {
   "cell_type": "code",
   "execution_count": 109,
   "id": "462aaf62",
   "metadata": {},
   "outputs": [
    {
     "ename": "TypeError",
     "evalue": "'float' object cannot be interpreted as an integer",
     "output_type": "error",
     "traceback": [
      "\u001b[1;31m---------------------------------------------------------------------------\u001b[0m",
      "\u001b[1;31mTypeError\u001b[0m                                 Traceback (most recent call last)",
      "Input \u001b[1;32mIn [109]\u001b[0m, in \u001b[0;36m<cell line: 1>\u001b[1;34m()\u001b[0m\n\u001b[1;32m----> 1\u001b[0m \u001b[38;5;28;43mhex\u001b[39;49m\u001b[43m(\u001b[49m\u001b[38;5;241;43m1.5\u001b[39;49m\u001b[43m)\u001b[49m\n",
      "\u001b[1;31mTypeError\u001b[0m: 'float' object cannot be interpreted as an integer"
     ]
    }
   ],
   "source": [
    "hex(1.5) # 只能转换整数"
   ]
  },
  {
   "cell_type": "markdown",
   "id": "4698a6c8",
   "metadata": {},
   "source": [
    "## input()"
   ]
  },
  {
   "cell_type": "markdown",
   "id": "44b67eb2",
   "metadata": {},
   "source": [
    "## int()\n",
    "转成整数类型"
   ]
  },
  {
   "cell_type": "code",
   "execution_count": 110,
   "id": "da492dde",
   "metadata": {},
   "outputs": [
    {
     "data": {
      "text/plain": [
       "3"
      ]
     },
     "execution_count": 110,
     "metadata": {},
     "output_type": "execute_result"
    }
   ],
   "source": [
    "int(3.67)# 不会四舍五入"
   ]
  },
  {
   "cell_type": "code",
   "execution_count": 111,
   "id": "850679aa",
   "metadata": {},
   "outputs": [
    {
     "data": {
      "text/plain": [
       "2"
      ]
     },
     "execution_count": 111,
     "metadata": {},
     "output_type": "execute_result"
    }
   ],
   "source": [
    "int('-2')"
   ]
  },
  {
   "cell_type": "code",
   "execution_count": 112,
   "id": "7602ae82",
   "metadata": {},
   "outputs": [
    {
     "ename": "ValueError",
     "evalue": "invalid literal for int() with base 10: '2.5'",
     "output_type": "error",
     "traceback": [
      "\u001b[1;31m---------------------------------------------------------------------------\u001b[0m",
      "\u001b[1;31mValueError\u001b[0m                                Traceback (most recent call last)",
      "Input \u001b[1;32mIn [112]\u001b[0m, in \u001b[0;36m<cell line: 1>\u001b[1;34m()\u001b[0m\n\u001b[1;32m----> 1\u001b[0m \u001b[38;5;28;43mint\u001b[39;49m\u001b[43m(\u001b[49m\u001b[38;5;124;43m'\u001b[39;49m\u001b[38;5;124;43m2.5\u001b[39;49m\u001b[38;5;124;43m'\u001b[39;49m\u001b[43m)\u001b[49m\n",
      "\u001b[1;31mValueError\u001b[0m: invalid literal for int() with base 10: '2.5'"
     ]
    }
   ],
   "source": [
    "int('2.5')# 只能转换纯数字和符号的数字字符串"
   ]
  },
  {
   "cell_type": "code",
   "execution_count": 113,
   "id": "8b2ec78d",
   "metadata": {},
   "outputs": [
    {
     "data": {
      "text/plain": [
       "31"
      ]
     },
     "execution_count": 113,
     "metadata": {},
     "output_type": "execute_result"
    }
   ],
   "source": [
    "int('1f',16) # 指定被转换的字符串的进制，十六进制"
   ]
  },
  {
   "cell_type": "code",
   "execution_count": 114,
   "id": "1c036c5c",
   "metadata": {},
   "outputs": [
    {
     "data": {
      "text/plain": [
       "15"
      ]
     },
     "execution_count": 114,
     "metadata": {},
     "output_type": "execute_result"
    }
   ],
   "source": [
    "int('17',8) # 八进制"
   ]
  },
  {
   "cell_type": "markdown",
   "id": "db8dd62d",
   "metadata": {},
   "source": [
    "## len()\n",
    "计算长度"
   ]
  },
  {
   "cell_type": "code",
   "execution_count": 115,
   "id": "95270f84",
   "metadata": {},
   "outputs": [
    {
     "ename": "TypeError",
     "evalue": "object of type 'int' has no len()",
     "output_type": "error",
     "traceback": [
      "\u001b[1;31m---------------------------------------------------------------------------\u001b[0m",
      "\u001b[1;31mTypeError\u001b[0m                                 Traceback (most recent call last)",
      "Input \u001b[1;32mIn [115]\u001b[0m, in \u001b[0;36m<cell line: 1>\u001b[1;34m()\u001b[0m\n\u001b[1;32m----> 1\u001b[0m \u001b[38;5;28;43mlen\u001b[39;49m\u001b[43m(\u001b[49m\u001b[38;5;241;43m15\u001b[39;49m\u001b[43m)\u001b[49m\n",
      "\u001b[1;31mTypeError\u001b[0m: object of type 'int' has no len()"
     ]
    }
   ],
   "source": [
    "len(15) # 整数不能计算长度"
   ]
  },
  {
   "cell_type": "code",
   "execution_count": 116,
   "id": "4d690637",
   "metadata": {},
   "outputs": [
    {
     "ename": "TypeError",
     "evalue": "object of type 'float' has no len()",
     "output_type": "error",
     "traceback": [
      "\u001b[1;31m---------------------------------------------------------------------------\u001b[0m",
      "\u001b[1;31mTypeError\u001b[0m                                 Traceback (most recent call last)",
      "Input \u001b[1;32mIn [116]\u001b[0m, in \u001b[0;36m<cell line: 1>\u001b[1;34m()\u001b[0m\n\u001b[1;32m----> 1\u001b[0m \u001b[38;5;28;43mlen\u001b[39;49m\u001b[43m(\u001b[49m\u001b[38;5;241;43m3.14\u001b[39;49m\u001b[43m)\u001b[49m\n",
      "\u001b[1;31mTypeError\u001b[0m: object of type 'float' has no len()"
     ]
    }
   ],
   "source": [
    "len(3.14) # 浮点数不能计算长度"
   ]
  },
  {
   "cell_type": "code",
   "execution_count": 117,
   "id": "e8435801",
   "metadata": {},
   "outputs": [
    {
     "data": {
      "text/plain": [
       "11"
      ]
     },
     "execution_count": 117,
     "metadata": {},
     "output_type": "execute_result"
    }
   ],
   "source": [
    "len('hello world') # 字符串"
   ]
  },
  {
   "cell_type": "code",
   "execution_count": 118,
   "id": "09ce29aa",
   "metadata": {},
   "outputs": [
    {
     "data": {
      "text/plain": [
       "3"
      ]
     },
     "execution_count": 118,
     "metadata": {},
     "output_type": "execute_result"
    }
   ],
   "source": [
    "len([1,2,3]) # 列表"
   ]
  },
  {
   "cell_type": "code",
   "execution_count": 119,
   "id": "2b53b849",
   "metadata": {},
   "outputs": [
    {
     "data": {
      "text/plain": [
       "2"
      ]
     },
     "execution_count": 119,
     "metadata": {},
     "output_type": "execute_result"
    }
   ],
   "source": [
    "len(('a','b')) # 元组"
   ]
  },
  {
   "cell_type": "code",
   "execution_count": 123,
   "id": "8ec0a6c4",
   "metadata": {},
   "outputs": [
    {
     "data": {
      "text/plain": [
       "3"
      ]
     },
     "execution_count": 123,
     "metadata": {},
     "output_type": "execute_result"
    }
   ],
   "source": [
    "len({'a':1,'b':[13,5,8,10],'c':'d'}) # 字典,key的数量"
   ]
  },
  {
   "cell_type": "code",
   "execution_count": 122,
   "id": "0b374250",
   "metadata": {},
   "outputs": [
    {
     "data": {
      "text/plain": [
       "5"
      ]
     },
     "execution_count": 122,
     "metadata": {},
     "output_type": "execute_result"
    }
   ],
   "source": [
    "len({1,2,3,4,5})# 集合"
   ]
  },
  {
   "cell_type": "markdown",
   "id": "5bbe986b",
   "metadata": {},
   "source": [
    "## list() \n",
    "转成列表"
   ]
  },
  {
   "cell_type": "code",
   "execution_count": 7,
   "id": "15d068f7",
   "metadata": {},
   "outputs": [
    {
     "ename": "TypeError",
     "evalue": "'int' object is not iterable",
     "output_type": "error",
     "traceback": [
      "\u001b[1;31m---------------------------------------------------------------------------\u001b[0m",
      "\u001b[1;31mTypeError\u001b[0m                                 Traceback (most recent call last)",
      "Input \u001b[1;32mIn [7]\u001b[0m, in \u001b[0;36m<cell line: 1>\u001b[1;34m()\u001b[0m\n\u001b[1;32m----> 1\u001b[0m \u001b[38;5;28;43mlist\u001b[39;49m\u001b[43m(\u001b[49m\u001b[38;5;241;43m100\u001b[39;49m\u001b[43m)\u001b[49m\n",
      "\u001b[1;31mTypeError\u001b[0m: 'int' object is not iterable"
     ]
    }
   ],
   "source": [
    "list(100)# 数字不可以抓换"
   ]
  },
  {
   "cell_type": "code",
   "execution_count": 1,
   "id": "5c92174e",
   "metadata": {},
   "outputs": [
    {
     "data": {
      "text/plain": [
       "['h', 'e', 'l', 'l', 'o']"
      ]
     },
     "execution_count": 1,
     "metadata": {},
     "output_type": "execute_result"
    }
   ],
   "source": [
    "list('hello')# 字符串"
   ]
  },
  {
   "cell_type": "code",
   "execution_count": 2,
   "id": "21eba3fe",
   "metadata": {},
   "outputs": [
    {
     "data": {
      "text/plain": [
       "[1, 2, 3]"
      ]
     },
     "execution_count": 2,
     "metadata": {},
     "output_type": "execute_result"
    }
   ],
   "source": [
    "list((1,2,3)) #元组"
   ]
  },
  {
   "cell_type": "code",
   "execution_count": 4,
   "id": "efc92941",
   "metadata": {},
   "outputs": [
    {
     "data": {
      "text/plain": [
       "[1, 3]"
      ]
     },
     "execution_count": 4,
     "metadata": {},
     "output_type": "execute_result"
    }
   ],
   "source": [
    "list({1:2,3:4}) # 字典，把key转成列表"
   ]
  },
  {
   "cell_type": "code",
   "execution_count": 5,
   "id": "297b4411",
   "metadata": {
    "scrolled": true
   },
   "outputs": [
    {
     "data": {
      "text/plain": [
       "[1, 2, 3, 4]"
      ]
     },
     "execution_count": 5,
     "metadata": {},
     "output_type": "execute_result"
    }
   ],
   "source": [
    "list({1,2,3,4})#集合"
   ]
  },
  {
   "cell_type": "markdown",
   "id": "093dbfcc",
   "metadata": {},
   "source": [
    "## map()\n",
    "使用指定方法去作用传入的每个可迭代对象的元素，生成新的可迭代对象"
   ]
  },
  {
   "cell_type": "code",
   "execution_count": 43,
   "id": "e3464c8e",
   "metadata": {},
   "outputs": [
    {
     "name": "stdout",
     "output_type": "stream",
     "text": [
      "<map object at 0x000001EFCBCCF160>\n",
      "[97, 98, 99]\n"
     ]
    }
   ],
   "source": [
    "a = map(ord,'abc')\n",
    "print(a)\n",
    "print(list(a))"
   ]
  },
  {
   "cell_type": "markdown",
   "id": "9e651f49",
   "metadata": {},
   "source": [
    "## max()\n",
    "求最大值"
   ]
  },
  {
   "cell_type": "code",
   "execution_count": 8,
   "id": "b809a1c1",
   "metadata": {},
   "outputs": [
    {
     "data": {
      "text/plain": [
       "3"
      ]
     },
     "execution_count": 8,
     "metadata": {},
     "output_type": "execute_result"
    }
   ],
   "source": [
    "max((1,2,3))# 参数可以是list,tuple,set"
   ]
  },
  {
   "cell_type": "code",
   "execution_count": 9,
   "id": "c54fc84e",
   "metadata": {},
   "outputs": [
    {
     "data": {
      "text/plain": [
       "2"
      ]
     },
     "execution_count": 9,
     "metadata": {},
     "output_type": "execute_result"
    }
   ],
   "source": [
    "max({1:100,2:5}) # 字典类型会比较key"
   ]
  },
  {
   "cell_type": "markdown",
   "id": "5d4583ac",
   "metadata": {},
   "source": [
    "## min()\n",
    "求最小值"
   ]
  },
  {
   "cell_type": "code",
   "execution_count": 11,
   "id": "42d7ac96",
   "metadata": {},
   "outputs": [
    {
     "data": {
      "text/plain": [
       "1"
      ]
     },
     "execution_count": 11,
     "metadata": {},
     "output_type": "execute_result"
    }
   ],
   "source": [
    "min((1,2,3))# 参数可以是list,tuple,set"
   ]
  },
  {
   "cell_type": "code",
   "execution_count": 12,
   "id": "c7f23f67",
   "metadata": {},
   "outputs": [
    {
     "data": {
      "text/plain": [
       "1"
      ]
     },
     "execution_count": 12,
     "metadata": {},
     "output_type": "execute_result"
    }
   ],
   "source": [
    "min({1:100,2:5}) # 字典类型会比较key"
   ]
  },
  {
   "cell_type": "markdown",
   "id": "688027a7",
   "metadata": {},
   "source": [
    "## open() \n",
    "文件操作"
   ]
  },
  {
   "cell_type": "markdown",
   "id": "be6f3d1e",
   "metadata": {},
   "source": [
    "## ord()\n",
    "字符转ascii码值"
   ]
  },
  {
   "cell_type": "code",
   "execution_count": 14,
   "id": "03fa1947",
   "metadata": {},
   "outputs": [
    {
     "data": {
      "text/plain": [
       "90"
      ]
     },
     "execution_count": 14,
     "metadata": {},
     "output_type": "execute_result"
    }
   ],
   "source": [
    "ord('Z')# 字符转ascii码值"
   ]
  },
  {
   "cell_type": "markdown",
   "id": "31115151",
   "metadata": {},
   "source": [
    "## pow(n,m)\n",
    "求n的m次方"
   ]
  },
  {
   "cell_type": "code",
   "execution_count": 16,
   "id": "b0d8a74f",
   "metadata": {},
   "outputs": [
    {
     "data": {
      "text/plain": [
       "1024"
      ]
     },
     "execution_count": 16,
     "metadata": {},
     "output_type": "execute_result"
    }
   ],
   "source": [
    "pow(2,10) # 相当于2**10"
   ]
  },
  {
   "cell_type": "markdown",
   "id": "d8b18001",
   "metadata": {},
   "source": [
    "## print()"
   ]
  },
  {
   "cell_type": "markdown",
   "id": "712eb212",
   "metadata": {},
   "source": [
    "## range(a,b,c)\n",
    "生成a到b的数字序列，a：起始数字；b：结束数字（不含b）；c：步长，默认为1"
   ]
  },
  {
   "cell_type": "code",
   "execution_count": 17,
   "id": "f170c652",
   "metadata": {},
   "outputs": [
    {
     "name": "stdout",
     "output_type": "stream",
     "text": [
      "0\n",
      "1\n",
      "2\n"
     ]
    }
   ],
   "source": [
    "for i in range(3): # 单个参数表示从0开始\n",
    "    print(i)"
   ]
  },
  {
   "cell_type": "code",
   "execution_count": 20,
   "id": "dde8ee2b",
   "metadata": {
    "scrolled": true
   },
   "outputs": [
    {
     "name": "stdout",
     "output_type": "stream",
     "text": [
      "1\n",
      "3\n"
     ]
    }
   ],
   "source": [
    "for i in range(1,5,2):# 指定步长\n",
    "    print(i)"
   ]
  },
  {
   "cell_type": "markdown",
   "id": "aca375a8",
   "metadata": {},
   "source": [
    "## round()\n",
    "四舍五入，保留小数位数"
   ]
  },
  {
   "cell_type": "code",
   "execution_count": 24,
   "id": "16d0989a",
   "metadata": {},
   "outputs": [
    {
     "data": {
      "text/plain": [
       "2"
      ]
     },
     "execution_count": 24,
     "metadata": {},
     "output_type": "execute_result"
    }
   ],
   "source": [
    "round(1.832623)"
   ]
  },
  {
   "cell_type": "code",
   "execution_count": 25,
   "id": "78321b80",
   "metadata": {},
   "outputs": [
    {
     "data": {
      "text/plain": [
       "2.0"
      ]
     },
     "execution_count": 25,
     "metadata": {},
     "output_type": "execute_result"
    }
   ],
   "source": [
    "round(1.832623,0)"
   ]
  },
  {
   "cell_type": "code",
   "execution_count": 26,
   "id": "0e3a94d5",
   "metadata": {},
   "outputs": [
    {
     "data": {
      "text/plain": [
       "1.833"
      ]
     },
     "execution_count": 26,
     "metadata": {},
     "output_type": "execute_result"
    }
   ],
   "source": [
    "round(1.832623,3)"
   ]
  },
  {
   "cell_type": "markdown",
   "id": "e315b63d",
   "metadata": {},
   "source": [
    "## set()\n",
    "用于创建空集合或转成集合"
   ]
  },
  {
   "cell_type": "code",
   "execution_count": 27,
   "id": "f0f14932",
   "metadata": {},
   "outputs": [
    {
     "data": {
      "text/plain": [
       "{'e', 'h', 'l', 'o'}"
      ]
     },
     "execution_count": 27,
     "metadata": {},
     "output_type": "execute_result"
    }
   ],
   "source": [
    "set('hello')"
   ]
  },
  {
   "cell_type": "code",
   "execution_count": 28,
   "id": "e6c9a126",
   "metadata": {},
   "outputs": [
    {
     "data": {
      "text/plain": [
       "{'a', 'b'}"
      ]
     },
     "execution_count": 28,
     "metadata": {},
     "output_type": "execute_result"
    }
   ],
   "source": [
    "set(['a','b','a'])"
   ]
  },
  {
   "cell_type": "code",
   "execution_count": 29,
   "id": "d45175a0",
   "metadata": {},
   "outputs": [
    {
     "data": {
      "text/plain": [
       "{'a', 'b'}"
      ]
     },
     "execution_count": 29,
     "metadata": {},
     "output_type": "execute_result"
    }
   ],
   "source": [
    "set(('a','b','a'))"
   ]
  },
  {
   "cell_type": "code",
   "execution_count": 30,
   "id": "b46db955",
   "metadata": {},
   "outputs": [
    {
     "data": {
      "text/plain": [
       "{'a', 'b', 'c'}"
      ]
     },
     "execution_count": 30,
     "metadata": {},
     "output_type": "execute_result"
    }
   ],
   "source": [
    "set({'a':3,'b':2,'c':1})"
   ]
  },
  {
   "cell_type": "markdown",
   "id": "34a8090f",
   "metadata": {},
   "source": [
    "## sorted() \n",
    "排序"
   ]
  },
  {
   "cell_type": "code",
   "execution_count": 31,
   "id": "151780bb",
   "metadata": {},
   "outputs": [
    {
     "data": {
      "text/plain": [
       "[1, 2, 4, 5, 7]"
      ]
     },
     "execution_count": 31,
     "metadata": {},
     "output_type": "execute_result"
    }
   ],
   "source": [
    "sorted([1,5,2,7,4])# 升序"
   ]
  },
  {
   "cell_type": "code",
   "execution_count": 32,
   "id": "7780949d",
   "metadata": {},
   "outputs": [
    {
     "data": {
      "text/plain": [
       "[7, 5, 4, 2, 1]"
      ]
     },
     "execution_count": 32,
     "metadata": {},
     "output_type": "execute_result"
    }
   ],
   "source": [
    "sorted([1,5,2,7,4],reverse=True)# 降序"
   ]
  },
  {
   "cell_type": "markdown",
   "id": "bf5d442b",
   "metadata": {},
   "source": [
    "## str()\n",
    "将其他数据类型转成字符串"
   ]
  },
  {
   "cell_type": "code",
   "execution_count": 33,
   "id": "2cb99b02",
   "metadata": {},
   "outputs": [
    {
     "data": {
      "text/plain": [
       "'[1, 2, 3]'"
      ]
     },
     "execution_count": 33,
     "metadata": {},
     "output_type": "execute_result"
    }
   ],
   "source": [
    "str([1,2,3])"
   ]
  },
  {
   "cell_type": "markdown",
   "id": "6500d37c",
   "metadata": {},
   "source": [
    "## sum()\n",
    "求和"
   ]
  },
  {
   "cell_type": "code",
   "execution_count": 34,
   "id": "b23ee20d",
   "metadata": {},
   "outputs": [
    {
     "data": {
      "text/plain": [
       "6"
      ]
     },
     "execution_count": 34,
     "metadata": {},
     "output_type": "execute_result"
    }
   ],
   "source": [
    "sum([1,2,3])"
   ]
  },
  {
   "cell_type": "code",
   "execution_count": 35,
   "id": "5b4fdb88",
   "metadata": {
    "scrolled": true
   },
   "outputs": [
    {
     "data": {
      "text/plain": [
       "5050"
      ]
     },
     "execution_count": 35,
     "metadata": {},
     "output_type": "execute_result"
    }
   ],
   "source": [
    "sum(range(101))"
   ]
  },
  {
   "cell_type": "markdown",
   "id": "baf3b6e3",
   "metadata": {},
   "source": [
    "## tuple()\n",
    "转成元组，功能类似list()"
   ]
  },
  {
   "cell_type": "code",
   "execution_count": 36,
   "id": "45008bcb",
   "metadata": {},
   "outputs": [
    {
     "data": {
      "text/plain": [
       "(1, 2, 3)"
      ]
     },
     "execution_count": 36,
     "metadata": {},
     "output_type": "execute_result"
    }
   ],
   "source": [
    "tuple([1,2,3])"
   ]
  },
  {
   "cell_type": "markdown",
   "id": "af2bf561",
   "metadata": {},
   "source": [
    "## type()\n",
    "查看变量类型，创建类"
   ]
  },
  {
   "cell_type": "code",
   "execution_count": 37,
   "id": "3a16d65b",
   "metadata": {},
   "outputs": [
    {
     "data": {
      "text/plain": [
       "float"
      ]
     },
     "execution_count": 37,
     "metadata": {},
     "output_type": "execute_result"
    }
   ],
   "source": [
    "type(3.14)"
   ]
  },
  {
   "cell_type": "code",
   "execution_count": 38,
   "id": "01e741d0",
   "metadata": {},
   "outputs": [
    {
     "data": {
      "text/plain": [
       "set"
      ]
     },
     "execution_count": 38,
     "metadata": {},
     "output_type": "execute_result"
    }
   ],
   "source": [
    "type({1,2,3})"
   ]
  },
  {
   "cell_type": "markdown",
   "id": "61ab80fd",
   "metadata": {},
   "source": [
    "## zip()# 数据结合"
   ]
  },
  {
   "cell_type": "code",
   "execution_count": 39,
   "id": "5d4b312b",
   "metadata": {},
   "outputs": [
    {
     "data": {
      "text/plain": [
       "{1: 'a', 2: 'b'}"
      ]
     },
     "execution_count": 39,
     "metadata": {},
     "output_type": "execute_result"
    }
   ],
   "source": [
    "dict(zip((1,2,3),('a','b')))"
   ]
  },
  {
   "cell_type": "markdown",
   "id": "da2671d8",
   "metadata": {},
   "source": [
    "## filter()\n",
    "使用指定方法过滤可迭代对象的元素"
   ]
  },
  {
   "cell_type": "code",
   "execution_count": 47,
   "id": "a76a5ca0",
   "metadata": {},
   "outputs": [
    {
     "data": {
      "text/plain": [
       "[1, 3, 5, 7, 9]"
      ]
     },
     "execution_count": 47,
     "metadata": {},
     "output_type": "execute_result"
    }
   ],
   "source": [
    "a = [0, 1, 2, 3, 4, 5, 6, 7, 8, 9]\n",
    "def get_odd(x): # 定义奇数判断函数\n",
    "    return x%2==1\n",
    "list(filter(get_odd,a))\n"
   ]
  },
  {
   "cell_type": "markdown",
   "id": "fb8b5cdc",
   "metadata": {},
   "source": [
    "# 数据类型"
   ]
  },
  {
   "cell_type": "code",
   "execution_count": null,
   "id": "e1f2b328",
   "metadata": {},
   "outputs": [],
   "source": [
    "# 判断变量数据类型type()"
   ]
  },
  {
   "cell_type": "code",
   "execution_count": null,
   "id": "5cf3dd25",
   "metadata": {},
   "outputs": [],
   "source": [
    "a = 'hello'\n",
    "b = 100\n",
    "c = 3.14\n",
    "d = [1,'a']\n",
    "e = (2,'b')\n",
    "print(type(a),type(b),type(c),type(d),type(e))"
   ]
  },
  {
   "cell_type": "markdown",
   "id": "a314ab53",
   "metadata": {},
   "source": [
    "## 数字"
   ]
  },
  {
   "cell_type": "markdown",
   "id": "72ce1146",
   "metadata": {},
   "source": [
    "数字包含整数int和浮点数float，如果需要做数学运算，需要使用数字类型"
   ]
  },
  {
   "cell_type": "markdown",
   "id": "7478c478",
   "metadata": {},
   "source": [
    "## 字符串\n",
    "引号引起来的就是字符串"
   ]
  },
  {
   "cell_type": "markdown",
   "id": "46cedb33",
   "metadata": {},
   "source": [
    "### 字符串索引\n",
    "索引就是给字符串的每一个字符做一个编号。\n",
    "正向索引：从左往右从0开始，\n",
    "反向索引：从右到左-1开始"
   ]
  },
  {
   "cell_type": "markdown",
   "id": "5b06f5a3",
   "metadata": {},
   "source": [
    "### 字符串取值"
   ]
  },
  {
   "cell_type": "markdown",
   "id": "aad46eaf",
   "metadata": {},
   "source": [
    "#### 字符串取单个值\n",
    "格式 str[index]"
   ]
  },
  {
   "cell_type": "code",
   "execution_count": 50,
   "id": "eedc3f0d",
   "metadata": {},
   "outputs": [
    {
     "name": "stdout",
     "output_type": "stream",
     "text": [
      "h\n"
     ]
    }
   ],
   "source": [
    "s = 'python'\n",
    "print(s[3])#格式 str[index],比如从python字符中获取h字符，s[3]"
   ]
  },
  {
   "cell_type": "markdown",
   "id": "0b6fabe3",
   "metadata": {},
   "source": [
    "#### 字符串切片，取多个值\n",
    "str[a:b:c],a截取的起始位置，b截取的结束为止，c步长。口诀：左右空，取到头。前要取，后不取。有步长，算步长。"
   ]
  },
  {
   "cell_type": "code",
   "execution_count": null,
   "id": "b0ff862d",
   "metadata": {},
   "outputs": [],
   "source": [
    "s = 'python'"
   ]
  },
  {
   "cell_type": "code",
   "execution_count": null,
   "id": "20e72d6a",
   "metadata": {},
   "outputs": [],
   "source": [
    "s[1:4]"
   ]
  },
  {
   "cell_type": "code",
   "execution_count": null,
   "id": "7dc86655",
   "metadata": {},
   "outputs": [],
   "source": [
    "s[1:4:2]"
   ]
  },
  {
   "cell_type": "code",
   "execution_count": null,
   "id": "d6f12103",
   "metadata": {},
   "outputs": [],
   "source": [
    "s[:4]"
   ]
  },
  {
   "cell_type": "code",
   "execution_count": null,
   "id": "6e12e00e",
   "metadata": {},
   "outputs": [],
   "source": [
    "s[2:]"
   ]
  },
  {
   "cell_type": "code",
   "execution_count": null,
   "id": "13819967",
   "metadata": {},
   "outputs": [],
   "source": [
    "s[:]"
   ]
  },
  {
   "cell_type": "code",
   "execution_count": null,
   "id": "303fde07",
   "metadata": {},
   "outputs": [],
   "source": [
    "s[::2]"
   ]
  },
  {
   "cell_type": "code",
   "execution_count": null,
   "id": "3ec42578",
   "metadata": {},
   "outputs": [],
   "source": [
    "s[::-1]"
   ]
  },
  {
   "cell_type": "markdown",
   "id": "632832be",
   "metadata": {},
   "source": [
    "### 字符串拼接"
   ]
  },
  {
   "cell_type": "markdown",
   "id": "10b92309",
   "metadata": {},
   "source": [
    "####  +"
   ]
  },
  {
   "cell_type": "code",
   "execution_count": 53,
   "id": "842958b8",
   "metadata": {},
   "outputs": [],
   "source": [
    "a='i love '\n",
    "b='python'"
   ]
  },
  {
   "cell_type": "code",
   "execution_count": 54,
   "id": "a4293944",
   "metadata": {},
   "outputs": [
    {
     "data": {
      "text/plain": [
       "'i love python'"
      ]
     },
     "execution_count": 54,
     "metadata": {},
     "output_type": "execute_result"
    }
   ],
   "source": [
    "a+b"
   ]
  },
  {
   "cell_type": "markdown",
   "id": "fd8c657e",
   "metadata": {},
   "source": [
    "#### %s,%d,%f"
   ]
  },
  {
   "cell_type": "code",
   "execution_count": null,
   "id": "610f660e",
   "metadata": {},
   "outputs": [],
   "source": [
    "'%s%s'%(a,b)"
   ]
  },
  {
   "cell_type": "code",
   "execution_count": 56,
   "id": "639f3711",
   "metadata": {},
   "outputs": [
    {
     "data": {
      "text/plain": [
       "'1+2=3'"
      ]
     },
     "execution_count": 56,
     "metadata": {},
     "output_type": "execute_result"
    }
   ],
   "source": [
    "'%d+%d=%d'%(1,2,1+2) # 只能格式化数字，如果是浮点数会先转成int"
   ]
  },
  {
   "cell_type": "code",
   "execution_count": 59,
   "id": "b7b7d3c4",
   "metadata": {
    "scrolled": true
   },
   "outputs": [
    {
     "data": {
      "text/plain": [
       "'3.16'"
      ]
     },
     "execution_count": 59,
     "metadata": {},
     "output_type": "execute_result"
    }
   ],
   "source": [
    "\"%.2f\"%3.1555 # 只能格式化数字，会先转成浮点数。.2f表示保留两位小数,会四舍五入"
   ]
  },
  {
   "cell_type": "markdown",
   "id": "31412783",
   "metadata": {},
   "source": [
    "#### str.format()"
   ]
  },
  {
   "cell_type": "code",
   "execution_count": 61,
   "id": "8fdc0568",
   "metadata": {},
   "outputs": [
    {
     "data": {
      "text/plain": [
       "'helloworld'"
      ]
     },
     "execution_count": 61,
     "metadata": {},
     "output_type": "execute_result"
    }
   ],
   "source": [
    "\"{}{}\".format('hello','world')"
   ]
  },
  {
   "cell_type": "code",
   "execution_count": 62,
   "id": "3701ae41",
   "metadata": {},
   "outputs": [
    {
     "data": {
      "text/plain": [
       "'helloworld'"
      ]
     },
     "execution_count": 62,
     "metadata": {},
     "output_type": "execute_result"
    }
   ],
   "source": [
    "\"{0}{1}\".format('hello','world')"
   ]
  },
  {
   "cell_type": "code",
   "execution_count": 63,
   "id": "d0a8f51b",
   "metadata": {},
   "outputs": [
    {
     "data": {
      "text/plain": [
       "'worldhelloworld'"
      ]
     },
     "execution_count": 63,
     "metadata": {},
     "output_type": "execute_result"
    }
   ],
   "source": [
    "\"{1}{0}{1}\".format('hello','world')"
   ]
  },
  {
   "cell_type": "code",
   "execution_count": 64,
   "id": "2bc517af",
   "metadata": {},
   "outputs": [
    {
     "data": {
      "text/plain": [
       "'helloworldhello'"
      ]
     },
     "execution_count": 64,
     "metadata": {},
     "output_type": "execute_result"
    }
   ],
   "source": [
    "\"{a}{b}{a}\".format(a='hello',b='world')"
   ]
  },
  {
   "cell_type": "markdown",
   "id": "e83c3b8c",
   "metadata": {},
   "source": [
    "#### f''"
   ]
  },
  {
   "cell_type": "code",
   "execution_count": 66,
   "id": "99944b43",
   "metadata": {},
   "outputs": [
    {
     "data": {
      "text/plain": [
       "'1+2=3'"
      ]
     },
     "execution_count": 66,
     "metadata": {},
     "output_type": "execute_result"
    }
   ],
   "source": [
    "a=1\n",
    "b =2\n",
    "f'{a}+{b}={a+b}'"
   ]
  },
  {
   "cell_type": "markdown",
   "id": "1fc3f27b",
   "metadata": {},
   "source": [
    "### 字符串方法"
   ]
  },
  {
   "cell_type": "code",
   "execution_count": null,
   "id": "85aa2acd",
   "metadata": {},
   "outputs": [],
   "source": [
    "str() #转成字符串\n",
    "in #判断是否包含\n",
    "len()#求长度\n",
    "capitalize()#首字母转大写\n",
    "casefold()\n",
    "center()\n",
    "count()#统计子字符串的数量\n",
    "encode()\n",
    "endswith()\n",
    "expandtabs()\n",
    "find()#获取子字符的索引,返回索引值，如果没有返回-1\n",
    "format()\n",
    "format_map()\n",
    "index()#获取子字符的索引，返回索引值，如果没有会报异常\n",
    "isalnum()# 判断是否是由数字字母组成\n",
    "isalpha()# 判断是否是只由字母组成\n",
    "isascii()\n",
    "isdecimal()\n",
    "isdigit()#判断是否是只由数字组成\n",
    "isidentifier()\n",
    "islower（）#判断是否是小写字母\n",
    "isnumeric()\n",
    "isprintable()\n",
    "isspace()#判断是否全部是空格\n",
    "istitle()\n",
    "isupper() #判断是否是大写字母\n",
    "join()#将序列以指定字符串进行连接*\n",
    "ljust()\n",
    "lower()#转小写*\n",
    "lstrip()\n",
    "maketrans()\n",
    "partition()\n",
    "replace(oldstr,newstr,count)# 字符串替换*\n",
    "rfind()\n",
    "rindex()\n",
    "rjust()\n",
    "rpartition()\n",
    "rsplit()\n",
    "rstrip()\n",
    "split(sep,maxsplit)#字符串分割*\n",
    "splitlines()\n",
    "startswith(sub,[start,[end]]) # 判断字符串在指定范围内是否以sub开始*,返回布尔值\n",
    "strip([chars])#剔除字符串两侧指定字符*\n",
    "swapcase()\n",
    "title() # 转成标题\n",
    "translate()\n",
    "upper()#转大写*\n",
    "zfill()\n"
   ]
  },
  {
   "cell_type": "markdown",
   "id": "29a82a44",
   "metadata": {},
   "source": [
    "## 列表"
   ]
  },
  {
   "cell_type": "markdown",
   "id": "d47a6ffb",
   "metadata": {},
   "source": [
    "列表定义：列表（list）是数据元素的有序排列，用[]来包裹，表示列表，并且用逗号分隔每个元素"
   ]
  },
  {
   "cell_type": "markdown",
   "id": "1b77b4fc",
   "metadata": {},
   "source": [
    "列表格式：list=['name1','name2']"
   ]
  },
  {
   "cell_type": "markdown",
   "id": "33dcb417",
   "metadata": {},
   "source": [
    "### 列表的访问"
   ]
  },
  {
   "cell_type": "markdown",
   "id": "469fb87f",
   "metadata": {},
   "source": [
    "#### 列表索引\n",
    "列表索引就是给列表的每一个元素做一个编号。 正向索引：从左往右从0开始， 反向索引：从右到左-1开始"
   ]
  },
  {
   "cell_type": "code",
   "execution_count": null,
   "id": "54347e12",
   "metadata": {},
   "outputs": [],
   "source": [
    "list = ['abc', 100, 3.14, 'cd']#索引从左向右，每个元素依次从0开始编号，正向索引。从右往左从-1开始编号，反向索引"
   ]
  },
  {
   "cell_type": "markdown",
   "id": "7b173ec2",
   "metadata": {},
   "source": [
    "#### 列表取单个值"
   ]
  },
  {
   "cell_type": "code",
   "execution_count": 68,
   "id": "d444430d",
   "metadata": {},
   "outputs": [
    {
     "data": {
      "text/plain": [
       "3.14"
      ]
     },
     "execution_count": 68,
     "metadata": {},
     "output_type": "execute_result"
    }
   ],
   "source": [
    "list = ['abc', 100, 3.14, 'cd']\n",
    "list[2]"
   ]
  },
  {
   "cell_type": "markdown",
   "id": "ec3e6779",
   "metadata": {},
   "source": [
    "#### 取多个值（切片）\n",
    "list[a:b:c],a截取的起始位置，b截取的结束为止，c步长。口诀：左右空，取到头。前要取，后不取。有步长，算步长。"
   ]
  },
  {
   "cell_type": "code",
   "execution_count": 69,
   "id": "e5cdc8b7",
   "metadata": {},
   "outputs": [
    {
     "data": {
      "text/plain": [
       "[3.14, 'cd']"
      ]
     },
     "execution_count": 69,
     "metadata": {},
     "output_type": "execute_result"
    }
   ],
   "source": [
    "list = ['abc', 100, 3.14, 'cd']\n",
    "list[2:]"
   ]
  },
  {
   "cell_type": "code",
   "execution_count": 71,
   "id": "767f9824",
   "metadata": {},
   "outputs": [
    {
     "data": {
      "text/plain": [
       "[100, 3.14]"
      ]
     },
     "execution_count": 71,
     "metadata": {},
     "output_type": "execute_result"
    }
   ],
   "source": [
    "list = ['abc', 100, 3.14, 'cd']\n",
    "list[1:3]"
   ]
  },
  {
   "cell_type": "code",
   "execution_count": 72,
   "id": "9bee4ea7",
   "metadata": {},
   "outputs": [
    {
     "data": {
      "text/plain": [
       "['abc', 100, 3.14]"
      ]
     },
     "execution_count": 72,
     "metadata": {},
     "output_type": "execute_result"
    }
   ],
   "source": [
    "list = ['abc', 100, 3.14, 'cd']\n",
    "list[:3]"
   ]
  },
  {
   "cell_type": "code",
   "execution_count": 73,
   "id": "68df35a0",
   "metadata": {},
   "outputs": [
    {
     "data": {
      "text/plain": [
       "['abc', 100, 3.14, 'cd']"
      ]
     },
     "execution_count": 73,
     "metadata": {},
     "output_type": "execute_result"
    }
   ],
   "source": [
    "list = ['abc', 100, 3.14, 'cd']\n",
    "list[:]"
   ]
  },
  {
   "cell_type": "code",
   "execution_count": 74,
   "id": "8caf02ea",
   "metadata": {},
   "outputs": [
    {
     "data": {
      "text/plain": [
       "['cd', 3.14, 100, 'abc']"
      ]
     },
     "execution_count": 74,
     "metadata": {},
     "output_type": "execute_result"
    }
   ],
   "source": [
    "list = ['abc', 100, 3.14, 'cd']\n",
    "list[::-1]"
   ]
  },
  {
   "cell_type": "markdown",
   "id": "d56204c4",
   "metadata": {},
   "source": [
    "#### 嵌套列表取值"
   ]
  },
  {
   "cell_type": "code",
   "execution_count": 75,
   "id": "bee548c3",
   "metadata": {},
   "outputs": [
    {
     "data": {
      "text/plain": [
       "3"
      ]
     },
     "execution_count": 75,
     "metadata": {},
     "output_type": "execute_result"
    }
   ],
   "source": [
    "list = ['abc', 100,[1,2,3,4], 3.14, 'cd']#取出3\n",
    "list[2][2]"
   ]
  },
  {
   "cell_type": "markdown",
   "id": "d506714f",
   "metadata": {},
   "source": [
    "### 列表的修改\n",
    "固定格式：列表名[索引]=新值"
   ]
  },
  {
   "cell_type": "code",
   "execution_count": null,
   "id": "219dcf53",
   "metadata": {},
   "outputs": [],
   "source": [
    "a = [111,222,333,444]\n",
    "a[1]='aaa'\n",
    "a"
   ]
  },
  {
   "cell_type": "markdown",
   "id": "baf05fb5",
   "metadata": {},
   "source": [
    "### 列表的查询"
   ]
  },
  {
   "cell_type": "markdown",
   "id": "e8f9b474",
   "metadata": {},
   "source": [
    "#### 查找某个元素是否在列表中\n",
    "in/not in"
   ]
  },
  {
   "cell_type": "code",
   "execution_count": 76,
   "id": "fd50706f",
   "metadata": {},
   "outputs": [
    {
     "name": "stdout",
     "output_type": "stream",
     "text": [
      "False\n",
      "False\n"
     ]
    }
   ],
   "source": [
    "a = [111,222,333,444]\n",
    "print(666 in a)# 返回一个布尔值\n",
    "print(222 not in a)"
   ]
  },
  {
   "cell_type": "markdown",
   "id": "0eca4eae",
   "metadata": {},
   "source": [
    "#### 根据元素查找元素的索引值\n",
    "index()"
   ]
  },
  {
   "cell_type": "code",
   "execution_count": 77,
   "id": "445a56f5",
   "metadata": {},
   "outputs": [
    {
     "data": {
      "text/plain": [
       "2"
      ]
     },
     "execution_count": 77,
     "metadata": {},
     "output_type": "execute_result"
    }
   ],
   "source": [
    "a = [111,222,333,333]\n",
    "a.index(333)# 与字符串当中的index()的用法是一样的，如果有该元素返回其索引值，没有则报异常"
   ]
  },
  {
   "cell_type": "markdown",
   "id": "701386b6",
   "metadata": {},
   "source": [
    "#### 查看某个元素在列表中出现的次数\n",
    "count()"
   ]
  },
  {
   "cell_type": "code",
   "execution_count": 78,
   "id": "83179c06",
   "metadata": {},
   "outputs": [
    {
     "data": {
      "text/plain": [
       "2"
      ]
     },
     "execution_count": 78,
     "metadata": {},
     "output_type": "execute_result"
    }
   ],
   "source": [
    "a = [111,222,333,'333',333]\n",
    "a.count(333)"
   ]
  },
  {
   "cell_type": "markdown",
   "id": "59b897cd",
   "metadata": {},
   "source": [
    "#### 查看列表长度\n",
    "len()"
   ]
  },
  {
   "cell_type": "code",
   "execution_count": 79,
   "id": "116a457d",
   "metadata": {},
   "outputs": [
    {
     "data": {
      "text/plain": [
       "6"
      ]
     },
     "execution_count": 79,
     "metadata": {},
     "output_type": "execute_result"
    }
   ],
   "source": [
    "a = [111,222,777,444,555,555]\n",
    "len(a)#length长度"
   ]
  },
  {
   "cell_type": "markdown",
   "id": "a64d9d42",
   "metadata": {},
   "source": [
    "### 列表的增加"
   ]
  },
  {
   "cell_type": "markdown",
   "id": "78503faf",
   "metadata": {},
   "source": [
    "#### 列表追加\n",
    "append()"
   ]
  },
  {
   "cell_type": "code",
   "execution_count": 80,
   "id": "d698ce80",
   "metadata": {},
   "outputs": [
    {
     "name": "stdout",
     "output_type": "stream",
     "text": [
      "[111, 222, 777, 444, 555, 666]\n"
     ]
    }
   ],
   "source": [
    "a = [111,222,777,444,555] \n",
    "a.append(666)#在列表的末尾添加666这元素\n",
    "print(a)"
   ]
  },
  {
   "cell_type": "markdown",
   "id": "84415f59",
   "metadata": {},
   "source": [
    "#### 列表插入\n",
    "insert()"
   ]
  },
  {
   "cell_type": "code",
   "execution_count": 81,
   "id": "7353af7e",
   "metadata": {},
   "outputs": [
    {
     "data": {
      "text/plain": [
       "[111, 222, 333, 777, 444, 555]"
      ]
     },
     "execution_count": 81,
     "metadata": {},
     "output_type": "execute_result"
    }
   ],
   "source": [
    "a = [111,222,777,444,555] \n",
    "# 在222的后面加333\n",
    "a.insert(2,333)#两个参数，1:插入位置，索引，2:插入的值\n",
    "a"
   ]
  },
  {
   "cell_type": "markdown",
   "id": "8cdc0580",
   "metadata": {},
   "source": [
    "#### 列表扩展（合并）\n",
    "exend()"
   ]
  },
  {
   "cell_type": "code",
   "execution_count": 82,
   "id": "15378432",
   "metadata": {
    "scrolled": true
   },
   "outputs": [
    {
     "data": {
      "text/plain": [
       "[1, 2, 3, 4, 5, 6, 7, 8]"
      ]
     },
     "execution_count": 82,
     "metadata": {},
     "output_type": "execute_result"
    }
   ],
   "source": [
    "list1 = [1,2,3,4]\n",
    "list2 = [5,6,7,8]\n",
    "# list2合并到list1\n",
    "list1.extend(list2)\n",
    "list1"
   ]
  },
  {
   "cell_type": "markdown",
   "id": "2d2564c7",
   "metadata": {},
   "source": [
    "### 列表删除"
   ]
  },
  {
   "cell_type": "markdown",
   "id": "06556590",
   "metadata": {},
   "source": [
    "#### 删除某个元素或者整个列表\n",
    "del"
   ]
  },
  {
   "cell_type": "code",
   "execution_count": 83,
   "id": "19acd19f",
   "metadata": {},
   "outputs": [
    {
     "data": {
      "text/plain": [
       "[111, 222, 444, 555]"
      ]
     },
     "execution_count": 83,
     "metadata": {},
     "output_type": "execute_result"
    }
   ],
   "source": [
    "a = [111,222,777,444,555]\n",
    "# 删除2号索引的元素\n",
    "del a[2]#删除一个元素\n",
    "a"
   ]
  },
  {
   "cell_type": "markdown",
   "id": "d81014da",
   "metadata": {},
   "source": [
    "#### 删除某个元素，并返回该元素。可以指定索引，默认-1\n",
    "pop()"
   ]
  },
  {
   "cell_type": "code",
   "execution_count": 84,
   "id": "42a407df",
   "metadata": {},
   "outputs": [
    {
     "name": "stdout",
     "output_type": "stream",
     "text": [
      "[111, 222, 777, 444]\n",
      "555\n"
     ]
    }
   ],
   "source": [
    "a = [111,222,777,444,555]\n",
    "b=a.pop()#pop 中文意思就说弹出\n",
    "print(a)\n",
    "print(b)"
   ]
  },
  {
   "cell_type": "markdown",
   "id": "a144f6be",
   "metadata": {},
   "source": [
    "#### 删除列表中指定元素，如果元素重复则删除最左侧的一个\n",
    "remove()"
   ]
  },
  {
   "cell_type": "code",
   "execution_count": 85,
   "id": "4a725bd6",
   "metadata": {},
   "outputs": [
    {
     "name": "stdout",
     "output_type": "stream",
     "text": [
      "[111, 222, 555, 444, 555]\n"
     ]
    }
   ],
   "source": [
    "a = [111,222,555,777,444,555]\n",
    "a.remove(777)# 如果元素不存在则报异常\n",
    "print(a)"
   ]
  },
  {
   "cell_type": "markdown",
   "id": "2edec384",
   "metadata": {},
   "source": [
    "#### 清空列表\n",
    "clear()"
   ]
  },
  {
   "cell_type": "code",
   "execution_count": 86,
   "id": "faae6ca1",
   "metadata": {},
   "outputs": [
    {
     "name": "stdout",
     "output_type": "stream",
     "text": [
      "[]\n"
     ]
    }
   ],
   "source": [
    "a = [111,222,555,777,444,555]\n",
    "a.clear()\n",
    "print(a)"
   ]
  },
  {
   "cell_type": "markdown",
   "id": "0ce0200d",
   "metadata": {},
   "source": [
    "### 列表方法"
   ]
  },
  {
   "cell_type": "code",
   "execution_count": null,
   "id": "68463902",
   "metadata": {},
   "outputs": [],
   "source": [
    "list() #转成字符串\n",
    "in #判断是否包含\n",
    "len()#求长度\n",
    "append()\n",
    "clear()\n",
    "copy()\n",
    "count()\n",
    "extend()\n",
    "index()\n",
    "insert()\n",
    "pop()\n",
    "remove()\n",
    "reverse()\n",
    "sort()\n"
   ]
  },
  {
   "cell_type": "markdown",
   "id": "2b535682",
   "metadata": {},
   "source": [
    "## 元组\n",
    "元组与列表类似，不同之处在于元组的元素不能修改。\n",
    "元组使用小括号 ( )，列表使用方括号 [ ]。"
   ]
  },
  {
   "cell_type": "code",
   "execution_count": null,
   "id": "f2742ce4",
   "metadata": {},
   "outputs": [],
   "source": [
    "# 元组只能进行查询，其查询操作与列表类似。可以使用索引取值，切片。"
   ]
  },
  {
   "cell_type": "markdown",
   "id": "1f0e8cf7",
   "metadata": {},
   "source": [
    "### 元组的访问"
   ]
  },
  {
   "cell_type": "markdown",
   "id": "5af7facb",
   "metadata": {},
   "source": [
    "#### 元组索引\n",
    "元组索引就是给元组的每一个元素做一个编号。 正向索引：从左往右从0开始， 反向索引：从右到左-1开始"
   ]
  },
  {
   "cell_type": "code",
   "execution_count": 88,
   "id": "42044adf",
   "metadata": {},
   "outputs": [],
   "source": [
    "t = ('abc', 100, 3.14, 'cd')#索引从左向右，每个元素依次从0开始编号，正向索引。从右往左从-1开始编号，反向索引"
   ]
  },
  {
   "cell_type": "markdown",
   "id": "87e84186",
   "metadata": {},
   "source": [
    "#### 元组取单个值"
   ]
  },
  {
   "cell_type": "code",
   "execution_count": 87,
   "id": "f5773479",
   "metadata": {},
   "outputs": [
    {
     "data": {
      "text/plain": [
       "3.14"
      ]
     },
     "execution_count": 87,
     "metadata": {},
     "output_type": "execute_result"
    }
   ],
   "source": [
    "t = ('abc', 100, 3.14, 'cd')\n",
    "t[2]"
   ]
  },
  {
   "cell_type": "markdown",
   "id": "5711e782",
   "metadata": {},
   "source": [
    "#### 取多个值（切片）\n",
    "tuple[a:b:c],a截取的起始位置，b截取的结束为止，c步长。口诀：左右空，取到头。前要取，后不取。有步长，算步长。"
   ]
  },
  {
   "cell_type": "code",
   "execution_count": 90,
   "id": "6d5f6f51",
   "metadata": {},
   "outputs": [
    {
     "data": {
      "text/plain": [
       "(3.14, 'cd')"
      ]
     },
     "execution_count": 90,
     "metadata": {},
     "output_type": "execute_result"
    }
   ],
   "source": [
    "t = ('abc', 100, 3.14, 'cd')\n",
    "t[2:]"
   ]
  },
  {
   "cell_type": "code",
   "execution_count": 89,
   "id": "dae3aa52",
   "metadata": {},
   "outputs": [
    {
     "data": {
      "text/plain": [
       "(100, 3.14)"
      ]
     },
     "execution_count": 89,
     "metadata": {},
     "output_type": "execute_result"
    }
   ],
   "source": [
    "t = ('abc', 100, 3.14, 'cd')\n",
    "t[1:3]"
   ]
  },
  {
   "cell_type": "code",
   "execution_count": 91,
   "id": "122fe681",
   "metadata": {},
   "outputs": [
    {
     "data": {
      "text/plain": [
       "('abc', 100, 3.14)"
      ]
     },
     "execution_count": 91,
     "metadata": {},
     "output_type": "execute_result"
    }
   ],
   "source": [
    "t = ('abc', 100, 3.14, 'cd')\n",
    "t[:3]"
   ]
  },
  {
   "cell_type": "code",
   "execution_count": 92,
   "id": "f747cdbe",
   "metadata": {},
   "outputs": [
    {
     "data": {
      "text/plain": [
       "('abc', 100, 3.14, 'cd')"
      ]
     },
     "execution_count": 92,
     "metadata": {},
     "output_type": "execute_result"
    }
   ],
   "source": [
    "t = ('abc', 100, 3.14, 'cd')\n",
    "t[:]"
   ]
  },
  {
   "cell_type": "code",
   "execution_count": 93,
   "id": "0f7d82cd",
   "metadata": {},
   "outputs": [
    {
     "data": {
      "text/plain": [
       "('cd', 3.14, 100, 'abc')"
      ]
     },
     "execution_count": 93,
     "metadata": {},
     "output_type": "execute_result"
    }
   ],
   "source": [
    "t = ('abc', 100, 3.14, 'cd')\n",
    "t[::-1]"
   ]
  },
  {
   "cell_type": "markdown",
   "id": "7372dcb4",
   "metadata": {},
   "source": [
    "#### 嵌套列表取值"
   ]
  },
  {
   "cell_type": "code",
   "execution_count": 94,
   "id": "55809c66",
   "metadata": {},
   "outputs": [
    {
     "data": {
      "text/plain": [
       "3"
      ]
     },
     "execution_count": 94,
     "metadata": {},
     "output_type": "execute_result"
    }
   ],
   "source": [
    "t = ('abc', 100,[1,2,3,4], 3.14, 'cd')#取出3\n",
    "t[2][2]"
   ]
  },
  {
   "cell_type": "markdown",
   "id": "b3fb095e",
   "metadata": {},
   "source": [
    "### 元组方法"
   ]
  },
  {
   "cell_type": "code",
   "execution_count": null,
   "id": "f72bb754",
   "metadata": {},
   "outputs": [],
   "source": [
    "count()\n",
    "index()\n"
   ]
  },
  {
   "cell_type": "markdown",
   "id": "b4fe13d5",
   "metadata": {},
   "source": [
    "## 字典"
   ]
  },
  {
   "cell_type": "markdown",
   "id": "1b0f765b",
   "metadata": {},
   "source": [
    "### 什么是字典"
   ]
  },
  {
   "cell_type": "markdown",
   "id": "05c13daa",
   "metadata": {},
   "source": [
    "字典也是python的一种常用数据结构，它用于存放具有映射关系的数据。\n",
    "比如有份成绩表数据，语文：79，数学：80，英语：92，这组数据看上去像两个列表，但这两个列表的元素之间有一定的关联关系。如果单纯使用两个列表来保存这组数据，则无法记录两组数据之间的关联关系。"
   ]
  },
  {
   "attachments": {
    "image.png": {
     "image/png": "[encoded data removed]"
    }
   },
   "cell_type": "markdown",
   "id": "106489d9",
   "metadata": {},
   "source": [
    "为了保存具有映射关系的数据，Python 提供了字典，字典相当于保存了两组数据，其中一组数据是关键数据，被称为 key；另一组数据可通过 key 来访问，被称为 value。形象地看，字典中 key 和 value 的关联关系如图 1 所示：\n",
    "![image.png](attachment:image.png)"
   ]
  },
  {
   "cell_type": "markdown",
   "id": "58fb2fe5",
   "metadata": {},
   "source": [
    "由于字典中的 key 是非常关键的数据，而且程序需要通过 key 来访问 value，因此字典中的 key 不允许重复。"
   ]
  },
  {
   "cell_type": "code",
   "execution_count": 95,
   "id": "7a2286a6",
   "metadata": {},
   "outputs": [
    {
     "data": {
      "text/plain": [
       "dict"
      ]
     },
     "execution_count": 95,
     "metadata": {},
     "output_type": "execute_result"
    }
   ],
   "source": [
    "# 字典格式：dict = {key:value}\n",
    "d = {'语文':79,'数学':80,'英语':92}\n",
    "type(d)"
   ]
  },
  {
   "cell_type": "markdown",
   "id": "03d95346",
   "metadata": {},
   "source": [
    "### 创建字典\n",
    "程序既可使用花括号语法来创建字典，也可使用 dict() 函数来创建字典。"
   ]
  },
  {
   "cell_type": "code",
   "execution_count": 97,
   "id": "9505926f",
   "metadata": {},
   "outputs": [],
   "source": [
    "d = {'语文':79,'数学':80,'英语':92}"
   ]
  },
  {
   "cell_type": "code",
   "execution_count": 98,
   "id": "0195b5bd",
   "metadata": {},
   "outputs": [
    {
     "data": {
      "text/plain": [
       "{'a': 'aa', 'b': 'bb', 't': 'tt'}"
      ]
     },
     "execution_count": 98,
     "metadata": {},
     "output_type": "execute_result"
    }
   ],
   "source": [
    "dict(a='aa', b='bb', t='tt')     # 传入关键字"
   ]
  },
  {
   "cell_type": "code",
   "execution_count": 99,
   "id": "6fc08f7c",
   "metadata": {},
   "outputs": [
    {
     "data": {
      "text/plain": [
       "{'one': 1, 'two': 2, 'three': 3}"
      ]
     },
     "execution_count": 99,
     "metadata": {},
     "output_type": "execute_result"
    }
   ],
   "source": [
    "dict(zip(['one', 'two', 'three'], [1, 2, 3]))# 映射函数方式来构造字典"
   ]
  },
  {
   "cell_type": "code",
   "execution_count": 100,
   "id": "d107c354",
   "metadata": {},
   "outputs": [
    {
     "data": {
      "text/plain": [
       "{'one': 1, 'two': 2, 'three': 3}"
      ]
     },
     "execution_count": 100,
     "metadata": {},
     "output_type": "execute_result"
    }
   ],
   "source": [
    "dict([('one', 1), ('two', 2), ('three', 3)])    # 可迭代对象方式来构造字典"
   ]
  },
  {
   "cell_type": "markdown",
   "id": "4d6186d7",
   "metadata": {},
   "source": [
    "### 字典的基本用法"
   ]
  },
  {
   "cell_type": "code",
   "execution_count": null,
   "id": "78a42307",
   "metadata": {},
   "outputs": [],
   "source": [
    "\"\"\"\n",
    "通过 key 访问 value 。\n",
    "通过 key 添加 key-value 对。\n",
    "通过 key 删除 key-value 对。\n",
    "通过 key 修改 key-value 对。\n",
    "通过 key 判断指定 key-value 对是否存在。\n",
    "通过 key 访问 value 使用的也是方括号语法，就像前面介绍的列表和元组一样，只是此时在方括号中放的是 key，而不是列表或元组中的索引。\n",
    "\"\"\""
   ]
  },
  {
   "cell_type": "code",
   "execution_count": null,
   "id": "3ef869bb",
   "metadata": {},
   "outputs": [],
   "source": [
    "# 通过key访问value\n",
    "scores = {'语文': 89}\n",
    "print(scores['语文'])"
   ]
  },
  {
   "cell_type": "code",
   "execution_count": null,
   "id": "b41c2db4",
   "metadata": {},
   "outputs": [],
   "source": [
    "# 对不存在的key赋值，就是增加key-value对\n",
    "scores['数学'] = 93\n",
    "scores[92] = 5.7\n",
    "print(scores) # {'语文': 89, '数学': 93, 92: 5.7}"
   ]
  },
  {
   "cell_type": "code",
   "execution_count": null,
   "id": "55259a99",
   "metadata": {},
   "outputs": [],
   "source": [
    "# 使用del语句删除key-value对\n",
    "del scores['语文']\n",
    "del scores['数学']\n",
    "print(scores) # {92: 5.7}"
   ]
  },
  {
   "cell_type": "code",
   "execution_count": null,
   "id": "ae20dbf9",
   "metadata": {},
   "outputs": [],
   "source": [
    "# 对存在的key-value对赋值，改变key-value对\n",
    "cars = {'BMW': 8.5, 'BENS': 8.3, 'AUDI': 7.9}\n",
    "cars['BENS'] = 4.3\n",
    "cars['AUDI'] = 3.8\n",
    "print(cars) # {'BMW': 8.5, 'BENS': 4.3, 'AUDI': 3.8}"
   ]
  },
  {
   "cell_type": "code",
   "execution_count": null,
   "id": "d683fed2",
   "metadata": {},
   "outputs": [],
   "source": [
    "# 如果要判断字典是否包含指定的 key，则可以使用 in 或 not in 运算符。需要指出的是，对于 dict 而言，in 或 not in 运算符都是基于 key 来判断的\n",
    "# 判断cars是否包含名为'AUDI'的key\n",
    "print('AUDI' in cars) # True\n",
    "# 判断cars是否包含名为'PORSCHE'的key\n",
    "print('PORSCHE' in cars) # False\n",
    "print('LAMBORGHINI' not in cars) # True"
   ]
  },
  {
   "cell_type": "markdown",
   "id": "7efa0641",
   "metadata": {},
   "source": [
    "通过上面介绍可以看出，字典的 key 是它的关键。换个角度来看，字典的 key 就相当于它的索引，只不过这些索引不一定是整数类型，字典的 key 可以是任意不可变类型。\n",
    "\n",
    "可以这样说，字典相当于索引是任意不可变类型的列表：而列表则相当于 key 只能是整数的字典。因此，如果程序中要使用的字典的 key 都是整数类型，则可考虑能否换成列表。\n",
    "\n",
    "此外，还有一点需要指出，列表的索引总是从 0 开始、连续增大的；但字典的索引即使是整数类型，也不需要从 0 开始，而且不需要连续。因此，列表不允许对不存在的索引赋值：但字典则允许直接对不存在的 key 赋值，这样就会为字典增加一个 key-value 对。"
   ]
  },
  {
   "cell_type": "markdown",
   "id": "5963bcae",
   "metadata": {},
   "source": [
    "### 字典的常用方法"
   ]
  },
  {
   "cell_type": "code",
   "execution_count": 101,
   "id": "9e7dc606",
   "metadata": {},
   "outputs": [
    {
     "name": "stdout",
     "output_type": "stream",
     "text": [
      "['__class__', '__contains__', '__delattr__', '__delitem__', '__dir__', '__doc__', '__eq__', '__format__', '__ge__', '__getattribute__', '__getitem__', '__gt__', '__hash__', '__init__', '__init_subclass__', '__iter__', '__le__', '__len__', '__lt__', '__ne__', '__new__', '__reduce__', '__reduce_ex__', '__repr__', '__reversed__', '__setattr__', '__setitem__', '__sizeof__', '__str__', '__subclasshook__', 'clear', 'copy', 'fromkeys', 'get', 'items', 'keys', 'pop', 'popitem', 'setdefault', 'update', 'values']\n"
     ]
    }
   ],
   "source": [
    "print(dir(dict))"
   ]
  },
  {
   "cell_type": "code",
   "execution_count": null,
   "id": "79d975fc",
   "metadata": {},
   "outputs": [],
   "source": [
    "clear()\n",
    "copy()\n",
    "fromkeys()\n",
    "get()\n",
    "items()\n",
    "keys()\n",
    "pop()\n",
    "popitem()\n",
    "setdefault()\n",
    "update()\n",
    "values()"
   ]
  },
  {
   "cell_type": "markdown",
   "id": "666e40c6",
   "metadata": {},
   "source": [
    "#### clear()方法\n",
    "clear() 用于清空字典中所有的 key-value 对，对一个字典执行 clear() 方法之后，该字典就会变成一个空字典。"
   ]
  },
  {
   "cell_type": "code",
   "execution_count": 102,
   "id": "bb5af595",
   "metadata": {},
   "outputs": [
    {
     "name": "stdout",
     "output_type": "stream",
     "text": [
      "{'BMW': 8.5, 'BENS': 8.3, 'AUDI': 7.9}\n",
      "{}\n"
     ]
    }
   ],
   "source": [
    "cars = {'BMW': 8.5, 'BENS': 8.3, 'AUDI': 7.9}\n",
    "print(cars) # {'BMW': 8.5, 'BENS': 8.3, 'AUDI': 7.9}\n",
    "# 清空cars所有key-value对\n",
    "cars.clear()\n",
    "print(cars) # {}"
   ]
  },
  {
   "cell_type": "markdown",
   "id": "fbc6cb82",
   "metadata": {},
   "source": [
    "#### get()方法\n",
    "get() 方法其实就是根据 key 来获取 value，它相当于方括号语法的增强版，当使用方括号语法访问并不存在的 key 时，字典会引发 KeyError 错误；但如果使用 get() 方法访问不存在的 key，该方法会简单地返回 None，不会导致错误。"
   ]
  },
  {
   "cell_type": "code",
   "execution_count": 103,
   "id": "4b5ce71f",
   "metadata": {},
   "outputs": [
    {
     "name": "stdout",
     "output_type": "stream",
     "text": [
      "8.5\n",
      "None\n"
     ]
    }
   ],
   "source": [
    "cars = {'BMW': 8.5, 'BENS': 8.3, 'AUDI': 7.9}\n",
    "# 获取'BMW'对应的value\n",
    "print(cars.get('BMW')) # 8.5\n",
    "print(cars.get('PORSCHE')) # None\n",
    "# print(cars['PORSCHE']) # KeyError"
   ]
  },
  {
   "cell_type": "markdown",
   "id": "a2f1039f",
   "metadata": {},
   "source": [
    "#### update()方法\n",
    "update() 方法可使用一个字典所包含的 key-value 对来更新己有的字典。在执行 update() 方法时，如果被更新的字典中己包含对应的 key-value 对，那么原 value 会被覆盖；如果被更新的字典中不包含对应的 key-value 对，则该 key-value 对被添加进去"
   ]
  },
  {
   "cell_type": "code",
   "execution_count": 104,
   "id": "a07b5775",
   "metadata": {},
   "outputs": [
    {
     "name": "stdout",
     "output_type": "stream",
     "text": [
      "{'BMW': 4.5, 'BENS': 8.3, 'AUDI': 7.9, 'PORSCHE': 9.3}\n"
     ]
    }
   ],
   "source": [
    "cars = {'BMW': 8.5, 'BENS': 8.3, 'AUDI': 7.9}\n",
    "cars.update({'BMW':4.5, 'PORSCHE': 9.3})\n",
    "print(cars)"
   ]
  },
  {
   "cell_type": "markdown",
   "id": "72869341",
   "metadata": {},
   "source": [
    "从上面的执行过程可以看出，由于被更新的 dict 中己包含 key 为“AUDI”的 key-value 对，因此更新时该 key-value 对的 value 将被改写；但如果被更新的 dict 中不包含 key 为“PORSCHE”的 key-value 对，那么更新时就会为原字典增加一个 key-value 对。"
   ]
  },
  {
   "cell_type": "markdown",
   "id": "1809be6b",
   "metadata": {},
   "source": [
    "#### items()、keys()、values()\n",
    "items()、keys()、values() 分别用于获取字典中的所有 key-value 对、所有 key、所有 value。这三个方法依次返回 dict_items、dict_keys 和 dict_values 对象，Python 不希望用户直接操作这几个方法，但可通过 list() 函数把它们转换成列表。"
   ]
  },
  {
   "cell_type": "code",
   "execution_count": 1,
   "id": "97689f34",
   "metadata": {},
   "outputs": [
    {
     "name": "stdout",
     "output_type": "stream",
     "text": [
      "<class 'dict_items'>\n",
      "[('BMW', 8.5), ('BENS', 8.3), ('AUDI', 7.9)]\n",
      "('BENS', 8.3)\n",
      "<class 'dict_keys'>\n",
      "['BMW', 'BENS', 'AUDI']\n",
      "BENS\n",
      "<class 'dict_values'>\n",
      "8.3\n"
     ]
    }
   ],
   "source": [
    "cars = {'BMW': 8.5, 'BENS': 8.3, 'AUDI': 7.9}\n",
    "# 获取字典所有的key-value对，返回一个dict_items对象\n",
    "ims = cars.items()\n",
    "print(type(ims)) # <class 'dict_items'>\n",
    "# 将dict_items转换成列表\n",
    "print(list(ims)) # [('BMW', 8.5), ('BENS', 8.3), ('AUDI', 7.9)]\n",
    "# 访问第2个key-value对\n",
    "print(list(ims)[1]) # ('BENS', 8.3)\n",
    "# 获取字典所有的key，返回一个dict_keys对象\n",
    "kys = cars.keys()\n",
    "print(type(kys)) # <class 'dict_keys'>\n",
    "# 将dict_keys转换成列表\n",
    "print(list(kys)) # ['BMW', 'BENS', 'AUDI']\n",
    "# 访问第2个key\n",
    "print(list(kys)[1]) # 'BENS'\n",
    "# 获取字典所有的value，返回一个dict_values对象\n",
    "vals = cars.values()\n",
    "# 将dict_values转换成列表\n",
    "print(type(vals)) # [8.5, 8.3, 7.9]\n",
    "# 访问第2个value\n",
    "print(list(vals)[1]) # 8.3"
   ]
  },
  {
   "cell_type": "markdown",
   "id": "1cf3a31f",
   "metadata": {},
   "source": [
    "#### pop()\n",
    "pop() 方法用于获取指定 key 对应的 value，并删除这个 key-value 对。"
   ]
  },
  {
   "cell_type": "code",
   "execution_count": 2,
   "id": "496abb7b",
   "metadata": {},
   "outputs": [
    {
     "name": "stdout",
     "output_type": "stream",
     "text": [
      "7.9\n",
      "{'BMW': 8.5, 'BENS': 8.3}\n"
     ]
    }
   ],
   "source": [
    "cars = {'BMW': 8.5, 'BENS': 8.3, 'AUDI': 7.9}\n",
    "print(cars.pop('AUDI')) # 7.9\n",
    "print(cars) # {'BMW': 8.5, 'BENS': 8.3}"
   ]
  },
  {
   "cell_type": "markdown",
   "id": "a262f71f",
   "metadata": {},
   "source": [
    "#### popitem()方法\n",
    "popitem() 方法用于随机弹出字典中的一个 key-value 对。此处的随机其实是假的，正如列表的 pop() 方法总是弹出列表中最后一个元素，实际上字典的 popitem() 其实也是弹出字典中最后一个 key-value 对。由于字典存储 key-value 对的顺序是不可知的，因此开发者感觉字典的 popitem() 方法是“随机”弹出的，但实际上字典的 popitem() 方法总是弹出底层存储的最后一个 key-value 对。"
   ]
  },
  {
   "cell_type": "code",
   "execution_count": 3,
   "id": "4777329c",
   "metadata": {
    "scrolled": false
   },
   "outputs": [
    {
     "name": "stdout",
     "output_type": "stream",
     "text": [
      "{'AUDI': 7.9, 'BENS': 8.3, 'BMW': 8.5}\n",
      "('BMW', 8.5)\n",
      "{'AUDI': 7.9, 'BENS': 8.3}\n"
     ]
    }
   ],
   "source": [
    "cars = {'AUDI': 7.9, 'BENS': 8.3, 'BMW': 8.5}\n",
    "print(cars)\n",
    "# 弹出字典底层存储的最后一个key-value对\n",
    "print(cars.popitem()) # ('AUDI', 7.9)\n",
    "print(cars) # {'BMW': 8.5, 'BENS': 8.3}"
   ]
  },
  {
   "cell_type": "markdown",
   "id": "13eb1c91",
   "metadata": {},
   "source": [
    "由于实际上 popitem 弹出的就是一个元组，因此程序完全可以通过序列解包的方式用两个变量分别接收 key 和 value。"
   ]
  },
  {
   "cell_type": "code",
   "execution_count": 4,
   "id": "29815d45",
   "metadata": {},
   "outputs": [
    {
     "name": "stdout",
     "output_type": "stream",
     "text": [
      "BENS 8.3\n"
     ]
    }
   ],
   "source": [
    "# 将弹出项的key赋值给k、value赋值给v\n",
    "k, v = cars.popitem()\n",
    "print(k, v) # BENS 8.3"
   ]
  },
  {
   "cell_type": "markdown",
   "id": "42548f1e",
   "metadata": {},
   "source": [
    "#### setdefault()方法\n",
    "setdefault() 方法也用于根据 key 来获取对应 value 的值。但该方法有一个额外的功能，即当程序要获取的 key 在字典中不存在时，该方法会先为这个不存在的 key 设置一个默认的 value，然后再返回该 key 对应的 value。\n",
    "\n",
    "总之，setdefault() 方法总能返回指定 key 对应的 value；如果该 key-value 对存在，则直接返回该 key 对应的 value；如果该 key-value 对不存在，则先为该 key 设置默认的 value，然后再返回该 key 对应的 value。"
   ]
  },
  {
   "cell_type": "code",
   "execution_count": 5,
   "id": "94d10ab7",
   "metadata": {},
   "outputs": [
    {
     "name": "stdout",
     "output_type": "stream",
     "text": [
      "9.2\n",
      "{'BMW': 8.5, 'BENS': 8.3, 'AUDI': 7.9, 'PORSCHE': 9.2}\n",
      "8.5\n",
      "{'BMW': 8.5, 'BENS': 8.3, 'AUDI': 7.9, 'PORSCHE': 9.2}\n"
     ]
    }
   ],
   "source": [
    "cars = {'BMW': 8.5, 'BENS': 8.3, 'AUDI': 7.9}\n",
    "# 设置默认值，该key在dict中不存在，新增key-value对\n",
    "print(cars.setdefault('PORSCHE', 9.2)) # 9.2\n",
    "print(cars)\n",
    "# 设置默认值，该key在dict中存在，不会修改dict内容\n",
    "print(cars.setdefault('BMW', 3.4)) # 8.5\n",
    "print(cars)"
   ]
  },
  {
   "cell_type": "markdown",
   "id": "f60e0083",
   "metadata": {},
   "source": [
    "#### fromkeys()方法\n",
    "fromkeys() 方法使用给定的多个 key 创建字典，这些 key 对应的 value 默认都是 None；也可以额外传入一个参数作为默认的 value。该方法一般不会使用字典对象调用（没什么意义），通常会使用 dict 类直接调用。"
   ]
  },
  {
   "cell_type": "code",
   "execution_count": 6,
   "id": "f5a80fae",
   "metadata": {},
   "outputs": [
    {
     "name": "stdout",
     "output_type": "stream",
     "text": [
      "{'a': None, 'b': None}\n",
      "{13: None, 17: None}\n",
      "{13: 'good', 17: 'good'}\n"
     ]
    }
   ],
   "source": [
    "# 使用列表创建包含2个key的字典\n",
    "a_dict = dict.fromkeys(['a', 'b'])\n",
    "print(a_dict) # {'a': None, 'b': None}\n",
    "# 使用元组创建包含2个key的字典\n",
    "b_dict = dict.fromkeys((13, 17))\n",
    "print(b_dict) # {13: None, 17: None}\n",
    "# 使用元组创建包含2个key的字典，指定默认的value\n",
    "c_dict = dict.fromkeys((13, 17), 'good')\n",
    "print(c_dict) # {13: 'good', 17: 'good'}"
   ]
  },
  {
   "cell_type": "markdown",
   "id": "1bda1dbd",
   "metadata": {},
   "source": [
    "## 集合"
   ]
  },
  {
   "cell_type": "markdown",
   "id": "e1f11afe",
   "metadata": {},
   "source": [
    "### 集合的定义及创建\n",
    "集合是包含若干元素的列表，其特点是元素无序且无重复元素。"
   ]
  },
  {
   "cell_type": "markdown",
   "id": "fbbefa1e",
   "metadata": {},
   "source": [
    "### 集合作用\n",
    "去重（如：列表去重）；\n",
    "关系测试（如：取交集、取并集、取差集等）"
   ]
  },
  {
   "cell_type": "markdown",
   "id": "14ef7597",
   "metadata": {},
   "source": [
    "### 创建集合"
   ]
  },
  {
   "cell_type": "code",
   "execution_count": 4,
   "id": "4a42b1df",
   "metadata": {},
   "outputs": [
    {
     "name": "stdout",
     "output_type": "stream",
     "text": [
      "{'eraser', 'pen', 'pencil', 'ruler'}\n"
     ]
    },
    {
     "data": {
      "text/plain": [
       "set"
      ]
     },
     "execution_count": 4,
     "metadata": {},
     "output_type": "execute_result"
    }
   ],
   "source": [
    "# 创建集合\n",
    "drawer = {'pen','pencil','ruler','eraser'} \n",
    "print(drawer)\n",
    "type(drawer)"
   ]
  },
  {
   "cell_type": "code",
   "execution_count": 6,
   "id": "19c5c253",
   "metadata": {},
   "outputs": [
    {
     "name": "stdout",
     "output_type": "stream",
     "text": [
      "set()\n"
     ]
    },
    {
     "data": {
      "text/plain": [
       "set"
      ]
     },
     "execution_count": 6,
     "metadata": {},
     "output_type": "execute_result"
    }
   ],
   "source": [
    "# 创建空集合\n",
    "set_type = set()\n",
    "print(set_type)\n",
    "type(set_type)"
   ]
  },
  {
   "cell_type": "code",
   "execution_count": 7,
   "id": "687727a7",
   "metadata": {},
   "outputs": [
    {
     "data": {
      "text/plain": [
       "dict"
      ]
     },
     "execution_count": 7,
     "metadata": {},
     "output_type": "execute_result"
    }
   ],
   "source": [
    "# 注意，创建空集合必须使用 set( ) 函数\n",
    "set_type = {}\n",
    "type(set_type)"
   ]
  },
  {
   "cell_type": "markdown",
   "id": "7dce9460",
   "metadata": {},
   "source": [
    "### 集合的运算"
   ]
  },
  {
   "cell_type": "code",
   "execution_count": 8,
   "id": "ffe78492",
   "metadata": {},
   "outputs": [
    {
     "data": {
      "text/plain": [
       "({1, 2, 3, 5, 7, 8}, {0, 1, 4, 6, 8, 9})"
      ]
     },
     "execution_count": 8,
     "metadata": {},
     "output_type": "execute_result"
    }
   ],
   "source": [
    "list1 = [1,2,3,5,7,8]\n",
    "list2 = [0,1,4,6,8,9]\n",
    "s1 = set(list1)\n",
    "s2 = set(list2)\n",
    "s1,s2"
   ]
  },
  {
   "cell_type": "code",
   "execution_count": 9,
   "id": "85203c32",
   "metadata": {},
   "outputs": [
    {
     "name": "stdout",
     "output_type": "stream",
     "text": [
      "{0, 1, 2, 3, 4, 5, 6, 7, 8, 9}\n",
      "{0, 1, 2, 3, 4, 5, 6, 7, 8, 9}\n"
     ]
    }
   ],
   "source": [
    "# 并集\n",
    "print(s1 | s2)\n",
    "print(s1.union(s2))#返回两个集合的并集"
   ]
  },
  {
   "cell_type": "code",
   "execution_count": 10,
   "id": "dc54206e",
   "metadata": {},
   "outputs": [
    {
     "name": "stdout",
     "output_type": "stream",
     "text": [
      "{8, 1}\n",
      "{8, 1}\n",
      "{1, 2, 3, 5, 7, 8}\n"
     ]
    }
   ],
   "source": [
    "#交集\n",
    "print(s1&s2)\n",
    "print(s1.intersection(s2))# 返回集合的交集，可以多个集合\n",
    "print(s1)"
   ]
  },
  {
   "cell_type": "code",
   "execution_count": 11,
   "id": "41f6a1e2",
   "metadata": {},
   "outputs": [
    {
     "data": {
      "text/plain": [
       "{1, 8}"
      ]
     },
     "execution_count": 11,
     "metadata": {},
     "output_type": "execute_result"
    }
   ],
   "source": [
    "#返回集合的交集，可以多个集合\n",
    "#不同于 intersection() 方法，因为 intersection() 方法是返回一个新的集合，此方法是在原始的集合上移除不重叠的元素。\n",
    "s1.intersection_update(s2)\n",
    "s1"
   ]
  },
  {
   "cell_type": "code",
   "execution_count": null,
   "id": "8f1b40d3",
   "metadata": {},
   "outputs": [],
   "source": [
    "# 差集\n",
    "print(s1-s2)\n",
    "print(s1.difference(s2))# 返回多个集合的差集"
   ]
  },
  {
   "cell_type": "code",
   "execution_count": 12,
   "id": "a42b00be",
   "metadata": {},
   "outputs": [
    {
     "name": "stdout",
     "output_type": "stream",
     "text": [
      "{0, 4, 6, 9}\n",
      "{0, 4, 6, 9}\n"
     ]
    }
   ],
   "source": [
    "# 对称差集，交集的补集\n",
    "print(s1^s2)\n",
    "print(s1.symmetric_difference(s2))# 返回两个集合中不重复的元素集合。"
   ]
  },
  {
   "cell_type": "markdown",
   "id": "9cfcbe41",
   "metadata": {},
   "source": [
    "### 集合内置方法"
   ]
  },
  {
   "cell_type": "code",
   "execution_count": null,
   "id": "0d8f66d6",
   "metadata": {},
   "outputs": [],
   "source": [
    "add()\n",
    "clear()\n",
    "copy()\n",
    "difference()\n",
    "difference_update()\n",
    "discard()\n",
    "intersection()\n",
    "intersection_update()\n",
    "isdisjoint()\n",
    "issubset()\n",
    "issuperset()\n",
    "pop()\n",
    "remove()\n",
    "symmetric_difference()\n",
    "symmetric_difference_update()\n",
    "union()\n",
    "update()\n"
   ]
  },
  {
   "cell_type": "code",
   "execution_count": 13,
   "id": "a7877314",
   "metadata": {},
   "outputs": [
    {
     "data": {
      "text/plain": [
       "{1, 2, 3, 4, 5, 6, 's'}"
      ]
     },
     "execution_count": 13,
     "metadata": {},
     "output_type": "execute_result"
    }
   ],
   "source": [
    "# add()# 为集合添加元素\n",
    "s = {1, 2, 3, 4, 5, 6}\n",
    "s.add(\"s\")\n",
    "s"
   ]
  },
  {
   "cell_type": "code",
   "execution_count": 14,
   "id": "c95c7fac",
   "metadata": {},
   "outputs": [
    {
     "data": {
      "text/plain": [
       "set()"
      ]
     },
     "execution_count": 14,
     "metadata": {},
     "output_type": "execute_result"
    }
   ],
   "source": [
    "# clear()# 移除集合中的所有元素\n",
    "s = {1, 2, 3, 4, 5, 6}\n",
    "s.clear()\n",
    "s"
   ]
  },
  {
   "cell_type": "code",
   "execution_count": 15,
   "id": "0ca1668d",
   "metadata": {},
   "outputs": [
    {
     "data": {
      "text/plain": [
       "{1, 2, 3, 4, 5, 6}"
      ]
     },
     "execution_count": 15,
     "metadata": {},
     "output_type": "execute_result"
    }
   ],
   "source": [
    "# copy()# 拷贝一个集合\n",
    "s = {1, 2, 3, 4, 5, 6}\n",
    "new_s = s.copy()\n",
    "new_s"
   ]
  },
  {
   "cell_type": "code",
   "execution_count": 16,
   "id": "16f22731",
   "metadata": {},
   "outputs": [
    {
     "name": "stdout",
     "output_type": "stream",
     "text": [
      "{1}\n",
      "{1, 4}\n"
     ]
    }
   ],
   "source": [
    "# difference_update()# 移除集合中的元素，该元素在指定的集合也存在。\n",
    "s = {1, 2, 3}\n",
    "s1 = {1, 2, 3, 4}\n",
    "s2 = {2, 3}\n",
    "s.difference_update(s2)\n",
    "print(s)\n",
    "s1.difference_update(s2)\n",
    "print(s1)"
   ]
  },
  {
   "cell_type": "code",
   "execution_count": 17,
   "id": "1f32f353",
   "metadata": {},
   "outputs": [
    {
     "data": {
      "text/plain": [
       "{1, 2, 3, 4, 5, 6}"
      ]
     },
     "execution_count": 17,
     "metadata": {},
     "output_type": "execute_result"
    }
   ],
   "source": [
    "# discard()# 删除集合中指定的元素（如果元素不存在，则不执行任何操作）\n",
    "s = {1, 2, 3, 4, 5, 6}\n",
    "s.discard(\"sb\")\n",
    "s"
   ]
  },
  {
   "cell_type": "code",
   "execution_count": 19,
   "id": "194d252b",
   "metadata": {},
   "outputs": [
    {
     "name": "stdout",
     "output_type": "stream",
     "text": [
      "True\n",
      "False\n"
     ]
    }
   ],
   "source": [
    "# isdisjoint()# 判断两个集合是否包含相同的元素，如果没有返回 True，否则返回 False。\n",
    "s = {1, 2}\n",
    "s1 = {3, 4}\n",
    "s2 = {2, 3}\n",
    "print(s.isdisjoint(s1))\n",
    "print(s.isdisjoint(s2))"
   ]
  },
  {
   "cell_type": "code",
   "execution_count": 18,
   "id": "e0948491",
   "metadata": {},
   "outputs": [
    {
     "name": "stdout",
     "output_type": "stream",
     "text": [
      "True\n",
      "False\n"
     ]
    }
   ],
   "source": [
    "# issubset()# 判断指定集合是否为该方法参数集合的子集。\n",
    "s = {1, 2, 3}\n",
    "s1 = {1, 2, 3, 4}\n",
    "s2 = {2, 3}\n",
    "print(s.issubset(s1))\n",
    "print(s.issubset(s2))"
   ]
  },
  {
   "cell_type": "code",
   "execution_count": 20,
   "id": "08588174",
   "metadata": {},
   "outputs": [
    {
     "name": "stdout",
     "output_type": "stream",
     "text": [
      "False\n",
      "True\n"
     ]
    }
   ],
   "source": [
    "# issuperset()# 判断该方法的参数集合是否为指定集合的子集\n",
    "s = {1, 2, 3}\n",
    "s1 = {1, 2, 3, 4}\n",
    "s2 = {2, 3}\n",
    "print(s.issuperset(s1))\n",
    "print(s.issuperset(s2))"
   ]
  },
  {
   "cell_type": "code",
   "execution_count": 21,
   "id": "1f782e6c",
   "metadata": {},
   "outputs": [
    {
     "name": "stdout",
     "output_type": "stream",
     "text": [
      "1\n",
      "{2, 3, 4, 5, 6}\n"
     ]
    }
   ],
   "source": [
    "# pop()# 随机移除元素\n",
    "s = {1, 2, 3, 4, 5, 6}\n",
    "print(s.pop()) # pop删除时是无序的随机删除\n",
    "print(s)"
   ]
  },
  {
   "cell_type": "code",
   "execution_count": 22,
   "id": "e15ff084",
   "metadata": {},
   "outputs": [
    {
     "data": {
      "text/plain": [
       "{1, 2, 4, 5, 6}"
      ]
     },
     "execution_count": 22,
     "metadata": {},
     "output_type": "execute_result"
    }
   ],
   "source": [
    "# remove()# 移除指定元素\n",
    "s = {1, 2, 3, 4, 5, 6}\n",
    "s.remove(3)\n",
    "s"
   ]
  },
  {
   "cell_type": "code",
   "execution_count": 23,
   "id": "0a426976",
   "metadata": {},
   "outputs": [
    {
     "name": "stdout",
     "output_type": "stream",
     "text": [
      "{4}\n",
      "{2, 3, 4}\n",
      "{1}\n"
     ]
    }
   ],
   "source": [
    "# symmetric_difference_update()# 移除当前集合中在另外一个指定集合相同的元素，并将另外一个指定集合中不同的元素插入到当前集合中。\n",
    "s = {1, 2, 3}\n",
    "s1 = {1, 2, 3, 4}\n",
    "s2 = {2, 3}\n",
    "s1.symmetric_difference_update(s)\n",
    "print(s1)\n",
    "s1.symmetric_difference_update(s2)\n",
    "print(s1)\n",
    "s.symmetric_difference_update(s2)\n",
    "print(s)"
   ]
  },
  {
   "cell_type": "code",
   "execution_count": 24,
   "id": "c420654e",
   "metadata": {},
   "outputs": [
    {
     "name": "stdout",
     "output_type": "stream",
     "text": [
      "{'t', 'h', 'p', 'y', 'o', 'n'}\n",
      "{'t', 'e', 'h', 'H', 'p', 'y', 'o', 'n', 'l'}\n"
     ]
    }
   ],
   "source": [
    "# update()# 给集合添加元素\n",
    "s = {'p', 'y'}\n",
    "s.update(['t', 'h', 'o', 'n'])    # 添加多个元素\n",
    "print(s)\n",
    "s.update(['H', 'e'], {'l', 'l', 'o'})    # 添加列表和集合\n",
    "print(s)"
   ]
  }
 ],
 "metadata": {
  "kernelspec": {
   "display_name": "Python 3 (ipykernel)",
   "language": "python",
   "name": "python3"
  },
  "language_info": {
   "codemirror_mode": {
    "name": "ipython",
    "version": 3
   },
   "file_extension": ".py",
   "mimetype": "text/x-python",
   "name": "python",
   "nbconvert_exporter": "python",
   "pygments_lexer": "ipython3",
   "version": "3.8.6"
  },
  "toc": {
   "base_numbering": 1,
   "nav_menu": {},
   "number_sections": true,
   "sideBar": true,
   "skip_h1_title": false,
   "title_cell": "Table of Contents",
   "title_sidebar": "Contents",
   "toc_cell": true,
   "toc_position": {
    "height": "calc(100% - 180px)",
    "left": "10px",
    "top": "150px",
    "width": "248.344px"
   },
   "toc_section_display": true,
   "toc_window_display": false
  }
 },
 "nbformat": 4,
 "nbformat_minor": 5
}
