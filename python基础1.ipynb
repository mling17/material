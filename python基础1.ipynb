{
 "cells": [
  {
   "cell_type": "markdown",
   "id": "1b74e48c",
   "metadata": {
    "toc": true
   },
   "source": [
    "<h1>Table of Contents<span class=\"tocSkip\"></span></h1>\n",
    "<div class=\"toc\"><ul class=\"toc-item\"><li><span><a href=\"#输入输出\" data-toc-modified-id=\"输入输出-1\"><span class=\"toc-item-num\">1&nbsp;&nbsp;</span>输入输出</a></span><ul class=\"toc-item\"><li><span><a href=\"#输出-print()\" data-toc-modified-id=\"输出-print()-1.1\"><span class=\"toc-item-num\">1.1&nbsp;&nbsp;</span>输出-print()</a></span></li><li><span><a href=\"#输入-input()\" data-toc-modified-id=\"输入-input()-1.2\"><span class=\"toc-item-num\">1.2&nbsp;&nbsp;</span>输入-input()</a></span></li></ul></li><li><span><a href=\"#变量及注释\" data-toc-modified-id=\"变量及注释-2\"><span class=\"toc-item-num\">2&nbsp;&nbsp;</span>变量及注释</a></span><ul class=\"toc-item\"><li><span><a href=\"#变量\" data-toc-modified-id=\"变量-2.1\"><span class=\"toc-item-num\">2.1&nbsp;&nbsp;</span>变量</a></span><ul class=\"toc-item\"><li><span><a href=\"#变量命名规则\" data-toc-modified-id=\"变量命名规则-2.1.1\"><span class=\"toc-item-num\">2.1.1&nbsp;&nbsp;</span>变量命名规则</a></span></li><li><span><a href=\"#与变量相关异常\" data-toc-modified-id=\"与变量相关异常-2.1.2\"><span class=\"toc-item-num\">2.1.2&nbsp;&nbsp;</span>与变量相关异常</a></span></li><li><span><a href=\"#常见关键字\" data-toc-modified-id=\"常见关键字-2.1.3\"><span class=\"toc-item-num\">2.1.3&nbsp;&nbsp;</span>常见关键字</a></span></li></ul></li><li><span><a href=\"#注释\" data-toc-modified-id=\"注释-2.2\"><span class=\"toc-item-num\">2.2&nbsp;&nbsp;</span>注释</a></span><ul class=\"toc-item\"><li><span><a href=\"#单行注释\" data-toc-modified-id=\"单行注释-2.2.1\"><span class=\"toc-item-num\">2.2.1&nbsp;&nbsp;</span>单行注释</a></span></li><li><span><a href=\"#多行注释\" data-toc-modified-id=\"多行注释-2.2.2\"><span class=\"toc-item-num\">2.2.2&nbsp;&nbsp;</span>多行注释</a></span></li></ul></li></ul></li><li><span><a href=\"#运算符\" data-toc-modified-id=\"运算符-3\"><span class=\"toc-item-num\">3&nbsp;&nbsp;</span>运算符</a></span><ul class=\"toc-item\"><li><span><a href=\"#算术运算符\" data-toc-modified-id=\"算术运算符-3.1\"><span class=\"toc-item-num\">3.1&nbsp;&nbsp;</span>算术运算符</a></span></li><li><span><a href=\"#比较(关系)运算符\" data-toc-modified-id=\"比较(关系)运算符-3.2\"><span class=\"toc-item-num\">3.2&nbsp;&nbsp;</span>比较(关系)运算符</a></span></li><li><span><a href=\"#赋值运算符\" data-toc-modified-id=\"赋值运算符-3.3\"><span class=\"toc-item-num\">3.3&nbsp;&nbsp;</span>赋值运算符</a></span></li><li><span><a href=\"#逻辑运算符\" data-toc-modified-id=\"逻辑运算符-3.4\"><span class=\"toc-item-num\">3.4&nbsp;&nbsp;</span>逻辑运算符</a></span></li><li><span><a href=\"#位运算符\" data-toc-modified-id=\"位运算符-3.5\"><span class=\"toc-item-num\">3.5&nbsp;&nbsp;</span>位运算符</a></span></li><li><span><a href=\"#成员运算符\" data-toc-modified-id=\"成员运算符-3.6\"><span class=\"toc-item-num\">3.6&nbsp;&nbsp;</span>成员运算符</a></span></li><li><span><a href=\"#身份运算符\" data-toc-modified-id=\"身份运算符-3.7\"><span class=\"toc-item-num\">3.7&nbsp;&nbsp;</span>身份运算符</a></span></li><li><span><a href=\"#运算符优先级\" data-toc-modified-id=\"运算符优先级-3.8\"><span class=\"toc-item-num\">3.8&nbsp;&nbsp;</span>运算符优先级</a></span></li></ul></li><li><span><a href=\"#判断语句\" data-toc-modified-id=\"判断语句-4\"><span class=\"toc-item-num\">4&nbsp;&nbsp;</span>判断语句</a></span><ul class=\"toc-item\"><li><span><a href=\"#单分支\" data-toc-modified-id=\"单分支-4.1\"><span class=\"toc-item-num\">4.1&nbsp;&nbsp;</span>单分支</a></span></li><li><span><a href=\"#双分支\" data-toc-modified-id=\"双分支-4.2\"><span class=\"toc-item-num\">4.2&nbsp;&nbsp;</span>双分支</a></span></li><li><span><a href=\"#多分支\" data-toc-modified-id=\"多分支-4.3\"><span class=\"toc-item-num\">4.3&nbsp;&nbsp;</span>多分支</a></span></li><li><span><a href=\"#三元运算符\" data-toc-modified-id=\"三元运算符-4.4\"><span class=\"toc-item-num\">4.4&nbsp;&nbsp;</span>三元运算符</a></span></li></ul></li><li><span><a href=\"#循环语句\" data-toc-modified-id=\"循环语句-5\"><span class=\"toc-item-num\">5&nbsp;&nbsp;</span>循环语句</a></span><ul class=\"toc-item\"><li><span><a href=\"#for-循环\" data-toc-modified-id=\"for-循环-5.1\"><span class=\"toc-item-num\">5.1&nbsp;&nbsp;</span>for 循环</a></span></li><li><span><a href=\"#while循环\" data-toc-modified-id=\"while循环-5.2\"><span class=\"toc-item-num\">5.2&nbsp;&nbsp;</span>while循环</a></span></li><li><span><a href=\"#循环控制语句\" data-toc-modified-id=\"循环控制语句-5.3\"><span class=\"toc-item-num\">5.3&nbsp;&nbsp;</span>循环控制语句</a></span><ul class=\"toc-item\"><li><span><a href=\"#continue，结束本次循环，进行下次循环\" data-toc-modified-id=\"continue，结束本次循环，进行下次循环-5.3.1\"><span class=\"toc-item-num\">5.3.1&nbsp;&nbsp;</span>continue，结束本次循环，进行下次循环</a></span></li><li><span><a href=\"#break，结束循环\" data-toc-modified-id=\"break，结束循环-5.3.2\"><span class=\"toc-item-num\">5.3.2&nbsp;&nbsp;</span>break，结束循环</a></span></li></ul></li></ul></li><li><span><a href=\"#内置函数\" data-toc-modified-id=\"内置函数-6\"><span class=\"toc-item-num\">6&nbsp;&nbsp;</span>内置函数</a></span><ul class=\"toc-item\"><li><span><a href=\"#abs()\" data-toc-modified-id=\"abs()-6.1\"><span class=\"toc-item-num\">6.1&nbsp;&nbsp;</span>abs()</a></span></li><li><span><a href=\"#all()\" data-toc-modified-id=\"all()-6.2\"><span class=\"toc-item-num\">6.2&nbsp;&nbsp;</span>all()</a></span></li><li><span><a href=\"#any()\" data-toc-modified-id=\"any()-6.3\"><span class=\"toc-item-num\">6.3&nbsp;&nbsp;</span>any()</a></span></li><li><span><a href=\"#bin()\" data-toc-modified-id=\"bin()-6.4\"><span class=\"toc-item-num\">6.4&nbsp;&nbsp;</span>bin()</a></span></li><li><span><a href=\"#bool()\" data-toc-modified-id=\"bool()-6.5\"><span class=\"toc-item-num\">6.5&nbsp;&nbsp;</span>bool()</a></span></li><li><span><a href=\"#bytes()\" data-toc-modified-id=\"bytes()-6.6\"><span class=\"toc-item-num\">6.6&nbsp;&nbsp;</span>bytes()</a></span></li><li><span><a href=\"#chr()\" data-toc-modified-id=\"chr()-6.7\"><span class=\"toc-item-num\">6.7&nbsp;&nbsp;</span>chr()</a></span></li><li><span><a href=\"#dict()\" data-toc-modified-id=\"dict()-6.8\"><span class=\"toc-item-num\">6.8&nbsp;&nbsp;</span>dict()</a></span></li><li><span><a href=\"#enumerate()\" data-toc-modified-id=\"enumerate()-6.9\"><span class=\"toc-item-num\">6.9&nbsp;&nbsp;</span>enumerate()</a></span></li><li><span><a href=\"#eval()\" data-toc-modified-id=\"eval()-6.10\"><span class=\"toc-item-num\">6.10&nbsp;&nbsp;</span>eval()</a></span></li><li><span><a href=\"#float()\" data-toc-modified-id=\"float()-6.11\"><span class=\"toc-item-num\">6.11&nbsp;&nbsp;</span>float()</a></span></li><li><span><a href=\"#hex()\" data-toc-modified-id=\"hex()-6.12\"><span class=\"toc-item-num\">6.12&nbsp;&nbsp;</span>hex()</a></span></li><li><span><a href=\"#input()\" data-toc-modified-id=\"input()-6.13\"><span class=\"toc-item-num\">6.13&nbsp;&nbsp;</span>input()</a></span></li><li><span><a href=\"#int()\" data-toc-modified-id=\"int()-6.14\"><span class=\"toc-item-num\">6.14&nbsp;&nbsp;</span>int()</a></span></li><li><span><a href=\"#len()\" data-toc-modified-id=\"len()-6.15\"><span class=\"toc-item-num\">6.15&nbsp;&nbsp;</span>len()</a></span></li><li><span><a href=\"#list()\" data-toc-modified-id=\"list()-6.16\"><span class=\"toc-item-num\">6.16&nbsp;&nbsp;</span>list()</a></span></li><li><span><a href=\"#map()\" data-toc-modified-id=\"map()-6.17\"><span class=\"toc-item-num\">6.17&nbsp;&nbsp;</span>map()</a></span></li><li><span><a href=\"#max()\" data-toc-modified-id=\"max()-6.18\"><span class=\"toc-item-num\">6.18&nbsp;&nbsp;</span>max()</a></span></li><li><span><a href=\"#min()\" data-toc-modified-id=\"min()-6.19\"><span class=\"toc-item-num\">6.19&nbsp;&nbsp;</span>min()</a></span></li><li><span><a href=\"#open()\" data-toc-modified-id=\"open()-6.20\"><span class=\"toc-item-num\">6.20&nbsp;&nbsp;</span>open()</a></span></li><li><span><a href=\"#ord()\" data-toc-modified-id=\"ord()-6.21\"><span class=\"toc-item-num\">6.21&nbsp;&nbsp;</span>ord()</a></span></li><li><span><a href=\"#pow(n,m)\" data-toc-modified-id=\"pow(n,m)-6.22\"><span class=\"toc-item-num\">6.22&nbsp;&nbsp;</span>pow(n,m)</a></span></li><li><span><a href=\"#print()\" data-toc-modified-id=\"print()-6.23\"><span class=\"toc-item-num\">6.23&nbsp;&nbsp;</span>print()</a></span></li><li><span><a href=\"#range(a,b,c)\" data-toc-modified-id=\"range(a,b,c)-6.24\"><span class=\"toc-item-num\">6.24&nbsp;&nbsp;</span>range(a,b,c)</a></span></li><li><span><a href=\"#round()\" data-toc-modified-id=\"round()-6.25\"><span class=\"toc-item-num\">6.25&nbsp;&nbsp;</span>round()</a></span></li><li><span><a href=\"#set()\" data-toc-modified-id=\"set()-6.26\"><span class=\"toc-item-num\">6.26&nbsp;&nbsp;</span>set()</a></span></li><li><span><a href=\"#sorted()\" data-toc-modified-id=\"sorted()-6.27\"><span class=\"toc-item-num\">6.27&nbsp;&nbsp;</span>sorted()</a></span></li><li><span><a href=\"#str()\" data-toc-modified-id=\"str()-6.28\"><span class=\"toc-item-num\">6.28&nbsp;&nbsp;</span>str()</a></span></li><li><span><a href=\"#sum()\" data-toc-modified-id=\"sum()-6.29\"><span class=\"toc-item-num\">6.29&nbsp;&nbsp;</span>sum()</a></span></li><li><span><a href=\"#tuple()\" data-toc-modified-id=\"tuple()-6.30\"><span class=\"toc-item-num\">6.30&nbsp;&nbsp;</span>tuple()</a></span></li><li><span><a href=\"#type()\" data-toc-modified-id=\"type()-6.31\"><span class=\"toc-item-num\">6.31&nbsp;&nbsp;</span>type()</a></span></li><li><span><a href=\"#zip()#-数据结合\" data-toc-modified-id=\"zip()#-数据结合-6.32\"><span class=\"toc-item-num\">6.32&nbsp;&nbsp;</span>zip()# 数据结合</a></span></li><li><span><a href=\"#filter()\" data-toc-modified-id=\"filter()-6.33\"><span class=\"toc-item-num\">6.33&nbsp;&nbsp;</span>filter()</a></span></li></ul></li><li><span><a href=\"#数据类型\" data-toc-modified-id=\"数据类型-7\"><span class=\"toc-item-num\">7&nbsp;&nbsp;</span>数据类型</a></span><ul class=\"toc-item\"><li><span><a href=\"#数字\" data-toc-modified-id=\"数字-7.1\"><span class=\"toc-item-num\">7.1&nbsp;&nbsp;</span>数字</a></span></li><li><span><a href=\"#字符串\" data-toc-modified-id=\"字符串-7.2\"><span class=\"toc-item-num\">7.2&nbsp;&nbsp;</span>字符串</a></span><ul class=\"toc-item\"><li><span><a href=\"#字符串索引\" data-toc-modified-id=\"字符串索引-7.2.1\"><span class=\"toc-item-num\">7.2.1&nbsp;&nbsp;</span>字符串索引</a></span></li><li><span><a href=\"#字符串取值\" data-toc-modified-id=\"字符串取值-7.2.2\"><span class=\"toc-item-num\">7.2.2&nbsp;&nbsp;</span>字符串取值</a></span><ul class=\"toc-item\"><li><span><a href=\"#字符串取单个值\" data-toc-modified-id=\"字符串取单个值-7.2.2.1\"><span class=\"toc-item-num\">7.2.2.1&nbsp;&nbsp;</span>字符串取单个值</a></span></li><li><span><a href=\"#字符串切片，取多个值\" data-toc-modified-id=\"字符串切片，取多个值-7.2.2.2\"><span class=\"toc-item-num\">7.2.2.2&nbsp;&nbsp;</span>字符串切片，取多个值</a></span></li></ul></li><li><span><a href=\"#字符串拼接\" data-toc-modified-id=\"字符串拼接-7.2.3\"><span class=\"toc-item-num\">7.2.3&nbsp;&nbsp;</span>字符串拼接</a></span><ul class=\"toc-item\"><li><span><a href=\"#+\" data-toc-modified-id=\"+-7.2.3.1\"><span class=\"toc-item-num\">7.2.3.1&nbsp;&nbsp;</span>+</a></span></li><li><span><a href=\"#%s,%d,%f\" data-toc-modified-id=\"%s,%d,%f-7.2.3.2\"><span class=\"toc-item-num\">7.2.3.2&nbsp;&nbsp;</span>%s,%d,%f</a></span></li><li><span><a href=\"#str.format()\" data-toc-modified-id=\"str.format()-7.2.3.3\"><span class=\"toc-item-num\">7.2.3.3&nbsp;&nbsp;</span>str.format()</a></span></li><li><span><a href=\"#f''\" data-toc-modified-id=\"f''-7.2.3.4\"><span class=\"toc-item-num\">7.2.3.4&nbsp;&nbsp;</span>f''</a></span></li></ul></li><li><span><a href=\"#字符串方法\" data-toc-modified-id=\"字符串方法-7.2.4\"><span class=\"toc-item-num\">7.2.4&nbsp;&nbsp;</span>字符串方法</a></span></li></ul></li><li><span><a href=\"#列表\" data-toc-modified-id=\"列表-7.3\"><span class=\"toc-item-num\">7.3&nbsp;&nbsp;</span>列表</a></span><ul class=\"toc-item\"><li><span><a href=\"#列表的访问\" data-toc-modified-id=\"列表的访问-7.3.1\"><span class=\"toc-item-num\">7.3.1&nbsp;&nbsp;</span>列表的访问</a></span><ul class=\"toc-item\"><li><span><a href=\"#列表索引\" data-toc-modified-id=\"列表索引-7.3.1.1\"><span class=\"toc-item-num\">7.3.1.1&nbsp;&nbsp;</span>列表索引</a></span></li><li><span><a href=\"#列表取单个值\" data-toc-modified-id=\"列表取单个值-7.3.1.2\"><span class=\"toc-item-num\">7.3.1.2&nbsp;&nbsp;</span>列表取单个值</a></span></li><li><span><a href=\"#取多个值（切片）\" data-toc-modified-id=\"取多个值（切片）-7.3.1.3\"><span class=\"toc-item-num\">7.3.1.3&nbsp;&nbsp;</span>取多个值（切片）</a></span></li><li><span><a href=\"#嵌套列表取值\" data-toc-modified-id=\"嵌套列表取值-7.3.1.4\"><span class=\"toc-item-num\">7.3.1.4&nbsp;&nbsp;</span>嵌套列表取值</a></span></li></ul></li><li><span><a href=\"#列表的修改\" data-toc-modified-id=\"列表的修改-7.3.2\"><span class=\"toc-item-num\">7.3.2&nbsp;&nbsp;</span>列表的修改</a></span></li><li><span><a href=\"#列表的查询\" data-toc-modified-id=\"列表的查询-7.3.3\"><span class=\"toc-item-num\">7.3.3&nbsp;&nbsp;</span>列表的查询</a></span><ul class=\"toc-item\"><li><span><a href=\"#查找某个元素是否在列表中\" data-toc-modified-id=\"查找某个元素是否在列表中-7.3.3.1\"><span class=\"toc-item-num\">7.3.3.1&nbsp;&nbsp;</span>查找某个元素是否在列表中</a></span></li><li><span><a href=\"#根据元素查找元素的索引值\" data-toc-modified-id=\"根据元素查找元素的索引值-7.3.3.2\"><span class=\"toc-item-num\">7.3.3.2&nbsp;&nbsp;</span>根据元素查找元素的索引值</a></span></li><li><span><a href=\"#查看某个元素在列表中出现的次数\" data-toc-modified-id=\"查看某个元素在列表中出现的次数-7.3.3.3\"><span class=\"toc-item-num\">7.3.3.3&nbsp;&nbsp;</span>查看某个元素在列表中出现的次数</a></span></li><li><span><a href=\"#查看列表长度\" data-toc-modified-id=\"查看列表长度-7.3.3.4\"><span class=\"toc-item-num\">7.3.3.4&nbsp;&nbsp;</span>查看列表长度</a></span></li></ul></li><li><span><a href=\"#列表的增加\" data-toc-modified-id=\"列表的增加-7.3.4\"><span class=\"toc-item-num\">7.3.4&nbsp;&nbsp;</span>列表的增加</a></span><ul class=\"toc-item\"><li><span><a href=\"#列表追加\" data-toc-modified-id=\"列表追加-7.3.4.1\"><span class=\"toc-item-num\">7.3.4.1&nbsp;&nbsp;</span>列表追加</a></span></li><li><span><a href=\"#列表插入\" data-toc-modified-id=\"列表插入-7.3.4.2\"><span class=\"toc-item-num\">7.3.4.2&nbsp;&nbsp;</span>列表插入</a></span></li><li><span><a href=\"#列表扩展（合并）\" data-toc-modified-id=\"列表扩展（合并）-7.3.4.3\"><span class=\"toc-item-num\">7.3.4.3&nbsp;&nbsp;</span>列表扩展（合并）</a></span></li></ul></li><li><span><a href=\"#列表删除\" data-toc-modified-id=\"列表删除-7.3.5\"><span class=\"toc-item-num\">7.3.5&nbsp;&nbsp;</span>列表删除</a></span><ul class=\"toc-item\"><li><span><a href=\"#删除某个元素或者整个列表\" data-toc-modified-id=\"删除某个元素或者整个列表-7.3.5.1\"><span class=\"toc-item-num\">7.3.5.1&nbsp;&nbsp;</span>删除某个元素或者整个列表</a></span></li><li><span><a href=\"#删除某个元素，并返回该元素。可以指定索引，默认-1\" data-toc-modified-id=\"删除某个元素，并返回该元素。可以指定索引，默认-1-7.3.5.2\"><span class=\"toc-item-num\">7.3.5.2&nbsp;&nbsp;</span>删除某个元素，并返回该元素。可以指定索引，默认-1</a></span></li><li><span><a href=\"#删除列表中指定元素，如果元素重复则删除最左侧的一个\" data-toc-modified-id=\"删除列表中指定元素，如果元素重复则删除最左侧的一个-7.3.5.3\"><span class=\"toc-item-num\">7.3.5.3&nbsp;&nbsp;</span>删除列表中指定元素，如果元素重复则删除最左侧的一个</a></span></li><li><span><a href=\"#清空列表\" data-toc-modified-id=\"清空列表-7.3.5.4\"><span class=\"toc-item-num\">7.3.5.4&nbsp;&nbsp;</span>清空列表</a></span></li></ul></li><li><span><a href=\"#列表方法\" data-toc-modified-id=\"列表方法-7.3.6\"><span class=\"toc-item-num\">7.3.6&nbsp;&nbsp;</span>列表方法</a></span></li></ul></li><li><span><a href=\"#元组\" data-toc-modified-id=\"元组-7.4\"><span class=\"toc-item-num\">7.4&nbsp;&nbsp;</span>元组</a></span><ul class=\"toc-item\"><li><span><a href=\"#元组的访问\" data-toc-modified-id=\"元组的访问-7.4.1\"><span class=\"toc-item-num\">7.4.1&nbsp;&nbsp;</span>元组的访问</a></span><ul class=\"toc-item\"><li><span><a href=\"#元组索引\" data-toc-modified-id=\"元组索引-7.4.1.1\"><span class=\"toc-item-num\">7.4.1.1&nbsp;&nbsp;</span>元组索引</a></span></li><li><span><a href=\"#元组取单个值\" data-toc-modified-id=\"元组取单个值-7.4.1.2\"><span class=\"toc-item-num\">7.4.1.2&nbsp;&nbsp;</span>元组取单个值</a></span></li><li><span><a href=\"#取多个值（切片）\" data-toc-modified-id=\"取多个值（切片）-7.4.1.3\"><span class=\"toc-item-num\">7.4.1.3&nbsp;&nbsp;</span>取多个值（切片）</a></span></li><li><span><a href=\"#嵌套列表取值\" data-toc-modified-id=\"嵌套列表取值-7.4.1.4\"><span class=\"toc-item-num\">7.4.1.4&nbsp;&nbsp;</span>嵌套列表取值</a></span></li></ul></li><li><span><a href=\"#元组方法\" data-toc-modified-id=\"元组方法-7.4.2\"><span class=\"toc-item-num\">7.4.2&nbsp;&nbsp;</span>元组方法</a></span></li></ul></li><li><span><a href=\"#字典\" data-toc-modified-id=\"字典-7.5\"><span class=\"toc-item-num\">7.5&nbsp;&nbsp;</span>字典</a></span><ul class=\"toc-item\"><li><span><a href=\"#什么是字典\" data-toc-modified-id=\"什么是字典-7.5.1\"><span class=\"toc-item-num\">7.5.1&nbsp;&nbsp;</span>什么是字典</a></span></li><li><span><a href=\"#创建字典\" data-toc-modified-id=\"创建字典-7.5.2\"><span class=\"toc-item-num\">7.5.2&nbsp;&nbsp;</span>创建字典</a></span></li><li><span><a href=\"#字典的基本用法\" data-toc-modified-id=\"字典的基本用法-7.5.3\"><span class=\"toc-item-num\">7.5.3&nbsp;&nbsp;</span>字典的基本用法</a></span></li><li><span><a href=\"#字典的常用方法\" data-toc-modified-id=\"字典的常用方法-7.5.4\"><span class=\"toc-item-num\">7.5.4&nbsp;&nbsp;</span>字典的常用方法</a></span><ul class=\"toc-item\"><li><span><a href=\"#clear()方法\" data-toc-modified-id=\"clear()方法-7.5.4.1\"><span class=\"toc-item-num\">7.5.4.1&nbsp;&nbsp;</span>clear()方法</a></span></li><li><span><a href=\"#get()方法\" data-toc-modified-id=\"get()方法-7.5.4.2\"><span class=\"toc-item-num\">7.5.4.2&nbsp;&nbsp;</span>get()方法</a></span></li><li><span><a href=\"#update()方法\" data-toc-modified-id=\"update()方法-7.5.4.3\"><span class=\"toc-item-num\">7.5.4.3&nbsp;&nbsp;</span>update()方法</a></span></li><li><span><a href=\"#items()、keys()、values()\" data-toc-modified-id=\"items()、keys()、values()-7.5.4.4\"><span class=\"toc-item-num\">7.5.4.4&nbsp;&nbsp;</span>items()、keys()、values()</a></span></li><li><span><a href=\"#pop()\" data-toc-modified-id=\"pop()-7.5.4.5\"><span class=\"toc-item-num\">7.5.4.5&nbsp;&nbsp;</span>pop()</a></span></li><li><span><a href=\"#popitem()方法\" data-toc-modified-id=\"popitem()方法-7.5.4.6\"><span class=\"toc-item-num\">7.5.4.6&nbsp;&nbsp;</span>popitem()方法</a></span></li><li><span><a href=\"#setdefault()方法\" data-toc-modified-id=\"setdefault()方法-7.5.4.7\"><span class=\"toc-item-num\">7.5.4.7&nbsp;&nbsp;</span>setdefault()方法</a></span></li><li><span><a href=\"#fromkeys()方法\" data-toc-modified-id=\"fromkeys()方法-7.5.4.8\"><span class=\"toc-item-num\">7.5.4.8&nbsp;&nbsp;</span>fromkeys()方法</a></span></li></ul></li></ul></li><li><span><a href=\"#集合\" data-toc-modified-id=\"集合-7.6\"><span class=\"toc-item-num\">7.6&nbsp;&nbsp;</span>集合</a></span><ul class=\"toc-item\"><li><span><a href=\"#集合的定义及创建\" data-toc-modified-id=\"集合的定义及创建-7.6.1\"><span class=\"toc-item-num\">7.6.1&nbsp;&nbsp;</span>集合的定义及创建</a></span></li><li><span><a href=\"#集合作用\" data-toc-modified-id=\"集合作用-7.6.2\"><span class=\"toc-item-num\">7.6.2&nbsp;&nbsp;</span>集合作用</a></span></li><li><span><a href=\"#创建集合\" data-toc-modified-id=\"创建集合-7.6.3\"><span class=\"toc-item-num\">7.6.3&nbsp;&nbsp;</span>创建集合</a></span></li><li><span><a href=\"#集合的运算\" data-toc-modified-id=\"集合的运算-7.6.4\"><span class=\"toc-item-num\">7.6.4&nbsp;&nbsp;</span>集合的运算</a></span></li><li><span><a href=\"#集合内置方法\" data-toc-modified-id=\"集合内置方法-7.6.5\"><span class=\"toc-item-num\">7.6.5&nbsp;&nbsp;</span>集合内置方法</a></span></li></ul></li></ul></li></ul></div>"
   ]
  },
  {
   "cell_type": "markdown",
   "id": "c4c659a0",
   "metadata": {},
   "source": [
    "# 输入输出"
   ]
  },
  {
   "cell_type": "markdown",
   "id": "8e8f5fb7",
   "metadata": {},
   "source": [
    "## 输出-print()\n",
    "print()函数用于向屏幕输出信息。"
   ]
  },
  {
   "cell_type": "code",
   "execution_count": 1,
   "id": "d825d14d",
   "metadata": {},
   "outputs": [
    {
     "name": "stdout",
     "output_type": "stream",
     "text": [
      "hellow world\n"
     ]
    }
   ],
   "source": [
    "# 输出字符串\n",
    "print('hellow world')"
   ]
  },
  {
   "cell_type": "code",
   "execution_count": 2,
   "id": "1f004a18",
   "metadata": {},
   "outputs": [
    {
     "name": "stdout",
     "output_type": "stream",
     "text": [
      "I use python 3\n"
     ]
    }
   ],
   "source": [
    "# 输出多个信息，使用逗号隔开\n",
    "print('I use python',3)"
   ]
  },
  {
   "cell_type": "code",
   "execution_count": 3,
   "id": "68677408",
   "metadata": {},
   "outputs": [
    {
     "name": "stdout",
     "output_type": "stream",
     "text": [
      "I use python3\n"
     ]
    }
   ],
   "source": [
    "# sep参数，用于指定多个输出时的间隔符，默认是空格\n",
    "print('I use python',3,sep='')"
   ]
  },
  {
   "cell_type": "code",
   "execution_count": 4,
   "id": "3c9364fa",
   "metadata": {},
   "outputs": [
    {
     "name": "stdout",
     "output_type": "stream",
     "text": [
      "功能:修改print结尾符号\n"
     ]
    }
   ],
   "source": [
    "# end参数，用于修改print的结束符，默认是换行符\n",
    "print('功能',end=':')\n",
    "print('修改print结尾符号')"
   ]
  },
  {
   "cell_type": "code",
   "execution_count": null,
   "id": "0bc7e19d",
   "metadata": {},
   "outputs": [],
   "source": [
    "\"\"\"\n",
    "两个常用的特殊符号\n",
    "\\t:制表符，即键盘的Tab键\n",
    "\\n:换行符，即键盘的Enter键，也是print函数中end参数的默认值\n",
    "\"\"\""
   ]
  },
  {
   "cell_type": "markdown",
   "id": "f62bcb52",
   "metadata": {},
   "source": [
    "## 输入-input()\n",
    "input()函数，用于在控制台向计算机输入信息。"
   ]
  },
  {
   "cell_type": "code",
   "execution_count": 1,
   "id": "f5cfa23a",
   "execution_count": 9,
   "id": "09140582",
   "metadata": {},
   "outputs": [
    {
     "name": "stdout",
     "output_type": "stream",
     "text": [
      "输入一些信息，然后回车hello world\n",
      "hello world\n",
      "<class 'str'>\n"
     ]
    }
   ],
   "source": [
    "inp = input(\"输入一些信息，然后回车\")\n",
    "print(inp)\n",
    "print(type(inp))"
   ]
  },
  {
   "cell_type": "code",
   "execution_count": 7,
   "id": "aec93751",
   "metadata": {},
   "outputs": [],
   "source": [
    "\"\"\"\n",
    "使用input()函数只需要记住四点：\n",
    "1. 在控制台向计算机输入信息时使用input()函数\n",
    "2. 括号内写入提示信息(一个字符串)，提示用户要输入什么内容\n",
    "3. 输入的信息要赋值给一个变量，以供后面处理\n",
    "4. 变量的数据类型是字符串\n",
    "\"\"\""
   ]
  },
  {
   "cell_type": "markdown",
   "id": "3c59ae83",
   "metadata": {},
   "source": [
    "## 练习"
   ]
  },
  {
   "cell_type": "markdown",
   "id": "9b1abbe7",
   "metadata": {},
   "source": [
    "编写程序：\n",
    "\n",
    "要求输入一段信息，然后将此信息打印在屏幕上"
   ]
  },
  {
   "cell_type": "markdown",
   "id": "c43ec7a1",
   "metadata": {},
   "source": [
    "# 变量及注释"
   ]
  },
  {
   "cell_type": "markdown",
   "id": "8f376e26",
   "metadata": {},
   "source": [
    "## 变量\n",
    "变量用于标记存储在内存中的数据，相当于给每个数据起了一个名字。"
   ]
  },
  {
   "cell_type": "markdown",
   "id": "718eb7ee",
   "metadata": {},
   "source": [
    "### 变量命名规则"
   ]
  },
  {
   "cell_type": "code",
   "execution_count": 16,
   "id": "4cef3364",
   "metadata": {},
   "outputs": [
    {
     "data": {
      "text/plain": [
       "'\\n1. 只能包含数字字母和下划线\\n2. 数字不能作为变量的开头\\n3. 关键字不能作为变量名\\n4. 变量区分大小写\\n5. 命名变量时尽量有意义\\n'"
      ]
     },
     "execution_count": 16,
     "metadata": {},
     "output_type": "execute_result"
    }
   ],
   "source": [
    "\"\"\"\n",
    "1. 只能包含数字字母和下划线\n",
    "2. 数字不能作为变量的开头\n",
    "3. 关键字不能作为变量名\n",
    "4. 变量区分大小写\n",
    "5. 命名变量时尽量有意义\n",
    "\"\"\""
   ]
  },
  {
   "cell_type": "code",
   "execution_count": 2,
   "id": "71f2eb1a",
   "metadata": {},
   "outputs": [
    {
     "ename": "SyntaxError",
     "evalue": "invalid syntax (1958629538.py, line 1)",
     "output_type": "error",
     "traceback": [
      "\u001b[0;36m  File \u001b[0;32m\"/var/folders/7_/gl5k51h93z55mwsdpj89djpw0000gn/T/ipykernel_50108/1958629538.py\"\u001b[0;36m, line \u001b[0;32m1\u001b[0m\n\u001b[0;31m    ab$cd = 123\u001b[0m\n\u001b[0m      ^\u001b[0m\n\u001b[0;31mSyntaxError\u001b[0m\u001b[0;31m:\u001b[0m invalid syntax\n"
     ]
    }
   ],
   "source": [
    "ab$cd = 123"
   ]
  },
  {
   "cell_type": "code",
   "execution_count": 3,
   "id": "41111c9e",
   "metadata": {},
   "outputs": [
    {
     "ename": "SyntaxError",
     "evalue": "invalid syntax (235178648.py, line 1)",
     "output_type": "error",
     "traceback": [
      "\u001b[0;36m  File \u001b[0;32m\"/var/folders/7_/gl5k51h93z55mwsdpj89djpw0000gn/T/ipykernel_50108/235178648.py\"\u001b[0;36m, line \u001b[0;32m1\u001b[0m\n\u001b[0;31m    3ab = 123\u001b[0m\n\u001b[0m     ^\u001b[0m\n\u001b[0;31mSyntaxError\u001b[0m\u001b[0;31m:\u001b[0m invalid syntax\n"
     ]
    }
   ],
   "source": [
    "3ab = 123"
    "### 与变量相关异常"
   ]
  },
  {
   "cell_type": "code",
   "execution_count": 4,
   "id": "934339c9",
   "metadata": {},
   "outputs": [
    {
     "ename": "SyntaxError",
     "evalue": "invalid syntax (2114528731.py, line 1)",
     "output_type": "error",
     "traceback": [
      "\u001b[0;36m  File \u001b[0;32m\"/var/folders/7_/gl5k51h93z55mwsdpj89djpw0000gn/T/ipykernel_50108/2114528731.py\"\u001b[0;36m, line \u001b[0;32m1\u001b[0m\n\u001b[0;31m    if = 123\u001b[0m\n\u001b[0m       ^\u001b[0m\n\u001b[0;31mSyntaxError\u001b[0m\u001b[0;31m:\u001b[0m invalid syntax\n"
     ]
    }
   ],
   "source": [
    "if = 123"
   ]
  },
  {
   "cell_type": "code",
   "execution_count": 17,
   "id": "b5734ddc",
   "metadata": {},
   "outputs": [
    {
     "name": "stdout",
     "output_type": "stream",
     "text": [
      "123\n"
     ]
    },
    {
     "ename": "NameError",
     "evalue": "name 'A' is not defined",
     "output_type": "error",
     "traceback": [
      "\u001b[0;31m---------------------------------------------------------------------------\u001b[0m",
      "\u001b[0;31mNameError\u001b[0m                                 Traceback (most recent call last)",
      "\u001b[0;32m/var/folders/7_/gl5k51h93z55mwsdpj89djpw0000gn/T/ipykernel_50108/683326080.py\u001b[0m in \u001b[0;36m<module>\u001b[0;34m\u001b[0m\n\u001b[1;32m      1\u001b[0m \u001b[0ma\u001b[0m \u001b[0;34m=\u001b[0m \u001b[0;36m123\u001b[0m\u001b[0;34m\u001b[0m\u001b[0;34m\u001b[0m\u001b[0m\n\u001b[1;32m      2\u001b[0m \u001b[0mprint\u001b[0m\u001b[0;34m(\u001b[0m\u001b[0ma\u001b[0m\u001b[0;34m)\u001b[0m\u001b[0;34m\u001b[0m\u001b[0;34m\u001b[0m\u001b[0m\n\u001b[0;32m----> 3\u001b[0;31m \u001b[0mprint\u001b[0m\u001b[0;34m(\u001b[0m\u001b[0mA\u001b[0m\u001b[0;34m)\u001b[0m\u001b[0;34m\u001b[0m\u001b[0;34m\u001b[0m\u001b[0m\n\u001b[0m",
      "\u001b[0;31mNameError\u001b[0m: name 'A' is not defined"
     ]
    }
   ],
   "source": [
    "# 变量区分大小写\n",
    "a = 123\n",
    "print(a)\n",
    "print(A)"
   ]
  },
  {
   "cell_type": "markdown",
   "id": "e30e52ab",
   "metadata": {},
   "source": [
    "上面是常见报错NameError，就说明你使用了变量但是这个变量并没有定义"
   ]
  },
  {
   "cell_type": "markdown",
   "id": "5d017bca",
   "metadata": {},
   "source": [
    "### 常见关键字"
   ]
  },
  {
   "cell_type": "code",
   "execution_count": null,
   "id": "268ac035",
   "metadata": {},
   "outputs": [],
   "source": [
    "# 常见保留字：\n",
    "# False               break               for                 not\n",
    "# None                class               from                or\n",
    "# True                continue            global              pass     \n",
    "# def                 if                  raise\n",
    "# and                 del                 import              return\n",
    "# as                  elif                in                  try\n",
    "# assert              else                is                  while\n",
    "# except              lambda              with                finally\n",
    "                            "
   ]
  },
  {
   "cell_type": "markdown",
   "id": "4ae38342",
   "metadata": {},
   "source": [
    "## 注释\n",
    "注释就是对代码的解释和说明，其目的是让人们能够更加轻松地了解代码。\n",
    "\n",
    "注释是编写程序时，写程序的人给一个语句、程序段、函数等的解释或提示，能提高程序代码的可读性。\n",
    "\n",
    "注释只是为了提高可读性，不会被计算机编译。"
   ]
  },
  {
   "cell_type": "markdown",
   "id": "3eb36e6c",
   "metadata": {},
   "source": [
    "### 单行注释\n",
    "注释没有换行时，可以使用#进行注释"
   ]
  },
  {
   "cell_type": "code",
   "execution_count": 12,
   "id": "6e67251b",
   "metadata": {},
   "outputs": [
    {
     "name": "stdout",
     "output_type": "stream",
     "text": [
      "hello world\n"
     ]
    }
   ],
   "source": [
    "print('hello world') # 输出hello world"
   ]
  },
  {
   "cell_type": "markdown",
   "id": "700f9bf7",
   "metadata": {},
   "source": [
    "### 多行注释\n",
    "当注释比较长，需要换行时，使用三引号进行注释，有两种方式"
   ]
  },
  {
   "cell_type": "code",
   "execution_count": 13,
   "id": "d68a8253",
   "metadata": {},
   "outputs": [
    {
     "data": {
      "text/plain": [
       "'\\n注释信息1\\n注释信息2\\n'"
      ]
     },
     "execution_count": 13,
     "metadata": {},
     "output_type": "execute_result"
    }
   ],
   "source": [
    "\"\"\"\n",
    "注释信息1\n",
    "注释信息2\n",
    "\"\"\""
   ]
  },
  {
   "cell_type": "code",
   "execution_count": 14,
   "id": "fd60c5d2",
   "metadata": {},
   "outputs": [
    {
     "data": {
      "text/plain": [
       "'\\n注释信息1\\n注释信息2\\n'"
      ]
     },
     "execution_count": 14,
     "metadata": {},
     "output_type": "execute_result"
    }
   ],
   "source": [
    "'''\n",
    "注释信息1\n",
    "注释信息2\n",
    "'''"
   ]
  },
  {
   "cell_type": "markdown",
   "id": "d3ab536a",
   "metadata": {},
   "source": [
    "# 运算符"
   ]
  },
  {
   "cell_type": "markdown",
   "id": "dddad950",
   "metadata": {},
   "source": [
    "## 算术运算符\n",
    "加法：+\n",
    "减法：-\n",
    "乘法：*\n",
    "除法：/\n",
    "整除：//\n",
    "取余：%\n",
    "幂：**"
   ]
  },
  {
   "cell_type": "code",
   "execution_count": 29,
   "id": "6dd383fa",
   "metadata": {},
   "outputs": [
    {
     "data": {
      "text/plain": [
       "2"
      ]
     },
     "execution_count": 29,
     "metadata": {},
     "output_type": "execute_result"
    }
   ],
   "source": [
    "1+1"
   ]
  },
  {
   "cell_type": "code",
   "execution_count": 30,
   "id": "a675f8cb",
   "metadata": {},
   "outputs": [
    {
     "data": {
      "text/plain": [
       "1"
      ]
     },
     "execution_count": 30,
     "metadata": {},
     "output_type": "execute_result"
    }
   ],
   "source": [
    "2-1"
   ]
  },
  {
   "cell_type": "code",
   "execution_count": 31,
   "id": "e8d7741c",
   "metadata": {},
   "outputs": [
    {
     "data": {
      "text/plain": [
       "6"
      ]
     },
     "execution_count": 31,
     "metadata": {},
     "output_type": "execute_result"
    }
   ],
   "source": [
    "2*3"
   ]
  },
  {
   "cell_type": "code",
   "execution_count": 32,
   "id": "9b1b21e1",
   "metadata": {},
   "outputs": [
    {
     "data": {
      "text/plain": [
       "4.75"
      ]
     },
     "execution_count": 32,
     "metadata": {},
     "output_type": "execute_result"
    }
   ],
   "source": [
    "19/4"
   ]
  },
  {
   "cell_type": "code",
   "execution_count": 33,
   "id": "8dc60b08",
   "metadata": {},
   "outputs": [
    {
     "data": {
      "text/plain": [
       "4"
      ]
     },
     "execution_count": 33,
     "metadata": {},
     "output_type": "execute_result"
    }
   ],
   "source": [
    "19//4 # 注意与/进行区分，/的结果是浮点数，//的结果是整数且不进行四舍五入"
   ]
  },
  {
   "cell_type": "code",
   "execution_count": 34,
   "id": "3613e8e6",
   "metadata": {},
   "outputs": [
    {
     "data": {
      "text/plain": [
       "1"
      ]
     },
     "execution_count": 34,
     "metadata": {},
     "output_type": "execute_result"
    }
   ],
   "source": [
    "10 % 3 # 10除以3取余数"
   ]
  },
  {
   "cell_type": "code",
   "execution_count": 35,
   "id": "2d583848",
   "metadata": {},
   "outputs": [
    {
     "data": {
      "text/plain": [
       "1024"
      ]
     },
     "execution_count": 35,
     "metadata": {},
     "output_type": "execute_result"
    }
   ],
   "source": [
    "2**10 # 2的10次方"
   ]
  },
  {
   "cell_type": "markdown",
   "id": "f60e1ab0",
   "metadata": {},
   "source": [
    "## 比较(关系)运算符\n",
    "等于：== 不等于：!= 大于：> 小于：< 大于等于：>= 小于等于：<="
   ]
  },
  {
   "cell_type": "code",
   "execution_count": 46,
   "id": "ff828f58",
   "metadata": {
    "scrolled": true
   },
   "outputs": [
    {
     "name": "stdout",
     "output_type": "stream",
     "text": [
      "False\n",
      "True\n",
      "True\n",
      "False\n",
      "True\n",
      "False\n"
     ]
    }
   ],
   "source": [
    "a = 10\n",
    "b = 3\n",
    "print(a == b) # 注意此处是两个=，要与赋值运算符区分开\n",
    "print(a != b)\n",
    "print(a > b)\n",
    "print(a < b)\n",
    "print(a >= b)\n",
    "print(a <= b)"
   ]
  },
  {
   "cell_type": "markdown",
   "id": "c6b95f7e",
   "metadata": {},
   "source": [
    "## 赋值运算符"
   ]
  },
  {
   "cell_type": "code",
   "execution_count": 49,
   "id": "19122872",
   "metadata": {
    "scrolled": true
   },
   "outputs": [
    {
     "name": "stdout",
     "output_type": "stream",
     "text": [
      "12\n",
      "22\n",
      "12\n",
      "120\n",
      "12.0\n",
      "2.0\n",
      "1024.0\n",
      "102.0\n"
     ]
    }
   ],
   "source": [
    "a = 10 \n",
    "b = 2\n",
    "c = a + b # 简单的赋值运算符,将 a + b 的运算结果赋值为 c\n",
    "print(c)\n",
    "c += a\n",
    "print(c) # 加法赋值运算符，等效于 c = c + a\n",
    "c -= a # 减法赋值运算符，等效于 c = c - a\n",
    "print(c)\n",
    "c *= a # 乘法赋值运算符，等效于 c = c * a\n",
    "print(c)\n",
    "c /= a # 除法赋值运算符，等效于 c = c / a\n",
    "print(c)\n",
    "c %= a # 取模赋值运算符，等效于 c = c % a\n",
    "print(c)\n",
    "c **= a # 幂赋值运算符，等效于 c = c ** a\n",
    "print(c)\n",
    "c //= a # 取整除赋值运算符，等效于 c = c // a\n",
    "print(c)"
   ]
  },
  {
   "cell_type": "markdown",
   "id": "0a4b7be6",
   "metadata": {},
   "source": [
    "## 逻辑运算符\n",
    "与：and  或：or  非：not"
   ]
  },
  {
   "cell_type": "code",
   "execution_count": 51,
   "id": "20c0ce24",
   "metadata": {},
   "outputs": [
    {
     "name": "stdout",
     "output_type": "stream",
     "text": [
      "0\n",
      "5\n",
      "True\n"
     ]
    }
   ],
   "source": [
    "x = 0\n",
    "y = 5\n",
    "print(x and y) # 如果 x 为 False，x and y 返回 False，否则它返回 y 的计算值。\n",
    "print(x or y) # 如果 x 是非 0，它返回 x 的计算值，否则它返回 y 的计算值。\n",
    "print(not x)# 如果 x 为 True，返回 False 。如果 x 为 False，它返回 True。\n"
   ]
  },
  {
   "cell_type": "code",
   "execution_count": 52,
   "id": "2d712407",
   "metadata": {},
   "outputs": [
    {
     "data": {
      "text/plain": [
       "True"
      ]
     },
     "execution_count": 52,
     "metadata": {},
     "output_type": "execute_result"
    }
   ],
   "source": [
    "# 优先级：not > and > or\n",
    "0 or 1 and not 0"
   ]
  },
  {
   "cell_type": "markdown",
   "id": "e5ce7659",
   "metadata": {},
   "source": [
    "## 位运算符"
   ]
  },
  {
   "cell_type": "code",
   "execution_count": null,
   "id": "884bf1df",
   "metadata": {},
   "outputs": [],
   "source": [
    "# &\t按位与运算符\n",
    "# |\t按位或运算符\n",
    "# ^\t按位异或运算符\n",
    "# ~\t按位取反运算符\n",
    "# <<\t左移动运算符\n",
    "# >>\t右移动运算符"
   ]
  },
  {
   "cell_type": "markdown",
   "id": "95a668c9",
   "metadata": {},
   "source": [
    "## 成员运算符\n",
    "in\t如果在指定的序列中找到值返回 True，否则返回 False。\t\n",
    "\n",
    "x 在 y 序列中 , 如果 x 在 y 序列中返回 True。\n",
    "\n",
    "not in\t如果在指定的序列中没有找到值返回 True，否则返回 False。\t\n",
    "\n",
    "x 不在 y 序列中 , 如果 x 不在 y 序列中返回 True。"
    "in\t如果在指定的序列中找到值返回 True，否则返回 False。\tx 在 y 序列中 , 如果 x 在 y 序列中返回 True。\n",
    "not in\t如果在指定的序列中没有找到值返回 True，否则返回 False。\tx 不在 y 序列中 , 如果 x 不在 y 序列中返回 True。"
   ]
  },
  {
   "cell_type": "code",
   "execution_count": 55,
   "id": "426f7b6d",
   "metadata": {},
   "outputs": [
    {
     "name": "stdout",
     "output_type": "stream",
     "text": [
      "True\n"
     ]
    }
   ],
   "source": [
    "print('h' in 'hello')"
   ]
  },
  {
   "cell_type": "code",
   "execution_count": 56,
   "id": "9d647c1b",
   "metadata": {},
   "outputs": [
    {
     "name": "stdout",
     "output_type": "stream",
     "text": [
      "False\n"
     ]
    }
   ],
   "source": [
    "print('x' not in ['1',2,'x'])"
   ]
  },
  {
   "cell_type": "markdown",
   "id": "ce168ab5",
   "metadata": {},
   "source": [
    "## 身份运算符\n",
    "is 是判断两个标识符是不是引用自一个对象\tx is y, 类似 id(x) == id(y) , 如果引用的是同一个对象则返回 True，否则返回 False.\n",
    "is not 是判断两个标识符是不是引用自不同对象\tx is not y ， 类似 id(a) != id(b)。如果引用的不是同一个对象则返回结果 True，否则返回 False。"
   ]
  },
  {
   "cell_type": "code",
   "execution_count": 59,
   "id": "aa23e210",
   "metadata": {},
   "outputs": [
    {
     "name": "stdout",
     "output_type": "stream",
     "text": [
      "True\n",
      "False\n"
     ]
    }
   ],
   "source": [
    "a = 10 \n",
    "b = 10\n",
    "print(a is b) # 类似 id(x) == id(y)\n",
    "print(a is not b) # 类似 id(x) != id(y)"
   ]
  },
  {
   "cell_type": "code",
   "execution_count": 19,
   "id": "7b50964f",
   "metadata": {},
   "outputs": [
    {
     "name": "stdout",
     "output_type": "stream",
     "text": [
      "这个是个False\n",
      "这个是None\n"
     ]
    }
   ],
   "source": [
    "# 通常用法\n",
    "a = False\n",
    "if a is False:\n",
    "    print('这个是个False')\n",
    "b = None\n",
    "if b is None:\n",
    "    print('这个是None')"
   ]
  },
  {
   "cell_type": "markdown",
   "id": "5799ff9c",
   "metadata": {},
   "source": [
    "## 运算符优先级"
   ]
  },
  {
   "cell_type": "code",
   "execution_count": null,
   "id": "6664ed3b",
   "metadata": {},
   "outputs": [],
   "source": [
    "# **\t指数 (最高优先级)\n",
    "# ~ + -\t按位翻转, 一元加号和减号 (最后两个的方法名为 +@ 和 -@)\n",
    "# * / % //\t乘，除，取模和取整除\n",
    "# + -\t加法减法\n",
    "# >> <<\t右移，左移运算符\n",
    "# &\t位 'AND'\n",
    "# ^ |\t位运算符\n",
    "# <= < > >=\t比较运算符\n",
    "# <> == !=\t等于运算符\n",
    "# = %= /= //= -= += *= **=\t赋值运算符\n",
    "# is is not\t身份运算符\n",
    "# in not in\t成员运算符\n",
    "# not and or\t逻辑运算符"
   ]
  },
  {
   "cell_type": "markdown",
   "id": "06d4fc38",
   "metadata": {},
   "source": [
    "# 判断语句\n",
    "if 语句要注意书写形式。条件的后面有冒号，条件成立的语句要有四个空格"
   ]
  },
  {
   "cell_type": "markdown",
   "id": "e7f1bcf2",
   "metadata": {},
   "source": [
    "## 单分支"
   ]
  },
  {
   "cell_type": "code",
   "execution_count": null,
   "id": "1ad2350f",
   "metadata": {
    "scrolled": true
   },
   "outputs": [],
   "source": [
    "a = 5\n",
    "if a== 5:\n",
    "    print('a的值时5')"
   ]
  },
  {
   "cell_type": "markdown",
   "id": "7d434990",
   "metadata": {},
   "source": [
    "## 双分支"
   ]
  },
  {
   "cell_type": "code",
   "execution_count": null,
   "id": "080bda19",
   "metadata": {
    "scrolled": true
   },
   "outputs": [],
   "source": [
    "a = 5\n",
    "if a > 5:\n",
    "    print('a的值大于5')\n",
    "else:\n",
    "    print('a的值小于等于5')"
   ]
  },
  {
   "cell_type": "markdown",
   "id": "addf5505",
   "metadata": {},
   "source": [
    "## 多分支"
   ]
  },
  {
   "cell_type": "code",
   "execution_count": null,
   "id": "e23d54c9",
   "metadata": {},
   "outputs": [],
   "source": [
    "a = 5\n",
    "if a > 5:\n",
    "    print('a的值大于5')\n",
    "elif a< 5:\n",
    "    print('a的值小于5')\n",
    "else:\n",
    "    print('a的值等于5')"
   ]
  },
  {
   "cell_type": "markdown",
   "id": "10524642",
   "metadata": {},
   "source": [
    "## 三元运算符"
   ]
  },
  {
   "cell_type": "code",
   "execution_count": 20,
   "id": "adbee75d",
   "metadata": {},
   "outputs": [
    {
     "name": "stdout",
     "output_type": "stream",
     "text": [
      "1\n"
     ]
    }
   ],
   "source": [
    "a = 10\n",
    "a = 1 if a >=10 else 0\n",
    "print(a)"
   ]
  },
  {
   "cell_type": "code",
   "execution_count": 62,
   "id": "a8d0ccac",
   "metadata": {},
   "outputs": [
    {
     "name": "stdout",
     "output_type": "stream",
     "text": [
      "1\n"
     ]
    }
   ],
   "source": [
    "# 上面的语句等效于\n",
    "a = 10\n",
    "if a >= 10:\n",
    "    a = 1\n",
    "else:\n",
    "    a = 0\n",
    "print(a)"
   ]
  },
  {
   "cell_type": "markdown",
   "id": "075c7f94",
   "metadata": {},
   "source": [
    "## 练习"
   ]
  },
  {
   "cell_type": "markdown",
   "id": "c01cff9e",
   "metadata": {},
   "source": [
    "编写程序：\n",
    "\n",
    "输入成绩，90分以上为优秀，70-89为良好，60-69为及格，60以下为不及格"
   ]
  },
  {
   "cell_type": "markdown",
   "id": "30e5ae08",
   "metadata": {},
   "source": [
    "# 循环语句"
   ]
  },
  {
   "cell_type": "markdown",
   "id": "43df90df",
   "metadata": {},
   "source": [
    "## for 循环"
   ]
  },
  {
   "cell_type": "code",
   "execution_count": null,
   "id": "4806fcb2",
   "metadata": {},
   "outputs": [],
   "source": [
    "# 应用场景遍历项目,for循环天然带有边界\n",
    "# 如，遍历字符串\n",
    "for i in 'python3':\n",
    "    print(i)"
   ]
  },
  {
   "cell_type": "code",
   "execution_count": null,
   "id": "c2f112d4",
   "metadata": {},
   "outputs": [],
   "source": [
    "# 遍历可迭代对象\n",
    "for i in range(5):\n",
    "    print(i)"
   ]
  },
  {
   "cell_type": "markdown",
   "id": "ec725621",
   "metadata": {},
   "source": [
    "## while循环"
   ]
  },
  {
   "cell_type": "code",
   "execution_count": null,
   "id": "ef14e3f5",
   "metadata": {},
   "outputs": [],
   "source": [
    "# 应用场景，循环次数不确定的情况，或者，在某个条件下进行循环。\n",
    "# 有点类似if语句，不用的是while在循环完毕后会重新判断条件是否成立，而if只判断一次"
   ]
  },
  {
   "cell_type": "code",
   "execution_count": null,
   "id": "1a9c611f",
   "metadata": {},
   "outputs": [],
   "source": [
    "a = 5\n",
    "while a>1:\n",
    "    print(i)\n",
    "    a -= 1"
   ]
  },
  {
   "cell_type": "markdown",
   "id": "a9c7183d",
   "metadata": {},
   "source": [
    "## 循环控制语句"
   ]
  },
  {
   "cell_type": "markdown",
   "id": "abd31191",
   "metadata": {},
   "source": [
    "### continue，结束本次循环，进行下次循环"
   ]
  },
  {
   "cell_type": "code",
   "execution_count": 49,
   "id": "ce95e655",
   "metadata": {},
   "outputs": [
    {
     "name": "stdout",
     "output_type": "stream",
     "text": [
      "0\n",
      "1\n",
      "2\n",
      "4\n"
     ]
    }
   ],
   "source": [
    "for i in range(5):\n",
    "    if i == 3:\n",
    "        continue\n",
    "    print(i)"
   ]
  },
  {
   "cell_type": "markdown",
   "id": "8d376de2",
   "metadata": {},
   "source": [
    "### break，结束循环"
   ]
  },
  {
   "cell_type": "code",
   "execution_count": 48,
   "id": "0dcfea05",
   "metadata": {},
   "outputs": [
    {
     "name": "stdout",
     "output_type": "stream",
     "text": [
      "0\n",
      "1\n",
      "2\n"
     ]
    }
   ],
   "source": [
    "for i in range(5):\n",
    "    if i == 3:\n",
    "        break\n",
    "    print(i)"
   ]
  },
  {
   "cell_type": "markdown",
   "id": "a874ea34",
   "metadata": {},
   "source": [
    "## 练习"
   ]
  },
  {
   "cell_type": "markdown",
   "id": "d466d187",
   "metadata": {},
   "source": [
    "编写程序：\n",
    "\n",
    "在4.4练习的基础上添加while循环，当输入的是q或者Q的时候退出循环"
   ]
  },
  {
   "cell_type": "markdown",
   "id": "854a4830",
   "metadata": {},
   "source": [
    "# 内置函数"
   ]
  },
  {
   "cell_type": "code",
   "execution_count": null,
   "id": "ad6311c7",
   "metadata": {},
   "outputs": [],
   "source": [
    "\"\"\"\n",
    "数学运算(7个)\n",
    "    -- abs：求数值的绝对值\n",
    "    -- divmod：返回两个数值的商和余数\n",
    "    -- max：返回可迭代对象中的元素中的最大值或者所有参数的最大值\n",
    "    -- min：返回可迭代对象中的元素中的最小值或者所有参数的最小值\n",
    "    -- pow：返回两个数值的幂运算值或其与指定整数的模值\n",
    "    -- round：对浮点数进行四舍五入求值\n",
    "    -- sum：对元素类型是数值的可迭代对象中的每个元素求和\n",
    "类型转换(24个)\n",
    "    -- bool：根据传入的参数的逻辑值创建一个新的布尔值\n",
    "    -- int：根据传入的参数创建一个新的整数\n",
    "    -- float：根据传入的参数创建一个新的浮点数\n",
    "    -- complex：根据传入参数创建一个新的复数\n",
    "    -- str：返回一个对象的字符串表现形式(给用户)\n",
    "    -- bytearray：根据传入的参数创建一个新的字节数组\n",
    "    -- bytes：根据传入的参数创建一个新的不可变字节数组\n",
    "    -- memoryview：根据传入的参数创建一个新的内存查看对象\n",
    "    -- ord：返回Unicode字符对应的整数\n",
    "    -- chr：返回整数所对应的Unicode字符\n",
    "    -- bin：将整数转换成2进制字符串\n",
    "    -- oct：将整数转化成8进制数字符串\n",
    "    -- hex：将整数转换成16进制字符串\n",
    "    -- tuple：根据传入的参数创建一个新的元组\n",
    "    -- list：根据传入的参数创建一个新的列表\n",
    "    -- dict：根据传入的参数创建一个新的字典\n",
    "    -- set：根据传入的参数创建一个新的集合\n",
    "    -- frozenset：根据传入的参数创建一个新的不可变集合\n",
    "    -- enumerate：根据可迭代对象创建枚举对象\n",
    "    -- range：根据传入的参数创建一个新的range对象\n",
    "    -- iter：根据传入的参数创建一个新的可迭代对象\n",
    "    -- slice：根据传入的参数创建一个新的切片对象\n",
    "    -- super：根据传入的参数创建一个新的子类和父类关系的代理对象\n",
    "    -- object：创建一个新的object对象\n",
    "序列操作(8个)\n",
    "    -- all：判断可迭代对象的每个元素是否都为True值\n",
    "    -- any：判断可迭代对象的元素是否有为True值的元素\n",
    "    -- filter：使用指定方法过滤可迭代对象的元素\n",
    "    -- map：使用指定方法去作用传入的每个可迭代对象的元素，生成新的可迭代对象\n",
    "    -- next：返回可迭代对象中的下一个元素值\n",
    "    -- reversed：反转序列生成新的可迭代对象\n",
    "    -- sorted：对可迭代对象进行排序，返回一个新的列表\n",
    "    -- zip：聚合传入的每个迭代器中相同位置的元素，返回一个新的元组类型迭代器\n",
    "对象操作(7个)\n",
    "    -- help：返回对象的帮助信息\n",
    "    -- dir：返回对象或者当前作用域内的属性列表\n",
    "    -- id：返回对象的唯一标识符\n",
    "    -- hash：获取对象的哈希值\n",
    "    -- type：返回对象的类型，或者根据传入的参数创建一个新的类型\n",
    "    -- len：返回对象的长度\n",
    "    -- ascii：返回对象的可打印表字符串表现方式\n",
    "    -- format：格式化显示值\n",
    "    -- vars：返回当前作用域内的局部变量和其值组成的字典，或者返回对象的属性列表\n",
    "反射操作(8个)\n",
    "    -- __import__：动态导入模块\n",
    "    -- isinstance：判断对象是否是类或者类型元组中任意类元素的实例\n",
    "    -- issubclass：判断类是否是另外一个类或者类型元组中任意类元素的子类\n",
    "    -- hasattr：检查对象是否含有属性\n",
    "    -- getattr：获取对象的属性值\n",
    "    -- setattr：设置对象的属性值\n",
    "    -- delattr：删除对象的属性\n",
    "    -- callable：检测对象是否可被调用\n",
    "变量操作(2个)\n",
    "    -- globals：返回当前作用域内的全局变量和其值组成的字典\n",
    "    -- locals：返回当前作用域内的局部变量和其值组成的字典\n",
    "交互操作(2个)\n",
    "    -- print：向标准输出对象打印输出\n",
    "    -- input：读取用户输入值\n",
    "文件操作(1个)\n",
    "    -- open：使用指定的模式和编码打开文件，返回文件读写对象\n",
    "编译执行(4个)\n",
    "    -- compile：将字符串编译为代码或者AST对象，使之能够通过exec语句来执行或者eval进行求值\n",
    "    -- eval：执行动态表达式求值\n",
    "    -- exec：执行动态语句块\n",
    "    -- repr：返回一个对象的字符串表现形式(给解释器)\n",
    "装饰器(3个)\n",
    "    -- property：标示属性的装饰器\n",
    "    -- classmethod：标示方法为类方法的装饰器\n",
    "    -- staticmethod：标示方法为静态方法的装饰器\n",
    "\"\"\""
   ]
  },
  {
   "cell_type": "markdown",
   "id": "b50e4e16",
   "metadata": {},
   "source": [
    "## abs()\n",
    "绝对值"
   ]
  },
  {
   "cell_type": "code",
   "execution_count": 71,
   "id": "b7377763",
   "metadata": {},
   "outputs": [
    {
     "data": {
      "text/plain": [
       "5"
      ]
     },
     "execution_count": 71,
     "metadata": {},
     "output_type": "execute_result"
    }
   ],
   "source": [
    "abs(-5)"
   ]
  },
  {
   "cell_type": "markdown",
   "id": "7a3affd2",
   "metadata": {},
   "source": [
    "## all()\n",
    "所有元素都为True返回True"
   ]
  },
  {
   "cell_type": "code",
   "execution_count": 70,
   "id": "6fb95101",
   "metadata": {},
   "outputs": [],
   "source": [
    "# all()# "
   ]
  },
  {
   "cell_type": "code",
   "execution_count": 72,
   "id": "d7fb53a3",
   "metadata": {},
   "outputs": [
    {
     "data": {
      "text/plain": [
       "False"
      ]
     },
     "execution_count": 72,
     "metadata": {},
     "output_type": "execute_result"
    }
   ],
   "source": [
    "all(('010',0))"
   ]
  },
  {
   "cell_type": "code",
   "execution_count": 73,
   "id": "46169575",
   "metadata": {
    "scrolled": true
   },
   "outputs": [
    {
     "data": {
      "text/plain": [
       "True"
      ]
     },
     "execution_count": 73,
     "metadata": {},
     "output_type": "execute_result"
    }
   ],
   "source": [
    "all([1,2])"
   ]
  },
  {
   "cell_type": "code",
   "execution_count": 77,
   "id": "d0124f70",
   "metadata": {},
   "outputs": [
    {
     "data": {
      "text/plain": [
       "False"
      ]
     },
     "execution_count": 77,
     "metadata": {},
     "output_type": "execute_result"
    }
   ],
   "source": [
    "all((False,0))"
   ]
  },
  {
   "cell_type": "markdown",
   "id": "41d5ddb2",
   "metadata": {},
   "source": [
    "## any()\n",
    "有一个为True即为True"
   ]
  },
  {
   "cell_type": "code",
   "execution_count": 74,
   "id": "7abfbd1a",
   "metadata": {},
   "outputs": [
    {
     "data": {
      "text/plain": [
       "True"
      ]
     },
     "execution_count": 74,
     "metadata": {},
     "output_type": "execute_result"
    }
   ],
   "source": [
    "any(('010',0))"
   ]
  },
  {
   "cell_type": "code",
   "execution_count": 76,
   "id": "91c983b2",
   "metadata": {},
   "outputs": [
    {
     "data": {
      "text/plain": [
       "False"
      ]
     },
     "execution_count": 76,
     "metadata": {},
     "output_type": "execute_result"
    }
   ],
   "source": [
    "any((False,0))"
   ]
  },
  {
   "cell_type": "markdown",
   "id": "f82010d8",
   "metadata": {},
   "source": [
    "## bin()\n",
    "将整数转成二进制字符串,以0b开头"
   ]
  },
  {
   "cell_type": "code",
   "execution_count": 78,
   "id": "daed0871",
   "metadata": {},
   "outputs": [
    {
     "data": {
      "text/plain": [
       "'0b11'"
      ]
     },
     "execution_count": 78,
     "metadata": {},
     "output_type": "execute_result"
    }
   ],
   "source": [
    "bin(3)"
   ]
  },
  {
   "cell_type": "markdown",
   "id": "6c495912",
   "metadata": {},
   "source": [
    "## bool()\n",
    "判断表达式的布尔值"
   ]
  },
  {
   "cell_type": "code",
   "execution_count": 79,
   "id": "5ba39bc8",
   "metadata": {},
   "outputs": [
    {
     "data": {
      "text/plain": [
       "False"
      ]
     },
     "execution_count": 79,
     "metadata": {},
     "output_type": "execute_result"
    }
   ],
   "source": [
    "bool('1' and 0)"
   ]
  },
  {
   "cell_type": "markdown",
   "id": "8bfd79b6",
   "metadata": {},
   "source": [
    "## bytes()\n",
    "转成字节"
   ]
  },
  {
   "cell_type": "code",
   "execution_count": 80,
   "id": "7bb92ce5",
   "metadata": {
    "scrolled": true
   },
   "outputs": [
    {
     "data": {
      "text/plain": [
       "b'\\xe6\\x88\\x91\\xe7\\x88\\xb1python'"
      ]
     },
     "execution_count": 80,
     "metadata": {},
     "output_type": "execute_result"
    }
   ],
   "source": [
    "bytes('我爱python','utf8')"
   ]
  },
  {
   "cell_type": "markdown",
   "id": "a465aa57",
   "metadata": {},
   "source": [
    "## chr()\n",
    "ascii码值转字符"
   ]
  },
  {
   "cell_type": "code",
   "execution_count": 82,
   "id": "f74c0982",
   "metadata": {},
   "outputs": [
    {
     "data": {
      "text/plain": [
       "'Z'"
      ]
     },
     "execution_count": 82,
     "metadata": {},
     "output_type": "execute_result"
    }
   ],
   "source": [
    "chr(90)"
   ]
  },
  {
   "cell_type": "markdown",
   "id": "2a4fedd2",
   "metadata": {},
   "source": [
    "## dict()\n",
    "转成字典数据类型"
   ]
  },
  {
   "cell_type": "code",
   "execution_count": 86,
   "id": "10fa1ae7",
   "metadata": {},
   "outputs": [
    {
     "data": {
      "text/plain": [
       "{'a': '1', 'b': '2'}"
      ]
     },
     "execution_count": 86,
     "metadata": {},
     "output_type": "execute_result"
    }
   ],
   "source": [
    "dict(a='1',b='2')"
   ]
  },
  {
   "cell_type": "code",
   "execution_count": null,
   "id": "05cd00c6",
   "metadata": {},
   "outputs": [],
   "source": [
    "## 6.9 divmod()\n",
    "获取商和余数(商值,余数)"
   ]
  },
  {
   "cell_type": "code",
   "execution_count": 87,
   "id": "0a050dc9",
   "metadata": {},
   "outputs": [
    {
     "data": {
      "text/plain": [
       "(3, 1)"
      ]
     },
     "execution_count": 87,
     "metadata": {},
     "output_type": "execute_result"
    }
   ],
   "source": [
    "divmod(10,3)"
   ]
  },
  {
   "cell_type": "markdown",
   "id": "3e4ec353",
   "metadata": {},
   "source": [
    "## enumerate()\n",
    "遍历时获得一个索引值"
   ]
  },
  {
   "cell_type": "code",
   "execution_count": 88,
   "id": "ab35588d",
   "metadata": {},
   "outputs": [
    {
     "name": "stdout",
     "output_type": "stream",
     "text": [
      "(0, 'a')\n",
      "(1, 'b')\n",
      "(2, 'c')\n"
     ]
    }
   ],
   "source": [
    "list = ['a','b','c']\n",
    "for i in enumerate(list):\n",
    "    print(i)"
   ]
  },
  {
   "cell_type": "code",
   "execution_count": 90,
   "id": "9bc07485",
   "metadata": {},
   "outputs": [
    {
     "name": "stdout",
     "output_type": "stream",
     "text": [
      "(10, 'a')\n",
      "(11, 'b')\n",
      "(12, 'c')\n"
     ]
    }
   ],
   "source": [
    "list = ['a','b','c']\n",
    "for i in enumerate(list,10):# 指定起始值\n",
    "    print(i)"
   ]
  },
  {
   "cell_type": "markdown",
   "id": "41648b72",
   "metadata": {},
   "source": [
    "## eval()\n",
    "执行一个字符串表达式，并返回表达式的值"
   ]
  },
  {
   "cell_type": "code",
   "execution_count": 91,
   "id": "b1ec7cff",
   "metadata": {},
   "outputs": [
    {
     "data": {
      "text/plain": [
       "3"
      ]
     },
     "execution_count": 91,
     "metadata": {},
     "output_type": "execute_result"
    }
   ],
   "source": [
    "a = 1\n",
    "b = 2\n",
    "eval('a+b')#执行一个字符串表达式，并返回表达式的值"
   ]
  },
  {
   "cell_type": "code",
   "execution_count": 96,
   "id": "6d9c3651",
   "metadata": {},
   "outputs": [
    {
     "name": "stdout",
     "output_type": "stream",
     "text": [
      "5\n",
      "b=6\n"
     ]
    }
   ],
   "source": [
    "def func(n):\n",
    "    print(n)\n",
    "    return n+1\n",
    "b = eval('func(5)')\n",
    "print(f'b={b}')"
   ]
  },
  {
   "cell_type": "code",
   "execution_count": 97,
   "id": "e9290434",
   "metadata": {},
   "outputs": [
    {
     "data": {
      "text/plain": [
       "9"
      ]
     },
     "execution_count": 97,
     "metadata": {},
     "output_type": "execute_result"
    }
   ],
   "source": [
    "eval('(1+2)*3')"
   ]
  },
  {
   "cell_type": "markdown",
   "id": "76f2790e",
   "metadata": {},
   "source": [
    "## float()\n",
    "转成浮点数类型"
   ]
  },
  {
   "cell_type": "code",
   "execution_count": 99,
   "id": "05220f64",
   "metadata": {},
   "outputs": [
    {
     "data": {
      "text/plain": [
       "10.8"
      ]
     },
     "execution_count": 99,
     "metadata": {},
     "output_type": "execute_result"
    }
   ],
   "source": [
    "float('10.8')"
   ]
  },
  {
   "cell_type": "code",
   "execution_count": 100,
   "id": "944116af",
   "metadata": {},
   "outputs": [
    {
     "data": {
      "text/plain": [
       "-10.0"
      ]
     },
     "execution_count": 100,
     "metadata": {},
     "output_type": "execute_result"
    }
   ],
   "source": [
    "float(-10)"
   ]
  },
  {
   "cell_type": "code",
   "execution_count": 1,
   "id": "2da3c897",
   "metadata": {
    "scrolled": true
   },
   "outputs": [
    {
     "ename": "ValueError",
     "evalue": "could not convert string to float: '10.a'",
     "output_type": "error",
     "traceback": [
      "\u001b[1;31m---------------------------------------------------------------------------\u001b[0m",
      "\u001b[1;31mValueError\u001b[0m                                Traceback (most recent call last)",
      "Input \u001b[1;32mIn [1]\u001b[0m, in \u001b[0;36m<cell line: 1>\u001b[1;34m()\u001b[0m\n\u001b[1;32m----> 1\u001b[0m \u001b[38;5;28;43mfloat\u001b[39;49m\u001b[43m(\u001b[49m\u001b[38;5;124;43m'\u001b[39;49m\u001b[38;5;124;43m10.a\u001b[39;49m\u001b[38;5;124;43m'\u001b[39;49m\u001b[43m)\u001b[49m\n",
      "\u001b[1;31mValueError\u001b[0m: could not convert string to float: '10.a'"
     ]
    }
   ],
   "source": [
    "float('10.a') # 只能转换仅包含数字、小数点和负号的字符串"
   ]
  },
  {
   "cell_type": "markdown",
   "id": "6589049f",
   "metadata": {},
   "source": [
    "## hex()\n",
    "将整数转成十六进制字符串，0x开头"
   ]
  },
  {
   "cell_type": "code",
   "execution_count": 108,
   "id": "af1ee8a9",
   "metadata": {},
   "outputs": [
    {
     "data": {
      "text/plain": [
       "'0x11'"
      ]
     },
     "execution_count": 108,
     "metadata": {},
     "output_type": "execute_result"
    }
   ],
   "source": [
    "hex(17)"
   ]
  },
  {
   "cell_type": "code",
   "execution_count": 109,
   "id": "462aaf62",
   "metadata": {},
   "outputs": [
    {
     "ename": "TypeError",
     "evalue": "'float' object cannot be interpreted as an integer",
     "output_type": "error",
     "traceback": [
      "\u001b[1;31m---------------------------------------------------------------------------\u001b[0m",
      "\u001b[1;31mTypeError\u001b[0m                                 Traceback (most recent call last)",
      "Input \u001b[1;32mIn [109]\u001b[0m, in \u001b[0;36m<cell line: 1>\u001b[1;34m()\u001b[0m\n\u001b[1;32m----> 1\u001b[0m \u001b[38;5;28;43mhex\u001b[39;49m\u001b[43m(\u001b[49m\u001b[38;5;241;43m1.5\u001b[39;49m\u001b[43m)\u001b[49m\n",
      "\u001b[1;31mTypeError\u001b[0m: 'float' object cannot be interpreted as an integer"
     ]
    }
   ],
   "source": [
    "hex(1.5) # 只能转换整数"
   ]
  },
  {
   "cell_type": "markdown",
   "id": "4698a6c8",
   "metadata": {},
   "source": [
    "## input()\n",
    "参见输入输出"
    "## input()"
>>>>>>> ff9f427c1120fe488c61529b533c526cf9efee19
   ]
  },
  {
   "cell_type": "markdown",
   "id": "44b67eb2",
   "metadata": {},
   "source": [
    "## int()\n",
    "转成整数类型"
   ]
  },
  {
   "cell_type": "code",
   "execution_count": 110,
   "id": "da492dde",
   "metadata": {},
   "outputs": [
    {
     "data": {
      "text/plain": [
       "3"
      ]
     },
     "execution_count": 110,
     "metadata": {},
     "output_type": "execute_result"
    }
   ],
   "source": [
    "int(3.67)# 不会四舍五入"
   ]
  },
  {
   "cell_type": "code",
   "execution_count": 111,
   "id": "850679aa",
   "metadata": {},
   "outputs": [
    {
     "data": {
      "text/plain": [
       "2"
      ]
     },
     "execution_count": 111,
     "metadata": {},
     "output_type": "execute_result"
    }
   ],
   "source": [
    "int('-2')"
   ]
  },
  {
   "cell_type": "code",
   "execution_count": 112,
   "id": "7602ae82",
   "metadata": {},
   "outputs": [
    {
     "ename": "ValueError",
     "evalue": "invalid literal for int() with base 10: '2.5'",
     "output_type": "error",
     "traceback": [
      "\u001b[1;31m---------------------------------------------------------------------------\u001b[0m",
      "\u001b[1;31mValueError\u001b[0m                                Traceback (most recent call last)",
      "Input \u001b[1;32mIn [112]\u001b[0m, in \u001b[0;36m<cell line: 1>\u001b[1;34m()\u001b[0m\n\u001b[1;32m----> 1\u001b[0m \u001b[38;5;28;43mint\u001b[39;49m\u001b[43m(\u001b[49m\u001b[38;5;124;43m'\u001b[39;49m\u001b[38;5;124;43m2.5\u001b[39;49m\u001b[38;5;124;43m'\u001b[39;49m\u001b[43m)\u001b[49m\n",
      "\u001b[1;31mValueError\u001b[0m: invalid literal for int() with base 10: '2.5'"
     ]
    }
   ],
   "source": [
    "int('2.5')# 只能转换纯数字和符号的数字字符串"
   ]
  },
  {
   "cell_type": "code",
   "execution_count": 113,
   "id": "8b2ec78d",
   "metadata": {},
   "outputs": [
    {
     "data": {
      "text/plain": [
       "31"
      ]
     },
     "execution_count": 113,
     "metadata": {},
     "output_type": "execute_result"
    }
   ],
   "source": [
    "int('1f',16) # 指定被转换的字符串的进制，十六进制"
   ]
  },
  {
   "cell_type": "code",
   "execution_count": 114,
   "id": "1c036c5c",
   "metadata": {},
   "outputs": [
    {
     "data": {
      "text/plain": [
       "15"
      ]
     },
     "execution_count": 114,
     "metadata": {},
     "output_type": "execute_result"
    }
   ],
   "source": [
    "int('17',8) # 八进制"
   ]
  },
  {
   "cell_type": "markdown",
   "id": "db8dd62d",
   "metadata": {},
   "source": [
    "## len()\n",
    "计算长度"
   ]
  },
  {
   "cell_type": "code",
   "execution_count": 115,
   "id": "95270f84",
   "metadata": {},
   "outputs": [
    {
     "ename": "TypeError",
     "evalue": "object of type 'int' has no len()",
     "output_type": "error",
     "traceback": [
      "\u001b[1;31m---------------------------------------------------------------------------\u001b[0m",
      "\u001b[1;31mTypeError\u001b[0m                                 Traceback (most recent call last)",
      "Input \u001b[1;32mIn [115]\u001b[0m, in \u001b[0;36m<cell line: 1>\u001b[1;34m()\u001b[0m\n\u001b[1;32m----> 1\u001b[0m \u001b[38;5;28;43mlen\u001b[39;49m\u001b[43m(\u001b[49m\u001b[38;5;241;43m15\u001b[39;49m\u001b[43m)\u001b[49m\n",
      "\u001b[1;31mTypeError\u001b[0m: object of type 'int' has no len()"
     ]
    }
   ],
   "source": [
    "len(15) # 整数不能计算长度"
   ]
  },
  {
   "cell_type": "code",
   "execution_count": 116,
   "id": "4d690637",
   "metadata": {},
   "outputs": [
    {
     "ename": "TypeError",
     "evalue": "object of type 'float' has no len()",
     "output_type": "error",
     "traceback": [
      "\u001b[1;31m---------------------------------------------------------------------------\u001b[0m",
      "\u001b[1;31mTypeError\u001b[0m                                 Traceback (most recent call last)",
      "Input \u001b[1;32mIn [116]\u001b[0m, in \u001b[0;36m<cell line: 1>\u001b[1;34m()\u001b[0m\n\u001b[1;32m----> 1\u001b[0m \u001b[38;5;28;43mlen\u001b[39;49m\u001b[43m(\u001b[49m\u001b[38;5;241;43m3.14\u001b[39;49m\u001b[43m)\u001b[49m\n",
      "\u001b[1;31mTypeError\u001b[0m: object of type 'float' has no len()"
     ]
    }
   ],
   "source": [
    "len(3.14) # 浮点数不能计算长度"
   ]
  },
  {
   "cell_type": "code",
   "execution_count": 117,
   "id": "e8435801",
   "metadata": {},
   "outputs": [
    {
     "data": {
      "text/plain": [
       "11"
      ]
     },
     "execution_count": 117,
     "metadata": {},
     "output_type": "execute_result"
    }
   ],
   "source": [
    "len('hello world') # 字符串"
   ]
  },
  {
   "cell_type": "code",
   "execution_count": 118,
   "id": "09ce29aa",
   "metadata": {},
   "outputs": [
    {
     "data": {
      "text/plain": [
       "3"
      ]
     },
     "execution_count": 118,
     "metadata": {},
     "output_type": "execute_result"
    }
   ],
   "source": [
    "len([1,2,3]) # 列表"
   ]
  },
  {
   "cell_type": "code",
   "execution_count": 119,
   "id": "2b53b849",
   "metadata": {},
   "outputs": [
    {
     "data": {
      "text/plain": [
       "2"
      ]
     },
     "execution_count": 119,
     "metadata": {},
     "output_type": "execute_result"
    }
   ],
   "source": [
    "len(('a','b')) # 元组"
   ]
  },
  {
   "cell_type": "code",
   "execution_count": 123,
   "id": "8ec0a6c4",
   "metadata": {},
   "outputs": [
    {
     "data": {
      "text/plain": [
       "3"
      ]
     },
     "execution_count": 123,
     "metadata": {},
     "output_type": "execute_result"
    }
   ],
   "source": [
    "len({'a':1,'b':[13,5,8,10],'c':'d'}) # 字典,key的数量"
   ]
  },
  {
   "cell_type": "code",
   "execution_count": 122,
   "id": "0b374250",
   "metadata": {},
   "outputs": [
    {
     "data": {
      "text/plain": [
       "5"
      ]
     },
     "execution_count": 122,
     "metadata": {},
     "output_type": "execute_result"
    }
   ],
   "source": [
    "len({1,2,3,4,5})# 集合"
   ]
  },
  {
   "cell_type": "markdown",
   "id": "5bbe986b",
   "metadata": {},
   "source": [
    "## list() \n",
    "转成列表"
   ]
  },
  {
   "cell_type": "code",
   "execution_count": 7,
   "id": "15d068f7",
   "metadata": {},
   "outputs": [
    {
     "ename": "TypeError",
     "evalue": "'int' object is not iterable",
     "output_type": "error",
     "traceback": [
      "\u001b[1;31m---------------------------------------------------------------------------\u001b[0m",
      "\u001b[1;31mTypeError\u001b[0m                                 Traceback (most recent call last)",
      "Input \u001b[1;32mIn [7]\u001b[0m, in \u001b[0;36m<cell line: 1>\u001b[1;34m()\u001b[0m\n\u001b[1;32m----> 1\u001b[0m \u001b[38;5;28;43mlist\u001b[39;49m\u001b[43m(\u001b[49m\u001b[38;5;241;43m100\u001b[39;49m\u001b[43m)\u001b[49m\n",
      "\u001b[1;31mTypeError\u001b[0m: 'int' object is not iterable"
     ]
    }
   ],
   "source": [
    "list(100)# 数字不可以抓换"
   ]
  },
  {
   "cell_type": "code",
   "execution_count": 1,
   "id": "5c92174e",
   "metadata": {},
   "outputs": [
    {
     "data": {
      "text/plain": [
       "['h', 'e', 'l', 'l', 'o']"
      ]
     },
     "execution_count": 1,
     "metadata": {},
     "output_type": "execute_result"
    }
   ],
   "source": [
    "list('hello')# 字符串"
   ]
  },
  {
   "cell_type": "code",
   "execution_count": 2,
   "id": "21eba3fe",
   "metadata": {},
   "outputs": [
    {
     "data": {
      "text/plain": [
       "[1, 2, 3]"
      ]
     },
     "execution_count": 2,
     "metadata": {},
     "output_type": "execute_result"
    }
   ],
   "source": [
    "list((1,2,3)) #元组"
   ]
  },
  {
   "cell_type": "code",
   "execution_count": 4,
   "id": "efc92941",
   "metadata": {},
   "outputs": [
    {
     "data": {
      "text/plain": [
       "[1, 3]"
      ]
     },
     "execution_count": 4,
     "metadata": {},
     "output_type": "execute_result"
    }
   ],
   "source": [
    "list({1:2,3:4}) # 字典，把key转成列表"
   ]
  },
  {
   "cell_type": "code",
   "execution_count": 5,
   "id": "297b4411",
   "metadata": {
    "scrolled": true
   },
   "outputs": [
    {
     "data": {
      "text/plain": [
       "[1, 2, 3, 4]"
      ]
     },
     "execution_count": 5,
     "metadata": {},
     "output_type": "execute_result"
    }
   ],
   "source": [
    "list({1,2,3,4})#集合"
   ]
  },
  {
   "cell_type": "markdown",
   "id": "093dbfcc",
   "metadata": {},
   "source": [
    "## map()\n",
    "使用指定方法去作用传入的每个可迭代对象的元素，生成新的可迭代对象"
   ]
  },
  {
   "cell_type": "code",
   "execution_count": 43,
   "id": "e3464c8e",
   "metadata": {},
   "outputs": [
    {
     "name": "stdout",
     "output_type": "stream",
     "text": [
      "<map object at 0x000001EFCBCCF160>\n",
      "[97, 98, 99]\n"
     ]
    }
   ],
   "source": [
    "a = map(ord,'abc')\n",
    "print(a)\n",
    "print(list(a))"
   ]
  },
  {
   "cell_type": "markdown",
   "id": "9e651f49",
   "metadata": {},
   "source": [
    "## max()\n",
    "求最大值"
   ]
  },
  {
   "cell_type": "code",
   "execution_count": 8,
   "id": "b809a1c1",
   "metadata": {},
   "outputs": [
    {
     "data": {
      "text/plain": [
       "3"
      ]
     },
     "execution_count": 8,
     "metadata": {},
     "output_type": "execute_result"
    }
   ],
   "source": [
    "max((1,2,3))# 参数可以是list,tuple,set"
   ]
  },
  {
   "cell_type": "code",
   "execution_count": 9,
   "id": "c54fc84e",
   "metadata": {},
   "outputs": [
    {
     "data": {
      "text/plain": [
       "2"
      ]
     },
     "execution_count": 9,
     "metadata": {},
     "output_type": "execute_result"
    }
   ],
   "source": [
    "max({1:100,2:5}) # 字典类型会比较key"
   ]
  },
  {
   "cell_type": "markdown",
   "id": "5d4583ac",
   "metadata": {},
   "source": [
    "## min()\n",
    "求最小值"
   ]
  },
  {
   "cell_type": "code",
   "execution_count": 11,
   "id": "42d7ac96",
   "metadata": {},
   "outputs": [
    {
     "data": {
      "text/plain": [
       "1"
      ]
     },
     "execution_count": 11,
     "metadata": {},
     "output_type": "execute_result"
    }
   ],
   "source": [
    "min((1,2,3))# 参数可以是list,tuple,set"
   ]
  },
  {
   "cell_type": "code",
   "execution_count": 12,
   "id": "c7f23f67",
   "metadata": {},
   "outputs": [
    {
     "data": {
      "text/plain": [
       "1"
      ]
     },
     "execution_count": 12,
     "metadata": {},
     "output_type": "execute_result"
    }
   ],
   "source": [
    "min({1:100,2:5}) # 字典类型会比较key"
   ]
  },
  {
   "cell_type": "markdown",
   "id": "688027a7",
   "metadata": {},
   "source": [
    "## open() \n",
    "详见文件操作"
   ]
  },
  {
   "cell_type": "markdown",
   "id": "be6f3d1e",
   "metadata": {},
   "source": [
    "## ord()\n",
    "字符转ascii码值"
   ]
  },
  {
   "cell_type": "code",
   "execution_count": 14,
   "id": "03fa1947",
   "metadata": {},
   "outputs": [
    {
     "data": {
      "text/plain": [
       "90"
      ]
     },
     "execution_count": 14,
     "metadata": {},
     "output_type": "execute_result"
    }
   ],
   "source": [
    "ord('Z')# 字符转ascii码值"
   ]
  },
  {
   "cell_type": "markdown",
   "id": "31115151",
   "metadata": {},
   "source": [
    "## pow(n,m)\n",
    "求n的m次方"
   ]
  },
  {
   "cell_type": "code",
   "execution_count": 16,
   "id": "b0d8a74f",
   "metadata": {},
   "outputs": [
    {
     "data": {
      "text/plain": [
       "1024"
      ]
     },
     "execution_count": 16,
     "metadata": {},
     "output_type": "execute_result"
    }
   ],
   "source": [
    "pow(2,10) # 相当于2**10"
   ]
  },
  {
   "cell_type": "markdown",
   "id": "d8b18001",
   "metadata": {},
   "source": [
    "## print()\n",
    "详见输入输出"
    "## print()"
   ]
  },
  {
   "cell_type": "markdown",
   "id": "712eb212",
   "metadata": {},
   "source": [
    "## range(a,b,c)\n",
    "生成a到b的数字序列，a：起始数字；b：结束数字（不含b）；c：步长，默认为1"
   ]
  },
  {
   "cell_type": "code",
   "execution_count": 17,
   "id": "f170c652",
   "metadata": {},
   "outputs": [
    {
     "name": "stdout",
     "output_type": "stream",
     "text": [
      "0\n",
      "1\n",
      "2\n"
     ]
    }
   ],
   "source": [
    "for i in range(3): # 单个参数表示从0开始\n",
    "    print(i)"
   ]
  },
  {
   "cell_type": "code",
   "execution_count": 20,
   "id": "dde8ee2b",
   "metadata": {
    "scrolled": true
   },
   "outputs": [
    {
     "name": "stdout",
     "output_type": "stream",
     "text": [
      "1\n",
      "3\n"
     ]
    }
   ],
   "source": [
    "for i in range(1,5,2):# 指定步长\n",
    "    print(i)"
   ]
  },
  {
   "cell_type": "markdown",
   "id": "aca375a8",
   "metadata": {},
   "source": [
    "## round()\n",
    "四舍五入，保留小数位数"
   ]
  },
  {
   "cell_type": "code",
   "execution_count": 24,
   "id": "16d0989a",
   "metadata": {},
   "outputs": [
    {
     "data": {
      "text/plain": [
       "2"
      ]
     },
     "execution_count": 24,
     "metadata": {},
     "output_type": "execute_result"
    }
   ],
   "source": [
    "round(1.832623)"
   ]
  },
  {
   "cell_type": "code",
   "execution_count": 25,
   "id": "78321b80",
   "metadata": {},
   "outputs": [
    {
     "data": {
      "text/plain": [
       "2.0"
      ]
     },
     "execution_count": 25,
     "metadata": {},
     "output_type": "execute_result"
    }
   ],
   "source": [
    "round(1.832623,0)"
   ]
  },
  {
   "cell_type": "code",
   "execution_count": 26,
   "id": "0e3a94d5",
   "metadata": {},
   "outputs": [
    {
     "data": {
      "text/plain": [
       "1.833"
      ]
     },
     "execution_count": 26,
     "metadata": {},
     "output_type": "execute_result"
    }
   ],
   "source": [
    "round(1.832623,3)"
   ]
  },
  {
   "cell_type": "markdown",
   "id": "e315b63d",
   "metadata": {},
   "source": [
    "## set()\n",
    "用于创建空集合或转成集合"
   ]
  },
  {
   "cell_type": "code",
   "execution_count": 27,
   "id": "f0f14932",
   "metadata": {},
   "outputs": [
    {
     "data": {
      "text/plain": [
       "{'e', 'h', 'l', 'o'}"
      ]
     },
     "execution_count": 27,
     "metadata": {},
     "output_type": "execute_result"
    }
   ],
   "source": [
    "set('hello')"
   ]
  },
  {
   "cell_type": "code",
   "execution_count": 28,
   "id": "e6c9a126",
   "metadata": {},
   "outputs": [
    {
     "data": {
      "text/plain": [
       "{'a', 'b'}"
      ]
     },
     "execution_count": 28,
     "metadata": {},
     "output_type": "execute_result"
    }
   ],
   "source": [
    "set(['a','b','a'])"
   ]
  },
  {
   "cell_type": "code",
   "execution_count": 29,
   "id": "d45175a0",
   "metadata": {},
   "outputs": [
    {
     "data": {
      "text/plain": [
       "{'a', 'b'}"
      ]
     },
     "execution_count": 29,
     "metadata": {},
     "output_type": "execute_result"
    }
   ],
   "source": [
    "set(('a','b','a'))"
   ]
  },
  {
   "cell_type": "code",
   "execution_count": 30,
   "id": "b46db955",
   "metadata": {},
   "outputs": [
    {
     "data": {
      "text/plain": [
       "{'a', 'b', 'c'}"
      ]
     },
     "execution_count": 30,
     "metadata": {},
     "output_type": "execute_result"
    }
   ],
   "source": [
    "set({'a':3,'b':2,'c':1})"
   ]
  },
  {
   "cell_type": "markdown",
   "id": "34a8090f",
   "metadata": {},
   "source": [
    "## sorted() \n",
    "排序"
   ]
  },
  {
   "cell_type": "code",
   "execution_count": 31,
   "id": "151780bb",
   "metadata": {},
   "outputs": [
    {
     "data": {
      "text/plain": [
       "[1, 2, 4, 5, 7]"
      ]
     },
     "execution_count": 31,
     "metadata": {},
     "output_type": "execute_result"
    }
   ],
   "source": [
    "sorted([1,5,2,7,4])# 升序"
   ]
  },
  {
   "cell_type": "code",
   "execution_count": 32,
   "id": "7780949d",
   "metadata": {},
   "outputs": [
    {
     "data": {
      "text/plain": [
       "[7, 5, 4, 2, 1]"
      ]
     },
     "execution_count": 32,
     "metadata": {},
     "output_type": "execute_result"
    }
   ],
   "source": [
    "sorted([1,5,2,7,4],reverse=True)# 降序"
   ]
  },
  {
   "cell_type": "markdown",
   "id": "bf5d442b",
   "metadata": {},
   "source": [
    "## str()\n",
    "将其他数据类型转成字符串"
   ]
  },
  {
   "cell_type": "code",
   "execution_count": 33,
   "id": "2cb99b02",
   "metadata": {},
   "outputs": [
    {
     "data": {
      "text/plain": [
       "'[1, 2, 3]'"
      ]
     },
     "execution_count": 33,
     "metadata": {},
     "output_type": "execute_result"
    }
   ],
   "source": [
    "str([1,2,3])"
   ]
  },
  {
   "cell_type": "markdown",
   "id": "6500d37c",
   "metadata": {},
   "source": [
    "## sum()\n",
    "求和"
   ]
  },
  {
   "cell_type": "code",
   "execution_count": 34,
   "id": "b23ee20d",
   "metadata": {},
   "outputs": [
    {
     "data": {
      "text/plain": [
       "6"
      ]
     },
     "execution_count": 34,
     "metadata": {},
     "output_type": "execute_result"
    }
   ],
   "source": [
    "sum([1,2,3])"
   ]
  },
  {
   "cell_type": "code",
   "execution_count": 35,
   "id": "5b4fdb88",
   "metadata": {
    "scrolled": true
   },
   "outputs": [
    {
     "data": {
      "text/plain": [
       "5050"
      ]
     },
     "execution_count": 35,
     "metadata": {},
     "output_type": "execute_result"
    }
   ],
   "source": [
    "sum(range(101))"
   ]
  },
  {
   "cell_type": "markdown",
   "id": "baf3b6e3",
   "metadata": {},
   "source": [
    "## tuple()\n",
    "转成元组，功能类似list()"
   ]
  },
  {
   "cell_type": "code",
   "execution_count": 36,
   "id": "45008bcb",
   "metadata": {},
   "outputs": [
    {
     "data": {
      "text/plain": [
       "(1, 2, 3)"
      ]
     },
     "execution_count": 36,
     "metadata": {},
     "output_type": "execute_result"
    }
   ],
   "source": [
    "tuple([1,2,3])"
   ]
  },
  {
   "cell_type": "markdown",
   "id": "af2bf561",
   "metadata": {},
   "source": [
    "## type()\n",
    "查看变量类型，创建类"
   ]
  },
  {
   "cell_type": "code",
   "execution_count": 37,
   "id": "3a16d65b",
   "metadata": {},
   "outputs": [
    {
     "data": {
      "text/plain": [
       "float"
      ]
     },
     "execution_count": 37,
     "metadata": {},
     "output_type": "execute_result"
    }
   ],
   "source": [
    "type(3.14)"
   ]
  },
  {
   "cell_type": "code",
   "execution_count": 38,
   "id": "01e741d0",
   "metadata": {},
   "outputs": [
    {
     "data": {
      "text/plain": [
       "set"
      ]
     },
     "execution_count": 38,
     "metadata": {},
     "output_type": "execute_result"
    }
   ],
   "source": [
    "type({1,2,3})"
   ]
  },
  {
   "cell_type": "markdown",
   "id": "61ab80fd",
   "metadata": {},
   "source": [
    "## zip()\n",
    "数据结合"
    "## zip()# 数据结合"
   ]
  },
  {
   "cell_type": "code",
   "execution_count": 39,
   "id": "5d4b312b",
   "metadata": {},
   "outputs": [
    {
     "data": {
      "text/plain": [
       "{1: 'a', 2: 'b'}"
      ]
     },
     "execution_count": 39,
     "metadata": {},
     "output_type": "execute_result"
    }
   ],
   "source": [
    "dict(zip((1,2,3),('a','b')))"
   ]
  },
  {
   "cell_type": "markdown",
   "id": "da2671d8",
   "metadata": {},
   "source": [
    "## filter()\n",
    "使用指定方法过滤可迭代对象的元素"
   ]
  },
  {
   "cell_type": "code",
   "execution_count": 47,
   "id": "a76a5ca0",
   "metadata": {},
   "outputs": [
    {
     "data": {
      "text/plain": [
       "[1, 3, 5, 7, 9]"
      ]
     },
     "execution_count": 47,
     "metadata": {},
     "output_type": "execute_result"
    }
   ],
   "source": [
    "a = [0, 1, 2, 3, 4, 5, 6, 7, 8, 9]\n",
    "def get_odd(x): # 定义奇数判断函数\n",
    "    return x%2==1\n",
    "list(filter(get_odd,a))\n"
   ]
  },
  {
   "cell_type": "markdown",
   "id": "fb8b5cdc",
   "metadata": {},
   "source": [
    "# 数据类型"
   ]
  },
  {
   "cell_type": "code",
   "execution_count": null,
   "id": "e1f2b328",
   "metadata": {},
   "outputs": [],
   "source": [
    "# 判断变量数据类型type()"
   ]
  },
  {
   "cell_type": "code",
   "execution_count": 21,
   "id": "5cf3dd25",
   "metadata": {},
   "outputs": [
    {
     "name": "stdout",
     "output_type": "stream",
     "text": [
      "<class 'str'> <class 'int'> <class 'float'> <class 'list'> <class 'tuple'> <class 'dict'> <class 'set'>\n"
     ]
    }
   ],
   "source": [
    "a = 'hello'\n",
    "b = 100\n",
    "c = 3.14\n",
    "d = [1,'a']\n",
    "e = (2,'b')\n",
    "f = {'key':'value'}\n",
    "g = {1,3,4}\n",
    "print(type(a),type(b),type(c),type(d),type(e),type(f),type(g))"
   ]
  },
  {
   "cell_type": "markdown",
   "id": "a314ab53",
   "metadata": {},
   "source": [
    "## 数字"
   ]
  },
  {
   "cell_type": "markdown",
   "id": "72ce1146",
   "metadata": {},
   "source": [
    "数字包含整数int和浮点数float，如果需要做数学运算，需要使用数字类型"
   ]
  },
  {
   "cell_type": "markdown",
   "id": "95cf5afc",
   "metadata": {},
   "source": [
    "### 类型转换"
   ]
  },
  {
   "cell_type": "code",
   "execution_count": 23,
   "id": "6b398a52",
   "metadata": {},
   "outputs": [
    {
     "name": "stdout",
     "output_type": "stream",
     "text": [
      "123\n",
      "-123\n",
      "3\n"
     ]
    }
   ],
   "source": [
    "print(int('123'))#转换数字字符\n",
    "print(int('-123'))#转换负数字符串\n",
    "print(int(3.54))# 转换浮点数，注意不会四舍五入"
    "### 字符串取值"
   ]
  },
  {
   "cell_type": "code",
   "execution_count": 24,
   "id": "f5ec16b5",
   "metadata": {},
   "outputs": [
    {
     "ename": "ValueError",
     "evalue": "invalid literal for int() with base 10: '3.14'",
     "output_type": "error",
     "traceback": [
      "\u001b[0;31m---------------------------------------------------------------------------\u001b[0m",
      "\u001b[0;31mValueError\u001b[0m                                Traceback (most recent call last)",
      "\u001b[0;32m/var/folders/7_/gl5k51h93z55mwsdpj89djpw0000gn/T/ipykernel_50108/3243059315.py\u001b[0m in \u001b[0;36m<module>\u001b[0;34m\u001b[0m\n\u001b[0;32m----> 1\u001b[0;31m \u001b[0mint\u001b[0m\u001b[0;34m(\u001b[0m\u001b[0;34m'3.14'\u001b[0m\u001b[0;34m)\u001b[0m\u001b[0;31m# int转换必须是纯数字或负数\u001b[0m\u001b[0;34m\u001b[0m\u001b[0;34m\u001b[0m\u001b[0m\n\u001b[0m",
      "\u001b[0;31mValueError\u001b[0m: invalid literal for int() with base 10: '3.14'"
     ]
    }
   ],
   "source": [
    "int('3.14')# int转换必须是纯数字或负数"
    "#### 字符串取单个值\n",
    "格式 str[index]"
   ]
  },
  {
   "cell_type": "code",
   "execution_count": 25,
   "id": "7846681a",
   "metadata": {},
   "outputs": [
    {
     "name": "stdout",
     "output_type": "stream",
     "text": [
      "123.0\n",
      "-123.0\n",
      "123.45\n",
      "456.0\n"
     ]
    }
   ],
   "source": [
    "print(float('123'))#转换数字字符串\n",
    "print(float('-123'))#转换负数字符串\n",
    "print(float('123.45'))#转换浮点数字符串\n",
    "print(float(456))#转换整数"
   ]
  },
  {
   "cell_type": "markdown",
   "id": "7478c478",
   "metadata": {},
   "source": [
    "## 字符串\n",
    "引号引起来的就是字符串"
    "#### 字符串切片，取多个值\n",
    "str[a:b:c],a截取的起始位置，b截取的结束为止，c步长。口诀：左右空，取到头。前要取，后不取。有步长，算步长。"
   ]
  },
  {
   "cell_type": "markdown",
   "id": "6e9a9c5c",
   "metadata": {},
   "source": [
    "### 创建字符串"
   ]
  },
  {
   "cell_type": "code",
   "execution_count": 26,
   "id": "3bcedc3e",
   "metadata": {},
   "outputs": [
    {
     "name": "stdout",
     "output_type": "stream",
     "text": [
      "<class 'str'> <class 'str'> <class 'str'>\n"
     ]
    }
   ],
   "source": [
    "# 1. 使用单引号/双引号/三引号包起来的就是字符串，可以直接赋值给变量\n",
    "a = 'python'\n",
    "b = \"hello I'm tom.\"\n",
    "c = \"\"\"\n",
    "    我是三引号\n",
    "    我可以换行吆\n",
    "\"\"\"\n",
    "print(type(a),type(b),type(c))"
   ]
  },
  {
   "cell_type": "code",
   "execution_count": 27,
   "id": "82215fde",
   "metadata": {},
   "outputs": [
    {
     "name": "stdout",
     "output_type": "stream",
     "text": [
      "<class 'int'>\n",
      "<class 'str'>\n"
     ]
    }
   ],
   "source": [
    "# 2. 通过str()函数将其他数据类型转换成字符串\n",
    "a = 100\n",
    "print(type(a))# int\n",
    "a = str(a)\n",
    "print(type(a))# str"
   ]
  },
  {
   "cell_type": "markdown",
   "id": "46cedb33",
   "metadata": {},
   "source": [
    "### 字符串索引\n",
    "字符串是一个有序的字符序列\n",
    "\n",
    "所谓索引就是给字符串的每一个字符做一个编号，\n",
    "\n",
    "正向索引：从左往右从0开始，\n",
    "\n",
    "反向索引：从右到左-1开始"
   ]
  },
  {
   "attachments": {
    "1636166527249.jpg": {
     "image/jpeg": "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"
    }
   },
   "cell_type": "markdown",
   "id": "9d76ba00",
   "metadata": {},
   "source": [
    "![1636166527249.jpg](attachment:1636166527249.jpg)"
   ]
  },
  {
   "cell_type": "markdown",
   "id": "5b06f5a3",
   "metadata": {},
   "source": [
    "### 字符串取值和切片\n",
    "从字符串中取得某个字符，或者获取某一段字符串"
   ]
  },
  {
   "cell_type": "code",
   "execution_count": 50,
   "id": "eedc3f0d",
   "metadata": {},
   "outputs": [
    {
     "name": "stdout",
     "output_type": "stream",
     "text": [
      "h\n"
     ]
    }
   ],
   "source": [
    "# 字符串取单个值\n",
    "s = 'python'\n",
    "print(s[3])#格式 str[index],比如从python字符中获取h字符，s[3]\n",
    "print(s[-3])"
   ]
  },
  {
   "cell_type": "code",
   "execution_count": null,
   "id": "b969513d",
   "metadata": {},
   "outputs": [],
   "source": [
    "# 字符串切片，取多个值\n",
    "# str[a:b:c],a截取的起始位置，b截取的结束为止，c步长。口诀：左右空，取到头。前要取，后不取。有步长，算步长。"
   ]
  },
  {
   "attachments": {
    "1636168027147.jpg": {
     "image/jpeg": "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"
    }
   },
   "cell_type": "markdown",
   "id": "fb6175ad",
   "metadata": {},
   "source": [
    "![1636168027147.jpg](attachment:1636168027147.jpg)"
   ]
  },
  {
   "cell_type": "code",
   "execution_count": 29,
   "id": "b0ff862d",
   "metadata": {},
   "outputs": [],
   "source": [
    "s = 'python'"
   ]
  },
  {
   "cell_type": "code",
   "execution_count": 30,
   "id": "20e72d6a",
   "metadata": {},
   "outputs": [
    {
     "data": {
      "text/plain": [
       "'yth'"
      ]
     },
     "execution_count": 30,
     "metadata": {},
     "output_type": "execute_result"
    }
   ],
   "source": [
    "s[1:4]"
   ]
  },
  {
   "cell_type": "code",
   "execution_count": 31,
   "id": "7dc86655",
   "metadata": {},
   "outputs": [
    {
     "data": {
      "text/plain": [
       "'yh'"
      ]
     },
     "execution_count": 31,
     "metadata": {},
     "output_type": "execute_result"
    }
   ],
   "source": [
    "s[1:4:2]"
   ]
  },
  {
   "cell_type": "code",
   "execution_count": 32,
   "id": "d6f12103",
   "metadata": {},
   "outputs": [
    {
     "data": {
      "text/plain": [
       "'pyth'"
      ]
     },
     "execution_count": 32,
     "metadata": {},
     "output_type": "execute_result"
    }
   ],
   "source": [
    "s[:4]"
   ]
  },
  {
   "cell_type": "code",
   "execution_count": 33,
   "id": "6e12e00e",
   "metadata": {},
   "outputs": [
    {
     "data": {
      "text/plain": [
       "'thon'"
      ]
     },
     "execution_count": 33,
     "metadata": {},
     "output_type": "execute_result"
    }
   ],
   "source": [
    "s[2:]"
   ]
  },
  {
   "cell_type": "code",
   "execution_count": 34,
   "id": "13819967",
   "metadata": {},
   "outputs": [
    {
     "data": {
      "text/plain": [
       "'python'"
      ]
     },
     "execution_count": 34,
     "metadata": {},
     "output_type": "execute_result"
    }
   ],
   "source": [
    "s[:]"
   ]
  },
  {
   "cell_type": "code",
   "execution_count": 35,
   "id": "303fde07",
   "metadata": {},
   "outputs": [
    {
     "data": {
      "text/plain": [
       "'pto'"
      ]
     },
     "execution_count": 35,
     "metadata": {},
     "output_type": "execute_result"
    }
   ],
   "source": [
    "s[::2]"
   ]
  },
  {
   "cell_type": "code",
   "execution_count": null,
   "id": "3ec42578",
   "metadata": {},
   "outputs": [],
   "source": [
    "s[::-1]"
   ]
  },
  {
   "cell_type": "markdown",
   "id": "632832be",
   "metadata": {},
   "source": [
    "### 字符串拼接"
   ]
  },
  {
   "cell_type": "markdown",
   "id": "10b92309",
   "metadata": {},
   "source": [
    "字符串拼接常用的有一下四种方式：\n",
    "\n",
    "+\n",
    "\n",
    "%s，%d，%f\n",
    "\n",
    "string.format()\n",
    "\n",
    "f''"
    "####  +"
   ]
  },
  {
   "cell_type": "markdown",
   "id": "78a418fe",
   "metadata": {},
   "source": [
    "#### 加号拼接"
   ]
  },
  {
   "cell_type": "code",
   "execution_count": 36,
   "id": "a4293944",
   "metadata": {},
   "outputs": [
    {
     "data": {
      "text/plain": [
       "'i love python'"
      ]
     },
     "execution_count": 36,
     "metadata": {},
     "output_type": "execute_result"
    }
   ],
   "source": [
    "a='i love '\n",
    "b='python'\n",
    "a+b"
   ]
  },
  {
   "cell_type": "markdown",
   "id": "fd8c657e",
   "metadata": {},
   "source": [
    "#### %s,%d,%f"
   ]
  },
  {
   "cell_type": "code",
   "execution_count": 44,
   "id": "610f660e",
   "metadata": {},
   "outputs": [
    {
     "data": {
      "text/plain": [
       "'12'"
      ]
     },
     "execution_count": 44,
     "metadata": {},
     "output_type": "execute_result"
    }
   ],
   "source": [
    "'%s%s'%(a,b)"
   ]
  },
  {
   "cell_type": "code",
   "execution_count": 45,
   "id": "639f3711",
   "metadata": {},
   "outputs": [
    {
     "data": {
      "text/plain": [
       "'1+2=3'"
      ]
     },
     "execution_count": 45,
     "metadata": {},
     "output_type": "execute_result"
    }
   ],
   "source": [
    "'%d+%d=%d'%(1,2,1+2) # 只能格式化数字，如果是浮点数会先转成int"
   ]
  },
  {
   "cell_type": "code",
   "execution_count": 46,
   "id": "b7b7d3c4",
   "metadata": {
    "scrolled": true
   },
   "outputs": [
    {
     "data": {
      "text/plain": [
       "'3.16'"
      ]
     },
     "execution_count": 46,
     "metadata": {},
     "output_type": "execute_result"
    }
   ],
   "source": [
    "\"%.2f\"%3.1555 # 只能格式化数字，会先转成浮点数。.2f表示保留两位小数,会四舍五入"
   ]
  },
  {
   "cell_type": "markdown",
   "id": "31412783",
   "metadata": {},
   "source": [
    "#### str.format()"
   ]
  },
  {
   "cell_type": "code",
   "execution_count": 38,
   "id": "400f1099",
   "metadata": {},
   "outputs": [],
   "source": [
    "a='i love '\n",
    "b='python'"
   ]
  },
  {
   "cell_type": "code",
   "execution_count": 39,
   "id": "8fdc0568",
   "metadata": {},
   "outputs": [
    {
     "data": {
      "text/plain": [
       "'helloworld'"
      ]
     },
     "execution_count": 39,
     "metadata": {},
     "output_type": "execute_result"
    }
   ],
   "source": [
    "\"{}{}\".format('hello','world')"
   ]
  },
  {
   "cell_type": "code",
   "execution_count": 40,
   "id": "3701ae41",
   "metadata": {},
   "outputs": [
    {
     "data": {
      "text/plain": [
       "'helloworld'"
      ]
     },
     "execution_count": 40,
     "metadata": {},
     "output_type": "execute_result"
    }
   ],
   "source": [
    "\"{0}{1}\".format('hello','world')"
   ]
  },
  {
   "cell_type": "code",
   "execution_count": 41,
   "id": "d0a8f51b",
   "metadata": {},
   "outputs": [
    {
     "data": {
      "text/plain": [
       "'worldhelloworld'"
      ]
     },
     "execution_count": 41,
     "metadata": {},
     "output_type": "execute_result"
    }
   ],
   "source": [
    "\"{1}{0}{1}\".format('hello','world')"
   ]
  },
  {
   "cell_type": "code",
   "execution_count": 42,
   "id": "2bc517af",
   "metadata": {},
   "outputs": [
    {
     "data": {
      "text/plain": [
       "'helloworldhello'"
      ]
     },
     "execution_count": 42,
     "metadata": {},
     "output_type": "execute_result"
    }
   ],
   "source": [
    "\"{a}{b}{a}\".format(a='hello',b='world')"
   ]
  },
  {
   "cell_type": "markdown",
   "id": "e83c3b8c",
   "metadata": {},
   "source": [
    "#### f''"
   ]
  },
  {
   "cell_type": "code",
   "execution_count": 43,
   "id": "99944b43",
   "metadata": {},
   "outputs": [
    {
     "data": {
      "text/plain": [
       "'1+2=3'"
      ]
     },
     "execution_count": 43,
     "metadata": {},
     "output_type": "execute_result"
    }
   ],
   "source": [
    "a=1\n",
    "b =2\n",
    "f'{a}+{b}={a+b}'"
   ]
  },
  {
   "cell_type": "markdown",
   "id": "1fc3f27b",
   "metadata": {},
   "source": [
    "### 字符串方法"
   ]
  },
  {
   "cell_type": "code",
   "execution_count": null,
   "id": "85aa2acd",
   "metadata": {},
   "outputs": [],
   "source": [
    "str() #转成字符串\n",
    "in #判断是否包含\n",
    "len()#求长度\n",
    "capitalize()#首字母转大写\n",
    "casefold()\n",
    "center()\n",
    "count()#统计子字符串的数量\n",
    "encode()\n",
    "endswith()\n",
    "expandtabs()\n",
    "find()#获取子字符的索引,返回索引值，如果没有返回-1\n",
    "format()\n",
    "format_map()\n",
    "index()#获取子字符的索引，返回索引值，如果没有会报异常\n",
    "isalnum()# 判断是否是由数字字母组成\n",
    "isalpha()# 判断是否是只由字母组成\n",
    "isascii()\n",
    "isdecimal()\n",
    "isdigit()#判断是否是只由数字组成\n",
    "isidentifier()\n",
    "islower（）#判断是否是小写字母\n",
    "isnumeric()\n",
    "isprintable()\n",
    "isspace()#判断是否全部是空格\n",
    "istitle()\n",
    "isupper() #判断是否是大写字母\n",
    "join()#将序列以指定字符串进行连接*\n",
    "ljust()\n",
    "lower()#转小写*\n",
    "lstrip()\n",
    "maketrans()\n",
    "partition()\n",
    "replace(oldstr,newstr,count)# 字符串替换*\n",
    "rfind()\n",
    "rindex()\n",
    "rjust()\n",
    "rpartition()\n",
    "rsplit()\n",
    "rstrip()\n",
    "split(sep,maxsplit)#字符串分割*\n",
    "splitlines()\n",
    "startswith(sub,[start,[end]]) # 判断字符串在指定范围内是否以sub开始*,返回布尔值\n",
    "strip([chars])#剔除字符串两侧指定字符*\n",
    "swapcase()\n",
    "title() # 转成标题\n",
    "translate()\n",
    "upper()#转大写*\n",
    "zfill()\n"
   ]
  },
  {
   "cell_type": "markdown",
   "id": "29a82a44",
   "metadata": {},
   "source": [
    "## 列表"
   ]
  },
  {
   "cell_type": "markdown",
   "id": "d47a6ffb",
   "metadata": {},
   "source": [
    "列表定义：列表（list）是数据元素的有序排列，用[]来包裹，表示列表，并且用逗号分隔每个元素"
   ]
  },
  {
   "cell_type": "markdown",
   "id": "1b77b4fc",
   "metadata": {},
   "source": [
    "列表格式：list=['name1','name2']"
   ]
  },
  {
   "cell_type": "markdown",
   "id": "c021bba9",
   "metadata": {},
   "source": [
    "### 创建列表"
   ]
  },
  {
   "cell_type": "code",
   "execution_count": 47,
   "id": "7a47abd9",
   "metadata": {},
   "outputs": [
    {
     "name": "stdout",
     "output_type": "stream",
     "text": [
      "<class 'list'>\n",
      "<class 'list'>\n"
     ]
    }
   ],
   "source": [
    "# 将多个元素以逗号分隔并用中括号包起来的就是列表\n",
    "a = ['aa','bb',11,22]\n",
    "print(type(a))\n",
    "b = []#创建空的列表\n",
    "print(type(b))"
   ]
  },
  {
   "cell_type": "code",
   "execution_count": 48,
   "id": "23fc01e6",
   "metadata": {},
   "outputs": [
    {
     "name": "stdout",
     "output_type": "stream",
     "text": [
      "<class 'str'>\n",
      "<class 'list'>\n",
      "['a', 'b', 'c', 'd']\n"
     ]
    }
   ],
   "source": [
    "# 将其他数据类型转通过list()函数转换成列表\n",
    "a = 'abcd'\n",
    "print(type(a))\n",
    "a = list(a)\n",
    "print(type(a))\n",
    "print(a)"
   ]
  },
  {
   "cell_type": "code",
   "execution_count": 49,
   "id": "dae4102a",
   "metadata": {
    "scrolled": true
   },
   "outputs": [
    {
     "name": "stdout",
     "output_type": "stream",
     "text": [
      "<class 'int'>\n"
     ]
    },
    {
     "ename": "TypeError",
     "evalue": "'int' object is not iterable",
     "output_type": "error",
     "traceback": [
      "\u001b[0;31m---------------------------------------------------------------------------\u001b[0m",
      "\u001b[0;31mTypeError\u001b[0m                                 Traceback (most recent call last)",
      "\u001b[0;32m/var/folders/7_/gl5k51h93z55mwsdpj89djpw0000gn/T/ipykernel_50108/284990660.py\u001b[0m in \u001b[0;36m<module>\u001b[0;34m\u001b[0m\n\u001b[1;32m      2\u001b[0m \u001b[0ma\u001b[0m \u001b[0;34m=\u001b[0m \u001b[0;36m100\u001b[0m\u001b[0;34m\u001b[0m\u001b[0;34m\u001b[0m\u001b[0m\n\u001b[1;32m      3\u001b[0m \u001b[0mprint\u001b[0m\u001b[0;34m(\u001b[0m\u001b[0mtype\u001b[0m\u001b[0;34m(\u001b[0m\u001b[0ma\u001b[0m\u001b[0;34m)\u001b[0m\u001b[0;34m)\u001b[0m\u001b[0;34m\u001b[0m\u001b[0;34m\u001b[0m\u001b[0m\n\u001b[0;32m----> 4\u001b[0;31m \u001b[0mlist\u001b[0m\u001b[0;34m(\u001b[0m\u001b[0ma\u001b[0m\u001b[0;34m)\u001b[0m\u001b[0;34m\u001b[0m\u001b[0;34m\u001b[0m\u001b[0m\n\u001b[0m",
      "\u001b[0;31mTypeError\u001b[0m: 'int' object is not iterable"
     ]
    }
   ],
   "source": [
    "# 注意，转成列表的数据类型必须是可迭代对象\n",
    "a = 100\n",
    "print(type(a))\n",
    "list(a)"
    "### 列表的访问"
   ]
  },
  {
   "cell_type": "markdown",
   "id": "c3e75b39",
   "metadata": {},
   "source": [
    "### 列表的索引\n",
    "列表也是有序序列，其索引与字符串类似"
    "#### 列表索引\n",
    "列表索引就是给列表的每一个元素做一个编号。 正向索引：从左往右从0开始， 反向索引：从右到左-1开始"
   ]
  },
  {
   "cell_type": "code",
   "execution_count": 51,
   "id": "757b4730",
   "metadata": {},
   "outputs": [],
   "source": [
    "#索引从左向右，每个元素依次从0开始编号，正向索引。从右往左从-1开始编号，反向索引\n",
    "list = ['abc', 100, 3.14, 'cd']"
   ]
  },
  {
   "cell_type": "markdown",
   "id": "47a42b59",
   "metadata": {},
   "source": [
    "### 列表取值和切片"
   ]
  },
  {
   "cell_type": "markdown",
   "id": "7b173ec2",
   "metadata": {},
   "source": [
    "#### 列表取单个值"
   ]
  },
  {
   "cell_type": "code",
   "execution_count": 68,
   "id": "d444430d",
   "metadata": {},
   "outputs": [
    {
     "data": {
      "text/plain": [
       "3.14"
      ]
     },
     "execution_count": 68,
     "metadata": {},
     "output_type": "execute_result"
    }
   ],
   "source": [
    "list = ['abc', 100, 3.14, 'cd']\n",
    "list[2]"
   ]
  },
  {
   "cell_type": "markdown",
   "id": "ec3e6779",
   "metadata": {},
   "source": [
    "#### 取多个值（切片）\n",
    "list[a:b:c],a截取的起始位置，b截取的结束为止，c步长。口诀：左右空，取到头。前要取，后不取。有步长，算步长。"
   ]
  },
  {
   "cell_type": "code",
   "execution_count": 69,
   "id": "e5cdc8b7",
   "metadata": {},
   "outputs": [
    {
     "data": {
      "text/plain": [
       "[3.14, 'cd']"
      ]
     },
     "execution_count": 69,
     "metadata": {},
     "output_type": "execute_result"
    }
   ],
   "source": [
    "list = ['abc', 100, 3.14, 'cd']\n",
    "list[2:]"
   ]
  },
  {
   "cell_type": "code",
   "execution_count": 71,
   "id": "767f9824",
   "metadata": {},
   "outputs": [
    {
     "data": {
      "text/plain": [
       "[100, 3.14]"
      ]
     },
     "execution_count": 71,
     "metadata": {},
     "output_type": "execute_result"
    }
   ],
   "source": [
    "list = ['abc', 100, 3.14, 'cd']\n",
    "list[1:3]"
   ]
  },
  {
   "cell_type": "code",
   "execution_count": 72,
   "id": "9bee4ea7",
   "metadata": {},
   "outputs": [
    {
     "data": {
      "text/plain": [
       "['abc', 100, 3.14]"
      ]
     },
     "execution_count": 72,
     "metadata": {},
     "output_type": "execute_result"
    }
   ],
   "source": [
    "list = ['abc', 100, 3.14, 'cd']\n",
    "list[:3]"
   ]
  },
  {
   "cell_type": "code",
   "execution_count": 73,
   "id": "68df35a0",
   "metadata": {},
   "outputs": [
    {
     "data": {
      "text/plain": [
       "['abc', 100, 3.14, 'cd']"
      ]
     },
     "execution_count": 73,
     "metadata": {},
     "output_type": "execute_result"
    }
   ],
   "source": [
    "list = ['abc', 100, 3.14, 'cd']\n",
    "list[:]"
   ]
  },
  {
   "cell_type": "code",
   "execution_count": 74,
   "id": "8caf02ea",
   "metadata": {},
   "outputs": [
    {
     "data": {
      "text/plain": [
       "['cd', 3.14, 100, 'abc']"
      ]
     },
     "execution_count": 74,
     "metadata": {},
     "output_type": "execute_result"
    }
   ],
   "source": [
    "list = ['abc', 100, 3.14, 'cd']\n",
    "list[::-1]"
   ]
  },
  {
   "cell_type": "markdown",
   "id": "d56204c4",
   "metadata": {},
   "source": [
    "#### 嵌套列表取值"
   ]
  },
  {
   "cell_type": "code",
   "execution_count": 52,
   "id": "bee548c3",
   "metadata": {},
   "outputs": [
    {
     "data": {
      "text/plain": [
       "3"
      ]
     },
     "execution_count": 52,
     "metadata": {},
     "output_type": "execute_result"
    }
   ],
   "source": [
    "list = ['abc', 100,[1,2,3,4], 3.14, 'cd']#取出3\n",
    "list[2][2]"
   ]
  },
  {
   "cell_type": "markdown",
   "id": "d506714f",
   "metadata": {},
   "source": [
    "### 列表的修改\n",
    "固定格式：列表名[索引]=新值"
   ]
  },
  {
   "cell_type": "code",
   "execution_count": null,
   "id": "219dcf53",
   "metadata": {},
   "outputs": [],
   "source": [
    "a = [111,222,333,444]\n",
    "a[1]='aaa'\n",
    "a"
   ]
  },
  {
   "cell_type": "markdown",
   "id": "baf05fb5",
   "metadata": {},
   "source": [
    "### 列表的查询"
   ]
  },
  {
   "cell_type": "markdown",
   "id": "e8f9b474",
   "metadata": {},
   "source": [
    "#### 查找某个元素是否在列表中\n",
    "in/not in"
   ]
  },
  {
   "cell_type": "code",
   "execution_count": 76,
   "id": "fd50706f",
   "metadata": {},
   "outputs": [
    {
     "name": "stdout",
     "output_type": "stream",
     "text": [
      "False\n",
      "False\n"
     ]
    }
   ],
   "source": [
    "a = [111,222,333,444]\n",
    "print(666 in a)# 返回一个布尔值\n",
    "print(222 not in a)"
   ]
  },
  {
   "cell_type": "markdown",
   "id": "0eca4eae",
   "metadata": {},
   "source": [
    "#### 根据元素查找元素的索引值\n",
    "index()"
   ]
  },
  {
   "cell_type": "code",
   "execution_count": 77,
   "id": "445a56f5",
   "metadata": {},
   "outputs": [
    {
     "data": {
      "text/plain": [
       "2"
      ]
     },
     "execution_count": 77,
     "metadata": {},
     "output_type": "execute_result"
    }
   ],
   "source": [
    "a = [111,222,333,333]\n",
    "a.index(333)# 与字符串当中的index()的用法是一样的，如果有该元素返回其索引值，没有则报异常"
   ]
  },
  {
   "cell_type": "markdown",
   "id": "701386b6",
   "metadata": {},
   "source": [
    "#### 查看某个元素在列表中出现的次数\n",
    "count()"
   ]
  },
  {
   "cell_type": "code",
   "execution_count": 78,
   "id": "83179c06",
   "metadata": {},
   "outputs": [
    {
     "data": {
      "text/plain": [
       "2"
      ]
     },
     "execution_count": 78,
     "metadata": {},
     "output_type": "execute_result"
    }
   ],
   "source": [
    "a = [111,222,333,'333',333]\n",
    "a.count(333)"
   ]
  },
  {
   "cell_type": "markdown",
   "id": "59b897cd",
   "metadata": {},
   "source": [
    "#### 查看列表长度\n",
    "len()"
   ]
  },
  {
   "cell_type": "code",
   "execution_count": 79,
   "id": "116a457d",
   "metadata": {},
   "outputs": [
    {
     "data": {
      "text/plain": [
       "6"
      ]
     },
     "execution_count": 79,
     "metadata": {},
     "output_type": "execute_result"
    }
   ],
   "source": [
    "a = [111,222,777,444,555,555]\n",
    "len(a)#length长度"
   ]
  },
  {
   "cell_type": "markdown",
   "id": "a64d9d42",
   "metadata": {},
   "source": [
    "### 列表的增加\n",
    "三种方式：追加、插入、扩展"
    "### 列表的增加"
   ]
  },
  {
   "cell_type": "markdown",
   "id": "78503faf",
   "metadata": {},
   "source": [
    "#### 列表追加\n",
    "append()"
   ]
  },
  {
   "cell_type": "code",
   "execution_count": 80,
   "id": "d698ce80",
   "metadata": {},
   "outputs": [
    {
     "name": "stdout",
     "output_type": "stream",
     "text": [
      "[111, 222, 777, 444, 555, 666]\n"
     ]
    }
   ],
   "source": [
    "a = [111,222,777,444,555] \n",
    "a.append(666)#在列表的末尾添加666这元素\n",
    "print(a)"
   ]
  },
  {
   "cell_type": "markdown",
   "id": "84415f59",
   "metadata": {},
   "source": [
    "#### 列表插入\n",
    "insert()"
   ]
  },
  {
   "cell_type": "code",
   "execution_count": 81,
   "id": "7353af7e",
   "metadata": {},
   "outputs": [
    {
     "data": {
      "text/plain": [
       "[111, 222, 333, 777, 444, 555]"
      ]
     },
     "execution_count": 81,
     "metadata": {},
     "output_type": "execute_result"
    }
   ],
   "source": [
    "a = [111,222,777,444,555] \n",
    "# 在222的后面加333\n",
    "a.insert(2,333)#两个参数，1:插入位置，索引，2:插入的值\n",
    "a"
   ]
  },
  {
   "cell_type": "markdown",
   "id": "8cdc0580",
   "metadata": {},
   "source": [
    "#### 列表扩展（合并）\n",
    "exend()"
   ]
  },
  {
   "cell_type": "code",
   "execution_count": 82,
   "id": "15378432",
   "metadata": {
    "scrolled": true
   },
   "outputs": [
    {
     "data": {
      "text/plain": [
       "[1, 2, 3, 4, 5, 6, 7, 8]"
      ]
     },
     "execution_count": 82,
     "metadata": {},
     "output_type": "execute_result"
    }
   ],
   "source": [
    "list1 = [1,2,3,4]\n",
    "list2 = [5,6,7,8]\n",
    "# list2合并到list1\n",
    "list1.extend(list2)\n",
    "list1"
   ]
  },
  {
   "cell_type": "markdown",
   "id": "2d2564c7",
   "metadata": {},
   "source": [
    "### 列表删除\n",
    "1. 按照索引删除\n",
    "    - 删除并得到删除的值\n",
    "    - 删除\n",
    "\n",
    "2. 按照元素删除\n",
    "\n",
    "3. 清空"
    "### 列表删除"
   ]
  },
  {
   "cell_type": "markdown",
   "id": "06556590",
   "metadata": {},
   "source": [
    "#### 按照索引删除，或删除整个列表\n",
    "#### 删除某个元素或者整个列表\n",
    "del"
   ]
  },
  {
   "cell_type": "code",
   "execution_count": 53,
   "id": "19acd19f",
   "metadata": {},
   "outputs": [
    {
     "data": {
      "text/plain": [
       "[111, 222, 444, 555]"
      ]
     },
     "execution_count": 53,
     "metadata": {},
     "output_type": "execute_result"
    }
   ],
   "source": [
    "a = [111,222,777,444,555]\n",
    "# 删除2号索引的元素\n",
    "del a[2]#删除一个元素\n",
    "a"
   ]
  },
  {
   "cell_type": "code",
   "execution_count": 54,
   "id": "8c6b4d3c",
   "metadata": {},
   "outputs": [
    {
     "ename": "NameError",
     "evalue": "name 'a' is not defined",
     "output_type": "error",
     "traceback": [
      "\u001b[0;31m---------------------------------------------------------------------------\u001b[0m",
      "\u001b[0;31mNameError\u001b[0m                                 Traceback (most recent call last)",
      "\u001b[0;32m/var/folders/7_/gl5k51h93z55mwsdpj89djpw0000gn/T/ipykernel_50108/562356995.py\u001b[0m in \u001b[0;36m<module>\u001b[0;34m\u001b[0m\n\u001b[1;32m      2\u001b[0m \u001b[0;31m# 删除2号索引的元素\u001b[0m\u001b[0;34m\u001b[0m\u001b[0;34m\u001b[0m\u001b[0m\n\u001b[1;32m      3\u001b[0m \u001b[0;32mdel\u001b[0m \u001b[0ma\u001b[0m\u001b[0;31m#删除一个元素\u001b[0m\u001b[0;34m\u001b[0m\u001b[0;34m\u001b[0m\u001b[0m\n\u001b[0;32m----> 4\u001b[0;31m \u001b[0ma\u001b[0m\u001b[0;34m\u001b[0m\u001b[0;34m\u001b[0m\u001b[0m\n\u001b[0m",
      "\u001b[0;31mNameError\u001b[0m: name 'a' is not defined"
     ]
    }
   ],
   "source": [
    "a = [111,222,777,444,555]\n",
    "# 删除2号索引的元素\n",
    "del a#删除一个元素\n",
    "a"
   ]
  },
  {
   "cell_type": "markdown",
   "id": "d81014da",
   "metadata": {},
   "source": [
    "#### 按照索引删除元素，并返回该元素。默认-1\n",
    "#### 删除某个元素，并返回该元素。可以指定索引，默认-1\n",
    "pop()"
   ]
  },
  {
   "cell_type": "code",
   "execution_count": 55,
   "id": "42a407df",
   "metadata": {},
   "outputs": [
    {
     "name": "stdout",
     "output_type": "stream",
     "text": [
      "[111, 222, 777, 444]\n",
      "555\n"
     ]
    }
   ],
   "source": [
    "a = [111,222,777,444,555]\n",
    "b=a.pop()#pop 中文意思就说弹出\n",
    "print(a)\n",
    "print(b)"
   ]
  },
  {
   "cell_type": "code",
   "execution_count": 56,
   "id": "bdfc3243",
   "metadata": {},
   "outputs": [
    {
     "name": "stdout",
     "output_type": "stream",
     "text": [
      "[111, 222, 444, 555]\n",
      "777\n"
     ]
    }
   ],
   "source": [
    "a = [111,222,777,444,555]\n",
    "b=a.pop(2)#pop 中文意思就说弹出\n",
    "print(a)\n",
    "print(b)"
   ]
  },
  {
   "cell_type": "markdown",
   "id": "a144f6be",
   "metadata": {},
   "source": [
    "#### 删除列表中指定元素，如果元素重复则删除最左侧的一个\n",
    "remove()"
   ]
  },
  {
   "cell_type": "code",
   "execution_count": 57,
   "id": "4a725bd6",
   "metadata": {},
   "outputs": [
    {
     "name": "stdout",
     "output_type": "stream",
     "text": [
      "[111, 222, 555, 444, 555]\n"
     ]
    }
   ],
   "source": [
    "a = [111,222,555,777,444,555]\n",
    "a.remove(777)# 如果元素不存在则报异常\n",
    "print(a)"
   ]
  },
  {
   "cell_type": "code",
   "execution_count": 58,
   "id": "675a8871",
   "metadata": {},
   "outputs": [
    {
     "name": "stdout",
     "output_type": "stream",
     "text": [
      "[111, 222, 555, 777, 444, 555]\n"
     ]
    }
   ],
   "source": [
    "a = [111,777,222,555,777,444,555]\n",
    "a.remove(777)\n",
    "print(a)"
   ]
  },
  {
   "cell_type": "code",
   "execution_count": 59,
   "id": "1858efb0",
   "metadata": {},
   "outputs": [
    {
     "ename": "ValueError",
     "evalue": "list.remove(x): x not in list",
     "output_type": "error",
     "traceback": [
      "\u001b[0;31m---------------------------------------------------------------------------\u001b[0m",
      "\u001b[0;31mValueError\u001b[0m                                Traceback (most recent call last)",
      "\u001b[0;32m/var/folders/7_/gl5k51h93z55mwsdpj89djpw0000gn/T/ipykernel_50108/3225664499.py\u001b[0m in \u001b[0;36m<module>\u001b[0;34m\u001b[0m\n\u001b[1;32m      1\u001b[0m \u001b[0ma\u001b[0m \u001b[0;34m=\u001b[0m \u001b[0;34m[\u001b[0m\u001b[0;36m111\u001b[0m\u001b[0;34m,\u001b[0m\u001b[0;36m777\u001b[0m\u001b[0;34m,\u001b[0m\u001b[0;36m222\u001b[0m\u001b[0;34m,\u001b[0m\u001b[0;36m555\u001b[0m\u001b[0;34m,\u001b[0m\u001b[0;36m777\u001b[0m\u001b[0;34m,\u001b[0m\u001b[0;36m444\u001b[0m\u001b[0;34m,\u001b[0m\u001b[0;36m555\u001b[0m\u001b[0;34m]\u001b[0m\u001b[0;34m\u001b[0m\u001b[0;34m\u001b[0m\u001b[0m\n\u001b[0;32m----> 2\u001b[0;31m \u001b[0ma\u001b[0m\u001b[0;34m.\u001b[0m\u001b[0mremove\u001b[0m\u001b[0;34m(\u001b[0m\u001b[0;34m'abcd'\u001b[0m\u001b[0;34m)\u001b[0m\u001b[0;31m# 如果元素不存在则报异常\u001b[0m\u001b[0;34m\u001b[0m\u001b[0;34m\u001b[0m\u001b[0m\n\u001b[0m",
      "\u001b[0;31mValueError\u001b[0m: list.remove(x): x not in list"
     ]
    }
   ],
   "source": [
    "a = [111,777,222,555,777,444,555]\n",
    "a.remove('abcd')# 如果元素不存在则报异常"
   ]
  },
  {
   "cell_type": "markdown",
   "id": "2edec384",
   "metadata": {},
   "source": [
    "#### 清空列表\n",
    "clear()"
   ]
  },
  {
   "cell_type": "code",
   "execution_count": 60,
   "id": "faae6ca1",
   "metadata": {},
   "outputs": [
    {
     "name": "stdout",
     "output_type": "stream",
     "text": [
      "[]\n"
     ]
    }
   ],
   "source": [
    "a = [111,222,555,777,444,555]\n",
    "a.clear()\n",
    "print(a)"
   ]
  },
  {
   "cell_type": "markdown",
   "id": "0ce0200d",
   "metadata": {},
   "source": [
    "### 列表方法"
   ]
  },
  {
   "cell_type": "code",
   "execution_count": null,
   "id": "b5e77bf8",
   "metadata": {},
   "outputs": [],
   "source": [
    "\"\"\"\n",
    "list() #转成字符串\n",
    "in #判断是否包含\n",
    "len()#求长度\n",
    "append()\n",
    "clear()\n",
    "copy()\n",
    "count()\n",
    "extend()\n",
    "index()\n",
    "insert()\n",
    "pop()\n",
    "remove()\n",
    "reverse()\n",
    "sort()\n",
    "\"\"\""
   ]
  },
  {
   "cell_type": "markdown",
   "id": "2b535682",
   "metadata": {},
   "source": [
    "## 元组\n",
    "元组与列表类似，不同之处在于元组的元素不能修改。\n",
    "元组使用小括号 ( )，列表使用方括号 [ ]。"
   ]
  },
  {
   "cell_type": "code",
   "execution_count": null,
   "id": "f2742ce4",
   "metadata": {},
   "outputs": [],
   "source": [
    "# 元组只能进行查询，其查询操作与列表类似。可以使用索引取值，切片。"
   ]
  },
  {
   "cell_type": "markdown",
   "id": "1f0e8cf7",
   "metadata": {},
   "source": [
    "### 元组的访问"
   ]
  },
  {
   "cell_type": "markdown",
   "id": "5af7facb",
   "metadata": {},
   "source": [
    "#### 元组索引\n",
    "元组索引就是给元组的每一个元素做一个编号。 正向索引：从左往右从0开始， 反向索引：从右到左-1开始"
   ]
  },
  {
   "cell_type": "code",
   "execution_count": 88,
   "id": "42044adf",
   "metadata": {},
   "outputs": [],
   "source": [
    "t = ('abc', 100, 3.14, 'cd')#索引从左向右，每个元素依次从0开始编号，正向索引。从右往左从-1开始编号，反向索引"
   ]
  },
  {
   "cell_type": "markdown",
   "id": "87e84186",
   "metadata": {},
   "source": [
    "#### 元组取单个值"
   ]
  },
  {
   "cell_type": "code",
   "execution_count": 87,
   "id": "f5773479",
   "metadata": {},
   "outputs": [
    {
     "data": {
      "text/plain": [
       "3.14"
      ]
     },
     "execution_count": 87,
     "metadata": {},
     "output_type": "execute_result"
    }
   ],
   "source": [
    "t = ('abc', 100, 3.14, 'cd')\n",
    "t[2]"
   ]
  },
  {
   "cell_type": "markdown",
   "id": "5711e782",
   "metadata": {},
   "source": [
    "#### 取多个值（切片）\n",
    "tuple[a:b:c],a截取的起始位置，b截取的结束为止，c步长。口诀：左右空，取到头。前要取，后不取。有步长，算步长。"
   ]
  },
  {
   "cell_type": "code",
   "execution_count": 90,
   "id": "6d5f6f51",
   "metadata": {},
   "outputs": [
    {
     "data": {
      "text/plain": [
       "(3.14, 'cd')"
      ]
     },
     "execution_count": 90,
     "metadata": {},
     "output_type": "execute_result"
    }
   ],
   "source": [
    "t = ('abc', 100, 3.14, 'cd')\n",
    "t[2:]"
   ]
  },
  {
   "cell_type": "code",
   "execution_count": 89,
   "id": "dae3aa52",
   "metadata": {},
   "outputs": [
    {
     "data": {
      "text/plain": [
       "(100, 3.14)"
      ]
     },
     "execution_count": 89,
     "metadata": {},
     "output_type": "execute_result"
    }
   ],
   "source": [
    "t = ('abc', 100, 3.14, 'cd')\n",
    "t[1:3]"
   ]
  },
  {
   "cell_type": "code",
   "execution_count": 91,
   "id": "122fe681",
   "metadata": {},
   "outputs": [
    {
     "data": {
      "text/plain": [
       "('abc', 100, 3.14)"
      ]
     },
     "execution_count": 91,
     "metadata": {},
     "output_type": "execute_result"
    }
   ],
   "source": [
    "t = ('abc', 100, 3.14, 'cd')\n",
    "t[:3]"
   ]
  },
  {
   "cell_type": "code",
   "execution_count": 92,
   "id": "f747cdbe",
   "metadata": {},
   "outputs": [
    {
     "data": {
      "text/plain": [
       "('abc', 100, 3.14, 'cd')"
      ]
     },
     "execution_count": 92,
     "metadata": {},
     "output_type": "execute_result"
    }
   ],
   "source": [
    "t = ('abc', 100, 3.14, 'cd')\n",
    "t[:]"
   ]
  },
  {
   "cell_type": "code",
   "execution_count": 93,
   "id": "0f7d82cd",
   "metadata": {},
   "outputs": [
    {
     "data": {
      "text/plain": [
       "('cd', 3.14, 100, 'abc')"
      ]
     },
     "execution_count": 93,
     "metadata": {},
     "output_type": "execute_result"
    }
   ],
   "source": [
    "t = ('abc', 100, 3.14, 'cd')\n",
    "t[::-1]"
   ]
  },
  {
   "cell_type": "markdown",
   "id": "7372dcb4",
   "metadata": {},
   "source": [
    "#### 嵌套元组取值"
   ]
  },
  {
   "cell_type": "code",
   "execution_count": 94,
   "id": "55809c66",
   "metadata": {},
   "outputs": [
    {
     "data": {
      "text/plain": [
       "3"
      ]
     },
     "execution_count": 94,
     "metadata": {},
     "output_type": "execute_result"
    }
   ],
   "source": [
    "t = ('abc', 100,[1,2,3,4], 3.14, 'cd')#取出3\n",
    "t[2][2]"
   ]
  },
  {
   "cell_type": "markdown",
   "id": "b3fb095e",
   "metadata": {},
   "source": [
    "### 元组方法"
   ]
  },
  {
   "cell_type": "code",
   "execution_count": null,
   "id": "f72bb754",
   "metadata": {},
   "outputs": [],
   "source": [
    "count()\n",
    "index()\n"
   ]
  },
  {
   "cell_type": "markdown",
   "id": "b4fe13d5",
   "metadata": {},
   "source": [
    "## 字典"
   ]
  },
  {
   "cell_type": "markdown",
   "id": "1b0f765b",
   "metadata": {},
   "source": [
    "### 什么是字典"
   ]
  },
  {
   "cell_type": "markdown",
   "id": "05c13daa",
   "metadata": {},
   "source": [
    "字典也是python的一种常用数据结构，它用于存放具有映射关系的数据。\n",
    "比如有份成绩表数据，语文：79，数学：80，英语：92，这组数据看上去像两个列表，但这两个列表的元素之间有一定的关联关系。如果单纯使用两个列表来保存这组数据，则无法记录两组数据之间的关联关系。"
   ]
  },
  {
   "attachments": {
    "image.png": {
     "image/png": "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"
    }
   },
   "cell_type": "markdown",
   "id": "106489d9",
   "metadata": {},
   "source": [
    "为了保存具有映射关系的数据，Python 提供了字典，字典相当于保存了两组数据，其中一组数据是关键数据，被称为 key；另一组数据可通过 key 来访问，被称为 value。形象地看，字典中 key 和 value 的关联关系如图 1 所示：\n",
    "![image.png](attachment:image.png)"
   ]
  },
  {
   "cell_type": "markdown",
   "id": "58fb2fe5",
   "metadata": {},
   "source": [
    "由于字典中的 key 是非常关键的数据，而且程序需要通过 key 来访问 value，因此字典中的 key 不允许重复。"
   ]
  },
  {
   "cell_type": "code",
   "execution_count": 95,
   "id": "7a2286a6",
   "metadata": {},
   "outputs": [
    {
     "data": {
      "text/plain": [
       "dict"
      ]
     },
     "execution_count": 95,
     "metadata": {},
     "output_type": "execute_result"
    }
   ],
   "source": [
    "# 字典格式：dict = {key:value}\n",
    "d = {'语文':79,'数学':80,'英语':92}\n",
    "type(d)"
   ]
  },
  {
   "cell_type": "markdown",
   "id": "03d95346",
   "metadata": {},
   "source": [
    "### 创建字典\n",
    "程序既可使用花括号语法来创建字典，也可使用 dict() 函数来创建字典。"
   ]
  },
  {
   "cell_type": "code",
   "execution_count": 97,
   "id": "9505926f",
   "metadata": {},
   "outputs": [],
   "source": [
    "d = {'语文':79,'数学':80,'英语':92}"
   ]
  },
  {
   "cell_type": "code",
   "execution_count": 98,
   "id": "0195b5bd",
   "metadata": {},
   "outputs": [
    {
     "data": {
      "text/plain": [
       "{'a': 'aa', 'b': 'bb', 't': 'tt'}"
      ]
     },
     "execution_count": 98,
     "metadata": {},
     "output_type": "execute_result"
    }
   ],
   "source": [
    "dict(a='aa', b='bb', t='tt')     # 传入关键字"
   ]
  },
  {
   "cell_type": "code",
   "execution_count": 99,
   "id": "6fc08f7c",
   "metadata": {},
   "outputs": [
    {
     "data": {
      "text/plain": [
       "{'one': 1, 'two': 2, 'three': 3}"
      ]
     },
     "execution_count": 99,
     "metadata": {},
     "output_type": "execute_result"
    }
   ],
   "source": [
    "dict(zip(['one', 'two', 'three'], [1, 2, 3]))# 映射函数方式来构造字典"
   ]
  },
  {
   "cell_type": "code",
   "execution_count": 100,
   "id": "d107c354",
   "metadata": {},
   "outputs": [
    {
     "data": {
      "text/plain": [
       "{'one': 1, 'two': 2, 'three': 3}"
      ]
     },
     "execution_count": 100,
     "metadata": {},
     "output_type": "execute_result"
    }
   ],
   "source": [
    "dict([('one', 1), ('two', 2), ('three', 3)])    # 可迭代对象方式来构造字典"
   ]
  },
  {
   "cell_type": "code",
   "execution_count": null,
   "id": "d5f4716e",
   "metadata": {},
   "outputs": [],
   "source": [
    "d = {}# 创建空字典"
   ]
  },
  {
   "cell_type": "markdown",
   "id": "4d6186d7",
   "metadata": {},
   "source": [
    "### 字典的基本用法"
   ]
  },
  {
   "cell_type": "code",
   "execution_count": null,
   "id": "78a42307",
   "metadata": {},
   "outputs": [],
   "source": [
    "\"\"\"\n",
    "通过 key 访问 value 。\n",
    "通过 key 添加 key-value 对。\n",
    "通过 key 删除 key-value 对。\n",
    "通过 key 修改 key-value 对。\n",
    "通过 key 判断指定 key-value 对是否存在。\n",
    "通过 key 访问 value 使用的也是方括号语法，就像前面介绍的列表和元组一样，只是此时在方括号中放的是 key，而不是列表或元组中的索引。\n",
    "\"\"\""
   ]
  },
  {
   "cell_type": "code",
   "execution_count": 6,
   "id": "3ef869bb",
   "metadata": {},
   "outputs": [
    {
     "name": "stdout",
     "output_type": "stream",
     "text": [
      "89\n"
     ]
    }
   ],
   "source": [
    "# 通过key访问value\n",
    "scores = {'语文': 89}\n",
    "print(scores['语文'])"
   ]
  },
  {
   "cell_type": "code",
   "execution_count": null,
   "id": "b41c2db4",
   "metadata": {},
   "outputs": [],
   "source": [
    "# 对不存在的key赋值，就是增加key-value对\n",
    "scores['数学'] = 93\n",
    "scores[92] = 5.7\n",
    "print(scores) # {'语文': 89, '数学': 93, 92: 5.7}"
   ]
  },
  {
   "cell_type": "code",
   "execution_count": null,
   "id": "55259a99",
   "metadata": {},
   "outputs": [],
   "source": [
    "# 使用del语句删除key-value对\n",
    "del scores['语文']\n",
    "del scores['数学']\n",
    "print(scores) # {92: 5.7}"
   ]
  },
  {
   "cell_type": "code",
   "execution_count": 7,
   "id": "ae20dbf9",
   "metadata": {},
   "outputs": [
    {
     "name": "stdout",
     "output_type": "stream",
     "text": [
      "{'BMW': 8.5, 'BENS': 4.3, 'AUDI': 3.8}\n"
     ]
    }
   ],
   "source": [
    "# 对存在的key-value对赋值，改变key-value对\n",
    "cars = {'BMW': 8.5, 'BENS': 8.3, 'AUDI': 7.9}\n",
    "cars['BENS'] = 4.3\n",
    "cars['AUDI'] = 3.8\n",
    "print(cars) # {'BMW': 8.5, 'BENS': 4.3, 'AUDI': 3.8}"
   ]
  },
  {
   "cell_type": "code",
   "execution_count": 8,
   "id": "d683fed2",
   "metadata": {},
   "outputs": [
    {
     "name": "stdout",
     "output_type": "stream",
     "text": [
      "True\n",
      "False\n",
      "True\n"
     ]
    }
   ],
   "source": [
    "# 如果要判断字典是否包含指定的 key，则可以使用 in 或 not in 运算符。需要指出的是，对于 dict 而言，in 或 not in 运算符都是基于 key 来判断的\n",
    "# 判断cars是否包含名为'AUDI'的key\n",
    "print('AUDI' in cars) # True\n",
    "# 判断cars是否包含名为'PORSCHE'的key\n",
    "print('PORSCHE' in cars) # False\n",
    "print('LAMBORGHINI' not in cars) # True"
   ]
  },
  {
   "cell_type": "markdown",
   "id": "7efa0641",
   "metadata": {},
   "source": [
    "通过上面介绍可以看出，字典的 key 是它的关键。换个角度来看，字典的 key 就相当于它的索引，只不过这些索引不一定是整数类型，字典的 key 可以是任意不可变类型。\n",
    "\n",
    "可以这样说，字典相当于索引是任意不可变类型的列表：而列表则相当于 key 只能是整数的字典。因此，如果程序中要使用的字典的 key 都是整数类型，则可考虑能否换成列表。\n",
    "\n",
    "此外，还有一点需要指出，列表的索引总是从 0 开始、连续增大的；但字典的索引即使是整数类型，也不需要从 0 开始，而且不需要连续。因此，列表不允许对不存在的索引赋值：但字典则允许直接对不存在的 key 赋值，这样就会为字典增加一个 key-value 对。"
   ]
  },
  {
   "cell_type": "markdown",
   "id": "5963bcae",
   "metadata": {},
   "source": [
    "### 字典的常用方法"
   ]
  },
  {
   "cell_type": "code",
   "execution_count": 101,
   "id": "9e7dc606",
   "metadata": {},
   "outputs": [
    {
     "name": "stdout",
     "output_type": "stream",
     "text": [
      "['__class__', '__contains__', '__delattr__', '__delitem__', '__dir__', '__doc__', '__eq__', '__format__', '__ge__', '__getattribute__', '__getitem__', '__gt__', '__hash__', '__init__', '__init_subclass__', '__iter__', '__le__', '__len__', '__lt__', '__ne__', '__new__', '__reduce__', '__reduce_ex__', '__repr__', '__reversed__', '__setattr__', '__setitem__', '__sizeof__', '__str__', '__subclasshook__', 'clear', 'copy', 'fromkeys', 'get', 'items', 'keys', 'pop', 'popitem', 'setdefault', 'update', 'values']\n"
     ]
    }
   ],
   "source": [
    "print(dir(dict))"
   ]
  },
  {
   "cell_type": "code",
   "execution_count": null,
   "id": "79d975fc",
   "metadata": {},
   "outputs": [],
   "source": [
    "clear()\n",
    "copy()\n",
    "fromkeys()\n",
    "get()\n",
    "items()\n",
    "keys()\n",
    "pop()\n",
    "popitem()\n",
    "setdefault()\n",
    "update()\n",
    "values()"
   ]
  },
  {
   "cell_type": "markdown",
   "id": "666e40c6",
   "metadata": {},
   "source": [
    "#### clear()方法\n",
    "clear() 用于清空字典中所有的 key-value 对，对一个字典执行 clear() 方法之后，该字典就会变成一个空字典。"
   ]
  },
  {
   "cell_type": "code",
   "execution_count": 102,
   "id": "bb5af595",
   "metadata": {},
   "outputs": [
    {
     "name": "stdout",
     "output_type": "stream",
     "text": [
      "{'BMW': 8.5, 'BENS': 8.3, 'AUDI': 7.9}\n",
      "{}\n"
     ]
    }
   ],
   "source": [
    "cars = {'BMW': 8.5, 'BENS': 8.3, 'AUDI': 7.9}\n",
    "print(cars) # {'BMW': 8.5, 'BENS': 8.3, 'AUDI': 7.9}\n",
    "# 清空cars所有key-value对\n",
    "cars.clear()\n",
    "print(cars) # {}"
   ]
  },
  {
   "cell_type": "markdown",
   "id": "fbc6cb82",
   "metadata": {},
   "source": [
    "#### get()方法\n",
    "get() 方法其实就是根据 key 来获取 value，它相当于方括号语法的增强版，当使用方括号语法访问并不存在的 key 时，字典会引发 KeyError 错误；但如果使用 get() 方法访问不存在的 key，该方法会简单地返回 None，不会导致错误。"
   ]
  },
  {
   "cell_type": "code",
   "execution_count": 9,
   "id": "4b5ce71f",
   "metadata": {},
   "outputs": [
    {
     "name": "stdout",
     "output_type": "stream",
     "text": [
      "8.5\n",
      "abc\n"
     ]
    }
   ],
   "source": [
    "cars = {'BMW': 8.5, 'BENS': 8.3, 'AUDI': 7.9}\n",
    "# 获取'BMW'对应的value\n",
    "print(cars.get('BMW')) # 8.5\n",
    "print(cars.get('PORSCHE','abc')) # None\n",
    "# print(cars['PORSCHE']) # KeyError"
   ]
  },
  {
   "cell_type": "markdown",
   "id": "a2f1039f",
   "metadata": {},
   "source": [
    "#### update()方法\n",
    "update() 方法可使用一个字典所包含的 key-value 对来更新己有的字典。在执行 update() 方法时，如果被更新的字典中己包含对应的 key-value 对，那么原 value 会被覆盖；如果被更新的字典中不包含对应的 key-value 对，则该 key-value 对被添加进去"
   ]
  },
  {
   "cell_type": "code",
   "execution_count": 10,
   "id": "a07b5775",
   "metadata": {},
   "outputs": [
    {
     "name": "stdout",
     "output_type": "stream",
     "text": [
      "{'BMW': 4.5, 'BENS': 8.3, 'AUDI': 7.9, 'PORSCHE': 9.3}\n"
     ]
    }
   ],
   "source": [
    "cars = {'BMW': 8.5, 'BENS': 8.3, 'AUDI': 7.9}\n",
    "cars.update({'BMW':4.5, 'PORSCHE': 9.3})\n",
    "print(cars)"
   ]
  },
  {
   "cell_type": "markdown",
   "id": "72869341",
   "metadata": {},
   "source": [
    "从上面的执行过程可以看出，由于被更新的 dict 中己包含 key 为“AUDI”的 key-value 对，因此更新时该 key-value 对的 value 将被改写；但如果被更新的 dict 中不包含 key 为“PORSCHE”的 key-value 对，那么更新时就会为原字典增加一个 key-value 对。"
   ]
  },
  {
   "cell_type": "markdown",
   "id": "1809be6b",
   "metadata": {},
   "source": [
    "#### items()、keys()、values()\n",
    "items()、keys()、values() 分别用于获取字典中的所有 key-value 对、所有 key、所有 value。这三个方法依次返回 dict_items、dict_keys 和 dict_values 对象，Python 不希望用户直接操作这几个方法，但可通过 list() 函数把它们转换成列表。"
   ]
  },
  {
   "cell_type": "code",
   "execution_count": 11,
   "id": "97689f34",
   "metadata": {
    "scrolled": true
   },
   "outputs": [
    {
     "name": "stdout",
     "output_type": "stream",
     "text": [
      "<class 'dict_items'>\n",
      "[('BMW', 8.5), ('BENS', 8.3), ('AUDI', 7.9)]\n",
      "('BENS', 8.3)\n",
      "<class 'dict_keys'>\n",
      "['BMW', 'BENS', 'AUDI']\n",
      "BENS\n",
      "<class 'dict_values'>\n",
      "8.3\n"
     ]
    }
   ],
   "source": [
    "cars = {'BMW': 8.5, 'BENS': 8.3, 'AUDI': 7.9}\n",
    "# 获取字典所有的key-value对，返回一个dict_items对象\n",
    "ims = cars.items()\n",
    "print(type(ims)) # <class 'dict_items'>\n",
    "# 将dict_items转换成列表\n",
    "print(list(ims)) # [('BMW', 8.5), ('BENS', 8.3), ('AUDI', 7.9)]\n",
    "# 访问第2个key-value对\n",
    "print(list(ims)[1]) # ('BENS', 8.3)\n",
    "# 获取字典所有的key，返回一个dict_keys对象\n",
    "kys = cars.keys()\n",
    "print(type(kys)) # <class 'dict_keys'>\n",
    "# 将dict_keys转换成列表\n",
    "print(list(kys)) # ['BMW', 'BENS', 'AUDI']\n",
    "# 访问第2个key\n",
    "print(list(kys)[1]) # 'BENS'\n",
    "# 获取字典所有的value，返回一个dict_values对象\n",
    "vals = cars.values()\n",
    "# 将dict_values转换成列表\n",
    "print(type(vals)) # [8.5, 8.3, 7.9]\n",
    "# 访问第2个value\n",
    "print(list(vals)[1]) # 8.3"
   ]
  },
  {
   "cell_type": "code",
   "execution_count": 12,
   "id": "59449fc6",
   "metadata": {},
   "outputs": [
    {
     "name": "stdout",
     "output_type": "stream",
     "text": [
      "BMW 8.5\n",
      "BENS 8.3\n",
      "AUDI 7.9\n"
     ]
    }
   ],
   "source": [
    "for key,value in cars.items():\n",
    "    print(key,value)"
   ]
  },
  {
   "cell_type": "markdown",
   "id": "1cf3a31f",
   "metadata": {},
   "source": [
    "#### pop()\n",
    "pop() 方法用于获取指定 key 对应的 value，并删除这个 key-value 对。"
   ]
  },
  {
   "cell_type": "code",
   "execution_count": 2,
   "id": "496abb7b",
   "metadata": {},
   "outputs": [
    {
     "name": "stdout",
     "output_type": "stream",
     "text": [
      "7.9\n",
      "{'BMW': 8.5, 'BENS': 8.3}\n"
     ]
    }
   ],
   "source": [
    "cars = {'BMW': 8.5, 'BENS': 8.3, 'AUDI': 7.9}\n",
    "print(cars.pop('AUDI')) # 7.9\n",
    "print(cars) # {'BMW': 8.5, 'BENS': 8.3}"
   ]
  },
  {
   "cell_type": "markdown",
   "id": "a262f71f",
   "metadata": {},
   "source": [
    "#### popitem()方法\n",
    "popitem() 方法用于随机弹出字典中的一个 key-value 对。此处的随机其实是假的，正如列表的 pop() 方法总是弹出列表中最后一个元素，实际上字典的 popitem() 其实也是弹出字典中最后一个 key-value 对。由于字典存储 key-value 对的顺序是不可知的，因此开发者感觉字典的 popitem() 方法是“随机”弹出的，但实际上字典的 popitem() 方法总是弹出底层存储的最后一个 key-value 对。"
   ]
  },
  {
   "cell_type": "code",
   "execution_count": 3,
   "id": "4777329c",
   "metadata": {
    "scrolled": false
   },
   "outputs": [
    {
     "name": "stdout",
     "output_type": "stream",
     "text": [
      "{'AUDI': 7.9, 'BENS': 8.3, 'BMW': 8.5}\n",
      "('BMW', 8.5)\n",
      "{'AUDI': 7.9, 'BENS': 8.3}\n"
     ]
    }
   ],
   "source": [
    "cars = {'AUDI': 7.9, 'BENS': 8.3, 'BMW': 8.5}\n",
    "print(cars)\n",
    "# 弹出字典底层存储的最后一个key-value对\n",
    "print(cars.popitem()) # ('AUDI', 7.9)\n",
    "print(cars) # {'BMW': 8.5, 'BENS': 8.3}"
   ]
  },
  {
   "cell_type": "markdown",
   "id": "13eb1c91",
   "metadata": {},
   "source": [
    "由于实际上 popitem 弹出的就是一个元组，因此程序完全可以通过序列解包的方式用两个变量分别接收 key 和 value。"
   ]
  },
  {
   "cell_type": "code",
   "execution_count": 4,
   "id": "29815d45",
   "metadata": {},
   "outputs": [
    {
     "name": "stdout",
     "output_type": "stream",
     "text": [
      "BENS 8.3\n"
     ]
    }
   ],
   "source": [
    "# 将弹出项的key赋值给k、value赋值给v\n",
    "k, v = cars.popitem()\n",
    "print(k, v) # BENS 8.3"
   ]
  },
  {
   "cell_type": "markdown",
   "id": "42548f1e",
   "metadata": {},
   "source": [
    "#### setdefault()方法\n",
    "setdefault() 方法也用于根据 key 来获取对应 value 的值。但该方法有一个额外的功能，即当程序要获取的 key 在字典中不存在时，该方法会先为这个不存在的 key 设置一个默认的 value，然后再返回该 key 对应的 value。\n",
    "\n",
    "总之，setdefault() 方法总能返回指定 key 对应的 value；如果该 key-value 对存在，则直接返回该 key 对应的 value；如果该 key-value 对不存在，则先为该 key 设置默认的 value，然后再返回该 key 对应的 value。"
   ]
  },
  {
   "cell_type": "code",
   "execution_count": 13,
   "id": "94d10ab7",
   "metadata": {},
   "outputs": [
    {
     "name": "stdout",
     "output_type": "stream",
     "text": [
      "9.2\n",
      "{'BMW': 8.5, 'BENS': 8.3, 'AUDI': 7.9, 'PORSCHE': 9.2}\n",
      "8.5\n",
      "{'BMW': 8.5, 'BENS': 8.3, 'AUDI': 7.9, 'PORSCHE': 9.2}\n"
     ]
    }
   ],
   "source": [
    "cars = {'BMW': 8.5, 'BENS': 8.3, 'AUDI': 7.9}\n",
    "# 设置默认值，该key在dict中不存在，新增key-value对\n",
    "print(cars.setdefault('PORSCHE', 9.2)) # 9.2\n",
    "print(cars)\n",
    "# 设置默认值，该key在dict中存在，不会修改dict内容\n",
    "print(cars.setdefault('BMW', 3.4)) # 8.5\n",
    "print(cars)"
   ]
  },
  {
   "cell_type": "markdown",
   "id": "f60e0083",
   "metadata": {},
   "source": [
    "#### fromkeys()方法\n",
    "fromkeys() 方法使用给定的多个 key 创建字典，这些 key 对应的 value 默认都是 None；也可以额外传入一个参数作为默认的 value。该方法一般不会使用字典对象调用（没什么意义），通常会使用 dict 类直接调用。"
   ]
  },
  {
   "cell_type": "code",
   "execution_count": 14,
   "id": "f5a80fae",
   "metadata": {},
   "outputs": [
    {
     "name": "stdout",
     "output_type": "stream",
     "text": [
      "{'a': None, 'b': None}\n",
      "{13: None, 17: None}\n",
      "{13: 'good', 17: 'good'}\n"
     ]
    }
   ],
   "source": [
    "# 使用列表创建包含2个key的字典\n",
    "a_dict = dict.fromkeys(['a', 'b'])\n",
    "print(a_dict) # {'a': None, 'b': None}\n",
    "# 使用元组创建包含2个key的字典\n",
    "b_dict = dict.fromkeys((13, 17))\n",
    "print(b_dict) # {13: None, 17: None}\n",
    "# 使用元组创建包含2个key的字典，指定默认的value\n",
    "c_dict = dict.fromkeys((13, 17), 'good')\n",
    "print(c_dict) # {13: 'good', 17: 'good'}"
   ]
  },
  {
   "cell_type": "markdown",
   "id": "1bda1dbd",
   "metadata": {},
   "source": [
    "## 集合"
   ]
  },
  {
   "cell_type": "markdown",
   "id": "e1f11afe",
   "metadata": {},
   "source": [
    "### 集合的定义及创建\n",
    "集合是包含若干元素的列表，其特点是元素无序且无重复元素。"
   ]
  },
  {
   "cell_type": "markdown",
   "id": "fbbefa1e",
   "metadata": {},
   "source": [
    "### 集合作用\n",
    "去重（如：列表去重）；\n",
    "关系测试（如：取交集、取并集、取差集等）"
   ]
  },
  {
   "cell_type": "markdown",
   "id": "14ef7597",
   "metadata": {},
   "source": [
    "### 创建集合"
   ]
  },
  {
   "cell_type": "code",
   "execution_count": 4,
   "id": "4a42b1df",
   "metadata": {},
   "outputs": [
    {
     "name": "stdout",
     "output_type": "stream",
     "text": [
      "{'eraser', 'pen', 'pencil', 'ruler'}\n"
     ]
    },
    {
     "data": {
      "text/plain": [
       "set"
      ]
     },
     "execution_count": 4,
     "metadata": {},
     "output_type": "execute_result"
    }
   ],
   "source": [
    "# 创建集合\n",
    "drawer = {'pen','pencil','ruler','eraser'} \n",
    "print(drawer)\n",
    "type(drawer)"
   ]
  },
  {
   "cell_type": "code",
   "execution_count": 6,
   "id": "19c5c253",
   "metadata": {},
   "outputs": [
    {
     "name": "stdout",
     "output_type": "stream",
     "text": [
      "set()\n"
     ]
    },
    {
     "data": {
      "text/plain": [
       "set"
      ]
     },
     "execution_count": 6,
     "metadata": {},
     "output_type": "execute_result"
    }
   ],
   "source": [
    "# 创建空集合\n",
    "set_type = set()\n",
    "print(set_type)\n",
    "type(set_type)"
   ]
  },
  {
   "cell_type": "code",
   "execution_count": 7,
   "id": "687727a7",
   "metadata": {},
   "outputs": [
    {
     "data": {
      "text/plain": [
       "dict"
      ]
     },
     "execution_count": 7,
     "metadata": {},
     "output_type": "execute_result"
    }
   ],
   "source": [
    "# 注意，创建空集合必须使用 set( ) 函数\n",
    "set_type = {}\n",
    "type(set_type)"
   ]
  },
  {
   "cell_type": "markdown",
   "id": "7dce9460",
   "metadata": {},
   "source": [
    "### 集合的运算"
   ]
  },
  {
   "cell_type": "code",
   "execution_count": 8,
   "id": "ffe78492",
   "metadata": {},
   "outputs": [
    {
     "data": {
      "text/plain": [
       "({1, 2, 3, 5, 7, 8}, {0, 1, 4, 6, 8, 9})"
      ]
     },
     "execution_count": 8,
     "metadata": {},
     "output_type": "execute_result"
    }
   ],
   "source": [
    "list1 = [1,2,3,5,7,8]\n",
    "list2 = [0,1,4,6,8,9]\n",
    "s1 = set(list1)\n",
    "s2 = set(list2)\n",
    "s1,s2"
   ]
  },
  {
   "cell_type": "code",
   "execution_count": 9,
   "id": "85203c32",
   "metadata": {},
   "outputs": [
    {
     "name": "stdout",
     "output_type": "stream",
     "text": [
      "{0, 1, 2, 3, 4, 5, 6, 7, 8, 9}\n",
      "{0, 1, 2, 3, 4, 5, 6, 7, 8, 9}\n"
     ]
    }
   ],
   "source": [
    "# 并集\n",
    "print(s1 | s2)\n",
    "print(s1.union(s2))#返回两个集合的并集"
   ]
  },
  {
   "cell_type": "code",
   "execution_count": 10,
   "id": "dc54206e",
   "metadata": {},
   "outputs": [
    {
     "name": "stdout",
     "output_type": "stream",
     "text": [
      "{8, 1}\n",
      "{8, 1}\n",
      "{1, 2, 3, 5, 7, 8}\n"
     ]
    }
   ],
   "source": [
    "#交集\n",
    "print(s1&s2)\n",
    "print(s1.intersection(s2))# 返回集合的交集，可以多个集合\n",
    "print(s1)"
   ]
  },
  {
   "cell_type": "code",
   "execution_count": 11,
   "id": "41f6a1e2",
   "metadata": {},
   "outputs": [
    {
     "data": {
      "text/plain": [
       "{1, 8}"
      ]
     },
     "execution_count": 11,
     "metadata": {},
     "output_type": "execute_result"
    }
   ],
   "source": [
    "#返回集合的交集，可以多个集合\n",
    "#不同于 intersection() 方法，因为 intersection() 方法是返回一个新的集合，此方法是在原始的集合上移除不重叠的元素。\n",
    "s1.intersection_update(s2)\n",
    "s1"
   ]
  },
  {
   "cell_type": "code",
   "execution_count": null,
   "id": "8f1b40d3",
   "metadata": {},
   "outputs": [],
   "source": [
    "# 差集\n",
    "print(s1-s2)\n",
    "print(s1.difference(s2))# 返回多个集合的差集"
   ]
  },
  {
   "cell_type": "code",
   "execution_count": 12,
   "id": "a42b00be",
   "metadata": {},
   "outputs": [
    {
     "name": "stdout",
     "output_type": "stream",
     "text": [
      "{0, 4, 6, 9}\n",
      "{0, 4, 6, 9}\n"
     ]
    }
   ],
   "source": [
    "# 对称差集，交集的补集\n",
    "print(s1^s2)\n",
    "print(s1.symmetric_difference(s2))# 返回两个集合中不重复的元素集合。"
   ]
  },
  {
   "cell_type": "markdown",
   "id": "9cfcbe41",
   "metadata": {},
   "source": [
    "### 集合内置方法"
   ]
  },
  {
   "cell_type": "code",
   "execution_count": null,
   "id": "0d8f66d6",
   "metadata": {},
   "outputs": [],
   "source": [
    "add()\n",
    "clear()\n",
    "copy()\n",
    "difference()\n",
    "difference_update()\n",
    "discard()\n",
    "intersection()\n",
    "intersection_update()\n",
    "isdisjoint()\n",
    "issubset()\n",
    "issuperset()\n",
    "pop()\n",
    "remove()\n",
    "symmetric_difference()\n",
    "symmetric_difference_update()\n",
    "union()\n",
    "update()\n"
   ]
  },
  {
   "cell_type": "code",
   "execution_count": 13,
   "id": "a7877314",
   "metadata": {},
   "outputs": [
    {
     "data": {
      "text/plain": [
       "{1, 2, 3, 4, 5, 6, 's'}"
      ]
     },
     "execution_count": 13,
     "metadata": {},
     "output_type": "execute_result"
    }
   ],
   "source": [
    "# add()# 为集合添加元素\n",
    "s = {1, 2, 3, 4, 5, 6}\n",
    "s.add(\"s\")\n",
    "s"
   ]
  },
  {
   "cell_type": "code",
   "execution_count": 14,
   "id": "c95c7fac",
   "metadata": {},
   "outputs": [
    {
     "data": {
      "text/plain": [
       "set()"
      ]
     },
     "execution_count": 14,
     "metadata": {},
     "output_type": "execute_result"
    }
   ],
   "source": [
    "# clear()# 移除集合中的所有元素\n",
    "s = {1, 2, 3, 4, 5, 6}\n",
    "s.clear()\n",
    "s"
   ]
  },
  {
   "cell_type": "code",
   "execution_count": 15,
   "id": "0ca1668d",
   "metadata": {},
   "outputs": [
    {
     "data": {
      "text/plain": [
       "{1, 2, 3, 4, 5, 6}"
      ]
     },
     "execution_count": 15,
     "metadata": {},
     "output_type": "execute_result"
    }
   ],
   "source": [
    "# copy()# 拷贝一个集合\n",
    "s = {1, 2, 3, 4, 5, 6}\n",
    "new_s = s.copy()\n",
    "new_s"
   ]
  },
  {
   "cell_type": "code",
   "execution_count": 16,
   "id": "16f22731",
   "metadata": {},
   "outputs": [
    {
     "name": "stdout",
     "output_type": "stream",
     "text": [
      "{1}\n",
      "{1, 4}\n"
     ]
    }
   ],
   "source": [
    "# difference_update()# 移除集合中的元素，该元素在指定的集合也存在。\n",
    "s = {1, 2, 3}\n",
    "s1 = {1, 2, 3, 4}\n",
    "s2 = {2, 3}\n",
    "s.difference_update(s2)\n",
    "print(s)\n",
    "s1.difference_update(s2)\n",
    "print(s1)"
   ]
  },
  {
   "cell_type": "code",
   "execution_count": 17,
   "id": "1f32f353",
   "metadata": {},
   "outputs": [
    {
     "data": {
      "text/plain": [
       "{1, 2, 3, 4, 5, 6}"
      ]
     },
     "execution_count": 17,
     "metadata": {},
     "output_type": "execute_result"
    }
   ],
   "source": [
    "# discard()# 删除集合中指定的元素（如果元素不存在，则不执行任何操作）\n",
    "s = {1, 2, 3, 4, 5, 6}\n",
    "s.discard(\"sb\")\n",
    "s"
   ]
  },
  {
   "cell_type": "code",
   "execution_count": 19,
   "id": "194d252b",
   "metadata": {},
   "outputs": [
    {
     "name": "stdout",
     "output_type": "stream",
     "text": [
      "True\n",
      "False\n"
     ]
    }
   ],
   "source": [
    "# isdisjoint()# 判断两个集合是否包含相同的元素，如果没有返回 True，否则返回 False。\n",
    "s = {1, 2}\n",
    "s1 = {3, 4}\n",
    "s2 = {2, 3}\n",
    "print(s.isdisjoint(s1))\n",
    "print(s.isdisjoint(s2))"
   ]
  },
  {
   "cell_type": "code",
   "execution_count": 18,
   "id": "e0948491",
   "metadata": {},
   "outputs": [
    {
     "name": "stdout",
     "output_type": "stream",
     "text": [
      "True\n",
      "False\n"
     ]
    }
   ],
   "source": [
    "# issubset()# 判断指定集合是否为该方法参数集合的子集。\n",
    "s = {1, 2, 3}\n",
    "s1 = {1, 2, 3, 4}\n",
    "s2 = {2, 3}\n",
    "print(s.issubset(s1))\n",
    "print(s.issubset(s2))"
   ]
  },
  {
   "cell_type": "code",
   "execution_count": 20,
   "id": "08588174",
   "metadata": {},
   "outputs": [
    {
     "name": "stdout",
     "output_type": "stream",
     "text": [
      "False\n",
      "True\n"
     ]
    }
   ],
   "source": [
    "# issuperset()# 判断该方法的参数集合是否为指定集合的子集\n",
    "s = {1, 2, 3}\n",
    "s1 = {1, 2, 3, 4}\n",
    "s2 = {2, 3}\n",
    "print(s.issuperset(s1))\n",
    "print(s.issuperset(s2))"
   ]
  },
  {
   "cell_type": "code",
   "execution_count": 15,
   "id": "1f782e6c",
   "metadata": {},
   "outputs": [
    {
     "name": "stdout",
     "output_type": "stream",
     "text": [
      "1\n",
      "{2, 3, 4, 5, 6}\n"
     ]
    }
   ],
   "source": [
    "# pop()# 随机移除元素\n",
    "s = {1, 2, 3, 4, 5, 6}\n",
    "print(s.pop()) # pop删除时是无序的随机删除\n",
    "print(s)"
   ]
  },
  {
   "cell_type": "code",
   "execution_count": 22,
   "id": "e15ff084",
   "metadata": {},
   "outputs": [
    {
     "data": {
      "text/plain": [
       "{1, 2, 4, 5, 6}"
      ]
     },
     "execution_count": 22,
     "metadata": {},
     "output_type": "execute_result"
    }
   ],
   "source": [
    "# remove()# 移除指定元素\n",
    "s = {1, 2, 3, 4, 5, 6}\n",
    "s.remove(3)\n",
    "s"
   ]
  },
  {
   "cell_type": "code",
   "execution_count": 23,
   "id": "0a426976",
   "metadata": {},
   "outputs": [
    {
     "name": "stdout",
     "output_type": "stream",
     "text": [
      "{4}\n",
      "{2, 3, 4}\n",
      "{1}\n"
     ]
    }
   ],
   "source": [
    "# symmetric_difference_update()# 移除当前集合中在另外一个指定集合相同的元素，并将另外一个指定集合中不同的元素插入到当前集合中。\n",
    "s = {1, 2, 3}\n",
    "s1 = {1, 2, 3, 4}\n",
    "s2 = {2, 3}\n",
    "s1.symmetric_difference_update(s)\n",
    "print(s1)\n",
    "s1.symmetric_difference_update(s2)\n",
    "print(s1)\n",
    "s.symmetric_difference_update(s2)\n",
    "print(s)"
   ]
  },
  {
   "cell_type": "code",
   "execution_count": 24,
   "id": "c420654e",
   "metadata": {},
   "outputs": [
    {
     "name": "stdout",
     "output_type": "stream",
     "text": [
      "{'t', 'h', 'p', 'y', 'o', 'n'}\n",
      "{'t', 'e', 'h', 'H', 'p', 'y', 'o', 'n', 'l'}\n"
     ]
    }
   ],
   "source": [
    "# update()# 给集合添加元素\n",
    "s = {'p', 'y'}\n",
    "s.update(['t', 'h', 'o', 'n'])    # 添加多个元素\n",
    "print(s)\n",
    "s.update(['H', 'e'], {'l', 'l', 'o'})    # 添加列表和集合\n",
    "print(s)"
   ]
  }
 ],
 "metadata": {
  "kernelspec": {
   "display_name": "Python 3 (ipykernel)",
   "language": "python",
   "name": "python3"
  },
  "language_info": {
   "codemirror_mode": {
    "name": "ipython",
    "version": 3
   },
   "file_extension": ".py",
   "mimetype": "text/x-python",
   "name": "python",
   "nbconvert_exporter": "python",
   "pygments_lexer": "ipython3",
   "version": "3.8.6"
  },
  "toc": {
   "base_numbering": 1,
   "nav_menu": {},
   "number_sections": true,
   "sideBar": true,
   "skip_h1_title": false,
   "title_cell": "Table of Contents",
   "title_sidebar": "Contents",
   "toc_cell": false,
   "toc_position": {},
   "toc_section_display": true,
   "toc_window_display": true
  }
 },
 "nbformat": 4,
 "nbformat_minor": 5
}
