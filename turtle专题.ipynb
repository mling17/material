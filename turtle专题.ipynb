{
 "cells": [
  {
   "cell_type": "markdown",
   "id": "1b74e48c",
   "metadata": {
    "toc": true
   },
   "source": [
    "<h1>Table of Contents<span class=\"tocSkip\"></span></h1>\n",
    "<div class=\"toc\"><ul class=\"toc-item\"><li><span><a href=\"#turtle绘图\" data-toc-modified-id=\"turtle绘图-1\"><span class=\"toc-item-num\">1&nbsp;&nbsp;</span>turtle绘图</a></span><ul class=\"toc-item\"><li><span><a href=\"#海龟动作\" data-toc-modified-id=\"海龟动作-1.1\"><span class=\"toc-item-num\">1.1&nbsp;&nbsp;</span>海龟动作</a></span><ul class=\"toc-item\"><li><span><a href=\"#移动和绘制\" data-toc-modified-id=\"移动和绘制-1.1.1\"><span class=\"toc-item-num\">1.1.1&nbsp;&nbsp;</span>移动和绘制</a></span></li><li><span><a href=\"#获取海龟状态\" data-toc-modified-id=\"获取海龟状态-1.1.2\"><span class=\"toc-item-num\">1.1.2&nbsp;&nbsp;</span>获取海龟状态</a></span></li><li><span><a href=\"#度量单位设置\" data-toc-modified-id=\"度量单位设置-1.1.3\"><span class=\"toc-item-num\">1.1.3&nbsp;&nbsp;</span>度量单位设置</a></span></li></ul></li><li><span><a href=\"#画笔控制\" data-toc-modified-id=\"画笔控制-1.2\"><span class=\"toc-item-num\">1.2&nbsp;&nbsp;</span>画笔控制</a></span><ul class=\"toc-item\"><li><span><a href=\"#绘图状态\" data-toc-modified-id=\"绘图状态-1.2.1\"><span class=\"toc-item-num\">1.2.1&nbsp;&nbsp;</span>绘图状态</a></span></li><li><span><a href=\"#颜色控制\" data-toc-modified-id=\"颜色控制-1.2.2\"><span class=\"toc-item-num\">1.2.2&nbsp;&nbsp;</span>颜色控制</a></span></li><li><span><a href=\"#填充\" data-toc-modified-id=\"填充-1.2.3\"><span class=\"toc-item-num\">1.2.3&nbsp;&nbsp;</span>填充</a></span></li><li><span><a href=\"#更多绘图控制\" data-toc-modified-id=\"更多绘图控制-1.2.4\"><span class=\"toc-item-num\">1.2.4&nbsp;&nbsp;</span>更多绘图控制</a></span></li></ul></li><li><span><a href=\"#海龟状态\" data-toc-modified-id=\"海龟状态-1.3\"><span class=\"toc-item-num\">1.3&nbsp;&nbsp;</span>海龟状态</a></span><ul class=\"toc-item\"><li><span><a href=\"#可见性\" data-toc-modified-id=\"可见性-1.3.1\"><span class=\"toc-item-num\">1.3.1&nbsp;&nbsp;</span>可见性</a></span></li><li><span><a href=\"#外观\" data-toc-modified-id=\"外观-1.3.2\"><span class=\"toc-item-num\">1.3.2&nbsp;&nbsp;</span>外观</a></span></li></ul></li><li><span><a href=\"#使用事件\" data-toc-modified-id=\"使用事件-1.4\"><span class=\"toc-item-num\">1.4&nbsp;&nbsp;</span>使用事件</a></span></li><li><span><a href=\"#特殊海龟方法\" data-toc-modified-id=\"特殊海龟方法-1.5\"><span class=\"toc-item-num\">1.5&nbsp;&nbsp;</span>特殊海龟方法</a></span></li></ul></li></ul></div>"
   ]
  },
  {
   "cell_type": "markdown",
   "id": "7fdcf3f8",
   "metadata": {},
   "source": [
    "# turtle绘图\n",
    "turtle库是Python语言中一个很流行的绘制图像的函数库"
   ]
  },
  {
   "cell_type": "code",
   "execution_count": 1,
   "id": "dcea5741",
   "metadata": {},
   "outputs": [],
   "source": [
    "# 使用tutle时必须先导入turtle库\n",
    "import turtle"
   ]
  },
  {
   "cell_type": "markdown",
   "id": "40bf145b",
   "metadata": {},
   "source": [
    "## 海龟动作"
   ]
  },
  {
   "cell_type": "markdown",
   "id": "53d6b77e",
   "metadata": {},
   "source": [
    "### 移动和绘制"
   ]
  },
  {
   "cell_type": "code",
   "execution_count": 3,
   "id": "a12069be",
   "metadata": {},
   "outputs": [],
   "source": [
    "# fd为forward的简写，两个方法效果一样\n",
    "turtle.forward(distance)\n",
    "turtle.fd(distance)"
   ]
  },
  {
   "cell_type": "markdown",
   "id": "d9cb3799",
   "metadata": {},
   "source": [
    "参数：\n",
    "distance – 一个数值 (整型或浮点型)\n",
    "\n",
    "作用：\n",
    "海龟前进 distance 指定的距离，方向为海龟的朝向"
   ]
  },
  {
   "cell_type": "code",
   "execution_count": null,
   "id": "91b53400",
   "metadata": {},
   "outputs": [],
   "source": [
    "# 三个方法效果一样\n",
    "turtle.back(distance)\n",
    "turtle.bk(distance)\n",
    "turtle.backward(distance)"
   ]
  },
  {
   "cell_type": "markdown",
   "id": "26f07422",
   "metadata": {},
   "source": [
    "参数：\n",
    "distance – 一个数值\n",
    "\n",
    "作用：\n",
    "海龟后退 distance 指定的距离，方向与海龟的朝向相反。不改变海龟的朝向"
   ]
  },
  {
   "cell_type": "code",
   "execution_count": null,
   "id": "455fb043",
   "metadata": {},
   "outputs": [],
   "source": [
    "# 顺时针旋转angle度\n",
    "turtle.right(angle)\n",
    "turtle.rt(angle)"
   ]
  },
  {
   "cell_type": "markdown",
   "id": "e9d0a898",
   "metadata": {},
   "source": [
    "参数：\n",
    "angle – 一个数值 (整型或浮点型)\n",
    "\n",
    "作用：\n",
    "海龟右转 angle 个单位。(单位默认为角度，但可通过 degrees() 和 radians() 函数改变设置。)"
   ]
  },
  {
   "cell_type": "code",
   "execution_count": null,
   "id": "c489ce7d",
   "metadata": {},
   "outputs": [],
   "source": [
    "# 逆时针旋转angle度\n",
    "turtle.left(angle)\n",
    "turtle.lt(angle)"
   ]
  },
  {
   "cell_type": "markdown",
   "id": "7f4d0588",
   "metadata": {},
   "source": [
    "参数：\n",
    "angle – 一个数值 (整型或浮点型)\n",
    "\n",
    "作用：\n",
    "海龟左转 angle 个单位。(单位默认为角度，但可通过 degrees() 和 radians() 函数改变设置。)"
   ]
  },
  {
   "cell_type": "code",
   "execution_count": null,
   "id": "f1f7199b",
   "metadata": {},
   "outputs": [],
   "source": [
    "# 设置海归坐标\n",
    "turtle.goto(x,y=None)\n",
    "turtle.setpos(x,y=None)\n",
    "turtle.setposition(x,y=None)"
   ]
  },
  {
   "cell_type": "markdown",
   "id": "64453bdd",
   "metadata": {},
   "source": [
    "参数：\n",
    "\n",
    "x – 一个数值或数值对/向量\n",
    "\n",
    "y – 一个数值或 None\n",
    "\n",
    "如果 y 为 None，x 应为一个表示坐标的数值对或 Vec2D 类对象 (例如 pos() 返回的对象)."
   ]
  },
  {
   "cell_type": "code",
   "execution_count": null,
   "id": "625d0e6f",
   "metadata": {},
   "outputs": [],
   "source": [
    "# 单独设置海归的x或y的坐标\n",
    "turtle.setx(x)\n",
    "turtle.sety(y)"
   ]
  },
  {
   "cell_type": "markdown",
   "id": "edc33e79",
   "metadata": {},
   "source": [
    "参数：\n",
    "\n",
    "x – 一个数值 (整型或浮点型)\n",
    "\n",
    "y – 一个数值 (整型或浮点型)\n",
    "\n",
    "作用：\n",
    "\n",
    "设置海龟的横坐标为 x，纵坐标保持不变。\n",
    "\n",
    "设置海龟的纵坐标为 y，横坐标保持不变。"
   ]
  },
  {
   "cell_type": "code",
   "execution_count": null,
   "id": "bcb0acb9",
   "metadata": {},
   "outputs": [],
   "source": [
    "# 设置海龟朝向\n",
    "turtle.setheading(to_angle)\n",
    "turtle.seth(to_angle)"
   ]
  },
  {
   "cell_type": "markdown",
   "id": "17cd7414",
   "metadata": {},
   "source": [
    "参数：\n",
    "to_angle – 一个数值 (整型或浮点型)\n",
    "\n",
    "作用：\n",
    "设置海龟的朝向为 to_angle。"
   ]
  },
  {
   "cell_type": "code",
   "execution_count": null,
   "id": "60062f28",
   "metadata": {},
   "outputs": [],
   "source": [
    "# 设置海龟到初始状态\n",
    "turtle.home()"
   ]
  },
  {
   "cell_type": "markdown",
   "id": "c1b40e74",
   "metadata": {},
   "source": [
    "作用：\n",
    "海龟移至初始坐标 (0,0)，并设置朝向为初始方向 (由海龟模式确定，参见 mode())。\n",
    "\n"
   ]
  },
  {
   "cell_type": "code",
   "execution_count": null,
   "id": "7260b465",
   "metadata": {},
   "outputs": [],
   "source": [
    "# 绘制圆或多边形\n",
    "turtle.circle(radius,extent=None,steps=None)"
   ]
  },
  {
   "cell_type": "markdown",
   "id": "18f4b318",
   "metadata": {},
   "source": [
    "参数：\n",
    "\n",
    "radius – 一个数值 (整型或浮点型)，表示半径\n",
    "如果 radius 为正值则圆心在乌龟头的左边，否则圆心在乌龟头的右边。\n",
    "\n",
    "extent – 一个数值 (整型或浮点型)，表示角度\n",
    "如未指定 extent则绘制整个圆，指定角度（可以大于360°）则绘制圆弧。\n",
    "如果 radius 为正值则按乌龟的前进的方向，否则按乌龟的倒退的方向。\n",
    "\n",
    "steps – 一个整型数\n",
    "如未指定 steps则绘制圆弧，指定则绘制多边形(边数大于0)。\n",
    "\n",
    "作用：\n",
    "绘制一个 radius 指定半径的多边形部分。"
   ]
  },
  {
   "cell_type": "code",
   "execution_count": null,
   "id": "4cc91672",
   "metadata": {},
   "outputs": [],
   "source": [
    "# 画点\n",
    "turtle.dot(size=None,*color)"
   ]
  },
  {
   "cell_type": "markdown",
   "id": "fe643080",
   "metadata": {},
   "source": [
    "参数：\n",
    "\n",
    "size – 一个整型数 >= 1 (如果指定)\n",
    "如果 size 未指定，则直径取 pensize+4 和 2*pensize 中的最大值。\n",
    "\n",
    "color – 一个颜色字符串或颜色数值元组\n",
    "未指定则是画笔颜色。\n",
    "\n",
    "作用：\n",
    "绘制一个直径为 size，颜色为 color 的圆点。"
   ]
  },
  {
   "cell_type": "code",
   "execution_count": null,
   "id": "57a55315",
   "metadata": {},
   "outputs": [],
   "source": [
    "# 撤销动作\n",
    "turtle.undo()"
   ]
  },
  {
   "cell_type": "markdown",
   "id": "67cbf475",
   "metadata": {},
   "source": [
    "作用：\n",
    "撤消 (或连续撤消) 最近的一个 (或多个) 海龟动作。可撤消的次数由撤消缓冲区的大小决定。"
   ]
  },
  {
   "cell_type": "code",
   "execution_count": null,
   "id": "88be7d68",
   "metadata": {},
   "outputs": [],
   "source": [
    "# 设置画笔速度\n",
    "turtle.speed(speed=None)"
   ]
  },
  {
   "cell_type": "markdown",
   "id": "db698947",
   "metadata": {},
   "source": [
    "参数：\n",
    "\n",
    "speed – 一个 0到10 范围内的整型数或速度字符串\n",
    "\n",
    "无参：返回当前海龟的速度\n",
    "\n",
    "如果输入数值大于 10 或小于 0.5 则速度设为 0。\n",
    "\n",
    "作用：\n",
    "设置海龟移动的速度或返回当前海龟的速度。"
   ]
  },
  {
   "cell_type": "markdown",
   "id": "7ac8d148",
   "metadata": {},
   "source": [
    "### 获取海龟状态"
   ]
  },
  {
   "cell_type": "code",
   "execution_count": null,
   "id": "9978e1bf",
   "metadata": {},
   "outputs": [],
   "source": [
    "# 返回当前坐标\n",
    "turtle.position()\n",
    "turtle.pos()"
   ]
  },
  {
   "cell_type": "markdown",
   "id": "cf675e77",
   "metadata": {},
   "source": [
    "作用：\n",
    "返回海龟当前的坐标 (x,y) (为 Vec2D 矢量类对象)。"
   ]
  },
  {
   "cell_type": "code",
   "execution_count": null,
   "id": "28622715",
   "metadata": {},
   "outputs": [],
   "source": [
    "turtle.towards(x,y=None)"
   ]
  },
  {
   "cell_type": "markdown",
   "id": "6064f0ad",
   "metadata": {},
   "source": [
    "参数：\n",
    "\n",
    "x – 一个数值或数值对/矢量，或一个海龟实例\n",
    "\n",
    "y – 一个数值——如果 x 是一个数值，否则为 None\n",
    "\n",
    "作用：\n",
    "返回一个角度，从海龟位置到到 (x,y)的矢量到海龟初始朝向的矢量的夹角。"
   ]
  },
  {
   "cell_type": "code",
   "execution_count": null,
   "id": "05b91478",
   "metadata": {},
   "outputs": [],
   "source": [
    "turtle.xcor()\n",
    "turtle.ycore()"
   ]
  },
  {
   "cell_type": "markdown",
   "id": "2139131b",
   "metadata": {},
   "source": [
    "作用：\n",
    "\n",
    "返回海龟的 x 坐标。\n",
    "\n",
    "返回海龟的 y 坐标。"
   ]
  },
  {
   "cell_type": "code",
   "execution_count": null,
   "id": "a22f388b",
   "metadata": {},
   "outputs": [],
   "source": [
    "turtle.heading()"
   ]
  },
  {
   "cell_type": "markdown",
   "id": "e8ec637e",
   "metadata": {},
   "source": [
    "作用：\n",
    "返回海龟当前的朝向的角度"
   ]
  },
  {
   "cell_type": "code",
   "execution_count": null,
   "id": "d9476e5f",
   "metadata": {},
   "outputs": [],
   "source": [
    "turtle.distance(x,y=None)"
   ]
  },
  {
   "cell_type": "markdown",
   "id": "c525ff37",
   "metadata": {},
   "source": [
    "参数：\n",
    "\n",
    "x – 一个数值或数值对/矢量，或一个海龟实例\n",
    "\n",
    "y – 一个数值——如果 x 是一个数值，否则为 None\n",
    "\n",
    "作用：\n",
    "返回从海龟位置到 (x,y)的单位距离。"
   ]
  },
  {
   "cell_type": "markdown",
   "id": "eb7733fe",
   "metadata": {},
   "source": [
    "### 度量单位设置"
   ]
  },
  {
   "cell_type": "code",
   "execution_count": null,
   "id": "f6b88e49",
   "metadata": {},
   "outputs": [],
   "source": [
    "turtle.degrees(fullcircle=360.0)"
   ]
  },
  {
   "cell_type": "markdown",
   "id": "8dec84dc",
   "metadata": {},
   "source": [
    "参数：\n",
    "fullcircle – 一个数值\n",
    "\n",
    "作用：\n",
    "设置一个圆周为多少 “度”。默认值为 360 度。"
   ]
  },
  {
   "cell_type": "code",
   "execution_count": null,
   "id": "761d49a7",
   "metadata": {},
   "outputs": [],
   "source": [
    "turtle.radians()"
   ]
  },
  {
   "cell_type": "markdown",
   "id": "95ec8e78",
   "metadata": {},
   "source": [
    "作用：设置角度的度量单位为弧度。其值等于 度 ÷ 180 × π 度\\div 180 \\times \\pi度÷180×π。"
   ]
  },
  {
   "cell_type": "markdown",
   "id": "0cdff27a",
   "metadata": {},
   "source": [
    "## 画笔控制"
   ]
  },
  {
   "cell_type": "markdown",
   "id": "b021f01c",
   "metadata": {},
   "source": [
    "### 绘图状态"
   ]
  },
  {
   "cell_type": "code",
   "execution_count": null,
   "id": "17a17bea",
   "metadata": {},
   "outputs": [],
   "source": [
    "turtle.pendown()\n",
    "turtle.pd()\n",
    "turtle.down()"
   ]
  },
  {
   "cell_type": "markdown",
   "id": "87b7c7e7",
   "metadata": {},
   "source": [
    "作用：\n",
    "画笔落下 – 移动时将画线。"
   ]
  },
  {
   "cell_type": "code",
   "execution_count": null,
   "id": "d8cd68d8",
   "metadata": {},
   "outputs": [],
   "source": [
    "turtle.penup()\n",
    "turtle.pu()\n",
    "turtle.up()"
   ]
  },
  {
   "cell_type": "markdown",
   "id": "68ece231",
   "metadata": {},
   "source": [
    "作用：\n",
    "画笔抬起 – 移动时不画线。"
   ]
  },
  {
   "cell_type": "code",
   "execution_count": null,
   "id": "6fa43f4a",
   "metadata": {},
   "outputs": [],
   "source": [
    "turtle.pensize(width=None)\n",
    "turtle.width(width=None)"
   ]
  },
  {
   "cell_type": "markdown",
   "id": "a90388ee",
   "metadata": {},
   "source": [
    "参数：\n",
    "\n",
    "width – 一个正数值\n",
    "\n",
    "无参：返回画笔的线条粗细。\n",
    "\n",
    "作用：\n",
    "设置线条的粗细为 width 或返回该值。"
   ]
  },
  {
   "cell_type": "code",
   "execution_count": null,
   "id": "3089d43d",
   "metadata": {},
   "outputs": [],
   "source": [
    "turtle.isdown()"
   ]
  },
  {
   "cell_type": "markdown",
   "id": "1b042f67",
   "metadata": {},
   "source": [
    "作用：\n",
    "如果画笔落下返回 True，如果画笔抬起返回 False。"
   ]
  },
  {
   "cell_type": "markdown",
   "id": "0feae822",
   "metadata": {},
   "source": [
    "### 颜色控制"
   ]
  },
  {
   "cell_type": "code",
   "execution_count": null,
   "id": "ceb44e35",
   "metadata": {},
   "outputs": [],
   "source": [
    "turtle.pencolor(*args)"
   ]
  },
  {
   "cell_type": "markdown",
   "id": "6c915876",
   "metadata": {},
   "source": [
    "参数：\n",
    "\n",
    "pencolor()\n",
    "返回表示当前画笔颜色的颜色描述字符串或元组。\n",
    "\n",
    "pencolor(colorstring)\n",
    "设置画笔颜色为 colorstring 指定的 Tk 颜色描述字符串。\n",
    "如：turtle.pencolor(\"brown\")或turtle.pencolor('#32c18f')\n",
    "\n",
    "pencolor((r, g, b))\n",
    "设置画笔颜色为以 r, g, b 元组表示的 RGB 颜色。r, g, b 的取值范围应为0…colormode。\n",
    "如：turtle.pencolor((0.2, 0.8, 0.55))或turtle.pencolor((51.0, 204.0, 140.0))\n",
    "\n",
    "pencolor(r, g, b)\n",
    "设置画笔颜色为以 r, g, b 表示的 RGB 颜色。r, g, b 的取值范围应为 0…colormode。\n",
    "如：turtle.pencolor(0.2, 0.8, 0.55)或turtle.pencolor(51.0, 204.0, 140.0)\n",
    "\n",
    "作用：\n",
    "返回或设置画笔颜色。"
   ]
  },
  {
   "cell_type": "code",
   "execution_count": null,
   "id": "4f4b5f0f",
   "metadata": {},
   "outputs": [],
   "source": [
    "turtle.fillcolor(*args)"
   ]
  },
  {
   "cell_type": "markdown",
   "id": "2c380b1e",
   "metadata": {},
   "source": [
    "参数：同turtle.pencolor(*args)\n",
    "\n",
    "fillcolor()\n",
    "\n",
    "fillcolor(colorstring)\n",
    "\n",
    "fillcolor((r, g, b))\n",
    "\n",
    "fillcolor(r, g, b)\n",
    "\n",
    "作用：\n",
    "返回或设置填充颜色。"
   ]
  },
  {
   "cell_type": "code",
   "execution_count": null,
   "id": "76b8bcce",
   "metadata": {},
   "outputs": [],
   "source": [
    "turtle.color(*args)"
   ]
  },
  {
   "cell_type": "markdown",
   "id": "8fc8ba84",
   "metadata": {},
   "source": [
    "参数：\n",
    "\n",
    "color()\n",
    "返回以一对颜色描述字符串或元组表示的画笔颜色和填充颜色，两者可分别由 pencolor() 和 fillcolor() 返回。\n",
    "\n",
    "color(colorstring), color((r,g,b)), color(r,g,b)\n",
    "同时设置填充颜色和画笔颜色为指定的值。\n",
    "\n",
    "color(colorstring1, colorstring2), color((r1,g1,b1), (r2,g2,b2))\n",
    "相当于pencolor(colorstring1)加 fillcolor(colorstring2)\n",
    "\n",
    "作用：\n",
    "返回或设置画笔颜色和填充颜色。"
   ]
  },
  {
   "cell_type": "markdown",
   "id": "b46231bd",
   "metadata": {},
   "source": [
    "### 填充"
   ]
  },
  {
   "cell_type": "code",
   "execution_count": null,
   "id": "c6791021",
   "metadata": {},
   "outputs": [],
   "source": [
    "turtle.filling()"
   ]
  },
  {
   "cell_type": "markdown",
   "id": "26d6b810",
   "metadata": {},
   "source": [
    "作用：\n",
    "返回填充状态 (填充为 True，否则为 False)。"
   ]
  },
  {
   "cell_type": "code",
   "execution_count": null,
   "id": "9cf546e7",
   "metadata": {},
   "outputs": [],
   "source": [
    "turtle.begin_fill()\n",
    "turtle.end_fill()"
   ]
  },
  {
   "cell_type": "markdown",
   "id": "98ed4486",
   "metadata": {},
   "source": [
    "作用：\n",
    "在绘制要填充的形状之前调用。要配合turtle.end_fill()使用。\n",
    "\n",
    "填充上次调用 begin_fill() 之后绘制的形状。要配合turtle.begin_fill()使用。"
   ]
  },
  {
   "cell_type": "markdown",
   "id": "4d70c7fa",
   "metadata": {},
   "source": [
    "### 更多绘图控制"
   ]
  },
  {
   "cell_type": "code",
   "execution_count": null,
   "id": "9248dac7",
   "metadata": {},
   "outputs": [],
   "source": [
    "turtle.reset()"
   ]
  },
  {
   "cell_type": "markdown",
   "id": "40254191",
   "metadata": {},
   "source": [
    "作用：\n",
    "从屏幕中删除海龟的绘图，海龟回到原点并设置所有变量为默认值。"
   ]
  },
  {
   "cell_type": "code",
   "execution_count": null,
   "id": "903665cc",
   "metadata": {},
   "outputs": [],
   "source": [
    "turtle.clear()"
   ]
  },
  {
   "cell_type": "markdown",
   "id": "dbcf2451",
   "metadata": {},
   "source": [
    "作用：\n",
    "从屏幕中删除指定海龟的绘图。不移动海龟。海龟的状态和位置以及其他海龟的绘图不受影响。"
   ]
  },
  {
   "cell_type": "code",
   "execution_count": null,
   "id": "72928977",
   "metadata": {},
   "outputs": [],
   "source": [
    "turtle.write(arg,move=False,align='left',font=('Arial',8,'normal'))"
   ]
  },
  {
   "cell_type": "markdown",
   "id": "80321067",
   "metadata": {},
   "source": [
    "参数：\n",
    "\n",
    "arg – 要书写到 TurtleScreen 的对象\n",
    "如：\"something\"，123，(1,2)，[1,2,3]等\n",
    "\n",
    "move – True/False\n",
    "如果 move 为 True，画笔会移动到文本的右下角，这样文字就不会叠在一块了。\n",
    "\n",
    "align – 字符串 “left”, “center” 或 “right”\n",
    "align 指定对齐方式 (“left”, “center” 或 right\")\n",
    "\n",
    "font – 一个三元组 (fontname, fontsize, fonttype)\n",
    "font 指定字体\n",
    "\n",
    "作用：书写文本 - arg 指定的字符串 - 到当前海龟位置。"
   ]
  },
  {
   "cell_type": "markdown",
   "id": "c382a593",
   "metadata": {},
   "source": [
    "## 海龟状态"
   ]
  },
  {
   "cell_type": "markdown",
   "id": "e48c683f",
   "metadata": {},
   "source": [
    "### 可见性"
   ]
  },
  {
   "cell_type": "code",
   "execution_count": null,
   "id": "37898740",
   "metadata": {},
   "outputs": [],
   "source": [
    "turtle.hideturtle()\n",
    "turtle.ht()"
   ]
  },
  {
   "cell_type": "markdown",
   "id": "d0b02c33",
   "metadata": {},
   "source": [
    "作用：\n",
    "使海龟不可见。当你绘制复杂图形时这是个好主意，因为隐藏海龟可显著加快绘制速度。"
   ]
  },
  {
   "cell_type": "code",
   "execution_count": null,
   "id": "f89552db",
   "metadata": {},
   "outputs": [],
   "source": [
    "turtle.showturtle()\n",
    "turtle.st()"
   ]
  },
  {
   "cell_type": "markdown",
   "id": "6bcc4667",
   "metadata": {},
   "source": [
    "作用：\n",
    "使海龟可见。"
   ]
  },
  {
   "cell_type": "code",
   "execution_count": null,
   "id": "a17ec9c0",
   "metadata": {},
   "outputs": [],
   "source": [
    "turtle.isvisible()"
   ]
  },
  {
   "cell_type": "markdown",
   "id": "60c617fd",
   "metadata": {},
   "source": [
    "作用：\n",
    "如果海龟显示返回 True，如果海龟隐藏返回 False。"
   ]
  },
  {
   "cell_type": "markdown",
   "id": "5182ba38",
   "metadata": {},
   "source": [
    "### 外观"
   ]
  },
  {
   "cell_type": "code",
   "execution_count": null,
   "id": "61d56f57",
   "metadata": {},
   "outputs": [],
   "source": [
    "turtle.shape(name=None)"
   ]
  },
  {
   "cell_type": "markdown",
   "id": "58ec2c57",
   "metadata": {},
   "source": [
    "参数：\n",
    "\n",
    "name – 一个有效的形状名字符串\n",
    "\n",
    "无参：返回当前的形状名"
   ]
  },
  {
   "attachments": {
    "image.png": {
     "image/png": "[encoded data removed]"
    }
   },
   "cell_type": "markdown",
   "id": "495ab4d1",
   "metadata": {},
   "source": [
    "![image.png](attachment:image.png)"
   ]
  },
  {
   "cell_type": "code",
   "execution_count": null,
   "id": "a20b6569",
   "metadata": {},
   "outputs": [],
   "source": [
    "turtle.register_shape(name,shape=None)\n",
    "turtle.addshape(name,shape=None)"
   ]
  },
  {
   "cell_type": "markdown",
   "id": "e4d67354",
   "metadata": {},
   "source": [
    "调用此函数有三种不同方式:\n",
    "\n",
    "- name 为一个 gif 文件的文件名， shape 为 None: 安装相应的图像形状。:\n",
    "注解：当海龟转向时图像形状 不会 转动，因此无法显示海龟的朝向!\n",
    "\n",
    "- name 为指定的字符串，shape 为由坐标值对构成的元组: 安装相应的多边形形状。\n",
    "\n",
    "- name 为指定的字符串， 为一个 (复合) Shape 类对象: 安装相应的复合形状。\n",
    "\n",
    "作用：\n",
    "将一个海龟形状加入 TurtleScreen 的形状列表。只有这样注册过的形状才能通过执行 shape(shapename) 命令来使用。"
   ]
  },
  {
   "cell_type": "markdown",
   "id": "50a06209",
   "metadata": {},
   "source": [
    "## 使用事件"
   ]
  },
  {
   "cell_type": "code",
   "execution_count": null,
   "id": "d445df54",
   "metadata": {},
   "outputs": [],
   "source": [
    "turtle.onclick(fun,btn=1,add=None)"
   ]
  },
  {
   "cell_type": "markdown",
   "id": "904594fb",
   "metadata": {},
   "source": [
    "参数：\n",
    "\n",
    "fun – 一个函数，调用时将传入两个参数表示在画布上点击的坐标。\n",
    "如果 fun 值为 None，则移除现有的绑定。\n",
    "\n",
    "btn – 鼠标按钮编号，默认值为 1 (鼠标左键)\n",
    "左中右：1，2，3\n",
    "\n",
    "add – True 或 False – 如为 True 则将添加一个新绑定，否则将取代先前的绑定\n",
    "\n",
    "作用：\n",
    "将 fun 指定的函数绑定到鼠标点击此海龟引发事件或移除绑定。（注意，不是随便点，是点击海龟）"
   ]
  },
  {
   "cell_type": "code",
   "execution_count": null,
   "id": "d3fce8dc",
   "metadata": {},
   "outputs": [],
   "source": [
    "turtle.onrelease(fun,btn=1,add=None)"
   ]
  },
  {
   "cell_type": "markdown",
   "id": "5fbcb40a",
   "metadata": {},
   "source": [
    "参数：\n",
    "\n",
    "fun – 一个函数，调用时将传入两个参数表示在画布上点击的坐标。\n",
    "如果 fun 值为 None，则移除现有的绑定。\n",
    "\n",
    "btn – 鼠标按钮编号，默认值为 1 (鼠标左键)\n",
    "\n",
    "add – True 或 False – 如为 True 则将添加一个新绑定，否则将取代先前的绑定\n",
    "\n",
    "作用：\n",
    "将 fun 指定的函数绑定到在此海龟上释放鼠标按键事件。（注意，在海龟上点击后释放鼠标才有效，在别的地方点击把鼠标拖过来释放无效）"
   ]
  },
  {
   "cell_type": "code",
   "execution_count": null,
   "id": "b0a42a93",
   "metadata": {},
   "outputs": [],
   "source": [
    "turtle.ondrag(fun,btn=1,add=None)"
   ]
  },
  {
   "cell_type": "markdown",
   "id": "e79dc4a3",
   "metadata": {},
   "source": [
    "参数：\n",
    "\n",
    "fun – 一个函数，调用时将传入两个参数表示在画布上点击的坐标。\n",
    "如果 fun 值为 None，则移除现有的绑定。\n",
    "\n",
    "btn – 鼠标按钮编号，默认值为 1 (鼠标左键)\n",
    "\n",
    "add – True 或 False – 如为 True 则将添加一个新绑定，否则将取代先前的绑定\n",
    "\n",
    "作用：\n",
    "将 fun 指定的函数绑定到在此海龟上移动鼠标事件。"
   ]
  },
  {
   "cell_type": "markdown",
   "id": "2d301afe",
   "metadata": {},
   "source": [
    "## 特殊海龟方法"
   ]
  },
  {
   "cell_type": "code",
   "execution_count": null,
   "id": "91d2b710",
   "metadata": {},
   "outputs": [],
   "source": [
    "turtle.begin_poly()"
   ]
  },
  {
   "cell_type": "markdown",
   "id": "309757c1",
   "metadata": {},
   "source": [
    "作用：开始记录多边形的顶点。当前海龟位置为多边形的第一个顶点。"
   ]
  },
  {
   "cell_type": "code",
   "execution_count": null,
   "id": "2949816d",
   "metadata": {},
   "outputs": [],
   "source": [
    "turtle.end_poly()"
   ]
  },
  {
   "cell_type": "markdown",
   "id": "5a3c2aea",
   "metadata": {},
   "source": [
    "作用：停止记录多边形的顶点。当前海龟位置为多边形的最后一个顶点。它将连线到第一个顶点。"
   ]
  },
  {
   "cell_type": "code",
   "execution_count": null,
   "id": "28ce7425",
   "metadata": {},
   "outputs": [],
   "source": [
    "turtle.get_poly()"
   ]
  },
  {
   "cell_type": "markdown",
   "id": "cf2c4644",
   "metadata": {},
   "source": [
    "作用：返回最新记录的多边形。"
   ]
  },
  {
   "cell_type": "code",
   "execution_count": null,
   "id": "606f62d4",
   "metadata": {},
   "outputs": [],
   "source": []
  },
  {
   "cell_type": "code",
   "execution_count": null,
   "id": "2688c3ec",
   "metadata": {},
   "outputs": [],
   "source": []
  }
 ],
 "metadata": {
  "kernelspec": {
   "display_name": "Python 3 (ipykernel)",
   "language": "python",
   "name": "python3"
  },
  "language_info": {
   "codemirror_mode": {
    "name": "ipython",
    "version": 3
   },
   "file_extension": ".py",
   "mimetype": "text/x-python",
   "name": "python",
   "nbconvert_exporter": "python",
   "pygments_lexer": "ipython3",
   "version": "3.8.6"
  },
  "toc": {
   "base_numbering": 1,
   "nav_menu": {},
   "number_sections": true,
   "sideBar": true,
   "skip_h1_title": false,
   "title_cell": "Table of Contents",
   "title_sidebar": "Contents",
   "toc_cell": true,
   "toc_position": {
    "height": "calc(100% - 180px)",
    "left": "10px",
    "top": "150px",
    "width": "248.344px"
   },
   "toc_section_display": true,
   "toc_window_display": true
  }
 },
 "nbformat": 4,
 "nbformat_minor": 5
}
