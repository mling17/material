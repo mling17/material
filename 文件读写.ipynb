{
 "cells": [
  {
   "cell_type": "code",
   "execution_count": null,
   "id": "1b2cc19d",
   "metadata": {},
   "outputs": [],
   "source": [
    "【编程实现】\n",
    "回文数是指一个像 14641 这样“对称”的数，即：将这个数的各位数字按相反的顺序重\n",
    "新排列后，所得到的数和原来的数一样。请编程求不同位数数字的回文数的个数。\n",
    "用户输入一个正整数 M（2<M<7），M 作为回文数的位数。要求输出 M 位的回文数共\n",
    "有几个及这些回文数中有几个包含数字 99。\n",
    "输入描述：输入一个正整数 M\n",
    "输出描述：第一行输出回文数的个数；第二行输出 M 位的回文数中包含数字 99 的有几\n",
    "个。\n",
    "【样例输入】3\n",
    "【样例输出】90"
   ]
  },
  {
   "cell_type": "code",
   "execution_count": null,
   "id": "78cbff7d",
   "metadata": {},
   "outputs": [],
   "source": []
  },
  {
   "cell_type": "code",
   "execution_count": null,
   "id": "9e7bc7a4",
   "metadata": {},
   "outputs": [],
   "source": []
  },
  {
   "cell_type": "code",
   "execution_count": 68,
   "id": "00a44cd0",
   "metadata": {},
   "outputs": [
    {
     "name": "stdout",
     "output_type": "stream",
     "text": [
      "请输入数字位数3\n",
      "99\n",
      "999\n",
      "108\n",
      "2\n"
     ]
    }
   ],
   "source": [
    "m = int(input('请输入数字位数'))\n",
    "count=0\n",
    "count_1 = 0\n",
    "for i in range(1,int('9'*m)+1):\n",
    "    if str(i) == str(i)[::-1]:\n",
    "        count += 1\n",
    "        if '99' in str(i):\n",
    "            count_1 +=1\n",
    "            print(i)\n",
    "            \n",
    "print(count)\n",
    "print(count_1)"
   ]
  },
  {
   "cell_type": "code",
   "execution_count": null,
   "id": "19824b05",
   "metadata": {},
   "outputs": [],
   "source": []
  },
  {
   "cell_type": "code",
   "execution_count": null,
   "id": "fa2aa57b",
   "metadata": {},
   "outputs": [],
   "source": []
  },
  {
   "cell_type": "code",
   "execution_count": null,
   "id": "3285d0ab",
   "metadata": {},
   "outputs": [],
   "source": []
  },
  {
   "cell_type": "code",
   "execution_count": null,
   "id": "57d8d0c8",
   "metadata": {},
   "outputs": [],
   "source": []
  },
  {
   "cell_type": "code",
   "execution_count": null,
   "id": "7541ceb1",
   "metadata": {},
   "outputs": [],
   "source": []
  },
  {
   "cell_type": "code",
   "execution_count": null,
   "id": "f5cd9f32",
   "metadata": {},
   "outputs": [],
   "source": []
  },
  {
   "cell_type": "code",
   "execution_count": null,
   "id": "13507914",
   "metadata": {},
   "outputs": [],
   "source": [
    "文件读写"
   ]
  },
  {
   "cell_type": "code",
   "execution_count": 78,
   "id": "41a3eae3",
   "metadata": {},
   "outputs": [
    {
     "data": {
      "text/plain": [
       "<_io.TextIOWrapper name='./goods.txt' mode='r' encoding='UTF-8'>"
      ]
     },
     "execution_count": 78,
     "metadata": {},
     "output_type": "execute_result"
    }
   ],
   "source": [
    "f = open('./goods.txt','r')#句柄，只读\n",
    "# print(f.read(12))# 默认读取所有，可以指定读取的字符数\n",
    "f"
   ]
  },
  {
   "cell_type": "code",
   "execution_count": 74,
   "id": "306ffc57",
   "metadata": {},
   "outputs": [
    {
     "data": {
      "text/plain": [
       "'001,商品 1,类型 1,10;002,商品 2,类型 1,5;003,商品 3,类型 2,20'"
      ]
     },
     "execution_count": 74,
     "metadata": {},
     "output_type": "execute_result"
    }
   ],
   "source": [
    "f.read()"
   ]
  },
  {
   "cell_type": "code",
   "execution_count": 79,
   "id": "15bbcb06",
   "metadata": {},
   "outputs": [
    {
     "data": {
      "text/plain": [
       "'001'"
      ]
     },
     "execution_count": 79,
     "metadata": {},
     "output_type": "execute_result"
    }
   ],
   "source": [
    "f.read(3)"
   ]
  },
  {
   "cell_type": "code",
   "execution_count": 80,
   "id": "e4787440",
   "metadata": {},
   "outputs": [
    {
     "data": {
      "text/plain": [
       "',商品 1,类型 1,10;002,商品 2,类型 1,5;003,商品 3,类型 2,20\\n'"
      ]
     },
     "execution_count": 80,
     "metadata": {},
     "output_type": "execute_result"
    }
   ],
   "source": [
    "f.readline()"
   ]
  },
  {
   "cell_type": "code",
   "execution_count": 81,
   "id": "3256a1aa",
   "metadata": {
    "scrolled": true
   },
   "outputs": [
    {
     "data": {
      "text/plain": [
       "'Line2\\n'"
      ]
     },
     "execution_count": 81,
     "metadata": {},
     "output_type": "execute_result"
    }
   ],
   "source": [
    "f.readline()"
   ]
  },
  {
   "cell_type": "code",
   "execution_count": 83,
   "id": "f7665fd7",
   "metadata": {
    "scrolled": false
   },
   "outputs": [
    {
     "name": "stdout",
     "output_type": "stream",
     "text": [
      "001,商品 1,类型 1,10;002,商品 2,类型 1,5;003,商品 3,类型 2,20\n",
      "Line2\n",
      "Line3\n",
      "line4"
     ]
    }
   ],
   "source": [
    "f = open('./goods.txt','r')#句柄，只读\n",
    "for i in f:\n",
    "    print(i,end='')"
   ]
  },
  {
   "cell_type": "code",
   "execution_count": 84,
   "id": "0f144d0f",
   "metadata": {},
   "outputs": [
    {
     "name": "stdout",
     "output_type": "stream",
     "text": [
      "001,商品 1,类型 1,10;002,商品 2,类型 1,5;003,商品 3,类型 2,20\n",
      "Line2\n",
      "Line3\n",
      "line4\n"
     ]
    }
   ],
   "source": [
    "f = open('./goods.txt','r')\n",
    "print(f.read())\n",
    "f.close()"
   ]
  },
  {
   "cell_type": "code",
   "execution_count": 71,
   "id": "a4047e38",
   "metadata": {
    "scrolled": true
   },
   "outputs": [
    {
     "ename": "UnsupportedOperation",
     "evalue": "not writable",
     "output_type": "error",
     "traceback": [
      "\u001b[0;31m---------------------------------------------------------------------------\u001b[0m",
      "\u001b[0;31mUnsupportedOperation\u001b[0m                      Traceback (most recent call last)",
      "\u001b[0;32m/var/folders/7_/gl5k51h93z55mwsdpj89djpw0000gn/T/ipykernel_5425/2044774314.py\u001b[0m in \u001b[0;36m<module>\u001b[0;34m\u001b[0m\n\u001b[0;32m----> 1\u001b[0;31m \u001b[0mf\u001b[0m\u001b[0;34m.\u001b[0m\u001b[0mwrite\u001b[0m\u001b[0;34m(\u001b[0m\u001b[0;34m'test text'\u001b[0m\u001b[0;34m)\u001b[0m\u001b[0;34m\u001b[0m\u001b[0;34m\u001b[0m\u001b[0m\n\u001b[0m",
      "\u001b[0;31mUnsupportedOperation\u001b[0m: not writable"
     ]
    }
   ],
   "source": [
    "f.write('test text')"
   ]
  },
  {
   "cell_type": "code",
   "execution_count": 87,
   "id": "fe7ce4bc",
   "metadata": {},
   "outputs": [
    {
     "ename": "UnsupportedOperation",
     "evalue": "not readable",
     "output_type": "error",
     "traceback": [
      "\u001b[0;31m---------------------------------------------------------------------------\u001b[0m",
      "\u001b[0;31mUnsupportedOperation\u001b[0m                      Traceback (most recent call last)",
      "\u001b[0;32m/var/folders/7_/gl5k51h93z55mwsdpj89djpw0000gn/T/ipykernel_5425/2057237022.py\u001b[0m in \u001b[0;36m<module>\u001b[0;34m\u001b[0m\n\u001b[1;32m      1\u001b[0m \u001b[0mf\u001b[0m \u001b[0;34m=\u001b[0m \u001b[0mopen\u001b[0m\u001b[0;34m(\u001b[0m\u001b[0;34m'./goods1.txt'\u001b[0m\u001b[0;34m,\u001b[0m\u001b[0;34m'w'\u001b[0m\u001b[0;34m)\u001b[0m\u001b[0;34m\u001b[0m\u001b[0;34m\u001b[0m\u001b[0m\n\u001b[0;32m----> 2\u001b[0;31m \u001b[0mf\u001b[0m\u001b[0;34m.\u001b[0m\u001b[0mread\u001b[0m\u001b[0;34m(\u001b[0m\u001b[0;34m)\u001b[0m\u001b[0;34m\u001b[0m\u001b[0;34m\u001b[0m\u001b[0m\n\u001b[0m",
      "\u001b[0;31mUnsupportedOperation\u001b[0m: not readable"
     ]
    }
   ],
   "source": [
    "f = open('./goods1.txt','w')\n",
    "f.read()"
   ]
  },
  {
   "cell_type": "code",
   "execution_count": 88,
   "id": "e14e8ac2",
   "metadata": {},
   "outputs": [],
   "source": [
    "f = open('./goods1.txt','w')\n",
    "f.write('test text.  11111111')\n",
    "f.close()"
   ]
  },
  {
   "cell_type": "code",
   "execution_count": 90,
   "id": "07ab2d85",
   "metadata": {},
   "outputs": [],
   "source": [
    "f = open('./goods1.txt','w')\n",
    "f.close()# 只写模式会覆盖掉文档之前的内容\n"
   ]
  },
  {
   "cell_type": "code",
   "execution_count": 93,
   "id": "bca01be4",
   "metadata": {},
   "outputs": [],
   "source": [
    "f = open('./goods1.txt','a')\n",
    "f.write('\\nteeeeeeeeee')# 追加模式，可以在以前文档基础上添加内容\n",
    "f.close()"
   ]
  },
  {
   "cell_type": "code",
   "execution_count": 95,
   "id": "fc2b0c4c",
   "metadata": {},
   "outputs": [],
   "source": [
    "f = open('./goods.txt','r+')"
   ]
  },
  {
   "cell_type": "code",
   "execution_count": 96,
   "id": "cc9792c7",
   "metadata": {},
   "outputs": [
    {
     "data": {
      "text/plain": [
       "'test text.  11111111teeeeeeeeee\\nteeeeeeeeee'"
      ]
     },
     "execution_count": 96,
     "metadata": {},
     "output_type": "execute_result"
    }
   ],
   "source": [
    "f.read()"
   ]
  },
  {
   "cell_type": "code",
   "execution_count": 97,
   "id": "12d2e8a4",
   "metadata": {},
   "outputs": [],
   "source": [
    "f.write('123123123')\n",
    "f.close()"
   ]
  },
  {
   "cell_type": "code",
   "execution_count": 98,
   "id": "d8589f3c",
   "metadata": {},
   "outputs": [
    {
     "data": {
      "text/plain": [
       "'001,商品 1,类型 1,10;002,商品 2,类型 1,5;003,商品 3,类型 2,20'"
      ]
     },
     "execution_count": 98,
     "metadata": {},
     "output_type": "execute_result"
    }
   ],
   "source": [
    "f = open('./goods.txt','r')\n",
    "goods = f.read()\n",
    "f.close()\n",
    "goods"
   ]
  },
  {
   "cell_type": "code",
   "execution_count": 106,
   "id": "7b11c40b",
   "metadata": {},
   "outputs": [
    {
     "name": "stdout",
     "output_type": "stream",
     "text": [
      "[['001', '商品 1', '类型 1', '10'], ['002', '商品 2', '类型 1', '5'], ['003', '商品 3', '类型 2', '20']]\n"
     ]
    }
   ],
   "source": [
    "goods_list = []\n",
    "for i in goods.split(';'):\n",
    "    goods_list.append(i.split(','))\n",
    "print(goods_list)\n"
   ]
  },
  {
   "cell_type": "code",
   "execution_count": 108,
   "id": "e009f0d5",
   "metadata": {},
   "outputs": [
    {
     "name": "stdout",
     "output_type": "stream",
     "text": [
      "35\n"
     ]
    }
   ],
   "source": [
    "total = 0\n",
    "for i in goods_list:\n",
    "    total += int(i[-1])\n",
    "print(total)"
   ]
  },
  {
   "cell_type": "code",
   "execution_count": 109,
   "id": "0555022a",
   "metadata": {},
   "outputs": [],
   "source": [
    "f =open('./goods.txt','a')\n",
    " f.close()"
   ]
  },
  {
   "cell_type": "code",
   "execution_count": null,
   "id": "eef50550",
   "metadata": {},
   "outputs": [],
   "source": []
  },
  {
   "cell_type": "code",
   "execution_count": null,
   "id": "977d67f6",
   "metadata": {},
   "outputs": [],
   "source": []
  },
  {
   "cell_type": "code",
   "execution_count": 9,
   "id": "b7c8df4e",
   "metadata": {},
   "outputs": [
    {
     "name": "stdout",
     "output_type": "stream",
     "text": [
      "我爱python\n",
      "\n"
     ]
    }
   ],
   "source": [
    "print(f.readline())#读取一行文档，遇到\\n就代表一行"
   ]
  },
  {
   "cell_type": "code",
   "execution_count": 16,
   "id": "e1d2fb84",
   "metadata": {
    "scrolled": true
   },
   "outputs": [
    {
     "name": "stdout",
     "output_type": "stream",
     "text": [
      "我爱python\n",
      "test text\n",
      "line2\n",
      "line3\n",
      "line4"
     ]
    }
   ],
   "source": [
    "for i in f:\n",
    "    print(i,end='')"
   ]
  },
  {
   "cell_type": "code",
   "execution_count": 18,
   "id": "f5cd7bb5",
   "metadata": {},
   "outputs": [],
   "source": [
    "f.close()"
   ]
  },
  {
   "cell_type": "code",
   "execution_count": 25,
   "id": "de09f610",
   "metadata": {},
   "outputs": [],
   "source": [
    "f = open('./goods.txt','w')# write只写"
   ]
  },
  {
   "cell_type": "code",
   "execution_count": 26,
   "id": "cb46c4f4",
   "metadata": {},
   "outputs": [
    {
     "data": {
      "text/plain": [
       "9"
      ]
     },
     "execution_count": 26,
     "metadata": {},
     "output_type": "execute_result"
    }
   ],
   "source": [
    "f.write('test word')"
   ]
  },
  {
   "cell_type": "code",
   "execution_count": 27,
   "id": "9490cb98",
   "metadata": {},
   "outputs": [
    {
     "ename": "UnsupportedOperation",
     "evalue": "not readable",
     "output_type": "error",
     "traceback": [
      "\u001b[0;31m---------------------------------------------------------------------------\u001b[0m",
      "\u001b[0;31mUnsupportedOperation\u001b[0m                      Traceback (most recent call last)",
      "\u001b[0;32m/var/folders/7_/gl5k51h93z55mwsdpj89djpw0000gn/T/ipykernel_5425/3059900045.py\u001b[0m in \u001b[0;36m<module>\u001b[0;34m\u001b[0m\n\u001b[0;32m----> 1\u001b[0;31m \u001b[0mf\u001b[0m\u001b[0;34m.\u001b[0m\u001b[0mread\u001b[0m\u001b[0;34m(\u001b[0m\u001b[0;34m)\u001b[0m\u001b[0;34m\u001b[0m\u001b[0;34m\u001b[0m\u001b[0m\n\u001b[0m",
      "\u001b[0;31mUnsupportedOperation\u001b[0m: not readable"
     ]
    }
   ],
   "source": [
    "f.read()"
   ]
  },
  {
   "cell_type": "code",
   "execution_count": 28,
   "id": "7b9e1401",
   "metadata": {},
   "outputs": [],
   "source": [
    "f = open('./goods.txt','r+')# 可读可写"
   ]
  },
  {
   "cell_type": "code",
   "execution_count": 29,
   "id": "d989e549",
   "metadata": {},
   "outputs": [
    {
     "data": {
      "text/plain": [
       "'test word'"
      ]
     },
     "execution_count": 29,
     "metadata": {},
     "output_type": "execute_result"
    }
   ],
   "source": [
    "f.read()"
   ]
  },
  {
   "cell_type": "code",
   "execution_count": 30,
   "id": "6e05e9ea",
   "metadata": {},
   "outputs": [
    {
     "data": {
      "text/plain": [
       "5"
      ]
     },
     "execution_count": 30,
     "metadata": {},
     "output_type": "execute_result"
    }
   ],
   "source": [
    "f.write('line2')"
   ]
  },
  {
   "cell_type": "code",
   "execution_count": 31,
   "id": "3125b6b4",
   "metadata": {},
   "outputs": [],
   "source": [
    "f.close()"
   ]
  },
  {
   "cell_type": "code",
   "execution_count": 39,
   "id": "7e769fda",
   "metadata": {},
   "outputs": [],
   "source": [
    "f= open('./goods.txt','a')# 追加模式"
   ]
  },
  {
   "cell_type": "code",
   "execution_count": 37,
   "id": "1c5b68ce",
   "metadata": {},
   "outputs": [
    {
     "data": {
      "text/plain": [
       "3"
      ]
     },
     "execution_count": 37,
     "metadata": {},
     "output_type": "execute_result"
    }
   ],
   "source": [
    "f.write('abc')"
   ]
  },
  {
   "cell_type": "code",
   "execution_count": 38,
   "id": "a46bcbc1",
   "metadata": {},
   "outputs": [],
   "source": [
    "f.close()"
   ]
  },
  {
   "cell_type": "code",
   "execution_count": null,
   "id": "1ee918e1",
   "metadata": {},
   "outputs": [],
   "source": []
  },
  {
   "cell_type": "code",
   "execution_count": null,
   "id": "c0e8c26b",
   "metadata": {},
   "outputs": [],
   "source": []
  },
  {
   "cell_type": "code",
   "execution_count": 43,
   "id": "954fe21d",
   "metadata": {},
   "outputs": [],
   "source": [
    "f = open('./goods.txt','r')\n",
    "goods = f.read()\n",
    "f.close()"
   ]
  },
  {
   "cell_type": "code",
   "execution_count": 44,
   "id": "68157140",
   "metadata": {},
   "outputs": [
    {
     "name": "stdout",
     "output_type": "stream",
     "text": [
      "001,商品 1,类型 1,10;002,商品 2,类型 1,5;003,商品 3,类型 2,20\n",
      "<class 'str'>\n"
     ]
    }
   ],
   "source": [
    "print(goods)\n",
    "print(type(goods))"
   ]
  },
  {
   "cell_type": "code",
   "execution_count": 56,
   "id": "ab343dc2",
   "metadata": {},
   "outputs": [
    {
     "data": {
      "text/plain": [
       "['001,商品 1,类型 1,10', '002,商品 2,类型 1,5', '003,商品 3,类型 2,20']"
      ]
     },
     "execution_count": 56,
     "metadata": {},
     "output_type": "execute_result"
    }
   ],
   "source": [
    "tmp = goods.split(';')\n",
    "tmp"
   ]
  },
  {
   "cell_type": "code",
   "execution_count": 51,
   "id": "3671bcb6",
   "metadata": {},
   "outputs": [
    {
     "data": {
      "text/plain": [
       "[['001', '商品 1', '类型 1', '10'],\n",
       " ['002', '商品 2', '类型 1', '5'],\n",
       " ['003', '商品 3', '类型 2', '20']]"
      ]
     },
     "execution_count": 51,
     "metadata": {},
     "output_type": "execute_result"
    }
   ],
   "source": [
    "goods_list = []\n",
    "for i in tmp:\n",
    "    goods_list.append(i.split(','))\n",
    "goods_list"
   ]
  },
  {
   "cell_type": "code",
   "execution_count": 55,
   "id": "a31142bf",
   "metadata": {},
   "outputs": [
    {
     "name": "stdout",
     "output_type": "stream",
     "text": [
      "35\n"
     ]
    }
   ],
   "source": [
    "total = 0\n",
    "for i in goods_list:\n",
    "    total += int(i[-1])\n",
    "print(total)"
   ]
  },
  {
   "cell_type": "code",
   "execution_count": 59,
   "id": "7c46235e",
   "metadata": {},
   "outputs": [
    {
     "name": "stdout",
     "output_type": "stream",
     "text": [
      "商品编号003\n",
      "商品编号003对应的商品是商品 3\n"
     ]
    }
   ],
   "source": [
    "inp = input('商品编号')\n",
    "for i in goods_list:\n",
    "    if inp == i[0]:\n",
    "        print(f'商品编号{inp}对应的商品是{i[1]}')\n",
    "        break"
   ]
  },
  {
   "cell_type": "code",
   "execution_count": 60,
   "id": "b787b6d9",
   "metadata": {
    "scrolled": true
   },
   "outputs": [
    {
     "name": "stdout",
     "output_type": "stream",
     "text": [
      "\n"
     ]
    }
   ],
   "source": []
  },
  {
   "cell_type": "code",
   "execution_count": 63,
   "id": "c1290ec1",
   "metadata": {},
   "outputs": [
    {
     "name": "stdout",
     "output_type": "stream",
     "text": [
      "1\n",
      "2\n",
      "3\n",
      "4\n",
      "5\n",
      "6\n",
      "8\n",
      "9\n",
      "10\n",
      "11\n",
      "12\n",
      "13\n",
      "15\n",
      "16\n",
      "18\n",
      "19\n",
      "20\n",
      "22\n",
      "23\n",
      "24\n",
      "25\n",
      "26\n",
      "29\n",
      "30\n",
      "31\n",
      "32\n",
      "33\n",
      "34\n",
      "36\n",
      "38\n",
      "39\n",
      "40\n",
      "41\n",
      "43\n",
      "44\n",
      "45\n",
      "46\n",
      "48\n",
      "50\n",
      "51\n",
      "52\n",
      "53\n",
      "54\n",
      "55\n",
      "58\n",
      "59\n",
      "60\n",
      "61\n",
      "62\n",
      "64\n",
      "65\n",
      "66\n",
      "68\n",
      "69\n",
      "80\n",
      "81\n",
      "82\n",
      "83\n",
      "85\n",
      "86\n",
      "88\n",
      "89\n",
      "90\n",
      "92\n",
      "93\n",
      "94\n",
      "95\n",
      "96\n",
      "99\n",
      "100\n"
     ]
    }
   ],
   "source": [
    "for i in range(1,101):\n",
    "    if i % 7 ==0 or '7' in str(i):\n",
    "        continue\n",
    "    print(i)"
   ]
  },
  {
   "cell_type": "code",
   "execution_count": null,
   "id": "ad19eb29",
   "metadata": {},
   "outputs": [],
   "source": []
  }
 ],
 "metadata": {
  "kernelspec": {
   "display_name": "Python 3 (ipykernel)",
   "language": "python",
   "name": "python3"
  },
  "language_info": {
   "codemirror_mode": {
    "name": "ipython",
    "version": 3
   },
   "file_extension": ".py",
   "mimetype": "text/x-python",
   "name": "python",
   "nbconvert_exporter": "python",
   "pygments_lexer": "ipython3",
   "version": "3.9.7"
  }
 },
 "nbformat": 4,
 "nbformat_minor": 5
}
