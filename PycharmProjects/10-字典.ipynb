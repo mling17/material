{
 "cells": [
  {
   "cell_type": "markdown",
   "id": "3f68e2db",
   "metadata": {},
   "source": [
    "字典的创建及使用\n",
    "字典的增删改查\n",
    "字典遍历输出\n",
    "字典的常用方法"
   ]
  },
  {
   "cell_type": "markdown",
   "id": "96123322",
   "metadata": {},
   "source": [
    "# 字典的创建及使用\n",
    "1. 认识python语言中的字典\n",
    "2. 了解字典的创建方法\n",
    "3. 了解字典的基本使用"
   ]
  },
  {
   "cell_type": "code",
   "execution_count": null,
   "id": "f0117f39",
   "metadata": {},
   "outputs": [],
   "source": []
  },
  {
   "cell_type": "code",
   "execution_count": null,
   "id": "b55598a1",
   "metadata": {},
   "outputs": [],
   "source": []
  },
  {
   "cell_type": "code",
   "execution_count": null,
   "id": "5ee2628d",
   "metadata": {},
   "outputs": [],
   "source": []
  },
  {
   "cell_type": "code",
   "execution_count": null,
   "id": "1cb32278",
   "metadata": {},
   "outputs": [],
   "source": []
  },
  {
   "cell_type": "code",
   "execution_count": null,
   "id": "8598da81",
   "metadata": {},
   "outputs": [],
   "source": []
  },
  {
   "cell_type": "code",
   "execution_count": null,
   "id": "970c37f1",
   "metadata": {},
   "outputs": [],
   "source": []
  },
  {
   "cell_type": "code",
   "execution_count": null,
   "id": "03b9c8c9",
   "metadata": {},
   "outputs": [],
   "source": []
  },
  {
   "cell_type": "code",
   "execution_count": null,
   "id": "2cfbc362",
   "metadata": {},
   "outputs": [],
   "source": []
  },
  {
   "cell_type": "code",
   "execution_count": null,
   "id": "753697c1",
   "metadata": {},
   "outputs": [],
   "source": []
  },
  {
   "cell_type": "markdown",
   "id": "d3330bd9",
   "metadata": {},
   "source": [
    "# 字典的增删改查\n",
    "1. 掌握字典内容的增加和删除\n",
    "2. 掌握字典内容的查询和修改"
   ]
  },
  {
   "cell_type": "code",
   "execution_count": null,
   "id": "e4b760a4",
   "metadata": {},
   "outputs": [],
   "source": []
  },
  {
   "cell_type": "code",
   "execution_count": null,
   "id": "3ab803f6",
   "metadata": {},
   "outputs": [],
   "source": []
  },
  {
   "cell_type": "markdown",
   "id": "7f022349",
   "metadata": {},
   "source": [
    "# 字典遍历输出\n",
    "1. 掌握字典的集中遍历方法\n",
    "2. 掌握字典带下表索引的遍历"
   ]
  },
  {
   "cell_type": "code",
   "execution_count": null,
   "id": "3fd94182",
   "metadata": {},
   "outputs": [],
   "source": []
  },
  {
   "cell_type": "code",
   "execution_count": null,
   "id": "79fc1835",
   "metadata": {},
   "outputs": [],
   "source": []
  },
  {
   "cell_type": "markdown",
   "id": "2cc7dc84",
   "metadata": {},
   "source": [
    "# 字典的常用方法\n",
    "1. 对字典中数据进行修改\n",
    "2. 向字典中添加新的数据\n",
    "3. 删除字典中指定数据，删除整个字典，清除字典中所有的数据"
   ]
  },
  {
   "cell_type": "code",
   "execution_count": null,
   "id": "a130b23c",
   "metadata": {},
   "outputs": [],
   "source": []
  },
  {
   "cell_type": "code",
   "execution_count": null,
   "id": "118c6b9a",
   "metadata": {},
   "outputs": [],
   "source": []
  }
 ],
 "metadata": {
  "kernelspec": {
   "display_name": "Python 3 (ipykernel)",
   "language": "python",
   "name": "python3"
  },
  "language_info": {
   "codemirror_mode": {
    "name": "ipython",
    "version": 3
   },
   "file_extension": ".py",
   "mimetype": "text/x-python",
   "name": "python",
   "nbconvert_exporter": "python",
   "pygments_lexer": "ipython3",
   "version": "3.9.7"
  }
 },
 "nbformat": 4,
 "nbformat_minor": 5
}
