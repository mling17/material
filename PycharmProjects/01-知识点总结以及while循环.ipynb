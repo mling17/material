{
 "cells": [
  {
   "cell_type": "markdown",
   "id": "a12da6ee",
   "metadata": {},
   "source": [
    "### 知识点总结以及while循环"
   ]
  },
  {
   "cell_type": "code",
   "execution_count": null,
   "id": "d5ad2a2b",
   "metadata": {},
   "outputs": [],
   "source": [
    "1.输出，print(info,sep=None,end='\\n')#打印信息到屏幕，sep指定多个输出的间隔符号，end指定结尾的符号"
   ]
  },
  {
   "cell_type": "code",
   "execution_count": 1,
   "id": "50c02dbf",
   "metadata": {},
   "outputs": [
    {
     "name": "stdout",
     "output_type": "stream",
     "text": [
      "123\n"
     ]
    }
   ],
   "source": [
    "print(123)"
   ]
  },
  {
   "cell_type": "code",
   "execution_count": 2,
   "id": "20e0b35a",
   "metadata": {},
   "outputs": [
    {
     "name": "stdout",
     "output_type": "stream",
     "text": [
      "helloworld\n"
     ]
    }
   ],
   "source": [
    "print('helloworld')"
   ]
  },
  {
   "cell_type": "code",
   "execution_count": 4,
   "id": "8bf01ab1",
   "metadata": {},
   "outputs": [
    {
     "name": "stdout",
     "output_type": "stream",
     "text": [
      "123#helloworld\n"
     ]
    }
   ],
   "source": [
    "print(123,'helloworld',sep='#')"
   ]
  },
  {
   "cell_type": "code",
   "execution_count": 7,
   "id": "a7d12bc9",
   "metadata": {},
   "outputs": [
    {
     "name": "stdout",
     "output_type": "stream",
     "text": [
      "123####234\n"
     ]
    }
   ],
   "source": [
    "print(123,end='####')\n",
    "print(234)"
   ]
  },
  {
   "cell_type": "markdown",
   "id": "4181a7b9",
   "metadata": {},
   "source": [
    "2. 输入input()\n",
    "注意三个点：\n",
    "    1. 括号里面的是提示信息，是一个字符串\n",
    "    2. 要赋值给一个变量，a=input('input some info')\n",
    "    3. 注意数据类型，a的数据str"
   ]
  },
  {
   "cell_type": "code",
   "execution_count": 8,
   "id": "202dedbf",
   "metadata": {},
   "outputs": [
    {
     "name": "stdout",
     "output_type": "stream",
     "text": [
      "infopython\n",
      "python <class 'str'>\n"
     ]
    }
   ],
   "source": [
    "a = input('info')\n",
    "print(a,type(a))"
   ]
  },
  {
   "cell_type": "markdown",
   "id": "6294d326",
   "metadata": {},
   "source": [
    "3. 变量\n",
    "变量的命名规则：\n",
    "    1. 数字、字母、下划线_\n",
    "    2. 数字不能做开头，1ab\n",
    "    3. 不能使用关键字，in,not,if else for import \n",
    "    4. 变量要有意义\n",
    "    5. 尽量使用小写字母，定类的时候用大写，常量使用大写"
   ]
  },
  {
   "cell_type": "code",
   "execution_count": 11,
   "id": "46c6bb68",
   "metadata": {},
   "outputs": [
    {
     "ename": "SyntaxError",
     "evalue": "invalid syntax (1221886963.py, line 1)",
     "output_type": "error",
     "traceback": [
      "\u001b[0;36m  File \u001b[0;32m\"/var/folders/7_/gl5k51h93z55mwsdpj89djpw0000gn/T/ipykernel_17624/1221886963.py\"\u001b[0;36m, line \u001b[0;32m1\u001b[0m\n\u001b[0;31m    as asd = 123\u001b[0m\n\u001b[0m    ^\u001b[0m\n\u001b[0;31mSyntaxError\u001b[0m\u001b[0;31m:\u001b[0m invalid syntax\n"
     ]
    }
   ],
   "source": [
    "as asd = 123"
   ]
  },
  {
   "cell_type": "markdown",
   "id": "107d3661",
   "metadata": {},
   "source": [
    "4. 数据类型，字符串str，整数int，浮点数float，列表list，元组tuple，字典dict\n",
    "--->str,str()\n",
    "--->int,int()\n",
    "--->float,float()"
   ]
  },
  {
   "cell_type": "code",
   "execution_count": 12,
   "id": "cc5b66ae",
   "metadata": {},
   "outputs": [
    {
     "name": "stdout",
     "output_type": "stream",
     "text": [
      "<class 'int'>\n",
      "<class 'str'>\n"
     ]
    }
   ],
   "source": [
    "a=123\n",
    "# int转换成str\n",
    "print(type(a))\n",
    "a=str(a)\n",
    "print(type(a))\n"
   ]
  },
  {
   "cell_type": "code",
   "execution_count": 13,
   "id": "03c64162",
   "metadata": {},
   "outputs": [
    {
     "name": "stdout",
     "output_type": "stream",
     "text": [
      "<class 'float'>\n",
      "<class 'str'>\n"
     ]
    }
   ],
   "source": [
    "# float转成str\n",
    "a = 1.234\n",
    "print(type(a))\n",
    "a = str(a)\n",
    "print(type(a))"
   ]
  },
  {
   "cell_type": "code",
   "execution_count": 15,
   "id": "91667c91",
   "metadata": {},
   "outputs": [
    {
     "name": "stdout",
     "output_type": "stream",
     "text": [
      "<class 'int'>\n",
      "<class 'float'>\n"
     ]
    }
   ],
   "source": [
    "# int转成float\n",
    "a = 234\n",
    "print(type(a))\n",
    "a = float(a)\n",
    "print(type(a))"
   ]
  },
  {
   "cell_type": "code",
   "execution_count": 18,
   "id": "929c7204",
   "metadata": {},
   "outputs": [
    {
     "name": "stdout",
     "output_type": "stream",
     "text": [
      "<class 'int'>\n"
     ]
    }
   ],
   "source": [
    "# str.  ---> int\n",
    "a= '321'\n",
    "a = int(a)\n",
    "print(type(a))"
   ]
  },
  {
   "cell_type": "code",
   "execution_count": 20,
   "id": "fa7f3879",
   "metadata": {},
   "outputs": [
    {
     "name": "stdout",
     "output_type": "stream",
     "text": [
      "<class 'float'>\n"
     ]
    }
   ],
   "source": [
    "# str-->float\n",
    "a= '321.1'\n",
    "a = float(a)\n",
    "print(type(a))"
   ]
  },
  {
   "cell_type": "markdown",
   "id": "585c77a8",
   "metadata": {},
   "source": [
    "5. 运算符\n",
    "+-*/ // % **"
   ]
  },
  {
   "cell_type": "code",
   "execution_count": 24,
   "id": "3dffc7ae",
   "metadata": {},
   "outputs": [
    {
     "name": "stdout",
     "output_type": "stream",
     "text": [
      "3.3333333333333335\n"
     ]
    }
   ],
   "source": [
    "a = 10/3\n",
    "print(a)#结果是float"
   ]
  },
  {
   "cell_type": "code",
   "execution_count": 26,
   "id": "ca354ef5",
   "metadata": {},
   "outputs": [
    {
     "name": "stdout",
     "output_type": "stream",
     "text": [
      "3\n"
     ]
    }
   ],
   "source": [
    "a = 10//3\n",
    "print(a)#int类型"
   ]
  },
  {
   "cell_type": "code",
   "execution_count": 27,
   "id": "fb179b36",
   "metadata": {},
   "outputs": [
    {
     "data": {
      "text/plain": [
       "2"
      ]
     },
     "execution_count": 27,
     "metadata": {},
     "output_type": "execute_result"
    }
   ],
   "source": [
    "day = 23 % 7\n",
    "day"
   ]
  },
  {
   "cell_type": "code",
   "execution_count": 29,
   "id": "15ed4079",
   "metadata": {},
   "outputs": [
    {
     "name": "stdout",
     "output_type": "stream",
     "text": [
      "8 8\n"
     ]
    }
   ],
   "source": [
    "a = 2*2*2\n",
    "b = 2**3\n",
    "print(a,b)"
   ]
  },
  {
   "cell_type": "markdown",
   "id": "1106f188",
   "metadata": {},
   "source": [
    "6. 判断语句\n",
    "格式：\n",
    "单分支：\n",
    "if 条件：\n",
    "   语句1\n",
    "   。。。。\n",
    "双分支：\n",
    "if 条件：\n",
    "   语句1\n",
    "   。。。。\n",
    "esle:\n",
    "    语句\n",
    "多分支：\n",
    "if 条件1：\n",
    "   语句1\n",
    "   。。。。\n",
    "elif 条件2:\n",
    "    语句。。\n",
    "elif 条件n:\n",
    "    语句\n",
    "esle:#不是必须有的\n",
    "    语句"
   ]
  },
  {
   "cell_type": "code",
   "execution_count": 31,
   "id": "b14b2197",
   "metadata": {},
   "outputs": [],
   "source": [
    "a = 2\n",
    "if a %2 == 0:\n",
    "    print('偶数')"
   ]
  },
  {
   "cell_type": "code",
   "execution_count": 33,
   "id": "0be46d99",
   "metadata": {},
   "outputs": [
    {
     "name": "stdout",
     "output_type": "stream",
     "text": [
      "奇数\n"
     ]
    }
   ],
   "source": [
    "a = 5\n",
    "if a %2 == 0:\n",
    "    print('偶数')\n",
    "else:\n",
    "    print('奇数')"
   ]
  },
  {
   "cell_type": "code",
   "execution_count": 35,
   "id": "a15efd86",
   "metadata": {},
   "outputs": [
    {
     "name": "stdout",
     "output_type": "stream",
     "text": [
      "20\n"
     ]
    }
   ],
   "source": [
    "a=10\n",
    "b=2\n",
    "operate = '*'\n",
    "if operate == '+':\n",
    "    print(a+b)\n",
    "elif operate == '-':\n",
    "    print(a-b)\n",
    "elif operate == '*':\n",
    "    print(a*b)\n",
    "else:\n",
    "    print(a/b)"
   ]
  },
  {
   "cell_type": "markdown",
   "id": "b6b72815",
   "metadata": {},
   "source": [
    "7. 字符串格式化%s来格式化\n"
   ]
  },
  {
   "cell_type": "code",
   "execution_count": 37,
   "id": "974459e4",
   "metadata": {},
   "outputs": [
    {
     "name": "stdout",
     "output_type": "stream",
     "text": [
      "10+20=30\n"
     ]
    }
   ],
   "source": [
    "a = 10\n",
    "b = 20\n",
    "print('%s+%s=%s'%(a,b,a+b))\n",
    "# \"10+20=30\""
   ]
  },
  {
   "cell_type": "code",
   "execution_count": null,
   "id": "e7caa810",
   "metadata": {},
   "outputs": [],
   "source": [
    "8. for 循环，遍历"
   ]
  },
  {
   "cell_type": "code",
   "execution_count": 40,
   "id": "f0d336b4",
   "metadata": {},
   "outputs": [
    {
     "name": "stdout",
     "output_type": "stream",
     "text": [
      "p\n",
      "y\n",
      "t\n",
      "h\n",
      "o\n",
      "n\n"
     ]
    }
   ],
   "source": [
    "# 基本格式\n",
    "for x in 'python':\n",
    "    print(x)"
   ]
  },
  {
   "cell_type": "code",
   "execution_count": 41,
   "id": "d652aaed",
   "metadata": {},
   "outputs": [
    {
     "name": "stdout",
     "output_type": "stream",
     "text": [
      "p\n",
      "y\n",
      "h\n",
      "o\n",
      "n\n"
     ]
    }
   ],
   "source": [
    "for x in 'python':\n",
    "    if x != 't':\n",
    "        print(x)"
   ]
  },
  {
   "cell_type": "markdown",
   "id": "4e85f4f4",
   "metadata": {},
   "source": [
    "9. range(start,end,step)函数用来生成数字序列，start：起始数字，end：结束数字-1，step：步进"
   ]
  },
  {
   "cell_type": "code",
   "execution_count": 43,
   "id": "ad1a0707",
   "metadata": {},
   "outputs": [
    {
     "name": "stdout",
     "output_type": "stream",
     "text": [
      "1\n",
      "2\n",
      "3\n",
      "4\n",
      "5\n",
      "6\n",
      "7\n",
      "8\n",
      "9\n"
     ]
    }
   ],
   "source": [
    "# 1-10的序列\n",
    "for i in range(1,10,1):# 注意，前包后不包\n",
    "    print(i)"
   ]
  },
  {
   "cell_type": "code",
   "execution_count": 44,
   "id": "9216b8d9",
   "metadata": {},
   "outputs": [
    {
     "name": "stdout",
     "output_type": "stream",
     "text": [
      "2\n",
      "4\n",
      "6\n",
      "8\n",
      "10\n"
     ]
    }
   ],
   "source": [
    "# 1-10的偶数\n",
    "for i in range(2,11,2):\n",
    "    print(i)"
   ]
  },
  {
   "cell_type": "code",
   "execution_count": null,
   "id": "3cd703d2",
   "metadata": {},
   "outputs": [],
   "source": [
    "10.布尔运算bool\n",
    "True，False\n",
    "and or not == != > < >= <= in"
   ]
  },
  {
   "cell_type": "code",
   "execution_count": 45,
   "id": "445dfd49",
   "metadata": {},
   "outputs": [
    {
     "name": "stdout",
     "output_type": "stream",
     "text": [
      "a\n"
     ]
    }
   ],
   "source": [
    "if 'a' in 'ab':\n",
    "    print('a')"
   ]
  },
  {
   "cell_type": "code",
   "execution_count": 47,
   "id": "8e8197ba",
   "metadata": {},
   "outputs": [
    {
     "data": {
      "text/plain": [
       "False"
      ]
     },
     "execution_count": 47,
     "metadata": {},
     "output_type": "execute_result"
    }
   ],
   "source": [
    "'c' in 'ab'"
   ]
  },
  {
   "cell_type": "markdown",
   "id": "c0ce2e34",
   "metadata": {},
   "source": [
    "while循环"
   ]
  },
  {
   "cell_type": "code",
   "execution_count": null,
   "id": "10d6612e",
   "metadata": {},
   "outputs": [],
   "source": [
    "for 循环有边界的，python"
   ]
  },
  {
   "cell_type": "markdown",
   "id": "11ba6a98",
   "metadata": {},
   "source": [
    "格式：while 当。。。。\n",
    "while 条件:\n",
    "    循环体\n",
    "判断条件，如果条件True，执行循环体，否则不运行循环。\n",
    "循环体之行结束，再判断条件，True之行循环体，否则退出。"
   ]
  },
  {
   "cell_type": "code",
   "execution_count": 51,
   "id": "ffda7e2a",
   "metadata": {},
   "outputs": [
    {
     "name": "stdout",
     "output_type": "stream",
     "text": [
      "1\n",
      "2\n",
      "3\n",
      "4\n",
      "5\n",
      "6\n",
      "7\n",
      "8\n",
      "9\n",
      "10\n"
     ]
    }
   ],
   "source": [
    "n = 1\n",
    "while n<=10:\n",
    "    print(n)\n",
    "    n += 1 #n=n+1"
   ]
  },
  {
   "cell_type": "code",
   "execution_count": 52,
   "id": "aa6792c0",
   "metadata": {},
   "outputs": [
    {
     "name": "stdout",
     "output_type": "stream",
     "text": [
      "2\n",
      "4\n",
      "6\n",
      "8\n",
      "10\n"
     ]
    }
   ],
   "source": [
    "n = 1\n",
    "while n<=10:\n",
    "    if n %2 ==0:\n",
    "        print(n)\n",
    "    n += 1 #n=n+1"
   ]
  },
  {
   "cell_type": "code",
   "execution_count": 53,
   "id": "025b4960",
   "metadata": {},
   "outputs": [
    {
     "name": "stdout",
     "output_type": "stream",
     "text": [
      "5050\n"
     ]
    }
   ],
   "source": [
    "# 通过while循环计算1-100的和\n",
    "n = 1\n",
    "sum = 0 # 和\n",
    "while n<=100:\n",
    "    sum += n\n",
    "    n += 1 #n=n+1\n",
    "print(sum)"
   ]
  },
  {
   "cell_type": "code",
   "execution_count": 60,
   "id": "244391b0",
   "metadata": {},
   "outputs": [
    {
     "name": "stdout",
     "output_type": "stream",
     "text": [
      "请输入一个正整数1\n",
      "END\n"
     ]
    }
   ],
   "source": [
    "# 谓角谷猜想\n",
    "n = int(input('请输入一个正整数'))\n",
    "if n == 1:\n",
    "    print('END')\n",
    "else:\n",
    "    while n!=1:\n",
    "        if n %2 ==0:\n",
    "            n1 = n / 2# n = n/2\n",
    "            print('%s / 2= %s'%(n,n1))\n",
    "            n = n1\n",
    "        else:\n",
    "            n2 = n *3 +1\n",
    "            print('%s*3+1=%s'%(n,n2))\n",
    "            n = n2\n",
    "    print('END')"
   ]
  },
  {
   "cell_type": "markdown",
   "id": "e77e41f2",
   "metadata": {},
   "source": [
    "作业：\n",
    "编写一个程序，输入6位密码（密码为555555），密码输入正确后提示‘密码输入正确，欢迎进入系统’。错误则输出‘密码错误，您已经输入*次，请重新输入’"
   ]
  }
 ],
 "metadata": {
  "kernelspec": {
   "display_name": "Python 3 (ipykernel)",
   "language": "python",
   "name": "python3"
  },
  "language_info": {
   "codemirror_mode": {
    "name": "ipython",
    "version": 3
   },
   "file_extension": ".py",
   "mimetype": "text/x-python",
   "name": "python",
   "nbconvert_exporter": "python",
   "pygments_lexer": "ipython3",
   "version": "3.7.3"
  }
 },
 "nbformat": 4,
 "nbformat_minor": 5
}
