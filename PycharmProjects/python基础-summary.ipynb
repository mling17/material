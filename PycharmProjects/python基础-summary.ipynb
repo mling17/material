{
 "cells": [
  {
   "cell_type": "markdown",
   "id": "8e8f5fb7",
   "metadata": {},
   "source": [
    "# 输出"
   ]
  },
  {
   "cell_type": "code",
   "execution_count": 4,
   "id": "d825d14d",
   "metadata": {},
   "outputs": [
    {
     "name": "stdout",
     "output_type": "stream",
     "text": [
      "hellow world\n"
     ]
    }
   ],
   "source": [
    "print('hellow world')"
   ]
  },
  {
   "cell_type": "code",
   "execution_count": 6,
   "id": "1f004a18",
   "metadata": {},
   "outputs": [
    {
     "name": "stdout",
     "output_type": "stream",
     "text": [
      "I use python 3\n"
     ]
    }
   ],
   "source": [
    "print('I use python',3)"
   ]
  },
  {
   "cell_type": "code",
   "execution_count": 7,
   "id": "68677408",
   "metadata": {},
   "outputs": [
    {
     "name": "stdout",
     "output_type": "stream",
     "text": [
      "I use python3\n"
     ]
    }
   ],
   "source": [
    "print('I use python',3,sep='')"
   ]
  },
  {
   "cell_type": "code",
   "execution_count": 8,
   "id": "3c9364fa",
   "metadata": {},
   "outputs": [
    {
     "name": "stdout",
     "output_type": "stream",
     "text": [
      "功能:修改print结尾符号\n"
     ]
    }
   ],
   "source": [
    "print('功能',end=':')\n",
    "print('修改print结尾符号')"
   ]
  },
  {
   "cell_type": "markdown",
   "id": "f62bcb52",
   "metadata": {},
   "source": [
    "# 输入"
   ]
  },
  {
   "cell_type": "code",
   "execution_count": 9,
   "id": "09140582",
   "metadata": {},
   "outputs": [
    {
     "name": "stdout",
     "output_type": "stream",
     "text": [
      "输入一些信息，然后回车打印出我输入的内容\n",
      "打印出我输入的内容\n"
     ]
    }
   ],
   "source": [
    "inp = input(\"输入一些信息，然后回车\")\n",
    "print(inp)"
   ]
  },
  {
   "cell_type": "code",
   "execution_count": null,
   "id": "aec93751",
   "metadata": {},
   "outputs": [],
   "source": [
    "# tips：\n",
    "# 1. 向计算机输入信息使用input()函数\n",
    "# 2. 括号内写入提示信息，提示用户要输入什么内容\n",
    "# 3. 输入的信息要赋值给一个变量，以供后面处理\n",
    "# 4. 变量的数据类型是字符串"
   ]
  },
  {
   "cell_type": "markdown",
   "id": "c43ec7a1",
   "metadata": {},
   "source": [
    "# 变量"
   ]
  },
  {
   "cell_type": "code",
   "execution_count": null,
   "id": "4cef3364",
   "metadata": {},
   "outputs": [],
   "source": [
    "变量命名规则：\n",
    "1. 只能包含数字字母和下划线\n",
    "2. 数字不能作为变量的开头\n",
    "3. 关键字不能作为变量名\n",
    "4. 变量区分大小写\n",
    "5. 命名变量时尽量有意义"
   ]
  },
  {
   "cell_type": "code",
   "execution_count": 10,
   "id": "1f5c3162",
   "metadata": {},
   "outputs": [
    {
     "ename": "NameError",
     "evalue": "name 'a' is not defined",
     "output_type": "error",
     "traceback": [
      "\u001b[0;31m---------------------------------------------------------------------------\u001b[0m",
      "\u001b[0;31mNameError\u001b[0m                                 Traceback (most recent call last)",
      "\u001b[0;32m/var/folders/7_/gl5k51h93z55mwsdpj89djpw0000gn/T/ipykernel_37074/1189138062.py\u001b[0m in \u001b[0;36m<module>\u001b[0;34m\u001b[0m\n\u001b[0;32m----> 1\u001b[0;31m \u001b[0mprint\u001b[0m\u001b[0;34m(\u001b[0m\u001b[0ma\u001b[0m\u001b[0;34m)\u001b[0m\u001b[0;34m\u001b[0m\u001b[0;34m\u001b[0m\u001b[0m\n\u001b[0m",
      "\u001b[0;31mNameError\u001b[0m: name 'a' is not defined"
     ]
    }
   ],
   "source": [
    "print(a)"
   ]
  },
  {
   "cell_type": "markdown",
   "id": "e30e52ab",
   "metadata": {},
   "source": [
    "上面是常见报错NameError，就说明你使用了变量但是这个变量并没有定义"
   ]
  },
  {
   "cell_type": "code",
   "execution_count": null,
   "id": "268ac035",
   "metadata": {},
   "outputs": [],
   "source": [
    "# 常见保留字：\n",
    "# False               break               for                 not\n",
    "# None                class               from                or\n",
    "# True                continue            global              pass     \n",
    "# def                 if                  raise\n",
    "# and                 del                 import              return\n",
    "# as                  elif                in                  try\n",
    "# assert              else                is                  while\n",
    "# except              lambda              with                finally\n",
    "                            "
   ]
  },
  {
   "cell_type": "markdown",
   "id": "d3ab536a",
   "metadata": {},
   "source": [
    "# 运算符"
   ]
  },
  {
   "cell_type": "markdown",
   "id": "91892dd7",
   "metadata": {},
   "source": [
    "## 算术运算符"
   ]
  },
  {
   "cell_type": "code",
   "execution_count": null,
   "id": "2d583848",
   "metadata": {},
   "outputs": [],
   "source": [
    "# 加法：+\n",
    "# 减法：-\n",
    "# 乘法：*\n",
    "# 除法：/\n",
    "# 整除：//\n",
    "# 取余：%\n",
    "# 幂：**"
   ]
  },
  {
   "cell_type": "markdown",
   "id": "92662d45",
   "metadata": {},
   "source": [
    "## 比较（关系）运算符"
   ]
  },
  {
   "cell_type": "code",
   "execution_count": null,
   "id": "ff828f58",
   "metadata": {},
   "outputs": [],
   "source": [
    "# 等于：==\n",
    "# 不等于：!=\n",
    "# 大于：>\n",
    "# 小于<\n",
    "# 大于等于：>=\n",
    "# 小于等于：<="
   ]
  },
  {
   "cell_type": "markdown",
   "id": "5dc30a91",
   "metadata": {},
   "source": [
    "## 赋值运算符"
   ]
  },
  {
   "cell_type": "code",
   "execution_count": null,
   "id": "19122872",
   "metadata": {},
   "outputs": [],
   "source": [
    "# =\t简单的赋值运算符\tc = a + b 将 a + b 的运算结果赋值为 c\n",
    "# +=\t加法赋值运算符\tc += a 等效于 c = c + a\n",
    "# -=\t减法赋值运算符\tc -= a 等效于 c = c - a\n",
    "# *=\t乘法赋值运算符\tc *= a 等效于 c = c * a\n",
    "# /=\t除法赋值运算符\tc /= a 等效于 c = c / a\n",
    "# %=\t取模赋值运算符\tc %= a 等效于 c = c % a\n",
    "# **=\t幂赋值运算符\tc **= a 等效于 c = c ** a\n",
    "# //=\t取整除赋值运算符\tc //= a 等效于 c = c // a"
   ]
  },
  {
   "cell_type": "markdown",
   "id": "dee5fc7a",
   "metadata": {},
   "source": [
    "## 逻辑运算符"
   ]
  },
  {
   "cell_type": "code",
   "execution_count": null,
   "id": "20c0ce24",
   "metadata": {},
   "outputs": [],
   "source": [
    "# and\tx and y\t布尔\"与\" - 如果 x 为 False，x and y 返回 False，否则它返回 y 的计算值。\t(a and b) 返回 20。\n",
    "# or\tx or y\t布尔\"或\" - 如果 x 是非 0，它返回 x 的计算值，否则它返回 y 的计算值。\t(a or b) 返回 10。\n",
    "# not\tnot x\t布尔\"非\" - 如果 x 为 True，返回 False 。如果 x 为 False，它返回 True。\tnot(a and b) 返回 False\n",
    "# 优先级：not > and > or"
   ]
  },
  {
   "cell_type": "markdown",
   "id": "2526f957",
   "metadata": {},
   "source": [
    "## 位运算符"
   ]
  },
  {
   "cell_type": "code",
   "execution_count": null,
   "id": "884bf1df",
   "metadata": {},
   "outputs": [],
   "source": [
    "# &\t按位与运算符\n",
    "# |\t按位或运算符\n",
    "# ^\t按位异或运算符\n",
    "# ~\t按位取反运算符\n",
    "# <<\t左移动运算符\n",
    "# >>\t右移动运算符"
   ]
  },
  {
   "cell_type": "markdown",
   "id": "1ec81475",
   "metadata": {},
   "source": [
    "## 成员运算符"
   ]
  },
  {
   "cell_type": "code",
   "execution_count": null,
   "id": "426f7b6d",
   "metadata": {},
   "outputs": [],
   "source": [
    "# in\t如果在指定的序列中找到值返回 True，否则返回 False。\tx 在 y 序列中 , 如果 x 在 y 序列中返回 True。\n",
    "# not in\t如果在指定的序列中没有找到值返回 True，否则返回 False。\tx 不在 y 序列中 , 如果 x 不在 y 序列中返回 True。"
   ]
  },
  {
   "cell_type": "markdown",
   "id": "9fc5ba59",
   "metadata": {},
   "source": [
    "## 身份运算符"
   ]
  },
  {
   "cell_type": "code",
   "execution_count": null,
   "id": "aa23e210",
   "metadata": {},
   "outputs": [],
   "source": [
    "# is\tis 是判断两个标识符是不是引用自一个对象\tx is y, 类似 id(x) == id(y) , 如果引用的是同一个对象则返回 True，否则返回 False\n",
    "# is not\tis not 是判断两个标识符是不是引用自不同对象\tx is not y ， 类似 id(a) != id(b)。如果引用的不是同一个对象则返回结果 True，否则返回 False。"
   ]
  },
  {
   "cell_type": "markdown",
   "id": "ea7b95d4",
   "metadata": {},
   "source": [
    "## 运算符优先级"
   ]
  },
  {
   "cell_type": "code",
   "execution_count": null,
   "id": "6664ed3b",
   "metadata": {},
   "outputs": [],
   "source": [
    "# **\t指数 (最高优先级)\n",
    "# ~ + -\t按位翻转, 一元加号和减号 (最后两个的方法名为 +@ 和 -@)\n",
    "# * / % //\t乘，除，取模和取整除\n",
    "# + -\t加法减法\n",
    "# >> <<\t右移，左移运算符\n",
    "# &\t位 'AND'\n",
    "# ^ |\t位运算符\n",
    "# <= < > >=\t比较运算符\n",
    "# <> == !=\t等于运算符\n",
    "# = %= /= //= -= += *= **=\t赋值运算符\n",
    "# is is not\t身份运算符\n",
    "# in not in\t成员运算符\n",
    "# not and or\t逻辑运算符"
   ]
  },
  {
   "cell_type": "markdown",
   "id": "c36f3257",
   "metadata": {},
   "source": [
    "# 判断语句"
   ]
  },
  {
   "cell_type": "code",
   "execution_count": null,
   "id": "1ad2350f",
   "metadata": {},
   "outputs": [],
   "source": [
    "# 1. 单分支\n",
    "a = 5\n",
    "if a== 5:\n",
    "    print('a的值时5')"
   ]
  },
  {
   "cell_type": "code",
   "execution_count": null,
   "id": "080bda19",
   "metadata": {},
   "outputs": [],
   "source": [
    "# 2. 双分支\n",
    "a = 5\n",
    "if a > 5:\n",
    "    print('a的值大于5')\n",
    "else:\n",
    "    print('a的值小于等于5')"
   ]
  },
  {
   "cell_type": "code",
   "execution_count": null,
   "id": "e23d54c9",
   "metadata": {},
   "outputs": [],
   "source": [
    "# 3. 多分支\n",
    "a = 5\n",
    "if a > 5:\n",
    "    print('a的值大于5')\n",
    "elif a< 5:\n",
    "    print('a的值小于5')\n",
    "else:\n",
    "    print('a的值等于5')"
   ]
  },
  {
   "cell_type": "code",
   "execution_count": null,
   "id": "30fde302",
   "metadata": {},
   "outputs": [],
   "source": [
    "if 语句要注意书写形式。条件的后面有冒号，条件成立的语句要有四个空格"
   ]
  },
  {
   "cell_type": "markdown",
   "id": "c923ba09",
   "metadata": {},
   "source": [
    "# 循环语句"
   ]
  },
  {
   "cell_type": "markdown",
   "id": "43df90df",
   "metadata": {},
   "source": [
    "## for 循环"
   ]
  },
  {
   "cell_type": "code",
   "execution_count": 11,
   "id": "4806fcb2",
   "metadata": {},
   "outputs": [
    {
     "name": "stdout",
     "output_type": "stream",
     "text": [
      "p\n",
      "y\n",
      "t\n",
      "h\n",
      "o\n",
      "n\n",
      "3\n"
     ]
    }
   ],
   "source": [
    "# 应用场景遍历项目,for循环天然带有边界\n",
    "# 如，遍历字符串\n",
    "for i in 'python3':\n",
    "    print(i)"
   ]
  },
  {
   "cell_type": "code",
   "execution_count": 12,
   "id": "c2f112d4",
   "metadata": {},
   "outputs": [
    {
     "name": "stdout",
     "output_type": "stream",
     "text": [
      "0\n",
      "1\n",
      "2\n",
      "3\n",
      "4\n"
     ]
    }
   ],
   "source": [
    "# 遍历可迭代对象\n",
    "for i in range(5):\n",
    "    print(i)"
   ]
  },
  {
   "cell_type": "markdown",
   "id": "ec725621",
   "metadata": {},
   "source": [
    "## while循环"
   ]
  },
  {
   "cell_type": "code",
   "execution_count": null,
   "id": "ef14e3f5",
   "metadata": {},
   "outputs": [],
   "source": [
    "# 应用场景，循环次数不确定的情况，或者，在某个条件下进行循环。\n",
    "# 有点类似if语句，不用的是while在循环完毕后会重新判断条件是否成立，而if只判断一次"
   ]
  },
  {
   "cell_type": "code",
   "execution_count": null,
   "id": "1a9c611f",
   "metadata": {},
   "outputs": [],
   "source": [
    "a = 5\n",
    "while a>1:\n",
    "    print(i)\n",
    "    a -= 1"
   ]
  },
  {
   "cell_type": "markdown",
   "id": "a9c7183d",
   "metadata": {},
   "source": [
    "## 循环控制语句"
   ]
  },
  {
   "cell_type": "markdown",
   "id": "8b948076",
   "metadata": {},
   "source": [
    "### 1. continue，结束本次循环，进行下次循环"
   ]
  },
  {
   "cell_type": "code",
   "execution_count": 13,
   "id": "ce95e655",
   "metadata": {},
   "outputs": [
    {
     "name": "stdout",
     "output_type": "stream",
     "text": [
      "0\n",
      "1\n",
      "2\n",
      "4\n"
     ]
    }
   ],
   "source": [
    "for i in range(5):\n",
    "    if i == 3:\n",
    "        continue\n",
    "    print(i)"
   ]
  },
  {
   "cell_type": "markdown",
   "id": "ffc5e8e7",
   "metadata": {},
   "source": [
    "### 2. break，结束循环"
   ]
  },
  {
   "cell_type": "code",
   "execution_count": 14,
   "id": "0dcfea05",
   "metadata": {},
   "outputs": [
    {
     "name": "stdout",
     "output_type": "stream",
     "text": [
      "0\n",
      "1\n",
      "2\n"
     ]
    }
   ],
   "source": [
    "for i in range(5):\n",
    "    if i == 3:\n",
    "        break\n",
    "    print(i)"
   ]
  },
  {
   "cell_type": "markdown",
   "id": "854a4830",
   "metadata": {},
   "source": [
    "# 内置函数"
   ]
  },
  {
   "cell_type": "code",
   "execution_count": 1,
   "id": "b7377763",
   "metadata": {},
   "outputs": [
    {
     "data": {
      "text/plain": [
       "10"
      ]
     },
     "execution_count": 1,
     "metadata": {},
     "output_type": "execute_result"
    }
   ],
   "source": [
    "abs(-10)# 绝对值"
   ]
  },
  {
   "cell_type": "code",
   "execution_count": null,
   "id": "6fb95101",
   "metadata": {},
   "outputs": [],
   "source": [
    "all()# 所有元素都为True返回True"
   ]
  },
  {
   "cell_type": "code",
   "execution_count": 7,
   "id": "d7fb53a3",
   "metadata": {},
   "outputs": [
    {
     "data": {
      "text/plain": [
       "False"
      ]
     },
     "execution_count": 7,
     "metadata": {},
     "output_type": "execute_result"
    }
   ],
   "source": [
    "all(('010',0))"
   ]
  },
  {
   "cell_type": "code",
   "execution_count": 8,
   "id": "46169575",
   "metadata": {},
   "outputs": [
    {
     "data": {
      "text/plain": [
       "True"
      ]
     },
     "execution_count": 8,
     "metadata": {},
     "output_type": "execute_result"
    }
   ],
   "source": [
    "all([1,2])"
   ]
  },
  {
   "cell_type": "code",
   "execution_count": null,
   "id": "7abfbd1a",
   "metadata": {},
   "outputs": [],
   "source": [
    "any()# 有一个为True即为True"
   ]
  },
  {
   "cell_type": "code",
   "execution_count": 9,
   "id": "91c983b2",
   "metadata": {},
   "outputs": [
    {
     "data": {
      "text/plain": [
       "True"
      ]
     },
     "execution_count": 9,
     "metadata": {},
     "output_type": "execute_result"
    }
   ],
   "source": [
    "any(('010',0))"
   ]
  },
  {
   "cell_type": "code",
   "execution_count": 10,
   "id": "8d0edbbd",
   "metadata": {},
   "outputs": [
    {
     "data": {
      "text/plain": [
       "False"
      ]
     },
     "execution_count": 10,
     "metadata": {},
     "output_type": "execute_result"
    }
   ],
   "source": [
    "all((False,0))"
   ]
  },
  {
   "cell_type": "code",
   "execution_count": 12,
   "id": "daed0871",
   "metadata": {},
   "outputs": [
    {
     "data": {
      "text/plain": [
       "'0b11'"
      ]
     },
     "execution_count": 12,
     "metadata": {},
     "output_type": "execute_result"
    }
   ],
   "source": [
    "bin(3)# 将整数转成二进制字符串"
   ]
  },
  {
   "cell_type": "code",
   "execution_count": 14,
   "id": "5ba39bc8",
   "metadata": {},
   "outputs": [
    {
     "data": {
      "text/plain": [
       "False"
      ]
     },
     "execution_count": 14,
     "metadata": {},
     "output_type": "execute_result"
    }
   ],
   "source": [
    "bool('1' and 0)#判断表达式的布尔值"
   ]
  },
  {
   "cell_type": "code",
   "execution_count": 2,
   "id": "7bb92ce5",
   "metadata": {},
   "outputs": [
    {
     "data": {
      "text/plain": [
       "b'\\xe6\\x88\\x91\\xe7\\x88\\xb1python'"
      ]
     },
     "execution_count": 2,
     "metadata": {},
     "output_type": "execute_result"
    }
   ],
   "source": [
    "bytes('我爱python','utf8')# 转成字节"
   ]
  },
  {
   "cell_type": "code",
   "execution_count": 5,
   "id": "f74c0982",
   "metadata": {},
   "outputs": [
    {
     "data": {
      "text/plain": [
       "'a'"
      ]
     },
     "execution_count": 5,
     "metadata": {},
     "output_type": "execute_result"
    }
   ],
   "source": [
    "chr(97)# ascii码值转字符"
   ]
  },
  {
   "cell_type": "code",
   "execution_count": 4,
   "id": "750afe90",
   "metadata": {},
   "outputs": [
    {
     "data": {
      "text/plain": [
       "97"
      ]
     },
     "execution_count": 4,
     "metadata": {},
     "output_type": "execute_result"
    }
   ],
   "source": [
    "ord('a')# 字符转ascii码值"
   ]
  },
  {
   "cell_type": "code",
   "execution_count": null,
   "id": "1714a22f",
   "metadata": {},
   "outputs": [],
   "source": [
    "dict()#转成字典"
   ]
  },
  {
   "cell_type": "code",
   "execution_count": 6,
   "id": "05cd00c6",
   "metadata": {},
   "outputs": [
    {
     "data": {
      "text/plain": [
       "(3, 1)"
      ]
     },
     "execution_count": 6,
     "metadata": {},
     "output_type": "execute_result"
    }
   ],
   "source": [
    "divmod(10,3)# 获取商和余数(商值,余数)"
   ]
  },
  {
   "cell_type": "code",
   "execution_count": null,
   "id": "ab35588d",
   "metadata": {},
   "outputs": [],
   "source": [
    "enumerate()# 遍历时获得一个索引值"
   ]
  },
  {
   "cell_type": "code",
   "execution_count": 7,
   "id": "b1ec7cff",
   "metadata": {},
   "outputs": [
    {
     "data": {
      "text/plain": [
       "5"
      ]
     },
     "execution_count": 7,
     "metadata": {},
     "output_type": "execute_result"
    }
   ],
   "source": [
    "eval('3+2')#执行一个字符串表达式，并返回表达式的值"
   ]
  },
  {
   "cell_type": "code",
   "execution_count": null,
   "id": "05220f64",
   "metadata": {},
   "outputs": [],
   "source": [
    "float()"
   ]
  },
  {
   "cell_type": "code",
   "execution_count": 10,
   "id": "462aaf62",
   "metadata": {},
   "outputs": [
    {
     "data": {
      "text/plain": [
       "'0x3e'"
      ]
     },
     "execution_count": 10,
     "metadata": {},
     "output_type": "execute_result"
    }
   ],
   "source": [
    "hex(62) # 整数转成十六进制"
   ]
  },
  {
   "cell_type": "code",
   "execution_count": null,
   "id": "0751aed8",
   "metadata": {},
   "outputs": [],
   "source": [
    "input()"
   ]
  },
  {
   "cell_type": "code",
   "execution_count": null,
   "id": "da492dde",
   "metadata": {},
   "outputs": [],
   "source": [
    "int()"
   ]
  },
  {
   "cell_type": "code",
   "execution_count": null,
   "id": "95270f84",
   "metadata": {},
   "outputs": [],
   "source": [
    "len()"
   ]
  },
  {
   "cell_type": "code",
   "execution_count": null,
   "id": "5c92174e",
   "metadata": {},
   "outputs": [],
   "source": [
    "list()"
   ]
  },
  {
   "cell_type": "code",
   "execution_count": null,
   "id": "e3464c8e",
   "metadata": {},
   "outputs": [],
   "source": [
    "map()"
   ]
  },
  {
   "cell_type": "code",
   "execution_count": 11,
   "id": "7bba2af7",
   "metadata": {},
   "outputs": [
    {
     "data": {
      "text/plain": [
       "9"
      ]
     },
     "execution_count": 11,
     "metadata": {},
     "output_type": "execute_result"
    }
   ],
   "source": [
    "max([1,3,9,2])#最大值"
   ]
  },
  {
   "cell_type": "code",
   "execution_count": null,
   "id": "e2716b97",
   "metadata": {},
   "outputs": [],
   "source": [
    "min([1,3,9,2])#最小值"
   ]
  },
  {
   "cell_type": "code",
   "execution_count": null,
   "id": "c484aafc",
   "metadata": {},
   "outputs": [],
   "source": [
    "open()# 打开文件"
   ]
  },
  {
   "cell_type": "code",
   "execution_count": 23,
   "id": "b0d8a74f",
   "metadata": {},
   "outputs": [
    {
     "data": {
      "text/plain": [
       "1024"
      ]
     },
     "execution_count": 23,
     "metadata": {},
     "output_type": "execute_result"
    }
   ],
   "source": [
    "pow(2,10)#求n的m次方"
   ]
  },
  {
   "cell_type": "code",
   "execution_count": null,
   "id": "6d664a4b",
   "metadata": {},
   "outputs": [],
   "source": [
    "print()"
   ]
  },
  {
   "cell_type": "code",
   "execution_count": null,
   "id": "6be91c7b",
   "metadata": {},
   "outputs": [],
   "source": [
    "range()"
   ]
  },
  {
   "cell_type": "code",
   "execution_count": 12,
   "id": "16d0989a",
   "metadata": {},
   "outputs": [
    {
     "data": {
      "text/plain": [
       "1.83"
      ]
     },
     "execution_count": 12,
     "metadata": {},
     "output_type": "execute_result"
    }
   ],
   "source": [
    "round(1.832623,2)#四舍五入，保留小数位数"
   ]
  },
  {
   "cell_type": "code",
   "execution_count": null,
   "id": "1d797944",
   "metadata": {},
   "outputs": [],
   "source": [
    "set()"
   ]
  },
  {
   "cell_type": "code",
   "execution_count": 13,
   "id": "151780bb",
   "metadata": {},
   "outputs": [
    {
     "data": {
      "text/plain": [
       "[1, 2, 3, 9]"
      ]
     },
     "execution_count": 13,
     "metadata": {},
     "output_type": "execute_result"
    }
   ],
   "source": [
    "sorted([1,3,9,2])"
   ]
  },
  {
   "cell_type": "code",
   "execution_count": null,
   "id": "92788f93",
   "metadata": {},
   "outputs": [],
   "source": [
    "str()"
   ]
  },
  {
   "cell_type": "code",
   "execution_count": 14,
   "id": "b23ee20d",
   "metadata": {},
   "outputs": [
    {
     "data": {
      "text/plain": [
       "15"
      ]
     },
     "execution_count": 14,
     "metadata": {},
     "output_type": "execute_result"
    }
   ],
   "source": [
    "sum([1,3,9,2])"
   ]
  },
  {
   "cell_type": "code",
   "execution_count": null,
   "id": "45008bcb",
   "metadata": {},
   "outputs": [],
   "source": [
    "tuple()"
   ]
  },
  {
   "cell_type": "code",
   "execution_count": null,
   "id": "3a16d65b",
   "metadata": {},
   "outputs": [],
   "source": [
    "type()"
   ]
  },
  {
   "cell_type": "code",
   "execution_count": 16,
   "id": "7ecd56bb",
   "metadata": {},
   "outputs": [
    {
     "data": {
      "text/plain": [
       "[(1, 1), (3, 3), (9, 9), (2, 2)]"
      ]
     },
     "execution_count": 16,
     "metadata": {},
     "output_type": "execute_result"
    }
   ],
   "source": [
    "list(zip([1,3,9,2],[1,3,9,2]))# 数据结合"
   ]
  },
  {
   "cell_type": "code",
   "execution_count": 39,
   "id": "5d4b312b",
   "metadata": {},
   "outputs": [
    {
     "data": {
      "text/plain": [
       "{1: 'a', 2: 'b'}"
      ]
     },
     "execution_count": 39,
     "metadata": {},
     "output_type": "execute_result"
    }
   ],
   "source": [
    "dict(zip((1,2,3),('a','b')))"
   ]
  },
  {
   "cell_type": "markdown",
   "id": "fb8b5cdc",
   "metadata": {},
   "source": [
    "# 数据类型"
   ]
  },
  {
   "cell_type": "code",
   "execution_count": null,
   "id": "e1f2b328",
   "metadata": {},
   "outputs": [],
   "source": [
    "# 判断变量数据使用type()"
   ]
  },
  {
   "cell_type": "code",
   "execution_count": 15,
   "id": "5cf3dd25",
   "metadata": {},
   "outputs": [
    {
     "name": "stdout",
     "output_type": "stream",
     "text": [
      "<class 'str'> <class 'int'> <class 'float'> <class 'list'> <class 'tuple'>\n"
     ]
    }
   ],
   "source": [
    "a = 'hello'\n",
    "b = 100\n",
    "c = 3.14\n",
    "d = [1,'a']\n",
    "e = (2,'b')\n",
    "print(type(a),type(b),type(c),type(d),type(e))"
   ]
  },
  {
   "cell_type": "markdown",
   "id": "a314ab53",
   "metadata": {},
   "source": [
    "## 数字"
   ]
  },
  {
   "cell_type": "markdown",
   "id": "51c13d0a",
   "metadata": {},
   "source": [
    "数字包含整数int和浮点数float，如果需要做数学运算，需要使用数字类型"
   ]
  },
  {
   "cell_type": "markdown",
   "id": "7478c478",
   "metadata": {},
   "source": [
    "## 字符串"
   ]
  },
  {
   "cell_type": "markdown",
   "id": "29444608",
   "metadata": {},
   "source": [
    "引号引起来的就是字符串"
   ]
  },
  {
   "cell_type": "code",
   "execution_count": null,
   "id": "cf80d06d",
   "metadata": {},
   "outputs": [],
   "source": [
    "## 2. 字符串索引*****\n",
    "就是给字符串的每一个字符做一个编号，\n",
    "正向索引：从左往右从0开始，\n",
    "反向索引：从右到左-1开始"
   ]
  },
  {
   "cell_type": "code",
   "execution_count": null,
   "id": "eedc3f0d",
   "metadata": {},
   "outputs": [],
   "source": [
    "# 3. 字符串取单个值\n",
    "s = 'python'\n",
    "print(s[3])#格式 str[index],比如从python字符中获取h字符，s[3]"
   ]
  },
  {
   "cell_type": "code",
   "execution_count": null,
   "id": "0ef153f5",
   "metadata": {},
   "outputs": [],
   "source": [
    "# 4. 字符串切片，取多个值\n",
    "# str[a:b:c],a截取的起始位置，b截取的结束为止，c步长。口诀：左右空，取到头。前要取，后不取。有步长，算步长。"
   ]
  },
  {
   "cell_type": "code",
   "execution_count": 2,
   "id": "b0ff862d",
   "metadata": {},
   "outputs": [],
   "source": [
    "s = 'python'"
   ]
  },
  {
   "cell_type": "code",
   "execution_count": 3,
   "id": "20e72d6a",
   "metadata": {},
   "outputs": [
    {
     "data": {
      "text/plain": [
       "'yth'"
      ]
     },
     "execution_count": 3,
     "metadata": {},
     "output_type": "execute_result"
    }
   ],
   "source": [
    "s[1:4]"
   ]
  },
  {
   "cell_type": "code",
   "execution_count": 4,
   "id": "7dc86655",
   "metadata": {},
   "outputs": [
    {
     "data": {
      "text/plain": [
       "'yh'"
      ]
     },
     "execution_count": 4,
     "metadata": {},
     "output_type": "execute_result"
    }
   ],
   "source": [
    "s[1:4:2]"
   ]
  },
  {
   "cell_type": "code",
   "execution_count": 5,
   "id": "d6f12103",
   "metadata": {},
   "outputs": [
    {
     "data": {
      "text/plain": [
       "'pyth'"
      ]
     },
     "execution_count": 5,
     "metadata": {},
     "output_type": "execute_result"
    }
   ],
   "source": [
    "s[:4]"
   ]
  },
  {
   "cell_type": "code",
   "execution_count": 6,
   "id": "6e12e00e",
   "metadata": {},
   "outputs": [
    {
     "data": {
      "text/plain": [
       "'thon'"
      ]
     },
     "execution_count": 6,
     "metadata": {},
     "output_type": "execute_result"
    }
   ],
   "source": [
    "s[2:]"
   ]
  },
  {
   "cell_type": "code",
   "execution_count": 7,
   "id": "13819967",
   "metadata": {},
   "outputs": [
    {
     "data": {
      "text/plain": [
       "'python'"
      ]
     },
     "execution_count": 7,
     "metadata": {},
     "output_type": "execute_result"
    }
   ],
   "source": [
    "s[:]"
   ]
  },
  {
   "cell_type": "code",
   "execution_count": 8,
   "id": "303fde07",
   "metadata": {},
   "outputs": [
    {
     "data": {
      "text/plain": [
       "'pto'"
      ]
     },
     "execution_count": 8,
     "metadata": {},
     "output_type": "execute_result"
    }
   ],
   "source": [
    "s[::2]"
   ]
  },
  {
   "cell_type": "code",
   "execution_count": 9,
   "id": "3ec42578",
   "metadata": {},
   "outputs": [
    {
     "data": {
      "text/plain": [
       "'nohtyp'"
      ]
     },
     "execution_count": 9,
     "metadata": {},
     "output_type": "execute_result"
    }
   ],
   "source": [
    "s[::-1]"
   ]
  },
  {
   "cell_type": "markdown",
   "id": "632832be",
   "metadata": {},
   "source": [
    "## 5. 字符串拼接"
   ]
  },
  {
   "cell_type": "markdown",
   "id": "10b92309",
   "metadata": {},
   "source": [
    "+\n",
    "%s\n",
    "string.format()\n",
    "f''"
   ]
  },
  {
   "cell_type": "code",
   "execution_count": 20,
   "id": "842958b8",
   "metadata": {},
   "outputs": [],
   "source": [
    "a='i love '\n",
    "b='python'"
   ]
  },
  {
   "cell_type": "code",
   "execution_count": 21,
   "id": "a4293944",
   "metadata": {},
   "outputs": [
    {
     "data": {
      "text/plain": [
       "'i love python'"
      ]
     },
     "execution_count": 21,
     "metadata": {},
     "output_type": "execute_result"
    }
   ],
   "source": [
    "a+b"
   ]
  },
  {
   "cell_type": "code",
   "execution_count": 22,
   "id": "610f660e",
   "metadata": {},
   "outputs": [
    {
     "data": {
      "text/plain": [
       "'i love python'"
      ]
     },
     "execution_count": 22,
     "metadata": {},
     "output_type": "execute_result"
    }
   ],
   "source": [
    "'%s%s'%(a,b)"
   ]
  },
  {
   "cell_type": "code",
   "execution_count": 23,
   "id": "8fdc0568",
   "metadata": {},
   "outputs": [
    {
     "data": {
      "text/plain": [
       "'i love python'"
      ]
     },
     "execution_count": 23,
     "metadata": {},
     "output_type": "execute_result"
    }
   ],
   "source": [
    "\"{}{}\".format(a,b)"
   ]
  },
  {
   "cell_type": "code",
   "execution_count": 24,
   "id": "99944b43",
   "metadata": {},
   "outputs": [
    {
     "data": {
      "text/plain": [
       "'i love python'"
      ]
     },
     "execution_count": 24,
     "metadata": {},
     "output_type": "execute_result"
    }
   ],
   "source": [
    "f'{a}{b}'"
   ]
  },
  {
   "cell_type": "markdown",
   "id": "1fc3f27b",
   "metadata": {},
   "source": [
    "## 5. 字符串常用方法"
   ]
  },
  {
   "cell_type": "code",
   "execution_count": null,
   "id": "85aa2acd",
   "metadata": {},
   "outputs": [],
   "source": [
    "str() #转成字符串\n",
    "in #判断是否包含\n",
    "len()#求长度\n",
    "find()#获取子字符的索引,返回索引值，如果没有返回-1\n",
    "index()#获取子字符的索引，返回索引值，如果没有会报异常\n",
    "count()#统计子字符串的数量\n",
    "isalnum()# 判断是否是由数字字母组成\n",
    "isalpha()# 判断是否是只由字母组成\n",
    "isdigit()#判断是否是只由数字组成\n",
    "isspace()#判断是否全部是空格\n",
    "isupper() #判断是否是大写字母\n",
    "islower（）#判断是否是小写字母\n",
    "startswith(sub,[start,[end]]) # 判断字符串在指定范围内是否以sub开始*,返回布尔值\n",
    "endswith(sub,[start,[end]]) # 判断字符串在指定范围内是否以sub结尾*\n",
    "strip([chars])#剔除字符串两侧指定字符*\n",
    "lstrip()\n",
    "rstrip()\n",
    "upper()#转大写*\n",
    "lower()#转小写*\n",
    "capitalize()#首字母转大写\n",
    "title() # 转成标题\n",
    "replace(oldstr,newstr,count)# 字符串替换*\n",
    "split(sep,maxsplit)#字符串分割*\n",
    "join()#将序列以指定字符串进行连接*"
   ]
  },
  {
   "cell_type": "markdown",
   "id": "29a82a44",
   "metadata": {},
   "source": [
    "# 列表"
   ]
  },
  {
   "cell_type": "markdown",
   "id": "d47a6ffb",
   "metadata": {},
   "source": [
    "列表定义：列表（list）是数据元素的有序排列，用[]来包裹，表示列表，并且用逗号分隔每个元素"
   ]
  },
  {
   "cell_type": "markdown",
   "id": "1b77b4fc",
   "metadata": {},
   "source": [
    "列表格式：list=['name1','name2']"
   ]
  },
  {
   "cell_type": "code",
   "execution_count": null,
   "id": "ba5ab1f1",
   "metadata": {},
   "outputs": [],
   "source": [
    "## 2. 列表的访问"
   ]
  },
  {
   "cell_type": "code",
   "execution_count": null,
   "id": "243d8e0a",
   "metadata": {},
   "outputs": [],
   "source": [
    "2.1 列表索引"
   ]
  },
  {
   "cell_type": "code",
   "execution_count": null,
   "id": "54347e12",
   "metadata": {},
   "outputs": [],
   "source": [
    "list = ['abc', 100, 3.14, 'cd']#索引从左向右，每个元素依次从0开始编号，正向索引。从右往左从-1开始编号，反向索引"
   ]
  },
  {
   "cell_type": "code",
   "execution_count": null,
   "id": "aec87f57",
   "metadata": {},
   "outputs": [],
   "source": [
    "2.2 列表取值"
   ]
  },
  {
   "cell_type": "code",
   "execution_count": null,
   "id": "d444430d",
   "metadata": {},
   "outputs": [],
   "source": [
    "2.2.1 取单个值"
   ]
  },
  {
   "cell_type": "code",
   "execution_count": null,
   "id": "7928c379",
   "metadata": {},
   "outputs": [],
   "source": [
    "2.2.2 取多个值（切片）"
   ]
  },
  {
   "cell_type": "code",
   "execution_count": null,
   "id": "4086d64d",
   "metadata": {},
   "outputs": [],
   "source": [
    "2.2.3 嵌套列表取值"
   ]
  },
  {
   "cell_type": "code",
   "execution_count": null,
   "id": "e7615be6",
   "metadata": {},
   "outputs": [],
   "source": [
    "## 3. 列表的修改\n",
    "固定格式：列表名[索引]=新值"
   ]
  },
  {
   "cell_type": "code",
   "execution_count": null,
   "id": "219dcf53",
   "metadata": {},
   "outputs": [],
   "source": [
    "a = [111,222,333,444]\n",
    "a[1]='aaa'\n",
    "a"
   ]
  },
  {
   "cell_type": "code",
   "execution_count": null,
   "id": "b47456d3",
   "metadata": {},
   "outputs": [],
   "source": [
    "## 4.列表的查询"
   ]
  },
  {
   "cell_type": "markdown",
   "id": "e8f9b474",
   "metadata": {},
   "source": [
    "### 4.1 查找某个元素是否在列表中\n",
    "in/not in"
   ]
  },
  {
   "cell_type": "code",
   "execution_count": null,
   "id": "fd50706f",
   "metadata": {},
   "outputs": [],
   "source": [
    "a = [111,222,333,444]\n",
    "print(666 in a)# 返回一个布尔值\n",
    "print(222 not in a)"
   ]
  },
  {
   "cell_type": "markdown",
   "id": "0eca4eae",
   "metadata": {},
   "source": [
    "### 4.2 根据元素查找元素的索引值\n",
    "index()"
   ]
  },
  {
   "cell_type": "code",
   "execution_count": null,
   "id": "445a56f5",
   "metadata": {},
   "outputs": [],
   "source": [
    "a = [111,222,333,333]\n",
    "a.index(333)# 与字符串当中的index()的用法是一样的，如果有该元素返回其索引值，没有则报异常"
   ]
  },
  {
   "cell_type": "markdown",
   "id": "701386b6",
   "metadata": {},
   "source": [
    "### 4.3 查看某个元素在列表中出现的次数\n",
    "count()"
   ]
  },
  {
   "cell_type": "code",
   "execution_count": null,
   "id": "83179c06",
   "metadata": {},
   "outputs": [],
   "source": [
    "a = [111,222,333,'333',333]\n",
    "a.count(333)"
   ]
  },
  {
   "cell_type": "markdown",
   "id": "59b897cd",
   "metadata": {},
   "source": [
    "### 4.4 查看列表长度\n",
    "len()"
   ]
  },
  {
   "cell_type": "code",
   "execution_count": null,
   "id": "116a457d",
   "metadata": {},
   "outputs": [],
   "source": [
    "a = [111,222,777,444,555,555]\n",
    "len(a)#length长度"
   ]
  },
  {
   "cell_type": "code",
   "execution_count": null,
   "id": "af5f3b4c",
   "metadata": {},
   "outputs": [],
   "source": [
    "## 5. 列表的增加"
   ]
  },
  {
   "cell_type": "markdown",
   "id": "78503faf",
   "metadata": {},
   "source": [
    "## 5.1 列表追加\n",
    "append()"
   ]
  },
  {
   "cell_type": "code",
   "execution_count": null,
   "id": "d698ce80",
   "metadata": {},
   "outputs": [],
   "source": [
    "a = [111,222,777,444,555] \n",
    "a.append(666)#在列表的末尾添加666这元素\n",
    "print(a)"
   ]
  },
  {
   "cell_type": "markdown",
   "id": "84415f59",
   "metadata": {},
   "source": [
    "## 5.2 列表插入\n",
    "insert()"
   ]
  },
  {
   "cell_type": "code",
   "execution_count": null,
   "id": "7353af7e",
   "metadata": {},
   "outputs": [],
   "source": [
    "a = [111,222,777,444,555] \n",
    "# 在222的后面加333\n",
    "a.insert(2,333)#两个参数，1:插入位置，索引，2:插入的值\n",
    "a"
   ]
  },
  {
   "cell_type": "markdown",
   "id": "8cdc0580",
   "metadata": {},
   "source": [
    "## 5.3 列表扩展（合并）\n",
    "exend()"
   ]
  },
  {
   "cell_type": "code",
   "execution_count": null,
   "id": "15378432",
   "metadata": {},
   "outputs": [],
   "source": [
    "list1 = [1,2,3,4]\n",
    "list2 = [5,6,7,8]\n",
    "# list2合并到list1\n",
    "list1.extend(list2)\n",
    "list1"
   ]
  },
  {
   "cell_type": "markdown",
   "id": "06556590",
   "metadata": {},
   "source": [
    "## 6. 列表删除\n",
    "### 6.1 删除某个元素或者整个列表\n",
    "del"
   ]
  },
  {
   "cell_type": "code",
   "execution_count": null,
   "id": "19acd19f",
   "metadata": {},
   "outputs": [],
   "source": [
    "a = [111,222,777,444,555]\n",
    "# 删除2号索引的元素\n",
    "del a[2]#删除一个元素\n",
    "a"
   ]
  },
  {
   "cell_type": "markdown",
   "id": "d81014da",
   "metadata": {},
   "source": [
    "### 6.2 删除某个元素，并返回该元素。可以指定索引，默认-1\n",
    "pop()"
   ]
  },
  {
   "cell_type": "code",
   "execution_count": null,
   "id": "42a407df",
   "metadata": {},
   "outputs": [],
   "source": [
    "a = [111,222,777,444,555]\n",
    "b=a.pop()#pop 中文意思就说弹出\n",
    "print(a)\n",
    "print(b)"
   ]
  },
  {
   "cell_type": "markdown",
   "id": "a144f6be",
   "metadata": {},
   "source": [
    "### 6.3 删除列表中指定元素，如果元素重复则删除最左侧的一个\n",
    "remove()"
   ]
  },
  {
   "cell_type": "code",
   "execution_count": null,
   "id": "4a725bd6",
   "metadata": {},
   "outputs": [],
   "source": [
    "a = [111,222,555,777,444,555]\n",
    "a.remove(777)# 如果元素不存在则报异常\n",
    "print(a)"
   ]
  },
  {
   "cell_type": "markdown",
   "id": "2edec384",
   "metadata": {},
   "source": [
    "### 6.4 清空列表\n",
    "clear()"
   ]
  },
  {
   "cell_type": "code",
   "execution_count": null,
   "id": "faae6ca1",
   "metadata": {},
   "outputs": [],
   "source": [
    "a = [111,222,555,777,444,555]\n",
    "a.clear()\n",
    "print(a)"
   ]
  },
  {
   "cell_type": "code",
   "execution_count": null,
   "id": "bd3b17f7",
   "metadata": {},
   "outputs": [],
   "source": [
    "# 7. 列表常用操作"
   ]
  },
  {
   "cell_type": "code",
   "execution_count": null,
   "id": "68463902",
   "metadata": {},
   "outputs": [],
   "source": []
  },
  {
   "cell_type": "code",
   "execution_count": null,
   "id": "d22d0efb",
   "metadata": {},
   "outputs": [],
   "source": []
  },
  {
   "cell_type": "code",
   "execution_count": null,
   "id": "aa658f6a",
   "metadata": {},
   "outputs": [],
   "source": []
  },
  {
   "cell_type": "code",
   "execution_count": null,
   "id": "d9c5d75d",
   "metadata": {},
   "outputs": [],
   "source": []
  },
  {
   "cell_type": "code",
   "execution_count": null,
   "id": "d49b9fd5",
   "metadata": {},
   "outputs": [],
   "source": []
  },
  {
   "cell_type": "code",
   "execution_count": null,
   "id": "bf028ac3",
   "metadata": {},
   "outputs": [],
   "source": []
  },
  {
   "cell_type": "code",
   "execution_count": null,
   "id": "426b1278",
   "metadata": {},
   "outputs": [],
   "source": []
  },
  {
   "cell_type": "code",
   "execution_count": null,
   "id": "458b65f0",
   "metadata": {},
   "outputs": [],
   "source": []
  },
  {
   "cell_type": "code",
   "execution_count": null,
   "id": "41c49125",
   "metadata": {},
   "outputs": [],
   "source": []
  },
  {
   "cell_type": "code",
   "execution_count": null,
   "id": "ff13c208",
   "metadata": {},
   "outputs": [],
   "source": []
  },
  {
   "cell_type": "code",
   "execution_count": null,
   "id": "03e1e8f5",
   "metadata": {},
   "outputs": [],
   "source": []
  },
  {
   "cell_type": "code",
   "execution_count": null,
   "id": "ea3c881d",
   "metadata": {},
   "outputs": [],
   "source": []
  },
  {
   "cell_type": "code",
   "execution_count": null,
   "id": "305f3efe",
   "metadata": {},
   "outputs": [],
   "source": []
  },
  {
   "cell_type": "code",
   "execution_count": null,
   "id": "1db1b767",
   "metadata": {},
   "outputs": [],
   "source": []
  },
  {
   "cell_type": "code",
   "execution_count": null,
   "id": "686a81b6",
   "metadata": {},
   "outputs": [],
   "source": []
  },
  {
   "cell_type": "code",
   "execution_count": null,
   "id": "44e2fdcb",
   "metadata": {},
   "outputs": [],
   "source": []
  },
  {
   "cell_type": "code",
   "execution_count": null,
   "id": "dd0b3aaa",
   "metadata": {},
   "outputs": [],
   "source": []
  },
  {
   "cell_type": "code",
   "execution_count": 2,
   "id": "21b58d9b",
   "metadata": {},
   "outputs": [
    {
     "data": {
      "text/plain": [
       "True"
      ]
     },
     "execution_count": 2,
     "metadata": {},
     "output_type": "execute_result"
    }
   ],
   "source": [
    "# 回文数\n",
    "def huiwen(num):\n",
    "    num = str(num)\n",
    "    if num == num[::-1]:\n",
    "        return True\n",
    "    return False\n",
    "res = huiwen(12321)\n",
    "res"
   ]
  },
  {
   "cell_type": "code",
   "execution_count": null,
   "id": "218623b6",
   "metadata": {},
   "outputs": [],
   "source": [
    "# 函数功能\n",
    "#     函数是组织好的，可重复使用的，用来实现单一，或相关联功能的代码段。\n",
    "#     函数能提高应用的模块性，和代码的重复利用率。你已经知道Python提供了许多内建函数，比如print()。但你也可以自己创建函数，这被叫做用户自定义函数。\n",
    "# 函数定义\n",
    "# 函数调用\n",
    "# 函数参数\n",
    "# 函数返回值\n",
    "# 函数作用域"
   ]
  }
 ],
 "metadata": {
  "kernelspec": {
   "display_name": "Python 3 (ipykernel)",
   "language": "python",
   "name": "python3"
  },
  "language_info": {
   "codemirror_mode": {
    "name": "ipython",
    "version": 3
   },
   "file_extension": ".py",
   "mimetype": "text/x-python",
   "name": "python",
   "nbconvert_exporter": "python",
   "pygments_lexer": "ipython3",
   "version": "3.8.6"
  }
 },
 "nbformat": 4,
 "nbformat_minor": 5
}
