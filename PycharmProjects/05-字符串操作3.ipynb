{
 "cells": [
  {
   "cell_type": "markdown",
   "id": "97f7b93c",
   "metadata": {},
   "source": [
    "上次作业： 给定一个字符串mystr=’hello world!’ 查询指定字符”a”以及”or”是否在字符串中，并查询字符‘l’出现的次数"
   ]
  },
  {
   "cell_type": "code",
   "execution_count": 25,
   "id": "e93a8fab",
   "metadata": {},
   "outputs": [
    {
     "data": {
      "text/plain": [
       "6"
      ]
     },
     "execution_count": 25,
     "metadata": {},
     "output_type": "execute_result"
    }
   ],
   "source": [
    "len('python')#求字符串的长度，length"
   ]
  },
  {
   "cell_type": "code",
   "execution_count": 27,
   "id": "85022df7",
   "metadata": {},
   "outputs": [
    {
     "data": {
      "text/plain": [
       "-1"
      ]
     },
     "execution_count": 27,
     "metadata": {},
     "output_type": "execute_result"
    }
   ],
   "source": [
    "'python'.find('yx')# 查询子字符串是否在一个字符串中，如果有返回索引值，没有返回-1"
   ]
  },
  {
   "cell_type": "code",
   "execution_count": 29,
   "id": "d916fc3f",
   "metadata": {
    "scrolled": true
   },
   "outputs": [
    {
     "ename": "ValueError",
     "evalue": "substring not found",
     "output_type": "error",
     "traceback": [
      "\u001b[0;31m---------------------------------------------------------------------------\u001b[0m",
      "\u001b[0;31mValueError\u001b[0m                                Traceback (most recent call last)",
      "\u001b[0;32m/var/folders/7_/gl5k51h93z55mwsdpj89djpw0000gn/T/ipykernel_8947/224759220.py\u001b[0m in \u001b[0;36m<module>\u001b[0;34m\u001b[0m\n\u001b[0;32m----> 1\u001b[0;31m \u001b[0;34m'python'\u001b[0m\u001b[0;34m.\u001b[0m\u001b[0mindex\u001b[0m\u001b[0;34m(\u001b[0m\u001b[0;34m'yx'\u001b[0m\u001b[0;34m)\u001b[0m\u001b[0;31m# 查询子字符串是否在一个字符串中，如果有返回索引值，没有返回\u001b[0m\u001b[0;34m\u001b[0m\u001b[0;34m\u001b[0m\u001b[0m\n\u001b[0m",
      "\u001b[0;31mValueError\u001b[0m: substring not found"
     ]
    }
   ],
   "source": [
    "'python'.index('yx')# 查询子字符串是否在一个字符串中，如果有返回索引值，报异常"
   ]
  },
  {
   "cell_type": "code",
   "execution_count": null,
   "id": "be39b546",
   "metadata": {},
   "outputs": [],
   "source": [
    "本次课内容：\n",
    "isalnum()# 判断是否是由数字字母组成\n",
    "isalpha()# 判断是否是只由字母组成\n",
    "isdigit()#判断是否是只由数字组成\n",
    "\n",
    "\n",
    "isspace()#判断是否全部是空格\n",
    "isupper() #判断是否是大写字母\n",
    "islower（）#判断是否是小写字母\n",
    "startswith(sub,[start,[end]]) # 判断字符串在指定范围内是否以sub开始*\n",
    "endswith(sub,[start,[end]]) # 判断字符串在指定范围内是否以sub结尾*\n",
    "\n",
    "strip([chars])#剔除字符串两侧指定字符*\n",
    "upper()#转大写*\n",
    "lower()#转小写*\n",
    "capitalize()#首字母转大写\n",
    "title() # 转成标题\n",
    "replace(oldstr,newstr,count)# 字符串替换*\n",
    "split(sep,maxsplit)#字符串分割*\n",
    "join()#将序列以指定字符串进行连接*"
   ]
  },
  {
   "cell_type": "code",
   "execution_count": 30,
   "id": "e42af19e",
   "metadata": {
    "scrolled": true
   },
   "outputs": [
    {
     "data": {
      "text/plain": [
       "True"
      ]
     },
     "execution_count": 30,
     "metadata": {},
     "output_type": "execute_result"
    }
   ],
   "source": [
    "'python123'.isalnum()# 判断是否是由数字字母组成alnum-->alpha number"
   ]
  },
  {
   "cell_type": "code",
   "execution_count": 52,
   "id": "0d5d3840",
   "metadata": {},
   "outputs": [
    {
     "data": {
      "text/plain": [
       "True"
      ]
     },
     "execution_count": 52,
     "metadata": {},
     "output_type": "execute_result"
    }
   ],
   "source": [
    "'我'.isalnum()"
   ]
  },
  {
   "cell_type": "code",
   "execution_count": 34,
   "id": "ec0559fd",
   "metadata": {},
   "outputs": [
    {
     "data": {
      "text/plain": [
       "True"
      ]
     },
     "execution_count": 34,
     "metadata": {},
     "output_type": "execute_result"
    }
   ],
   "source": [
    "'Python'.isalnum()"
   ]
  },
  {
   "cell_type": "code",
   "execution_count": 32,
   "id": "fbc6960a",
   "metadata": {},
   "outputs": [
    {
     "data": {
      "text/plain": [
       "True"
      ]
     },
     "execution_count": 32,
     "metadata": {},
     "output_type": "execute_result"
    }
   ],
   "source": [
    "'123'.isalnum()"
   ]
  },
  {
   "cell_type": "code",
   "execution_count": 35,
   "id": "55da6583",
   "metadata": {},
   "outputs": [
    {
     "data": {
      "text/plain": [
       "False"
      ]
     },
     "execution_count": 35,
     "metadata": {},
     "output_type": "execute_result"
    }
   ],
   "source": [
    "'abc 123'.isalnum()"
   ]
  },
  {
   "cell_type": "code",
   "execution_count": 36,
   "id": "efd560c2",
   "metadata": {},
   "outputs": [
    {
     "data": {
      "text/plain": [
       "False"
      ]
     },
     "execution_count": 36,
     "metadata": {},
     "output_type": "execute_result"
    }
   ],
   "source": [
    "'python123'.isalpha()# 判断是否是只由字母组成"
   ]
  },
  {
   "cell_type": "code",
   "execution_count": 2,
   "id": "acea665c",
   "metadata": {},
   "outputs": [
    {
     "data": {
      "text/plain": [
       "True"
      ]
     },
     "execution_count": 2,
     "metadata": {},
     "output_type": "execute_result"
    }
   ],
   "source": [
    "'pYthon'.isalpha()"
   ]
  },
  {
   "cell_type": "code",
   "execution_count": 38,
   "id": "debe75ef",
   "metadata": {},
   "outputs": [
    {
     "data": {
      "text/plain": [
       "True"
      ]
     },
     "execution_count": 38,
     "metadata": {},
     "output_type": "execute_result"
    }
   ],
   "source": [
    "'520'.isdigit()#判断是否是只由数字组成"
   ]
  },
  {
   "cell_type": "code",
   "execution_count": 40,
   "id": "65754205",
   "metadata": {},
   "outputs": [
    {
     "data": {
      "text/plain": [
       "False"
      ]
     },
     "execution_count": 40,
     "metadata": {},
     "output_type": "execute_result"
    }
   ],
   "source": [
    "'tom123'.isdigit()"
   ]
  },
  {
   "cell_type": "code",
   "execution_count": 4,
   "id": "d6bced87",
   "metadata": {},
   "outputs": [
    {
     "name": "stdout",
     "output_type": "stream",
     "text": [
      "数字的数量是3,字母的数量是11,特殊符号的数量是3\n"
     ]
    }
   ],
   "source": [
    "s='hellow world 123!'\n",
    "d_num = 0\n",
    "a_num = 0\n",
    "other_num = 0\n",
    "for i in s:\n",
    "    if i.isdigit():\n",
    "        d_num +=1\n",
    "    elif i.isalpha():\n",
    "        a_num +=1\n",
    "    else:\n",
    "        other_num +=1\n",
    "print(f'数字的数量是{d_num},字母的数量是{a_num},特殊符号的数量是{other_num}')\n",
    "        "
   ]
  },
  {
   "cell_type": "code",
   "execution_count": 41,
   "id": "84c52e4c",
   "metadata": {},
   "outputs": [
    {
     "data": {
      "text/plain": [
       "True"
      ]
     },
     "execution_count": 41,
     "metadata": {},
     "output_type": "execute_result"
    }
   ],
   "source": [
    "'      '.isspace()#判断是否全部是空格"
   ]
  },
  {
   "cell_type": "code",
   "execution_count": 42,
   "id": "6c4f0e8a",
   "metadata": {},
   "outputs": [
    {
     "data": {
      "text/plain": [
       "False"
      ]
     },
     "execution_count": 42,
     "metadata": {},
     "output_type": "execute_result"
    }
   ],
   "source": [
    "'123       '.isspace()"
   ]
  },
  {
   "cell_type": "code",
   "execution_count": 44,
   "id": "3aa54b86",
   "metadata": {},
   "outputs": [
    {
     "data": {
      "text/plain": [
       "True"
      ]
     },
     "execution_count": 44,
     "metadata": {},
     "output_type": "execute_result"
    }
   ],
   "source": [
    "'TAB'.isupper() #判断是否是大写字母"
   ]
  },
  {
   "cell_type": "code",
   "execution_count": 45,
   "id": "866368da",
   "metadata": {},
   "outputs": [
    {
     "data": {
      "text/plain": [
       "False"
      ]
     },
     "execution_count": 45,
     "metadata": {},
     "output_type": "execute_result"
    }
   ],
   "source": [
    "'Tab'.isupper() "
   ]
  },
  {
   "cell_type": "code",
   "execution_count": 47,
   "id": "565acbc3",
   "metadata": {},
   "outputs": [
    {
     "data": {
      "text/plain": [
       "True"
      ]
     },
     "execution_count": 47,
     "metadata": {},
     "output_type": "execute_result"
    }
   ],
   "source": [
    "'T1&&&T^^'.isupper()"
   ]
  },
  {
   "cell_type": "code",
   "execution_count": 51,
   "id": "21c892ab",
   "metadata": {},
   "outputs": [
    {
     "data": {
      "text/plain": [
       "True"
      ]
     },
     "execution_count": 51,
     "metadata": {},
     "output_type": "execute_result"
    }
   ],
   "source": [
    "'tab123**'.islower()#判断是否是小写字母"
   ]
  },
  {
   "cell_type": "code",
   "execution_count": 48,
   "id": "1156f12c",
   "metadata": {},
   "outputs": [
    {
     "data": {
      "text/plain": [
       "False"
      ]
     },
     "execution_count": 48,
     "metadata": {},
     "output_type": "execute_result"
    }
   ],
   "source": [
    "'Tab'.islower() "
   ]
  },
  {
   "cell_type": "markdown",
   "id": "8c6590e0",
   "metadata": {},
   "source": [
    "练习1:统计字符串中数字、字母和特殊符号的数量"
   ]
  },
  {
   "cell_type": "code",
   "execution_count": 54,
   "id": "f155b3ea",
   "metadata": {},
   "outputs": [
    {
     "name": "stdout",
     "output_type": "stream",
     "text": [
      "数字的数量6,字母的数量26,特殊字符的数量7\n"
     ]
    }
   ],
   "source": [
    "s = \"the Communist sf123 Party of China 123，\"\n",
    "digit_num = 0 #数字的数量\n",
    "alpha_num = 0 # 字母的数量\n",
    "other_num = 0 # 特殊字符的数量\n",
    "for i in s:\n",
    "    if i.isdigit():\n",
    "        digit_num += 1\n",
    "    elif i.isalpha():\n",
    "        alpha_num += 1\n",
    "    else:\n",
    "        other_num += 1\n",
    "print(f'数字的数量{digit_num},字母的数量{alpha_num},特殊字符的数量{other_num}')"
   ]
  },
  {
   "cell_type": "code",
   "execution_count": 56,
   "id": "59ea2d29",
   "metadata": {},
   "outputs": [
    {
     "data": {
      "text/plain": [
       "False"
      ]
     },
     "execution_count": 56,
     "metadata": {},
     "output_type": "execute_result"
    }
   ],
   "source": [
    "'python'.startswith('ppy') # 判断以是否以ppy开头"
   ]
  },
  {
   "cell_type": "code",
   "execution_count": 62,
   "id": "472b10ae",
   "metadata": {},
   "outputs": [
    {
     "data": {
      "text/plain": [
       "True"
      ]
     },
     "execution_count": 62,
     "metadata": {},
     "output_type": "execute_result"
    }
   ],
   "source": [
    "'python'.startswith('p')"
   ]
  },
  {
   "cell_type": "code",
   "execution_count": 58,
   "id": "d00ab1a5",
   "metadata": {},
   "outputs": [
    {
     "data": {
      "text/plain": [
       "False"
      ]
     },
     "execution_count": 58,
     "metadata": {},
     "output_type": "execute_result"
    }
   ],
   "source": [
    "'python'.endswith('py')"
   ]
  },
  {
   "cell_type": "code",
   "execution_count": 61,
   "id": "56256b14",
   "metadata": {},
   "outputs": [
    {
     "data": {
      "text/plain": [
       "True"
      ]
     },
     "execution_count": 61,
     "metadata": {},
     "output_type": "execute_result"
    }
   ],
   "source": [
    "'python'.endswith('n')# 判断以是否以n结尾"
   ]
  },
  {
   "cell_type": "code",
   "execution_count": 63,
   "id": "39ebee1b",
   "metadata": {},
   "outputs": [
    {
     "data": {
      "text/plain": [
       "True"
      ]
     },
     "execution_count": 63,
     "metadata": {},
     "output_type": "execute_result"
    }
   ],
   "source": [
    "replace(oldstr,newstr,count)# 字符串替换\n",
    "split(sep,maxsplit)#字符串分割\n",
    "join()#将序列以指定字符串进行连接"
   ]
  },
  {
   "cell_type": "code",
   "execution_count": 64,
   "id": "9be17035",
   "metadata": {},
   "outputs": [
    {
     "data": {
      "text/plain": [
       "'ython'"
      ]
     },
     "execution_count": 64,
     "metadata": {},
     "output_type": "execute_result"
    }
   ],
   "source": [
    "'python'.strip('p')#剔除字符串两侧指定字符"
   ]
  },
  {
   "cell_type": "code",
   "execution_count": 66,
   "id": "920dd518",
   "metadata": {},
   "outputs": [
    {
     "data": {
      "text/plain": [
       "'ytphon'"
      ]
     },
     "execution_count": 66,
     "metadata": {},
     "output_type": "execute_result"
    }
   ],
   "source": [
    "'ppytphon'.strip('p')"
   ]
  },
  {
   "cell_type": "code",
   "execution_count": 67,
   "id": "9fcf19a3",
   "metadata": {},
   "outputs": [
    {
     "data": {
      "text/plain": [
       "'ytphon'"
      ]
     },
     "execution_count": 67,
     "metadata": {},
     "output_type": "execute_result"
    }
   ],
   "source": [
    "'ppytphonppp'.strip('p')"
   ]
  },
  {
   "cell_type": "code",
   "execution_count": 68,
   "id": "1e7e8c6e",
   "metadata": {},
   "outputs": [
    {
     "data": {
      "text/plain": [
       "'python'"
      ]
     },
     "execution_count": 68,
     "metadata": {},
     "output_type": "execute_result"
    }
   ],
   "source": [
    "'   python  '.strip()# 不指定会剔除空格和换行"
   ]
  },
  {
   "cell_type": "code",
   "execution_count": 69,
   "id": "0f400053",
   "metadata": {},
   "outputs": [
    {
     "data": {
      "text/plain": [
       "'python'"
      ]
     },
     "execution_count": 69,
     "metadata": {},
     "output_type": "execute_result"
    }
   ],
   "source": [
    "'   python  \\n'.strip()"
   ]
  },
  {
   "cell_type": "code",
   "execution_count": 75,
   "id": "6d47460a",
   "metadata": {},
   "outputs": [
    {
     "name": "stdout",
     "output_type": "stream",
     "text": [
      "请输入一个数字123  \n",
      "ok\n"
     ]
    }
   ],
   "source": [
    "# a = input('请输入一个数字') \n",
    "# a = a.strip()\n",
    "a = input('请输入一个数字').strip()\n",
    "if a == '123':\n",
    "    print('ok')\n",
    "else:\n",
    "    print('no')"
   ]
  },
  {
   "cell_type": "code",
   "execution_count": 76,
   "id": "b7ed7689",
   "metadata": {},
   "outputs": [
    {
     "data": {
      "text/plain": [
       "'TOM'"
      ]
     },
     "execution_count": 76,
     "metadata": {},
     "output_type": "execute_result"
    }
   ],
   "source": [
    "'tom'.upper()#转大写"
   ]
  },
  {
   "cell_type": "code",
   "execution_count": 77,
   "id": "40aed138",
   "metadata": {},
   "outputs": [
    {
     "data": {
      "text/plain": [
       "'tom'"
      ]
     },
     "execution_count": 77,
     "metadata": {},
     "output_type": "execute_result"
    }
   ],
   "source": [
    "'TOM'.lower()#转小写"
   ]
  },
  {
   "cell_type": "code",
   "execution_count": 78,
   "id": "9ff3be6a",
   "metadata": {},
   "outputs": [
    {
     "data": {
      "text/plain": [
       "'Tom'"
      ]
     },
     "execution_count": 78,
     "metadata": {},
     "output_type": "execute_result"
    }
   ],
   "source": [
    "'tom'.capitalize() # 首字母大写"
   ]
  },
  {
   "cell_type": "code",
   "execution_count": 79,
   "id": "698b818f",
   "metadata": {
    "scrolled": true
   },
   "outputs": [
    {
     "data": {
      "text/plain": [
       "'The Python Study Report'"
      ]
     },
     "execution_count": 79,
     "metadata": {},
     "output_type": "execute_result"
    }
   ],
   "source": [
    "\"the python study report\".title()"
   ]
  },
  {
   "cell_type": "code",
   "execution_count": 87,
   "id": "41adea8f",
   "metadata": {},
   "outputs": [
    {
     "data": {
      "text/plain": [
       "'pyhton th'"
      ]
     },
     "execution_count": 87,
     "metadata": {},
     "output_type": "execute_result"
    }
   ],
   "source": [
    "'python th'.replace('th','ht',1) # 替换 \n",
    "# 把th---》ht"
   ]
  },
  {
   "cell_type": "code",
   "execution_count": null,
   "id": "68a10e28",
   "metadata": {},
   "outputs": [],
   "source": [
    "练习题：\n",
    "敏感词替换，把 共产党，习近平 替换成***\n",
    "中国共产党主席习近平。"
   ]
  },
  {
   "cell_type": "code",
   "execution_count": 92,
   "id": "2fbd33cf",
   "metadata": {},
   "outputs": [
    {
     "name": "stdout",
     "output_type": "stream",
     "text": [
      "中国***，***\n"
     ]
    }
   ],
   "source": [
    "s = \"中国共产党，习近平\"\n",
    "s = s.replace('共产党','*'*3)\n",
    "s.replace('习近平','*'*3)\n",
    "for i in [\"中国共产党\",\"习近平\"]:\n",
    "    new_s = s.replace(i,'*'*3)\n",
    "print(new_s)"
   ]
  },
  {
   "cell_type": "code",
   "execution_count": 96,
   "id": "5064b8a5",
   "metadata": {},
   "outputs": [
    {
     "name": "stdout",
     "output_type": "stream",
     "text": [
      "abc\n",
      "123\n"
     ]
    }
   ],
   "source": [
    "'abc@123'.split('@')\n",
    "l = ['abc', '123']\n",
    "a=l[0]\n",
    "b=l[1]\n",
    "print(a)\n",
    "print(b)"
   ]
  },
  {
   "cell_type": "code",
   "execution_count": null,
   "id": "61243634",
   "metadata": {},
   "outputs": [],
   "source": [
    "获取邮箱的用户名和域名\n",
    "s = \"ming.chen26@pactera.com\".split('@')\n",
    "s[1]"
   ]
  },
  {
   "cell_type": "code",
   "execution_count": 101,
   "id": "86ddf41d",
   "metadata": {},
   "outputs": [
    {
     "data": {
      "text/plain": [
       "'2021/11/20'"
      ]
     },
     "execution_count": 101,
     "metadata": {},
     "output_type": "execute_result"
    }
   ],
   "source": [
    "'/'.join(['2021','11','20'])"
   ]
  },
  {
   "cell_type": "code",
   "execution_count": null,
   "id": "e71ebe71",
   "metadata": {},
   "outputs": [],
   "source": [
    "作业1:判断变量名是否正确？"
   ]
  },
  {
   "cell_type": "code",
   "execution_count": 106,
   "id": "6a66a1db",
   "metadata": {},
   "outputs": [
    {
     "name": "stdout",
     "output_type": "stream",
     "text": [
      "验证码: o9Ky\n"
     ]
    }
   ],
   "source": [
    "#作业2:\n",
    "def check_code():\n",
    "    import random   # 导入标准块的random\n",
    "    checkcode=''\n",
    "    for i in range(4):   # 循环4次\n",
    "        index=random.randrange(0,3)   # 生成0-3中的一个数\n",
    "        if index!=i and index+1 !=i:\n",
    "            checkcode+=chr(random.randint(97,122))  # 生成a-z中的一个小写字母\n",
    "        elif index+1==i:\n",
    "            checkcode+=chr(random.randint(65,90))    # 生成A-Z中的大写字母\n",
    "        else:\n",
    "            checkcode+=str(random.randint(1,9))    # 生成1-9的一个数字\n",
    "    print(\"验证码:\",checkcode)\n",
    "    return checkcode\n",
    "checkcode = check_code()\n"
   ]
  },
  {
   "cell_type": "code",
   "execution_count": null,
   "id": "e5a84be6",
   "metadata": {},
   "outputs": [],
   "source": []
  },
  {
   "cell_type": "code",
   "execution_count": null,
   "id": "fbc4df74",
   "metadata": {},
   "outputs": [],
   "source": []
  },
  {
   "cell_type": "code",
   "execution_count": null,
   "id": "d3368134",
   "metadata": {},
   "outputs": [],
   "source": []
  }
 ],
 "metadata": {
  "kernelspec": {
   "display_name": "Python 3 (ipykernel)",
   "language": "python",
   "name": "python3"
  },
  "language_info": {
   "codemirror_mode": {
    "name": "ipython",
    "version": 3
   },
   "file_extension": ".py",
   "mimetype": "text/x-python",
   "name": "python",
   "nbconvert_exporter": "python",
   "pygments_lexer": "ipython3",
   "version": "3.9.7"
  }
 },
 "nbformat": 4,
 "nbformat_minor": 5
}
