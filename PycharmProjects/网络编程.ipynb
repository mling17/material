{
 "cells": [
  {
   "cell_type": "code",
   "execution_count": null,
   "id": "ce19a1a0",
   "metadata": {},
   "outputs": [],
   "source": [
    "什么是网络\n",
    "五层协议\n",
    "什么是socket\n",
    "基于socket实现简单套接字通信\n",
    "在简单套接字的基础上加上通信循环\n",
    "粘包\n",
    "udp"
   ]
  }
 ],
 "metadata": {
  "kernelspec": {
   "display_name": "Python 3 (ipykernel)",
   "language": "python",
   "name": "python3"
  },
  "language_info": {
   "codemirror_mode": {
    "name": "ipython",
    "version": 3
   },
   "file_extension": ".py",
   "mimetype": "text/x-python",
   "name": "python",
   "nbconvert_exporter": "python",
   "pygments_lexer": "ipython3",
   "version": "3.8.6"
  }
 },
 "nbformat": 4,
 "nbformat_minor": 5
}
