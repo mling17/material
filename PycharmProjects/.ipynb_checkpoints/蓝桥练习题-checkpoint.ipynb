{
 "cells": [
  {
   "cell_type": "markdown",
   "id": "3eac7084",
   "metadata": {},
   "source": [
    "第一题：单位变换\n",
    "\n",
    "问题：在计算机存储中，15.125GB是多少MB（保留一位小数）\n"
   ]
  },
  {
   "cell_type": "code",
   "execution_count": 1,
   "id": "9e3428e1",
   "metadata": {},
   "outputs": [
    {
     "name": "stdout",
     "output_type": "stream",
     "text": [
      "输入存储大小: 14.125\n",
      "14.1转换后的存储大小为14464.0 \n"
     ]
    }
   ],
   "source": [
    "GB = float(input('输入存储大小: '))\n",
    "\n",
    "MB= GB*1024\n",
    "\n",
    "print('%0.1f转换后的存储大小为%0.1f ' %(GB,MB))\n"
   ]
  },
  {
   "cell_type": "code",
   "execution_count": null,
   "id": "acbbeabf",
   "metadata": {},
   "outputs": [],
   "source": [
    "第二题：约数个数\n",
    "问题：1200000有多少个约数(只计算正约数)。"
   ]
  },
  {
   "cell_type": "code",
   "execution_count": 7,
   "id": "19343ed8",
   "metadata": {},
   "outputs": [
    {
     "name": "stdout",
     "output_type": "stream",
     "text": [
      "96\n"
     ]
    }
   ],
   "source": [
    "count = 0\n",
    "for i in range(1,1200001):\n",
    "if 1200000%i == 0:\n",
    "    count +=1\n",
    "print(count)"
   ]
  },
  {
   "cell_type": "code",
   "execution_count": null,
   "id": "64d3a1ac",
   "metadata": {},
   "outputs": [],
   "source": [
    "N=1200000\n",
    "print(len([i for i in range(1,N+1) if N % i == 0]))"
   ]
  },
  {
   "cell_type": "markdown",
   "id": "fa22b5c4",
   "metadata": {},
   "source": [
    "第三题：叶结点数\n",
    "问题：一棵包含有2019个结点的二叉树，最多包含多少个叶结点？"
   ]
  },
  {
   "cell_type": "markdown",
   "id": "13b55df4",
   "metadata": {},
   "source": [
    "第四题：数字9\n",
    "问题：在1至2019中，有多少个数的数位中包含数字9？\n",
    "注意，有的数中的数位中包含多个9，这个数只算一次。例如，1999这个数包含数字9，在计算时只是算一个数。"
   ]
  },
  {
   "cell_type": "code",
   "execution_count": 8,
   "id": "70b422dd",
   "metadata": {},
   "outputs": [
    {
     "name": "stdout",
     "output_type": "stream",
     "text": [
      "544\n"
     ]
    }
   ],
   "source": [
    "count = 0\n",
    "for i in range(1,2020):\n",
    "    s = str(i)\n",
    "    if '9' in s:\n",
    "        count += 1\n",
    "print(count)"
   ]
  },
  {
   "cell_type": "code",
   "execution_count": 9,
   "id": "765407f3",
   "metadata": {},
   "outputs": [
    {
     "name": "stdout",
     "output_type": "stream",
     "text": [
      "544\n"
     ]
    }
   ],
   "source": [
    "N = 2019\n",
    "ans = len([s for s in [str(i) for i in range(9, N + 1)] if '9' in s])\n",
    "print(ans)"
   ]
  },
  {
   "cell_type": "markdown",
   "id": "6207b0d5",
   "metadata": {},
   "source": [
    "第五题：数位递增的数\n",
    "问题：一个正整数如果任何一个数位不大于右边相邻的数位，则称为一个数位递增的数，例如1135是一个数位递增的数，而1024不是一个数位递增的数。\n",
    "给定正整数 n，请问在整数 1 至 n 中有多少个数位递增的数？\n"
   ]
  },
  {
   "cell_type": "code",
   "execution_count": 19,
   "id": "6c9ede87",
   "metadata": {},
   "outputs": [
    {
     "name": "stdout",
     "output_type": "stream",
     "text": [
      "None\n"
     ]
    }
   ],
   "source": [
    "def check(n):\n",
    "    n = list(str(n))\n",
    "    m = n.copy()\n",
    "    m.sort()\n",
    "    if n == m:\n",
    "        return True\n",
    "res = check(1024)\n",
    "print(res)"
   ]
  },
  {
   "cell_type": "code",
   "execution_count": 28,
   "id": "e789e77a",
   "metadata": {},
   "outputs": [
    {
     "name": "stdout",
     "output_type": "stream",
     "text": [
      "请输入一个正整数：15\n",
      "14\n"
     ]
    }
   ],
   "source": [
    "def check_1(n):\n",
    "    n = str(n)\n",
    "    for i in range(len(n)-1):\n",
    "        if n[i]>n[i+1]:\n",
    "            return False\n",
    "    return True\n",
    "ans = 0\n",
    "n = int(input('请输入一个正整数：'))\n",
    "for i in range(1,n+1):\n",
    "    ret = check_1(i)\n",
    "    if ret:\n",
    "        ans += 1\n",
    "print(ans)"
   ]
  },
  {
   "cell_type": "code",
   "execution_count": 27,
   "id": "d864c5af",
   "metadata": {},
   "outputs": [
    {
     "name": "stdout",
     "output_type": "stream",
     "text": [
      "请输入一个正整数：15\n",
      "14\n"
     ]
    }
   ],
   "source": [
    "def check_2(n):\n",
    "    n = list(str(n))\n",
    "    m = n.copy()\n",
    "    m.sort()\n",
    "    if n == m:\n",
    "        return True\n",
    "ans = 0\n",
    "n = int(input('请输入一个正整数：'))\n",
    "for i in range(1,n+1):\n",
    "    ret = check_2(i)\n",
    "    if ret:\n",
    "        ans += 1\n",
    "print(ans)"
   ]
  },
  {
   "cell_type": "markdown",
   "id": "40879ed5",
   "metadata": {},
   "source": [
    "第六题：递增三元组\n",
    "问题：在数列 a[1], a[2], …, a[n] 中，如果对于下标 i, j, k 满足 0\n",
    "给定一个数列，请问数列中有多少个元素可能是递增三元组的中心。"
   ]
  },
  {
   "cell_type": "code",
   "execution_count": null,
   "id": "5cc7848d",
   "metadata": {},
   "outputs": [],
   "source": [
    "if __name__ == '__main__':\n",
    "\n",
    "ans = 0\n",
    "\n",
    "n = int(input().strip())\n",
    "\n",
    "data = [int(x) for x in input().strip().split(' ')] # 转整数列表\n",
    "\n",
    "len1 = len(data)\n",
    "\n",
    "for j in range(1, len1 - 1):\n",
    "\n",
    "hasSmall = False\n",
    "\n",
    "hasBig = False\n",
    "\n",
    "for i in range(j):\n",
    "\n",
    "if data[i] < data[j]:\n",
    "\n",
    "hasSmall = True\n",
    "\n",
    "break\n",
    "\n",
    "for k in range(j + 1, len1):\n",
    "\n",
    "if data[j] < data[k]:\n",
    "\n",
    "hasBig = True\n",
    "\n",
    "break\n",
    "\n",
    "if hasSmall and hasBig:\n",
    "\n",
    "ans += 1\n",
    "\n",
    "print(ans)\n",
    "\n",
    "或\n",
    "\n",
    "n = eval(input())\n",
    "\n",
    "ls = input().split()\n",
    "\n",
    "ls = [eval(i) for i in ls]\n",
    "\n",
    "out = []\n",
    "\n",
    "count = 0\n",
    "\n",
    "for i in range(n-2):\n",
    "\n",
    "for j in range(i+1,n-1):\n",
    "\n",
    "for k in range(j+1,n):\n",
    "\n",
    "if ls[i]\n",
    "\n",
    "count += 1\n",
    "\n",
    "out.append(j)\n",
    "\n",
    "break\n",
    "\n",
    "print(len(set(out)))\n",
    "\n"
   ]
  },
  {
   "cell_type": "code",
   "execution_count": null,
   "id": "0ebe4527",
   "metadata": {},
   "outputs": [],
   "source": []
  },
  {
   "cell_type": "code",
   "execution_count": null,
   "id": "8678d0f8",
   "metadata": {},
   "outputs": [],
   "source": []
  },
  {
   "cell_type": "code",
   "execution_count": null,
   "id": "b7702301",
   "metadata": {},
   "outputs": [],
   "source": []
  },
  {
   "cell_type": "code",
   "execution_count": null,
   "id": "bb673acb",
   "metadata": {},
   "outputs": [],
   "source": []
  },
  {
   "cell_type": "code",
   "execution_count": null,
   "id": "5e5b038b",
   "metadata": {},
   "outputs": [],
   "source": []
  },
  {
   "cell_type": "code",
   "execution_count": null,
   "id": "c9c91acf",
   "metadata": {},
   "outputs": [],
   "source": []
  },
  {
   "cell_type": "code",
   "execution_count": null,
   "id": "17d8deab",
   "metadata": {},
   "outputs": [],
   "source": []
  },
  {
   "cell_type": "code",
   "execution_count": null,
   "id": "2f068455",
   "metadata": {},
   "outputs": [],
   "source": []
  }
 ],
 "metadata": {
  "kernelspec": {
   "display_name": "Python 3 (ipykernel)",
   "language": "python",
   "name": "python3"
  },
  "language_info": {
   "codemirror_mode": {
    "name": "ipython",
    "version": 3
   },
   "file_extension": ".py",
   "mimetype": "text/x-python",
   "name": "python",
   "nbconvert_exporter": "python",
   "pygments_lexer": "ipython3",
   "version": "3.8.6"
  }
 },
 "nbformat": 4,
 "nbformat_minor": 5
}
