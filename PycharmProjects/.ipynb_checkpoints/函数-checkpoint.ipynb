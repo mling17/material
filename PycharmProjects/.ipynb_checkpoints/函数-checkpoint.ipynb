{
 "cells": [
  {
   "cell_type": "code",
   "execution_count": null,
   "id": "c4f506e8",
   "metadata": {},
   "outputs": [],
   "source": [
    "函数基础：\n",
    "    函数介绍\n",
    "    函数定义和调用\n",
    "    函数返回值\n",
    "函数参数：\n",
    "    形参和实参\n",
    "    位置参数\n",
    "    关键字参数\n",
    "    默认参数\n",
    "    可变长度参数\n",
    "名称空间与作用域：\n",
    "    全局\n",
    "    局部\n",
    "函数嵌套：\n",
    "    函数嵌套的定义\n",
    "    闭包\n",
    "    \n"
   ]
  },
  {
   "cell_type": "code",
   "execution_count": null,
   "id": "ad61bf95",
   "metadata": {},
   "outputs": [],
   "source": [
    "函数基本介绍\n",
    "位置参数\n",
    "默认参数\n",
    "关键字参数\n",
    "可变长度参数\n",
    "返回值\n",
    "局部变量\n",
    "全局变量\n",
    "在函数里修改全局变量\n",
    "嵌套函数\n",
    "作用域\n",
    "匿名函数\n",
    "高阶函数\n",
    "函数递归\n",
    "闭包\n",
    "装饰器\n",
    "带参数装饰器\n",
    "列表生成式\n",
    "生成器\n",
    "迭代器\n"
   ]
  }
 ],
 "metadata": {
  "kernelspec": {
   "display_name": "Python 3 (ipykernel)",
   "language": "python",
   "name": "python3"
  },
  "language_info": {
   "codemirror_mode": {
    "name": "ipython",
    "version": 3
   },
   "file_extension": ".py",
   "mimetype": "text/x-python",
   "name": "python",
   "nbconvert_exporter": "python",
   "pygments_lexer": "ipython3",
   "version": "3.8.6"
  }
 },
 "nbformat": 4,
 "nbformat_minor": 5
}
