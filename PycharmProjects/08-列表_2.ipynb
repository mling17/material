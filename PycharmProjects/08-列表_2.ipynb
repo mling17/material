{
 "cells": [
  {
   "cell_type": "markdown",
   "id": "fb2316b9",
   "metadata": {},
   "source": [
    "***** 上次作业1:names=[['喜羊羊', '美羊羊', '灰太狼', '红太狼'] ,['熊大','熊二'],['佩奇','乔治']]，找出熊大"
   ]
  },
  {
   "cell_type": "code",
   "execution_count": 8,
   "id": "c4ca65b2",
   "metadata": {},
   "outputs": [
    {
     "data": {
      "text/plain": [
       "'熊大'"
      ]
     },
     "execution_count": 8,
     "metadata": {},
     "output_type": "execute_result"
    }
   ],
   "source": [
    "names=[['喜羊羊', '美羊羊', '灰太狼', '红太狼'] ,['熊大','熊二'],['佩奇','乔治']]\n",
    "names[1][0]"
   ]
  },
  {
   "cell_type": "markdown",
   "id": "880b0c96",
   "metadata": {},
   "source": [
    "上次作业2:fruits=['苹果','香蕉','梨','橙子']，这些水果当中，我不喜欢吃香蕉。请打印出我对每种水果的喜好。如：我喜欢吃苹果。我不喜欢吃香蕉"
   ]
  },
  {
   "cell_type": "code",
   "execution_count": 9,
   "id": "523a64e3",
   "metadata": {},
   "outputs": [
    {
     "name": "stdout",
     "output_type": "stream",
     "text": [
      "我喜欢吃苹果\n",
      "我不喜欢吃香蕉\n",
      "我喜欢吃梨\n",
      "我喜欢吃橙子\n"
     ]
    }
   ],
   "source": [
    "# 徐乐岩\n",
    "# 列表遍历\n",
    "i=['苹果','香蕉','梨','橙子']\n",
    "for x in i:\n",
    "    if x=='香蕉':\n",
    "        print(f'我不喜欢吃{x}')\n",
    "    else:\n",
    "        print(f'我喜欢吃{x}')\n"
   ]
  },
  {
   "cell_type": "markdown",
   "id": "4f11ae91",
   "metadata": {},
   "source": [
    "上节课内容：\n",
    "1. 什么是列表\n",
    "2. 列表遍历\n",
    "*****3. 列表取值\n",
    "    通过列表名[索引]\n",
    "***** 4. 列表切片"
   ]
  },
  {
   "cell_type": "markdown",
   "id": "acc5c5d4",
   "metadata": {},
   "source": [
    "# 本次课内容：列表的增删改查"
   ]
  },
  {
   "cell_type": "code",
   "execution_count": null,
   "id": "beaa887e",
   "metadata": {},
   "outputs": [],
   "source": [
    "可变类型,就是数据可进行增删改\n",
    "\n",
    "不可变类型：100,'pyt1hon'\n",
    "\n"
   ]
  },
  {
   "cell_type": "code",
   "execution_count": null,
   "id": "eafb7968",
   "metadata": {},
   "outputs": [],
   "source": [
    "数据操作：增 删 改 查"
   ]
  },
  {
   "cell_type": "markdown",
   "id": "54c43d1a",
   "metadata": {},
   "source": [
    "## 1. 列表的修改\n",
    "固定格式：列表名[索引]=新值"
   ]
  },
  {
   "cell_type": "code",
   "execution_count": 19,
   "id": "39bfaa4a",
   "metadata": {},
   "outputs": [
    {
     "data": {
      "text/plain": [
       "[111, 'aaa', 333, 444]"
      ]
     },
     "execution_count": 19,
     "metadata": {},
     "output_type": "execute_result"
    }
   ],
   "source": [
    "a = [111,222,333,444]\n",
    "a[1]='aaa'\n",
    "a"
   ]
  },
  {
   "cell_type": "code",
   "execution_count": 22,
   "id": "ce10db58",
   "metadata": {},
   "outputs": [
    {
     "name": "stdout",
     "output_type": "stream",
     "text": [
      "[0.75, 7.6, 1.29, 1.1]\n"
     ]
    }
   ],
   "source": [
    "# 练习：把6.6改成7.6\n",
    "price = [0.75,6.6,1.29,1.1]\n",
    "price[1]=7.6\n",
    "print(price)"
   ]
  },
  {
   "cell_type": "markdown",
   "id": "64981c9c",
   "metadata": {},
   "source": [
    "## 2. 列表的查询"
   ]
  },
  {
   "cell_type": "markdown",
   "id": "c8b8b003",
   "metadata": {},
   "source": [
    "### 2.1 查找某个元素是否在列表中\n",
    "in/not in"
   ]
  },
  {
   "cell_type": "code",
   "execution_count": 24,
   "id": "52b41577",
   "metadata": {},
   "outputs": [
    {
     "name": "stdout",
     "output_type": "stream",
     "text": [
      "False\n",
      "False\n"
     ]
    }
   ],
   "source": [
    "a = [111,222,333,444]\n",
    "print(666 in a)# 返回一个布尔值\n",
    "print(222 not in a)"
   ]
  },
  {
   "cell_type": "code",
   "execution_count": 26,
   "id": "95550bfb",
   "metadata": {},
   "outputs": [
    {
     "name": "stdout",
     "output_type": "stream",
     "text": [
      "西瓜在列表里\n"
     ]
    }
   ],
   "source": [
    "# 判断西瓜是否在列表里\n",
    "fruits=['苹果','香蕉','梨','橙子']\n",
    "if '西瓜' in fruits:\n",
    "    print('西瓜在列表里')\n",
    "else:\n",
    "    print('西瓜不在列表里')"
   ]
  },
  {
   "cell_type": "markdown",
   "id": "53fd1449",
   "metadata": {},
   "source": [
    "### 2.2 根据元素查找元素的索引值\n",
    "index()\n",
    "\n",
    "\n",
    "\n"
   ]
  },
  {
   "cell_type": "code",
   "execution_count": 29,
   "id": "136b22f3",
   "metadata": {},
   "outputs": [
    {
     "data": {
      "text/plain": [
       "2"
      ]
     },
     "execution_count": 29,
     "metadata": {},
     "output_type": "execute_result"
    }
   ],
   "source": [
    "a = [111,222,333,333]\n",
    "a.index(333)# 与字符串当中的index()的用法是一样的，如果有该元素返回其索引值，没有则报异常"
   ]
  },
  {
   "cell_type": "code",
   "execution_count": 32,
   "id": "b8001adb",
   "metadata": {},
   "outputs": [
    {
     "data": {
      "text/plain": [
       "1"
      ]
     },
     "execution_count": 32,
     "metadata": {},
     "output_type": "execute_result"
    }
   ],
   "source": [
    "# 查找香蕉的索引\n",
    "fruits=['苹果','香蕉','梨','橙子']\n",
    "fruits.index('香蕉')"
   ]
  },
  {
   "cell_type": "markdown",
   "id": "e52b144c",
   "metadata": {},
   "source": [
    "### 2.3 查看某个元素在列表中出现的次数\n",
    "count()"
   ]
  },
  {
   "cell_type": "code",
   "execution_count": 35,
   "id": "f4bf83fa",
   "metadata": {},
   "outputs": [
    {
     "data": {
      "text/plain": [
       "2"
      ]
     },
     "execution_count": 35,
     "metadata": {},
     "output_type": "execute_result"
    }
   ],
   "source": [
    "a = [111,222,333,'333',333]\n",
    "a.count(333)"
   ]
  },
  {
   "cell_type": "code",
   "execution_count": 36,
   "id": "335d8b3d",
   "metadata": {},
   "outputs": [
    {
     "data": {
      "text/plain": [
       "2"
      ]
     },
     "execution_count": 36,
     "metadata": {},
     "output_type": "execute_result"
    }
   ],
   "source": [
    "# 练习，统计555出现的次数\n",
    "a = [111,222,777,444,555,555]\n",
    "a.count(555)"
   ]
  },
  {
   "cell_type": "markdown",
   "id": "486c9ed4",
   "metadata": {},
   "source": [
    "### 2.4 查看列表长度\n",
    "len()"
   ]
  },
  {
   "cell_type": "code",
   "execution_count": 38,
   "id": "a5cc1274",
   "metadata": {},
   "outputs": [
    {
     "data": {
      "text/plain": [
       "6"
      ]
     },
     "execution_count": 38,
     "metadata": {},
     "output_type": "execute_result"
    }
   ],
   "source": [
    "a = [111,222,777,444,555,555]\n",
    "len(a)#length长度"
   ]
  },
  {
   "cell_type": "markdown",
   "id": "4f1196bb",
   "metadata": {},
   "source": [
    "## 3. 列表的增加"
   ]
  },
  {
   "cell_type": "markdown",
   "id": "3c3d8fac",
   "metadata": {},
   "source": [
    "### 3.1 列表追加\n",
    "append()"
   ]
  },
  {
   "cell_type": "code",
   "execution_count": 39,
   "id": "432347cc",
   "metadata": {},
   "outputs": [
    {
     "name": "stdout",
     "output_type": "stream",
     "text": [
      "[111, 222, 777, 444, 555, 666]\n"
     ]
    }
   ],
   "source": [
    "a = [111,222,777,444,555] \n",
    "a.append(666)#在列表的末尾添加666这元素\n",
    "print(a)"
   ]
  },
  {
   "cell_type": "code",
   "execution_count": 41,
   "id": "a848e154",
   "metadata": {},
   "outputs": [
    {
     "data": {
      "text/plain": [
       "[111, 222, 777, 444, 555, 666, [1000, 10000]]"
      ]
     },
     "execution_count": 41,
     "metadata": {},
     "output_type": "execute_result"
    }
   ],
   "source": [
    "a.append([1000,10000])\n",
    "a"
   ]
  },
  {
   "cell_type": "code",
   "execution_count": 40,
   "id": "2f28d772",
   "metadata": {},
   "outputs": [
    {
     "name": "stdout",
     "output_type": "stream",
     "text": [
      "['苹果', '香蕉', '梨', '橙子', '西瓜']\n"
     ]
    }
   ],
   "source": [
    "# 练习：添加西瓜这个水果\n",
    "fruits=['苹果','香蕉','梨','橙子']\n",
    "fruits.append('西瓜')\n",
    "print(fruits)"
   ]
  },
  {
   "cell_type": "markdown",
   "id": "2d604731",
   "metadata": {},
   "source": [
    "### 3.2 列表插入\n",
    "insert()"
   ]
  },
  {
   "cell_type": "code",
   "execution_count": 42,
   "id": "9e8fad61",
   "metadata": {},
   "outputs": [
    {
     "data": {
      "text/plain": [
       "[111, 222, 333, 777, 444, 555]"
      ]
     },
     "execution_count": 42,
     "metadata": {},
     "output_type": "execute_result"
    }
   ],
   "source": [
    "a = [111,222,777,444,555] \n",
    "# 在222的后面加333\n",
    "a.insert(2,333)#两个参数，1:插入位置，索引，2:插入的值\n",
    "a"
   ]
  },
  {
   "cell_type": "code",
   "execution_count": 43,
   "id": "daf60701",
   "metadata": {},
   "outputs": [
    {
     "data": {
      "text/plain": [
       "[0.75, 6.6, 1.29, 0.33, 1.1]"
      ]
     },
     "execution_count": 43,
     "metadata": {},
     "output_type": "execute_result"
    }
   ],
   "source": [
    "# 练习：1.29的后面加0.33\n",
    "price = [0.75,6.6,1.29,1.1]\n",
    "price.insert(3,0.33)\n",
    "price"
   ]
  },
  {
   "cell_type": "code",
   "execution_count": null,
   "id": "0f0fb03d",
   "metadata": {},
   "outputs": [],
   "source": []
  },
  {
   "cell_type": "markdown",
   "id": "2b790cf5",
   "metadata": {},
   "source": [
    "### 3.3 列表扩展（合并）\n",
    "exend()"
   ]
  },
  {
   "cell_type": "code",
   "execution_count": 46,
   "id": "daabc642",
   "metadata": {},
   "outputs": [
    {
     "data": {
      "text/plain": [
       "[1, 2, 3, 4, 5, 6, 7, 8]"
      ]
     },
     "execution_count": 46,
     "metadata": {},
     "output_type": "execute_result"
    }
   ],
   "source": [
    "list1 = [1,2,3,4]\n",
    "list2 = [5,6,7,8]\n",
    "# list2合并到list1\n",
    "list1.extend(list2)\n",
    "list1\n"
   ]
  },
  {
   "cell_type": "markdown",
   "id": "dea055c2",
   "metadata": {},
   "source": [
    "## 4. 列表删除"
   ]
  },
  {
   "cell_type": "markdown",
   "id": "ffc332c0",
   "metadata": {},
   "source": [
    "### 4.1 删除某个元素或者整个列表\n",
    "del"
   ]
  },
  {
   "cell_type": "code",
   "execution_count": 49,
   "id": "825d96e3",
   "metadata": {},
   "outputs": [
    {
     "data": {
      "text/plain": [
       "[111, 222, 444, 555]"
      ]
     },
     "execution_count": 49,
     "metadata": {},
     "output_type": "execute_result"
    }
   ],
   "source": [
    "a = [111,222,777,444,555]\n",
    "# 删除2号索引的元素\n",
    "del a[2]#删除一个元素\n",
    "a"
   ]
  },
  {
   "cell_type": "code",
   "execution_count": 52,
   "id": "6718f9db",
   "metadata": {},
   "outputs": [
    {
     "name": "stdout",
     "output_type": "stream",
     "text": [
      "[111, 222, 777, 444, 555]\n"
     ]
    },
    {
     "ename": "NameError",
     "evalue": "name 'a' is not defined",
     "output_type": "error",
     "traceback": [
      "\u001b[0;31m---------------------------------------------------------------------------\u001b[0m",
      "\u001b[0;31mNameError\u001b[0m                                 Traceback (most recent call last)",
      "\u001b[0;32m/var/folders/7_/gl5k51h93z55mwsdpj89djpw0000gn/T/ipykernel_21937/4118527665.py\u001b[0m in \u001b[0;36m<module>\u001b[0;34m\u001b[0m\n\u001b[1;32m      2\u001b[0m \u001b[0mprint\u001b[0m\u001b[0;34m(\u001b[0m\u001b[0ma\u001b[0m\u001b[0;34m)\u001b[0m\u001b[0;34m\u001b[0m\u001b[0;34m\u001b[0m\u001b[0m\n\u001b[1;32m      3\u001b[0m \u001b[0;32mdel\u001b[0m \u001b[0ma\u001b[0m\u001b[0;34m\u001b[0m\u001b[0;34m\u001b[0m\u001b[0m\n\u001b[0;32m----> 4\u001b[0;31m \u001b[0mprint\u001b[0m\u001b[0;34m(\u001b[0m\u001b[0ma\u001b[0m\u001b[0;34m)\u001b[0m\u001b[0;34m\u001b[0m\u001b[0;34m\u001b[0m\u001b[0m\n\u001b[0m",
      "\u001b[0;31mNameError\u001b[0m: name 'a' is not defined"
     ]
    }
   ],
   "source": [
    "a = [111,222,777,444,555]\n",
    "print(a)\n",
    "del a\n",
    "print(a)"
   ]
  },
  {
   "cell_type": "markdown",
   "id": "957b8d0f",
   "metadata": {},
   "source": [
    "### 4.2 删除某个元素，并返回该元素。可以指定索引，默认-1\n",
    "pop()"
   ]
  },
  {
   "cell_type": "code",
   "execution_count": 54,
   "id": "5da1bfce",
   "metadata": {},
   "outputs": [
    {
     "name": "stdout",
     "output_type": "stream",
     "text": [
      "[111, 222, 777, 444]\n",
      "555\n"
     ]
    }
   ],
   "source": [
    "a = [111,222,777,444,555]\n",
    "b=a.pop()#pop 中文意思就说弹出\n",
    "print(a)\n",
    "print(b)"
   ]
  },
  {
   "cell_type": "code",
   "execution_count": 55,
   "id": "674ec1f8",
   "metadata": {},
   "outputs": [
    {
     "name": "stdout",
     "output_type": "stream",
     "text": [
      "[222, 777, 444, 555]\n",
      "111\n"
     ]
    }
   ],
   "source": [
    "a = [111,222,777,444,555]\n",
    "b = a.pop(0)\n",
    "print(a)\n",
    "print(b)"
   ]
  },
  {
   "cell_type": "markdown",
   "id": "28bec8ac",
   "metadata": {},
   "source": [
    "### 4.3 删除列表中指定元素，如果元素重复则删除最左侧的一个\n",
    "remove()"
   ]
  },
  {
   "cell_type": "code",
   "execution_count": 58,
   "id": "e5f6f20f",
   "metadata": {},
   "outputs": [
    {
     "name": "stdout",
     "output_type": "stream",
     "text": [
      "[111, 222, 555, 444, 555]\n"
     ]
    }
   ],
   "source": [
    "a = [111,222,555,777,444,555]\n",
    "a.remove(777)# 如果元素不存在则报异常\n",
    "print(a)"
   ]
  },
  {
   "cell_type": "code",
   "execution_count": 59,
   "id": "1a809a22",
   "metadata": {},
   "outputs": [
    {
     "name": "stdout",
     "output_type": "stream",
     "text": [
      "[111, 222, 777, 444, 555]\n"
     ]
    }
   ],
   "source": [
    "a = [111,222,555,777,444,555]\n",
    "a.remove(555)#如果元素重复则删除最左侧的一个\n",
    "print(a)"
   ]
  },
  {
   "cell_type": "markdown",
   "id": "b6f2ec89",
   "metadata": {},
   "source": [
    "### 4.4 清空列表\n",
    "clear()"
   ]
  },
  {
   "cell_type": "code",
   "execution_count": 60,
   "id": "3bc6331d",
   "metadata": {},
   "outputs": [
    {
     "name": "stdout",
     "output_type": "stream",
     "text": [
      "[]\n"
     ]
    }
   ],
   "source": [
    "a = [111,222,555,777,444,555]\n",
    "a.clear()\n",
    "print(a)"
   ]
  },
  {
   "cell_type": "code",
   "execution_count": null,
   "id": "28125474",
   "metadata": {},
   "outputs": [],
   "source": [
    "作业：水果价格查询系统。\n",
    "功能：\n",
    "1. 查询水果信息，输入水果名称，然后输出'***价格是***元/斤。'。如果没有该水果则输出'没有查到该水果[***]信息。'。\n",
    "2. 添加水果信息，用户输入水果名称和水果价格，并保存到数据库种。\n",
    "3. 修改水果信息，用户输入水果名称，如果找到该水果则让其输入新的价格，否则输出没有找到该水果信息。\n",
    "4. 删除水果信息，用户输入水果名称，如果该水果名称存在则删除，否则输出没有找到该水果信息。（注意：要同时删除价格）\n",
    "\n",
    "！！！提示：水果名称与水果价格通过索引进行关联。定义好两个列表，一个存水果名称，一个存价格。"
   ]
  },
  {
   "cell_type": "code",
   "execution_count": null,
   "id": "c3514b07",
   "metadata": {},
   "outputs": [],
   "source": [
    "fruit = [a,b]\n",
    "price = [0.5,1]"
   ]
  },
  {
   "cell_type": "markdown",
   "id": "5cff9679",
   "metadata": {},
   "source": [
    "知识点：\n",
    "1. while循环\n",
    "2. break语句\n",
    "3. if多分支结构\n",
    "4. 列表的增删改查\n",
    "5. 输入输出\n",
    "6. 字符串拼接\n"
   ]
  },
  {
   "cell_type": "code",
   "execution_count": null,
   "id": "c9d8d2ae",
   "metadata": {},
   "outputs": [],
   "source": []
  },
  {
   "cell_type": "code",
   "execution_count": null,
   "id": "8accc65d",
   "metadata": {},
   "outputs": [],
   "source": []
  },
  {
   "cell_type": "code",
   "execution_count": null,
   "id": "12670bf3",
   "metadata": {},
   "outputs": [],
   "source": []
  }
 ],
 "metadata": {
  "kernelspec": {
   "display_name": "Python 3 (ipykernel)",
   "language": "python",
   "name": "python3"
  },
  "language_info": {
   "codemirror_mode": {
    "name": "ipython",
    "version": 3
   },
   "file_extension": ".py",
   "mimetype": "text/x-python",
   "name": "python",
   "nbconvert_exporter": "python",
   "pygments_lexer": "ipython3",
   "version": "3.9.7"
  }
 },
 "nbformat": 4,
 "nbformat_minor": 5
}
