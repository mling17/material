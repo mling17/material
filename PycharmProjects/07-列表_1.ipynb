{
 "cells": [
  {
   "cell_type": "markdown",
   "id": "b2dccee5",
   "metadata": {},
   "source": [
    "上次作业1：验证密码\n",
    "要求：\n",
    "允许用户最多尝试三次，如果三次密码都没有输入正确，显示登录异常。如果在三次内输入正确，显示登录成功。"
   ]
  },
  {
   "cell_type": "code",
   "execution_count": null,
   "id": "58f93da1",
   "metadata": {},
   "outputs": [],
   "source": [
    "1. 循环\n",
    "2. 定义密码\n",
    "3. 输入\n",
    "4. if语句"
   ]
  },
  {
   "cell_type": "code",
   "execution_count": 17,
   "id": "3a618ec9",
   "metadata": {},
   "outputs": [
    {
     "name": "stdout",
     "output_type": "stream",
     "text": [
      "请输入密码1\n",
      "密码错误\n",
      "请输入密码1\n",
      "密码错误\n",
      "请输入密码ab123\n",
      "密码正确\n"
     ]
    }
   ],
   "source": [
    "s = 'ab123'\n",
    "flag=True\n",
    "for i in range(3):\n",
    "    inp = input('请输入密码').strip()# 输入密码\n",
    "    if inp == s:\n",
    "        print('密码正确')\n",
    "        break # 退出循环\n",
    "    else:\n",
    "        print('密码错误')\n",
    "        flag = False\n",
    "if i == 2 and flag:\n",
    "    print('登录异常')"
   ]
  },
  {
   "cell_type": "code",
   "execution_count": 20,
   "id": "c1c88d7e",
   "metadata": {},
   "outputs": [
    {
     "name": "stdout",
     "output_type": "stream",
     "text": [
      "请输入一个6位数密码1\n",
      "请输入一个6位数密码1\n",
      "请输入一个6位数密码123456\n",
      "登录成功\n"
     ]
    }
   ],
   "source": [
    "# 徐乐岩\n",
    "a='123456'\n",
    "i=0\n",
    "while i!=3:\n",
    "    x=input('请输入一个6位数密码')\n",
    "    if x==a:\n",
    "        i=1\n",
    "        break\n",
    "    else:\n",
    "        i+=1\n",
    "if i<3:\n",
    "    print('登录成功')\n",
    "elif i==3:\n",
    "    print('登录异常')\n"
   ]
  },
  {
   "cell_type": "code",
   "execution_count": 23,
   "id": "fc98818c",
   "metadata": {},
   "outputs": [
    {
     "name": "stdout",
     "output_type": "stream",
     "text": [
      "请输入一个密码（555)3\n",
      "密码错误请重新输入\n",
      "请输入一个密码（555)3\n",
      "密码错误请重新输入\n",
      "请输入一个密码（555)555\n",
      "密码正确，欢迎进入系统\n"
     ]
    }
   ],
   "source": [
    "# 黄玺润\n",
    "b=0\n",
    "c=\"555\"\n",
    "while b<=3:\n",
    "    a=input('请输入一个密码（555)')\n",
    "    if a==c:\n",
    "        b=b+1\n",
    "        print(\"密码正确，欢迎进入系统\")\n",
    "        break \n",
    "    else:\n",
    "        b=b+1\n",
    "        print(\"密码错误请重新输入\")\n",
    "    if b==3:\n",
    "        print(\"账号已封冻，请联系客服\")   \n",
    "        break"
   ]
  },
  {
   "cell_type": "code",
   "execution_count": null,
   "id": "a41d91cf",
   "metadata": {},
   "outputs": [],
   "source": [
    "上次作业2：实现一个两个操作数的计算器\n",
    "要求：\n",
    "输入算式，然后根据算式计算出正确的结果。q或者Q退出程序。\n",
    "输入：1+1。 输出：1+1=2\n"
   ]
  },
  {
   "cell_type": "code",
   "execution_count": 30,
   "id": "5bd9431f",
   "metadata": {},
   "outputs": [
    {
     "name": "stdout",
     "output_type": "stream",
     "text": [
      "输入一个算式,如想退出，请按q/Qa\n",
      "输入错误\n",
      "输入一个算式,如想退出，请按q/Q12313\n",
      "输入错误\n",
      "输入一个算式,如想退出，请按q/Qq\n",
      "已退出\n"
     ]
    }
   ],
   "source": [
    "# 徐乐岩\n",
    "while True:    \n",
    "    x=input('输入一个算式,如想退出，请按q/Q').strip()\n",
    "    if x .upper()=='Q':\n",
    "        print('已退出')\n",
    "        break\n",
    "    if '+'in x:\n",
    "        i=x.split('+')\n",
    "        a=i[0]\n",
    "        a=int(a)\n",
    "        c=i[1]\n",
    "        c=int(c)\n",
    "        d=a+c\n",
    "    elif '-'in x:\n",
    "        i=x.split('-')\n",
    "        a=i[0]\n",
    "        a=int(a)\n",
    "        c=i[1]\n",
    "        c=int(c)\n",
    "        d=a-c\n",
    "    elif '*'in x:\n",
    "        i=x.split('*')\n",
    "        a=i[0]\n",
    "        c=i[1]\n",
    "        c=int(c)\n",
    "        d=a*c\n",
    "    elif '/'in x:\n",
    "        i=x.split('/')\n",
    "        a=i[0]\n",
    "        a=int(a)\n",
    "        c=i[1]\n",
    "        c=int(c)\n",
    "        d=a/c\n",
    "    else:\n",
    "        print('输入错误')\n",
    "        continue\n",
    "    print(f'{x}={d}')\n",
    "     \n"
   ]
  },
  {
   "cell_type": "code",
   "execution_count": 28,
   "id": "c6b20534",
   "metadata": {},
   "outputs": [
    {
     "data": {
      "text/plain": [
       "['1', '2']"
      ]
     },
     "execution_count": 28,
     "metadata": {},
     "output_type": "execute_result"
    }
   ],
   "source": [
    "'1+2'.split('+')"
   ]
  },
  {
   "cell_type": "markdown",
   "id": "10ff567a",
   "metadata": {},
   "source": [
    "# 列表list"
   ]
  },
  {
   "cell_type": "markdown",
   "id": "901c5870",
   "metadata": {},
   "source": [
    "本节课内容\n",
    "1. 什么是列表\n",
    "2. 列表作用和列表的遍历循环"
   ]
  },
  {
   "cell_type": "code",
   "execution_count": null,
   "id": "25f12f60",
   "metadata": {},
   "outputs": [],
   "source": [
    "1. 什么是列表\n",
    "41个学生\n",
    "name1='a'\n",
    "name2='b'\n",
    "name3='c'\n",
    "print(name1)\n",
    "print(name2)\n",
    "...\n",
    "做一个花名册\n",
    "names=['a','b','c']"
   ]
  },
  {
   "cell_type": "code",
   "execution_count": null,
   "id": "add5c307",
   "metadata": {},
   "outputs": [],
   "source": [
    "列表定义：列表（list）是数据元素的有序排列，用[]来包裹，表示列表，并且用逗号分隔每个元素"
   ]
  },
  {
   "cell_type": "code",
   "execution_count": null,
   "id": "d6d68e71",
   "metadata": {},
   "outputs": [],
   "source": [
    "列表格式：list=['name1','name2']"
   ]
  },
  {
   "cell_type": "code",
   "execution_count": null,
   "id": "851afed3",
   "metadata": {},
   "outputs": [],
   "source": [
    "列表能存什么？任何数据类型"
   ]
  },
  {
   "cell_type": "code",
   "execution_count": 32,
   "id": "3e256354",
   "metadata": {},
   "outputs": [
    {
     "data": {
      "text/plain": [
       "['abc', 100, 3.14, ['ab', 'cd']]"
      ]
     },
     "execution_count": 32,
     "metadata": {},
     "output_type": "execute_result"
    }
   ],
   "source": [
    "list=['abc',100,3.14,['ab','cd']]#注意['ab','cd']这是一个元素\n",
    "list"
   ]
  },
  {
   "cell_type": "code",
   "execution_count": null,
   "id": "76361119",
   "metadata": {},
   "outputs": [],
   "source": [
    "2. 列表的访问"
   ]
  },
  {
   "cell_type": "code",
   "execution_count": null,
   "id": "fedfe25e",
   "metadata": {},
   "outputs": [],
   "source": [
    "2.1 列表索引"
   ]
  },
  {
   "cell_type": "code",
   "execution_count": null,
   "id": "2af2e769",
   "metadata": {},
   "outputs": [],
   "source": [
    "s= 'python'"
   ]
  },
  {
   "cell_type": "code",
   "execution_count": 34,
   "id": "d4892304",
   "metadata": {},
   "outputs": [],
   "source": [
    "list = ['abc', 100, 3.14, 'cd']#索引从左向右，每个元素依次从0开始编号，正向索引。从右往左从-1开始编号，反向索引"
   ]
  },
  {
   "cell_type": "markdown",
   "id": "ed93ae3c",
   "metadata": {},
   "source": [
    "2.2 列表的遍历查询"
   ]
  },
  {
   "cell_type": "code",
   "execution_count": 33,
   "id": "d0b9a2cd",
   "metadata": {},
   "outputs": [
    {
     "name": "stdout",
     "output_type": "stream",
     "text": [
      "p\n",
      "y\n",
      "t\n",
      "h\n",
      "o\n",
      "n\n"
     ]
    }
   ],
   "source": [
    "for i in 'python':\n",
    "    print(i)"
   ]
  },
  {
   "cell_type": "code",
   "execution_count": 36,
   "id": "b1aae6f6",
   "metadata": {},
   "outputs": [
    {
     "name": "stdout",
     "output_type": "stream",
     "text": [
      "abc\n",
      "100\n",
      "3.14\n",
      "cd\n",
      "['ab', 'cd']\n"
     ]
    }
   ],
   "source": [
    "for i in ['abc', 100, 3.14, 'cd',['ab', 'cd']]:\n",
    "    print(i)"
   ]
  },
  {
   "cell_type": "code",
   "execution_count": 39,
   "id": "4fc61193",
   "metadata": {},
   "outputs": [
    {
     "data": {
      "text/plain": [
       "3.14"
      ]
     },
     "execution_count": 39,
     "metadata": {},
     "output_type": "execute_result"
    }
   ],
   "source": [
    "# 2.3 取单个值\n",
    "list = ['abc', 100, 3.14, 'cd']\n",
    "list[2]"
   ]
  },
  {
   "cell_type": "code",
   "execution_count": 45,
   "id": "6c578a15",
   "metadata": {},
   "outputs": [
    {
     "data": {
      "text/plain": [
       "56"
      ]
     },
     "execution_count": 45,
     "metadata": {},
     "output_type": "execute_result"
    }
   ],
   "source": [
    "list = ['abc', 100, 3.14, 'ced',['ab', [12,56,89],'cd']]#获取56\n",
    "list[-1][1][1]"
   ]
  },
  {
   "cell_type": "code",
   "execution_count": 48,
   "id": "d01ab0e2",
   "metadata": {},
   "outputs": [
    {
     "data": {
      "text/plain": [
       "'e'"
      ]
     },
     "execution_count": 48,
     "metadata": {},
     "output_type": "execute_result"
    }
   ],
   "source": [
    "list = ['abc', 100, 3.14, 'ced',['ab', [12,56,89],'cd']]\n",
    "list[-2][1]"
   ]
  },
  {
   "cell_type": "markdown",
   "id": "66a3b7cf",
   "metadata": {},
   "source": [
    "练习：names=['喜羊羊','美羊羊','灰太狼','红太狼']，请依次向他们打招呼，如：你好喜羊羊"
   ]
  },
  {
   "cell_type": "code",
   "execution_count": 50,
   "id": "b97f7259",
   "metadata": {},
   "outputs": [
    {
     "name": "stdout",
     "output_type": "stream",
     "text": [
      "你好 喜羊羊\n",
      "你好 美羊羊\n",
      "你好 灰太狼\n",
      "你好 红太狼\n"
     ]
    }
   ],
   "source": [
    "names=['喜羊羊','美羊羊','灰太狼','红太狼']\n",
    "for name in names:\n",
    "    print(f'你好 {name}')"
   ]
  },
  {
   "cell_type": "code",
   "execution_count": null,
   "id": "01b66280",
   "metadata": {},
   "outputs": [],
   "source": [
    "练习：l = [['a','b'],'c','d']"
   ]
  },
  {
   "cell_type": "code",
   "execution_count": null,
   "id": "76b41b2d",
   "metadata": {},
   "outputs": [],
   "source": [
    "3. 列表切片"
   ]
  },
  {
   "cell_type": "code",
   "execution_count": 52,
   "id": "bb30a7eb",
   "metadata": {},
   "outputs": [
    {
     "data": {
      "text/plain": [
       "['美羊羊', '灰太狼']"
      ]
     },
     "execution_count": 52,
     "metadata": {},
     "output_type": "execute_result"
    }
   ],
   "source": [
    "names=['喜羊羊','美羊羊','灰太狼','红太狼']\n",
    "names[1:3]"
   ]
  },
  {
   "cell_type": "code",
   "execution_count": null,
   "id": "3359e146",
   "metadata": {},
   "outputs": [],
   "source": [
    "列表切片的公式：\n",
    "list[a:b:c]\n",
    "a:起始位置\n",
    "b:结束为止，左取右不取\n",
    "c:步长"
   ]
  },
  {
   "cell_type": "code",
   "execution_count": 56,
   "id": "3eeae145",
   "metadata": {},
   "outputs": [
    {
     "data": {
      "text/plain": [
       "['喜羊羊', '美羊羊', '灰太狼', '红太狼']"
      ]
     },
     "execution_count": 56,
     "metadata": {},
     "output_type": "execute_result"
    }
   ],
   "source": [
    "names[:]"
   ]
  },
  {
   "cell_type": "code",
   "execution_count": 57,
   "id": "ef530d8e",
   "metadata": {},
   "outputs": [
    {
     "data": {
      "text/plain": [
       "['灰太狼', '红太狼']"
      ]
     },
     "execution_count": 57,
     "metadata": {},
     "output_type": "execute_result"
    }
   ],
   "source": [
    "names[2:]"
   ]
  },
  {
   "cell_type": "code",
   "execution_count": 58,
   "id": "62d9a65f",
   "metadata": {},
   "outputs": [
    {
     "data": {
      "text/plain": [
       "['喜羊羊', '美羊羊']"
      ]
     },
     "execution_count": 58,
     "metadata": {},
     "output_type": "execute_result"
    }
   ],
   "source": [
    "names[:2]"
   ]
  },
  {
   "cell_type": "code",
   "execution_count": 60,
   "id": "c05aab5c",
   "metadata": {},
   "outputs": [
    {
     "data": {
      "text/plain": [
       "['红太狼', '灰太狼', '美羊羊', '喜羊羊']"
      ]
     },
     "execution_count": 60,
     "metadata": {},
     "output_type": "execute_result"
    }
   ],
   "source": [
    "names[::-1]"
   ]
  },
  {
   "cell_type": "code",
   "execution_count": null,
   "id": "fb60942a",
   "metadata": {},
   "outputs": [],
   "source": [
    "names = ['喜羊羊', '美羊羊', '灰太狼', '红太狼']"
   ]
  },
  {
   "cell_type": "code",
   "execution_count": 61,
   "id": "40265dfc",
   "metadata": {},
   "outputs": [
    {
     "name": "stdout",
     "output_type": "stream",
     "text": [
      "['喜羊羊', '灰太狼']\n"
     ]
    }
   ],
   "source": [
    "# 徐乐岩\n",
    "names = ['喜羊羊', '美羊羊', '灰太狼', '红太狼'] \n",
    "print(names[:4:2])\n"
   ]
  },
  {
   "cell_type": "code",
   "execution_count": 62,
   "id": "681a41a3",
   "metadata": {
    "scrolled": true
   },
   "outputs": [
    {
     "name": "stdout",
     "output_type": "stream",
     "text": [
      "['喜羊羊', '灰太狼']\n"
     ]
    }
   ],
   "source": [
    "# 刘雨泽\n",
    "names = ['喜羊羊', '美羊羊', '灰太狼', '红太狼'] \n",
    "print(names[0::2])\n"
   ]
  },
  {
   "cell_type": "code",
   "execution_count": null,
   "id": "c620ee68",
   "metadata": {},
   "outputs": [],
   "source": [
    "作业1:names=[['喜羊羊', '美羊羊', '灰太狼', '红太狼'] ,['熊大','熊二'],['佩奇','乔治']]，找出熊大"
   ]
  },
  {
   "cell_type": "code",
   "execution_count": null,
   "id": "752a9998",
   "metadata": {},
   "outputs": [],
   "source": [
    "作业2:fruits=['苹果','香蕉','梨','橙子']，这些水果当中，我不喜欢吃香蕉。请打印出我对每种水果的喜好。如：我喜欢吃苹果。我不喜欢吃香蕉"
   ]
  }
 ],
 "metadata": {
  "kernelspec": {
   "display_name": "Python 3 (ipykernel)",
   "language": "python",
   "name": "python3"
  },
  "language_info": {
   "codemirror_mode": {
    "name": "ipython",
    "version": 3
   },
   "file_extension": ".py",
   "mimetype": "text/x-python",
   "name": "python",
   "nbconvert_exporter": "python",
   "pygments_lexer": "ipython3",
   "version": "3.9.7"
  }
 },
 "nbformat": 4,
 "nbformat_minor": 5
}
