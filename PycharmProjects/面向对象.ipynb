{
 "cells": [
  {
   "cell_type": "code",
   "execution_count": null,
   "id": "cf02c337",
   "metadata": {},
   "outputs": [],
   "source": [
    "变成范式\n",
    "面向过程编程\n",
    "面向对象编程\n",
    "定义类与实例化对象\n",
    "使用类\n",
    "如何使用对象\n",
    "属性查找与绑定方法\n",
    "继承\n",
    "派生\n",
    "组合\n",
    "抽象类与归一化\n",
    "多态与多态性\n",
    "封装\n",
    "反射\n",
    "内置方法\n"
   ]
  }
 ],
 "metadata": {
  "kernelspec": {
   "display_name": "Python 3 (ipykernel)",
   "language": "python",
   "name": "python3"
  },
  "language_info": {
   "codemirror_mode": {
    "name": "ipython",
    "version": 3
   },
   "file_extension": ".py",
   "mimetype": "text/x-python",
   "name": "python",
   "nbconvert_exporter": "python",
   "pygments_lexer": "ipython3",
   "version": "3.8.6"
  }
 },
 "nbformat": 4,
 "nbformat_minor": 5
}
