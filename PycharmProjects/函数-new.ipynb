{
 "cells": [
  {
   "cell_type": "markdown",
   "id": "242ca130",
   "metadata": {},
   "source": [
    "# 1. 初识函数"
   ]
  },
  {
   "cell_type": "markdown",
   "id": "47f16489",
   "metadata": {},
   "source": []
  },
  {
   "cell_type": "markdown",
   "id": "0f9ad13f",
   "metadata": {},
   "source": [
    "# 2. 函数参数"
   ]
  },
  {
   "cell_type": "markdown",
   "id": "148fd019",
   "metadata": {},
   "source": []
  },
  {
   "cell_type": "markdown",
   "id": "01efda29",
   "metadata": {},
   "source": [
    "# 3. 函数返回值"
   ]
  },
  {
   "cell_type": "markdown",
   "id": "f1fa76cc",
   "metadata": {},
   "source": []
  },
  {
   "cell_type": "markdown",
   "id": "a639fddb",
   "metadata": {},
   "source": [
    "# 4. 变量作用域"
   ]
  },
  {
   "cell_type": "markdown",
   "id": "048a1fe2",
   "metadata": {},
   "source": []
  },
  {
   "cell_type": "markdown",
   "id": "1f431f7c",
   "metadata": {},
   "source": [
    "# 5. 可变参数"
   ]
  },
  {
   "cell_type": "markdown",
   "id": "89307c2f",
   "metadata": {},
   "source": []
  },
  {
   "cell_type": "markdown",
   "id": "a7d87d1f",
   "metadata": {},
   "source": [
    "# 6. 函数进阶"
   ]
  },
  {
   "cell_type": "markdown",
   "id": "20db526c",
   "metadata": {},
   "source": []
  },
  {
   "cell_type": "markdown",
   "id": "d9b9f0fd",
   "metadata": {},
   "source": [
    "# 7. 函数高阶"
   ]
  },
  {
   "cell_type": "markdown",
   "id": "37b9b0bf",
   "metadata": {},
   "source": []
  },
  {
   "cell_type": "markdown",
   "id": "500dacf8",
   "metadata": {},
   "source": []
  },
  {
   "cell_type": "markdown",
   "id": "78aac6c4",
   "metadata": {},
   "source": []
  },
  {
   "cell_type": "markdown",
   "id": "625c1b44",
   "metadata": {},
   "source": []
  },
  {
   "cell_type": "markdown",
   "id": "ee6e0dac",
   "metadata": {},
   "source": []
  }
 ],
 "metadata": {
  "kernelspec": {
   "display_name": "Python 3 (ipykernel)",
   "language": "python",
   "name": "python3"
  },
  "language_info": {
   "codemirror_mode": {
    "name": "ipython",
    "version": 3
   },
   "file_extension": ".py",
   "mimetype": "text/x-python",
   "name": "python",
   "nbconvert_exporter": "python",
   "pygments_lexer": "ipython3",
   "version": "3.9.7"
  }
 },
 "nbformat": 4,
 "nbformat_minor": 5
}
