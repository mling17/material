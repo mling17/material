{
 "cells": [
  {
   "cell_type": "markdown",
   "id": "e2201a03",
   "metadata": {},
   "source": [
    "# 导入"
   ]
  },
  {
   "cell_type": "code",
   "execution_count": 1,
   "id": "7496bf9c",
   "metadata": {},
   "outputs": [],
   "source": [
    "# 求里列表中有多少个不重复的元素\n",
    "list = {1,3,2,2,3,5,6,1,4}"
   ]
  },
  {
   "cell_type": "code",
   "execution_count": 2,
   "id": "eb2978ab",
   "metadata": {},
   "outputs": [],
   "source": [
    "list1 = [1,2,3,5,7,8]\n",
    "list2 = [0,1,4,6,8,9]\n",
    "# 求两个列表总共有多少不重复的元素\n",
    "# 求两个列表都有的元素是哪些\n",
    "# 求list1有但是list2没有的元素\n",
    "# 求两个列表中有共有元素以外的所有元素"
   ]
  },
  {
   "cell_type": "markdown",
   "id": "577939f2",
   "metadata": {},
   "source": [
    "# 一、集合的运算 "
   ]
  },
  {
   "cell_type": "code",
   "execution_count": 3,
   "id": "d3a2893d",
   "metadata": {},
   "outputs": [
    {
     "data": {
      "text/plain": [
       "({1, 2, 3, 5, 7, 8}, {0, 1, 4, 6, 8, 9})"
      ]
     },
     "execution_count": 3,
     "metadata": {},
     "output_type": "execute_result"
    }
   ],
   "source": [
    "list1 = [1,2,3,5,7,8]\n",
    "list2 = [0,1,4,6,8,9]\n",
    "s1 = set(list1)\n",
    "s2 = set(list2)\n",
    "s1,s2\n"
   ]
  },
  {
   "cell_type": "code",
   "execution_count": 4,
   "id": "f2e01bd7",
   "metadata": {},
   "outputs": [
    {
     "name": "stdout",
     "output_type": "stream",
     "text": [
      "{0, 1, 2, 3, 4, 5, 6, 7, 8, 9}\n",
      "{0, 1, 2, 3, 4, 5, 6, 7, 8, 9}\n"
     ]
    }
   ],
   "source": [
    "# 并集\n",
    "print(s1 | s2)\n",
    "print(s1.union(s2))#返回两个集合的并集"
   ]
  },
  {
   "cell_type": "code",
   "execution_count": 5,
   "id": "1d74e1d7",
   "metadata": {},
   "outputs": [
    {
     "name": "stdout",
     "output_type": "stream",
     "text": [
      "{8, 1}\n",
      "{8, 1}\n",
      "{1, 2, 3, 5, 7, 8}\n"
     ]
    }
   ],
   "source": [
    "#交集\n",
    "print(s1&s2)\n",
    "print(s1.intersection(s2))# 返回集合的交集，可以多个集合\n",
    "print(s1)"
   ]
  },
  {
   "cell_type": "code",
   "execution_count": 6,
   "id": "b2f74d81",
   "metadata": {},
   "outputs": [
    {
     "data": {
      "text/plain": [
       "{1, 8}"
      ]
     },
     "execution_count": 6,
     "metadata": {},
     "output_type": "execute_result"
    }
   ],
   "source": [
    "#返回集合的交集，可以多个集合\n",
    "#不同于 intersection() 方法，因为 intersection() 方法是返回一个新的集合，此方法是在原始的集合上移除不重叠的元素。\n",
    "s1.intersection_update(s2)\n",
    "s1"
   ]
  },
  {
   "cell_type": "code",
   "execution_count": 7,
   "id": "bf2ac457",
   "metadata": {},
   "outputs": [
    {
     "name": "stdout",
     "output_type": "stream",
     "text": [
      "set()\n",
      "set()\n"
     ]
    }
   ],
   "source": [
    "# 差集\n",
    "print(s1-s2)\n",
    "print(s1.difference(s2))# 返回多个集合的差集"
   ]
  },
  {
   "cell_type": "code",
   "execution_count": 8,
   "id": "65f9bdbc",
   "metadata": {},
   "outputs": [
    {
     "name": "stdout",
     "output_type": "stream",
     "text": [
      "{0, 4, 6, 9}\n",
      "{0, 4, 6, 9}\n"
     ]
    }
   ],
   "source": [
    "# 对称差集，交集的补集\n",
    "print(s1^s2)\n",
    "print(s1.symmetric_difference(s2))# 返回两个集合中不重复的元素集合。"
   ]
  },
  {
   "cell_type": "markdown",
   "id": "38d83ab9",
   "metadata": {},
   "source": [
    "# 二、集合的定义及创建"
   ]
  },
  {
   "cell_type": "markdown",
   "id": "3fbba851",
   "metadata": {},
   "source": [
    "集合是包含若干元素的列表，其特点是元素无序且无重复元素。"
   ]
  },
  {
   "cell_type": "markdown",
   "id": "5b9ec391",
   "metadata": {},
   "source": [
    "## 集合作用\n",
    "去重（如：列表去重）；\n",
    "关系测试（如：取交集、取并集、取差集等）"
   ]
  },
  {
   "cell_type": "markdown",
   "id": "ff785e0a",
   "metadata": {},
   "source": [
    "## 创建集合"
   ]
  },
  {
   "cell_type": "code",
   "execution_count": 9,
   "id": "60e3a17f",
   "metadata": {},
   "outputs": [
    {
     "data": {
      "text/plain": [
       "set"
      ]
     },
     "execution_count": 9,
     "metadata": {},
     "output_type": "execute_result"
    }
   ],
   "source": [
    "# 创建集合\n",
    "drawer = {'pen','pencil','ruler','eraser'} \n",
    "type(drawer)"
   ]
  },
  {
   "cell_type": "code",
   "execution_count": 10,
   "id": "3676ab1f",
   "metadata": {},
   "outputs": [
    {
     "data": {
      "text/plain": [
       "set"
      ]
     },
     "execution_count": 10,
     "metadata": {},
     "output_type": "execute_result"
    }
   ],
   "source": [
    "# 创建空集合\n",
    "set_type = set()\n",
    "type(set_type)"
   ]
  },
  {
   "cell_type": "code",
   "execution_count": 11,
   "id": "30bda29f",
   "metadata": {},
   "outputs": [
    {
     "data": {
      "text/plain": [
       "dict"
      ]
     },
     "execution_count": 11,
     "metadata": {},
     "output_type": "execute_result"
    }
   ],
   "source": [
    "# 注意，创建空集合必须使用 set( ) 函数\n",
    "set_type = {}\n",
    "type(set_type)"
   ]
  },
  {
   "cell_type": "markdown",
   "id": "26162a76",
   "metadata": {},
   "source": [
    "# 三、 集合内置方法"
   ]
  },
  {
   "cell_type": "code",
   "execution_count": 12,
   "id": "8efb165b",
   "metadata": {},
   "outputs": [
    {
     "data": {
      "text/plain": [
       "{1, 2, 3, 4, 5, 6, 's'}"
      ]
     },
     "execution_count": 12,
     "metadata": {},
     "output_type": "execute_result"
    }
   ],
   "source": [
    "# add()# 为集合添加元素\n",
    "s = {1, 2, 3, 4, 5, 6}\n",
    "s.add(\"s\")\n",
    "s"
   ]
  },
  {
   "cell_type": "code",
   "execution_count": 13,
   "id": "2945afa3",
   "metadata": {},
   "outputs": [
    {
     "data": {
      "text/plain": [
       "set()"
      ]
     },
     "execution_count": 13,
     "metadata": {},
     "output_type": "execute_result"
    }
   ],
   "source": [
    "# clear()# 移除集合中的所有元素\n",
    "s = {1, 2, 3, 4, 5, 6}\n",
    "s.clear()\n",
    "s"
   ]
  },
  {
   "cell_type": "code",
   "execution_count": 14,
   "id": "28925cd9",
   "metadata": {},
   "outputs": [
    {
     "data": {
      "text/plain": [
       "{1, 2, 3, 4, 5, 6}"
      ]
     },
     "execution_count": 14,
     "metadata": {},
     "output_type": "execute_result"
    }
   ],
   "source": [
    "# copy()# 拷贝一个集合\n",
    "s = {1, 2, 3, 4, 5, 6}\n",
    "new_s = s.copy()\n",
    "new_s"
   ]
  },
  {
   "cell_type": "code",
   "execution_count": 15,
   "id": "17fef287",
   "metadata": {},
   "outputs": [
    {
     "name": "stdout",
     "output_type": "stream",
     "text": [
      "{1}\n",
      "{1, 4}\n"
     ]
    }
   ],
   "source": [
    "# difference_update()# 移除集合中的元素，该元素在指定的集合也存在。\n",
    "s = {1, 2, 3}\n",
    "s1 = {1, 2, 3, 4}\n",
    "s2 = {2, 3}\n",
    "s.difference_update(s2)\n",
    "print(s)\n",
    "s1.difference_update(s2)\n",
    "print(s1)"
   ]
  },
  {
   "cell_type": "code",
   "execution_count": 16,
   "id": "7e1ed2b7",
   "metadata": {},
   "outputs": [
    {
     "data": {
      "text/plain": [
       "{1, 2, 3, 4, 5, 6}"
      ]
     },
     "execution_count": 16,
     "metadata": {},
     "output_type": "execute_result"
    }
   ],
   "source": [
    "# discard()# 删除集合中指定的元素（如果元素不存在，则不执行任何操作）\n",
    "s = {1, 2, 3, 4, 5, 6}\n",
    "s.discard(\"sb\")\n",
    "s"
   ]
  },
  {
   "cell_type": "code",
   "execution_count": 17,
   "id": "cc5ada0b",
   "metadata": {},
   "outputs": [
    {
     "name": "stdout",
     "output_type": "stream",
     "text": [
      "True\n",
      "False\n"
     ]
    }
   ],
   "source": [
    "# isdisjoint()# 判断两个集合是否包含相同的元素，如果没有返回 True，否则返回 False。\n",
    "s = {1, 2}\n",
    "s1 = {3, 4}\n",
    "s2 = {2, 3}\n",
    "print(s.isdisjoint(s1))\n",
    "print(s.isdisjoint(s2))"
   ]
  },
  {
   "cell_type": "code",
   "execution_count": 18,
   "id": "4ccf1e23",
   "metadata": {},
   "outputs": [
    {
     "name": "stdout",
     "output_type": "stream",
     "text": [
      "True\n",
      "False\n"
     ]
    }
   ],
   "source": [
    "# issubset()# 判断指定集合是否为该方法参数集合的子集。\n",
    "s = {1, 2, 3}\n",
    "s1 = {1, 2, 3, 4}\n",
    "s2 = {2, 3}\n",
    "print(s.issubset(s1))\n",
    "print(s.issubset(s2))"
   ]
  },
  {
   "cell_type": "code",
   "execution_count": 19,
   "id": "d33f60ee",
   "metadata": {},
   "outputs": [
    {
     "name": "stdout",
     "output_type": "stream",
     "text": [
      "False\n",
      "True\n"
     ]
    }
   ],
   "source": [
    "# issuperset()# 判断该方法的参数集合是否为指定集合的子集\n",
    "s = {1, 2, 3}\n",
    "s1 = {1, 2, 3, 4}\n",
    "s2 = {2, 3}\n",
    "print(s.issuperset(s1))\n",
    "print(s.issuperset(s2))"
   ]
  },
  {
   "cell_type": "code",
   "execution_count": 20,
   "id": "15477944",
   "metadata": {},
   "outputs": [
    {
     "name": "stdout",
     "output_type": "stream",
     "text": [
      "1\n",
      "{2, 3, 4, 5, 6}\n"
     ]
    }
   ],
   "source": [
    "# pop()# 随机移除元素\n",
    "s = {1, 2, 3, 4, 5, 6}\n",
    "print(s.pop()) # pop删除时是无序的随机删除\n",
    "print(s)"
   ]
  },
  {
   "cell_type": "code",
   "execution_count": 21,
   "id": "ee558a96",
   "metadata": {},
   "outputs": [
    {
     "data": {
      "text/plain": [
       "{1, 2, 4, 5, 6}"
      ]
     },
     "execution_count": 21,
     "metadata": {},
     "output_type": "execute_result"
    }
   ],
   "source": [
    "# remove()# 移除指定元素\n",
    "s = {1, 2, 3, 4, 5, 6}\n",
    "s.remove(3)\n",
    "s"
   ]
  },
  {
   "cell_type": "code",
   "execution_count": 22,
   "id": "22b101c3",
   "metadata": {},
   "outputs": [
    {
     "name": "stdout",
     "output_type": "stream",
     "text": [
      "{4}\n",
      "{2, 3, 4}\n",
      "{1}\n"
     ]
    }
   ],
   "source": [
    "# symmetric_difference_update()# 移除当前集合中在另外一个指定集合相同的元素，并将另外一个指定集合中不同的元素插入到当前集合中。\n",
    "s = {1, 2, 3}\n",
    "s1 = {1, 2, 3, 4}\n",
    "s2 = {2, 3}\n",
    "s1.symmetric_difference_update(s)\n",
    "print(s1)\n",
    "s1.symmetric_difference_update(s2)\n",
    "print(s1)\n",
    "s.symmetric_difference_update(s2)\n",
    "print(s)"
   ]
  },
  {
   "cell_type": "code",
   "execution_count": 23,
   "id": "ce728026",
   "metadata": {},
   "outputs": [
    {
     "name": "stdout",
     "output_type": "stream",
     "text": [
      "{'h', 'n', 'p', 't', 'y', 'o'}\n",
      "{'h', 'H', 'n', 'p', 'l', 't', 'y', 'o', 'e'}\n"
     ]
    }
   ],
   "source": [
    "# update()# 给集合添加元素\n",
    "s = {'p', 'y'}\n",
    "s.update(['t', 'h', 'o', 'n'])    # 添加多个元素\n",
    "print(s)\n",
    "s.update(['H', 'e'], {'l', 'l', 'o'})    # 添加列表和集合\n",
    "print(s)"
   ]
  },
  {
   "cell_type": "code",
   "execution_count": 24,
   "id": "bcd97998",
   "metadata": {},
   "outputs": [],
   "source": [
    "# 某学校开设两个班python和scratch，python班有：小红、小蓝、小黑、小绿、小黄，scratch班有：小明、小王、小黑、小刘、小花\n",
    "# 1. 学校有多少学生\n",
    "# 2. 报了两门课程的学生有多少，分别是谁\n",
    "# 3. 只学习python但是没有scratch的是学生\n",
    "# 4. 只报了一门课的学生"
   ]
  }
 ],
 "metadata": {
  "kernelspec": {
   "display_name": "Python 3 (ipykernel)",
   "language": "python",
   "name": "python3"
  },
  "language_info": {
   "codemirror_mode": {
    "name": "ipython",
    "version": 3
   },
   "file_extension": ".py",
   "mimetype": "text/x-python",
   "name": "python",
   "nbconvert_exporter": "python",
   "pygments_lexer": "ipython3",
   "version": "3.9.7"
  }
 },
 "nbformat": 4,
 "nbformat_minor": 5
}
