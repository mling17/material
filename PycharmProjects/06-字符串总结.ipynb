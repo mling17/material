{
 "cells": [
  {
   "cell_type": "code",
   "execution_count": null,
   "id": "5a7fd1f2",
   "metadata": {},
   "outputs": [],
   "source": [
    "上次作业1:判断变量名是否正确？"
   ]
  },
  {
   "cell_type": "markdown",
   "id": "bfa78e44",
   "metadata": {},
   "source": [
    "1.什么样的变量名是正确的？数字不能开头，只能包含数字字母下划线，关键字\n",
    "2. 判断是否以数字开头\n",
    "    1.1 取到第一个字符，s[0]\n",
    "    1.2 判断这个字符是不是数字，isdigit()判断是否是数字\n",
    "3. 判断是否含有下划线以外的特殊字符\n",
    "    for 遍历整个字符串，如果不上数字或者字母那就是特殊字符。如果上特殊字符，再判断是否上是下划线。"
   ]
  },
  {
   "cell_type": "code",
   "execution_count": 8,
   "id": "8533ec59",
   "metadata": {},
   "outputs": [
    {
     "name": "stdout",
     "output_type": "stream",
     "text": [
      "请输入变量名>>>ab#\n",
      "ab#是不正确的变量名\n"
     ]
    }
   ],
   "source": [
    "name = input('请输入变量名>>>').strip()\n",
    "flag=0# 如果0就说正确的，1就是错误\n",
    "if name[0].isdigit():\n",
    "    flag=1\n",
    "for i in name:\n",
    "    if not i.isalnum():#判断是否是数字或者字母\n",
    "        if i!='_':\n",
    "            flag=1\n",
    "if flag==0:\n",
    "    print(f'{name}是正确的变量名')\n",
    "else:\n",
    "    print(f'{name}是不正确的变量名')\n"
   ]
  },
  {
   "cell_type": "code",
   "execution_count": null,
   "id": "be0be15d",
   "metadata": {},
   "outputs": [],
   "source": [
    "#上次作业2:输入验证码，不区分大小写\n",
    "def check_code():\n",
    "    import random   # 导入标准块的random\n",
    "    checkcode=''\n",
    "    for i in range(4):   # 循环4次\n",
    "        index=random.randrange(0,3)   # 生成0-3中的一个数\n",
    "        if index!=i and index+1 !=i:\n",
    "            checkcode+=chr(random.randint(97,122))  # 生成a-z中的一个小写字母\n",
    "        elif index+1==i:\n",
    "            checkcode+=chr(random.randint(65,90))    # 生成A-Z中的大写字母\n",
    "        else:\n",
    "            checkcode+=str(random.randint(1,9))    # 生成1-9的一个数字\n",
    "    print(\"验证码:\",checkcode)\n",
    "    return checkcode\n",
    "checkcode = check_code()\n"
   ]
  },
  {
   "cell_type": "code",
   "execution_count": null,
   "id": "96be0a52",
   "metadata": {},
   "outputs": [],
   "source": [
    "# 徐乐岩\n",
    "def check_code():\n",
    "    import random   # 导入标准块的random\n",
    "    checkcode=''\n",
    "    for i in range(4):   # 循环4次\n",
    "        index=random.randrange(0,3)   # 生成0-3中的一个数\n",
    "        if index!=i and index+1 !=i:\n",
    "            checkcode+=chr(random.randint(97,122))  # 生成a-z中的一个小写字母\n",
    "        elif index+1==i:\n",
    "            checkcode+=chr(random.randint(65,90))    # 生成A-Z中的大写字母\n",
    "        else:\n",
    "            checkcode+=str(random.randint(1,9))    # 生成1-9的一个数字\n",
    "    return checkcode\n",
    "checkcode = check_code()\n",
    "x=input('请输入一个数')\n",
    "if x.upper==checkcode.upper:\n",
    "    print('输入正确')\n",
    "else:\n",
    "    print('输入错误')\n",
    "print(f'应是{checkcode}')"
   ]
  },
  {
   "cell_type": "code",
   "execution_count": 19,
   "id": "133666a5",
   "metadata": {},
   "outputs": [
    {
     "name": "stdout",
     "output_type": "stream",
     "text": [
      "iIZb\n",
      "请输入验证码：iizb\n",
      "输入正确\n"
     ]
    }
   ],
   "source": [
    "def check_code():\n",
    "    import random   # 导入标准块的random\n",
    "    checkcode=''\n",
    "    for i in range(4):   # 循环4次\n",
    "        index=random.randrange(0,3)   # 生成0-3中的一个数\n",
    "        if index!=i and index+1 !=i:\n",
    "            checkcode+=chr(random.randint(97,122))  # 生成a-z中的一个小写字母\n",
    "        elif index+1==i:\n",
    "            checkcode+=chr(random.randint(65,90))    # 生成A-Z中的大写字母\n",
    "        else:\n",
    "            checkcode+=str(random.randint(1,9))    # 生成1-9的一个数字\n",
    "    return checkcode\n",
    "checkcode = check_code()\n",
    "print(checkcode)\n",
    "x=input('请输入验证码：').strip()\n",
    "if x.lower()==checkcode.lower():\n",
    "    print('输入正确')\n",
    "else:\n",
    "    print('输入错误')\n"
   ]
  },
  {
   "cell_type": "markdown",
   "id": "13ea5b5b",
   "metadata": {},
   "source": [
    "# 字符串总结"
   ]
  },
  {
   "cell_type": "markdown",
   "id": "bc18ea9a",
   "metadata": {},
   "source": [
    "## 1. 创建字符串"
   ]
  },
  {
   "cell_type": "code",
   "execution_count": null,
   "id": "507505b1",
   "metadata": {},
   "outputs": [],
   "source": [
    "a = 'string'\n",
    "b = str(123)"
   ]
  },
  {
   "cell_type": "markdown",
   "id": "88a41c36",
   "metadata": {},
   "source": [
    "## 2. 字符串索引*****\n",
    "给字符串的每一个字符做一个编号，\n",
    "正向索引：从左往右从0开始，\n",
    "反向索引：从右到左-1开始"
   ]
  },
  {
   "cell_type": "code",
   "execution_count": 20,
   "id": "5f8d36ba",
   "metadata": {},
   "outputs": [],
   "source": [
    "s = 'python'"
   ]
  },
  {
   "cell_type": "markdown",
   "id": "9fd8c60c",
   "metadata": {},
   "source": [
    "## 3. 字符串取值和切片*****"
   ]
  },
  {
   "cell_type": "code",
   "execution_count": 22,
   "id": "65608fc0",
   "metadata": {},
   "outputs": [
    {
     "data": {
      "text/plain": [
       "'p'"
      ]
     },
     "execution_count": 22,
     "metadata": {},
     "output_type": "execute_result"
    }
   ],
   "source": [
    "# 取一个字符\n",
    "s[0]"
   ]
  },
  {
   "cell_type": "code",
   "execution_count": 23,
   "id": "f988c960",
   "metadata": {},
   "outputs": [
    {
     "data": {
      "text/plain": [
       "'nohtyp'"
      ]
     },
     "execution_count": 23,
     "metadata": {},
     "output_type": "execute_result"
    }
   ],
   "source": [
    "# 取多个字符，切片\n",
    "# s[开始索引:结束索引:步长]\n",
    "# 口诀：前取后不取，有步长算步长\n",
    "s[:3]\n",
    "s[::-1]"
   ]
  },
  {
   "cell_type": "markdown",
   "id": "68b4be35",
   "metadata": {},
   "source": [
    "## 4. 字符串拼接****"
   ]
  },
  {
   "cell_type": "code",
   "execution_count": null,
   "id": "2daa8730",
   "metadata": {},
   "outputs": [],
   "source": [
    "+\n",
    "%s\n",
    "string.format()\n",
    "f''"
   ]
  },
  {
   "cell_type": "markdown",
   "id": "256a41ff",
   "metadata": {},
   "source": [
    "## 5. 字符串常用方法\n",
    "str() #转成字符串\n",
    "in #判断是否包含\n",
    "len()#求长度\n",
    "find()#获取子字符的索引,返回索引值，如果没有返回-1\n",
    "index()#获取子字符的索引，返回索引值，如果没有会报异常\n",
    "count()#统计子字符串的数量\n",
    "isalnum()# 判断是否是由数字字母组成\n",
    "isalpha()# 判断是否是只由字母组成\n",
    "isdigit()#判断是否是只由数字组成\n",
    "isspace()#判断是否全部是空格\n",
    "isupper() #判断是否是大写字母\n",
    "islower（）#判断是否是小写字母\n",
    "startswith(sub,[start,[end]]) # 判断字符串在指定范围内是否以sub开始*,返回布尔值\n",
    "endswith(sub,[start,[end]]) # 判断字符串在指定范围内是否以sub结尾*\n",
    "strip([chars])#剔除字符串两侧指定字符*\n",
    "lstrip()\n",
    "rstrip()\n",
    "upper()#转大写*\n",
    "lower()#转小写*\n",
    "capitalize()#首字母转大写\n",
    "title() # 转成标题\n",
    "replace(oldstr,newstr,count)# 字符串替换*\n",
    "split(sep,maxsplit)#字符串分割*\n",
    "join()#将序列以指定字符串进行连接*"
   ]
  },
  {
   "cell_type": "code",
   "execution_count": 55,
   "id": "0255f453",
   "metadata": {},
   "outputs": [
    {
     "data": {
      "text/plain": [
       "'2021-11-27'"
      ]
     },
     "execution_count": 55,
     "metadata": {},
     "output_type": "execute_result"
    }
   ],
   "source": [
    "'-'.join(['2021','11','27'])"
   ]
  },
  {
   "cell_type": "code",
   "execution_count": 37,
   "id": "25ceec17",
   "metadata": {
    "scrolled": true
   },
   "outputs": [
    {
     "data": {
      "text/plain": [
       "'abaasdfasjlkajsdflaks'"
      ]
     },
     "execution_count": 37,
     "metadata": {},
     "output_type": "execute_result"
    }
   ],
   "source": [
    "'deabaasdfasjlkajsdflaksde'.strip('de')"
   ]
  },
  {
   "cell_type": "code",
   "execution_count": 38,
   "id": "1a9c54c7",
   "metadata": {},
   "outputs": [
    {
     "data": {
      "text/plain": [
       "'abaasdfasjlkajsdflaksde'"
      ]
     },
     "execution_count": 38,
     "metadata": {},
     "output_type": "execute_result"
    }
   ],
   "source": [
    "'deabaasdfasjlkajsdflaksde'.lstrip('de')#l---》left"
   ]
  },
  {
   "cell_type": "code",
   "execution_count": 39,
   "id": "c26b36ed",
   "metadata": {},
   "outputs": [
    {
     "data": {
      "text/plain": [
       "'deabaasdfasjlkajsdflaks'"
      ]
     },
     "execution_count": 39,
     "metadata": {},
     "output_type": "execute_result"
    }
   ],
   "source": [
    "'deabaasdfasjlkajsdflaksde'.rstrip('de')"
   ]
  },
  {
   "cell_type": "markdown",
   "id": "424c94c0",
   "metadata": {},
   "source": [
    "# 学习路径规划\n",
    "1.输入输出\n",
    "2.变量注释\n",
    "3.运算符\n",
    "    算数运算符\n",
    "        + - * / % ** //\n",
    "    比较（关系）运算符\n",
    "        == != > < >= <= \n",
    "    赋值运算符\n",
    "        = += -= *= /= %= **= //=\n",
    "    逻辑运算符\n",
    "        and or not\n",
    "    位运算符\n",
    "        & ｜ ^ ~ << >>\n",
    "    成员运算符\n",
    "        in \n",
    "        not in\n",
    "    身份运算符\n",
    "        is\n",
    "        is not\n",
    "    运算符优先级\n",
    "    \n",
    "4.语句结构\n",
    "    顺序结构\n",
    "    条件语句\n",
    "    循环语句\n",
    "        for\n",
    "        while\n",
    "5.内置函数\n",
    "range(),sum()\n",
    "6.基本数据类型\n",
    "    数字\n",
    "        整型 浮点型\n",
    "    字符串\n",
    "    列表\n",
    "    元组\n",
    "    字典\n",
    "    集合\n",
    "7.函数\n",
    "8.模块\n",
    "9.文件I/O\n",
    "10.异常处理\n",
    "11.内置模块\n",
    "11.面向对象\n",
    "12.网络编程\n",
    "13.并发编程\n",
    "\n",
    "各业务方向"
   ]
  },
  {
   "cell_type": "code",
   "execution_count": null,
   "id": "f4ad845c",
   "metadata": {},
   "outputs": [],
   "source": []
  },
  {
   "cell_type": "code",
   "execution_count": 58,
   "id": "2980c9b4",
   "metadata": {},
   "outputs": [
    {
     "data": {
      "text/plain": [
       "str"
      ]
     },
     "execution_count": 58,
     "metadata": {},
     "output_type": "execute_result"
    }
   ],
   "source": [
    "type('a')"
   ]
  },
  {
   "cell_type": "code",
   "execution_count": null,
   "id": "536dbc33",
   "metadata": {},
   "outputs": [],
   "source": [
    "作业：\n",
    "1. 验证密码\n",
    "要求：\n",
    "允许用户最多尝试三次，如果三次密码都没有输入正确，显示登录异常。如果在三次内输入正确，显示登录成功。\n",
    "2. 实现一个两个操作数的计算器\n",
    "要求：\n",
    "输入算式，然后根据算式计算出正确的结果。q或者Q退出程序。\n",
    "输入：1+1。 输出：1+1=2"
   ]
  }
 ],
 "metadata": {
  "kernelspec": {
   "display_name": "Python 3 (ipykernel)",
   "language": "python",
   "name": "python3"
  },
  "language_info": {
   "codemirror_mode": {
    "name": "ipython",
    "version": 3
   },
   "file_extension": ".py",
   "mimetype": "text/x-python",
   "name": "python",
   "nbconvert_exporter": "python",
   "pygments_lexer": "ipython3",
   "version": "3.9.7"
  }
 },
 "nbformat": 4,
 "nbformat_minor": 5
}
