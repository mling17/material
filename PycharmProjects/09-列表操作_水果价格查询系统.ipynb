{
 "cells": [
  {
   "cell_type": "code",
   "execution_count": null,
   "id": "2f5fcf5d",
   "metadata": {},
   "outputs": [],
   "source": [
    "作业：水果价格查询系统。\n",
    "功能：\n",
    "1. 查询水果信息，输入水果名称，然后输出'***价格是***元/斤。'。如果没有该水果则输出'没有查到该水果[***]信息。'。\n",
    "2. 添加水果信息，用户输入水果名称和水果价格，并保存到数据库中。\n",
    "3. 修改水果信息，用户输入水果名称，如果找到该水果则让其输入新的价格，否则输出没有找到该水果信息。\n",
    "4. 删除水果信息，用户输入水果名称，如果该水果名称存在则删除，否则输出没有找到该水果信息。（注意：要同时删除价格）\n",
    "\n",
    "！！！提示：水果名称与水果价格通过索引进行关联。定义好两个列表，一个存水果名称，一个存价格。"
   ]
  },
  {
   "cell_type": "code",
   "execution_count": null,
   "id": "0fc1487a",
   "metadata": {},
   "outputs": [],
   "source": [
    "# 于子津\n",
    "for i in range(100):\n",
    "    print('欢迎使用水果价格查询系统')\n",
    "    print('*******功能菜单*******')\n",
    "    print('1.查询水果价格')\n",
    "    print('2.添加水果信息')\n",
    "    print('3.修改水果信息')\n",
    "    print('4.删除水果信息')\n",
    "    print('5.退出程序')\n",
    "    a=input('请选择功能码')\n",
    "    if a==('1'):\n",
    "        b=input('请输入查询水果名称')\n",
    "        if b==('苹果'):\n",
    "            print('苹果1.5元/1斤')\n",
    "        if b==('西瓜'):\n",
    "            print('西瓜2元/1斤')\n",
    "        if b==('橙子'):\n",
    "            print('橙子3.5元/1斤')\n",
    "        if b==('葡萄'):\n",
    "            print('葡萄5元/1斤')\n",
    "    if a==('2'):\n",
    "        c=input('请输入要添加的水果名字')\n",
    "        if c==('葡萄'):\n",
    "            d=input('要添加的水果价格')\n",
    "            if d==('5'):\n",
    "                print('葡萄5元/1斤')\n",
    "    if a==('3'):\n",
    "        e=input('要修改的水果名字')\n",
    "        if e==('橘子'):\n",
    "            q=input('改为多少元？')\n",
    "            if q==('5.6'):\n",
    "                print('葡萄5.6元/1斤')\n",
    "    if a==('4'):\n",
    "        t=input('要删除的水果名称')\n",
    "        if t==('苹果'):\n",
    "            print('苹果已删除')\n",
    "    if a==('5'):\n",
    "        print('已退出程序')\n",
    "        break\n",
    "        \n"
   ]
  },
  {
   "cell_type": "code",
   "execution_count": null,
   "id": "a2fa43ed",
   "metadata": {},
   "outputs": [],
   "source": [
    "1. 先做菜单，退出程序\n",
    "2. 做查询功能\n",
    "3. 做添加功能\n",
    "4. 做修改功能\n",
    "5. 做删除功能"
   ]
  },
  {
   "cell_type": "code",
   "execution_count": null,
   "id": "c3facae6",
   "metadata": {},
   "outputs": [],
   "source": [
    "# 菜单功能\n",
    "1. 列出功能菜单\n",
    "2. 让用户选择功能\n",
    "3. 判断功能码\n",
    "3.1 如果选择1，那么输出这是查询功能\n",
    "    。。。。\n",
    "3.5 如果是5，那么退出程序\n",
    "3.6 如果是其他功能码，则说明输入错误"
   ]
  },
  {
   "cell_type": "code",
   "execution_count": 2,
   "id": "c29a6ce7",
   "metadata": {},
   "outputs": [
    {
     "name": "stdout",
     "output_type": "stream",
     "text": [
      "1. 查询\n",
      "2. 添加\n",
      "3. 修改\n",
      "4. 删除\n",
      "5. 退出程序\n",
      "请输入功能码：1\n",
      "这是查询功能\n",
      "1. 查询\n",
      "2. 添加\n",
      "3. 修改\n",
      "4. 删除\n",
      "5. 退出程序\n",
      "请输入功能码：2\n",
      "这是添加功能\n",
      "1. 查询\n",
      "2. 添加\n",
      "3. 修改\n",
      "4. 删除\n",
      "5. 退出程序\n",
      "请输入功能码：3\n",
      "这是修改功能\n",
      "1. 查询\n",
      "2. 添加\n",
      "3. 修改\n",
      "4. 删除\n",
      "5. 退出程序\n",
      "请输入功能码：4\n",
      "这是删除功能\n",
      "1. 查询\n",
      "2. 添加\n",
      "3. 修改\n",
      "4. 删除\n",
      "5. 退出程序\n",
      "请输入功能码：7\n",
      "功能码错误，请重新输入\n",
      "1. 查询\n",
      "2. 添加\n",
      "3. 修改\n",
      "4. 删除\n",
      "5. 退出程序\n",
      "请输入功能码：发觉上课了；放假啊；刘恺威分镜i家a\n",
      "功能码错误，请重新输入\n",
      "1. 查询\n",
      "2. 添加\n",
      "3. 修改\n",
      "4. 删除\n",
      "5. 退出程序\n",
      "请输入功能码：5\n",
      "退出程序\n"
     ]
    }
   ],
   "source": [
    "while True:\n",
    "    print('1. 查询')\n",
    "    print('2. 添加')\n",
    "    print('3. 修改')\n",
    "    print('4. 删除')\n",
    "    print('5. 退出程序')\n",
    "    choice = input('请输入功能码：')\n",
    "    if choice == '1':\n",
    "        print('这是查询功能')\n",
    "    elif choice == '2':\n",
    "        print('这是添加功能')\n",
    "    elif choice == '3':\n",
    "        print('这是修改功能')\n",
    "    elif choice == '4':\n",
    "        print('这是删除功能')\n",
    "    elif choice == '5':\n",
    "        print('退出程序')\n",
    "        break\n",
    "    else:\n",
    "        print('功能码错误，请重新输入')"
   ]
  },
  {
   "cell_type": "code",
   "execution_count": null,
   "id": "7e14b349",
   "metadata": {},
   "outputs": [],
   "source": [
    "知识点：\n",
    "1.print()\n",
    "2.input()\n",
    "3.多分支\n",
    "4. while循环\n",
    "5. 循环控制语句，break和continue"
   ]
  },
  {
   "cell_type": "code",
   "execution_count": null,
   "id": "efd3d959",
   "metadata": {},
   "outputs": [],
   "source": [
    "# 查询功能\n",
    "列表的查询操作\n",
    "name=['apple','banana']#水果名称\n",
    "price=[1.5,0.82]#水果价格\n",
    "1. 先输入查询的水果名称\n",
    "2. 判断水果是否在name列表，in\n",
    "2.1 不在，说不存在该水果\n",
    "2.2 在，先找到水果的索引，通过该索引找到价格，index(),list[index]\n",
    "3. 打印结果"
   ]
  },
  {
   "cell_type": "code",
   "execution_count": 6,
   "id": "c380858d",
   "metadata": {},
   "outputs": [
    {
     "name": "stdout",
     "output_type": "stream",
     "text": [
      "1. 查询\n",
      "2. 添加\n",
      "3. 修改\n",
      "4. 删除\n",
      "5. 退出程序\n",
      "请输入功能码：1\n",
      "请输入查询的水果名称：苹果\n",
      "苹果的价格是1.1元/斤。\n",
      "1. 查询\n",
      "2. 添加\n",
      "3. 修改\n",
      "4. 删除\n",
      "5. 退出程序\n",
      "请输入功能码：1\n",
      "请输入查询的水果名称：葡萄\n",
      "葡萄信息不存在。\n",
      "1. 查询\n",
      "2. 添加\n",
      "3. 修改\n",
      "4. 删除\n",
      "5. 退出程序\n",
      "请输入功能码：5\n",
      "退出程序\n"
     ]
    }
   ],
   "source": [
    "fruit = ['西瓜', '芒果', '香蕉', '苹果']\n",
    "price = [0.75, 6.6, 1.29, 1.1]\n",
    "while True:\n",
    "    print('1. 查询')\n",
    "    print('2. 添加')\n",
    "    print('3. 修改')\n",
    "    print('4. 删除')\n",
    "    print('5. 退出程序')\n",
    "    choice = input('请输入功能码：')\n",
    "    if choice == '1':\n",
    "        f=input('请输入查询的水果名称：')#1. 先输入查询的水果名称\n",
    "        if f in fruit:#2. 判断水果是否在name列表，in\n",
    "            idx = fruit.index(f)#2.1 在，先找到水果的索引，通过该索引找到价格，index(),list[index]\n",
    "            p = price[idx]\n",
    "            print(f'{f}的价格是{p}元/斤。')#3. 打印结果\n",
    "        else:#2.2 不在，说不存在该水果\n",
    "            print(f'{f}信息不存在。')\n",
    "    elif choice == '2':\n",
    "        print('这是添加功能')\n",
    "    elif choice == '3':\n",
    "        print('这是修改功能')\n",
    "    elif choice == '4':\n",
    "        print('这是删除功能')\n",
    "    elif choice == '5':\n",
    "        print('退出程序')\n",
    "        break\n",
    "    else:\n",
    "        print('功能码错误，请重新输入')"
   ]
  },
  {
   "cell_type": "code",
   "execution_count": null,
   "id": "1741e412",
   "metadata": {},
   "outputs": [],
   "source": [
    "知识点总结：\n",
    "1. 判断某个元素在列表中是否存在，in\n",
    "2. 通过元素值过去索引值，index()\n",
    "3. 通过索引值来获取元素值，list[index]\n",
    "4. \"f'{水果名称}的价格是{价格}元/斤。'\" f字符串的使用。或者用%s"
   ]
  },
  {
   "cell_type": "code",
   "execution_count": null,
   "id": "ac2ce338",
   "metadata": {},
   "outputs": [],
   "source": [
    "# 添加功能\n",
    "1. 输入新加的水果名称\n",
    "2. 判断水果名称是否已经存在\n",
    "2.1 不存在，输入新加水果的价格，然后把名称和价格分别append到相应的列表里，最后打印添加水果成功\n",
    "2.2 存在，则输出该水果信息已经存在\n"
   ]
  },
  {
   "cell_type": "code",
   "execution_count": null,
   "id": "1cfc1df2",
   "metadata": {},
   "outputs": [],
   "source": [
    "# 修改功能\n",
    "1.输入要修改水果的名称\n",
    "2. 判断水果是否存在\n",
    "2.1 存在，输入新的水果价格（float），(进行列表的修改),获取水果的索引，通过索引找到价格，然后修改价格。打印修改结果。list[index]=新的值\n",
    "2.2 不存在，则输出该水果信息不存在"
   ]
  },
  {
   "cell_type": "code",
   "execution_count": null,
   "id": "2e28fadf",
   "metadata": {},
   "outputs": [],
   "source": [
    "# 删除功能\n",
    "1. 输入要删除的水果名称\n",
    "2. 判断是否存在\n",
    "2.1 存在，获取水果名称索引值，然后通过该索引，删除水果名称和价格列表的索引位置的数据。pop()\n",
    "2.2 不存在，则输出该水果信息不存在"
   ]
  }
 ],
 "metadata": {
  "kernelspec": {
   "display_name": "Python 3 (ipykernel)",
   "language": "python",
   "name": "python3"
  },
  "language_info": {
   "codemirror_mode": {
    "name": "ipython",
    "version": 3
   },
   "file_extension": ".py",
   "mimetype": "text/x-python",
   "name": "python",
   "nbconvert_exporter": "python",
   "pygments_lexer": "ipython3",
   "version": "3.9.7"
  }
 },
 "nbformat": 4,
 "nbformat_minor": 5
}
