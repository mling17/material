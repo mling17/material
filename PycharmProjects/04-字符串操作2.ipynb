{
 "cells": [
  {
   "cell_type": "markdown",
   "id": "650f71ca",
   "metadata": {},
   "source": [
    "作业：回文。请输入一个数字，判断是否是回文数。例子：12321是回文数，123123不是回文数。\n",
    "输入：12321\n",
    "输出：12321是回文数\n",
    "输入：123123\n",
    "输出：123123不是回文数"
   ]
  },
  {
   "cell_type": "code",
   "execution_count": null,
   "id": "b59c7f58",
   "metadata": {},
   "outputs": [],
   "source": [
    "1. 输入数字\n",
    "2. 判断逆序后的字符串和原字符串是否相等，就是回文数\n",
    "3. 否则就不是回文数"
   ]
  },
  {
   "cell_type": "code",
   "execution_count": 5,
   "id": "cc83a5b8",
   "metadata": {},
   "outputs": [
    {
     "data": {
      "text/plain": [
       "'123'"
      ]
     },
     "execution_count": 5,
     "metadata": {},
     "output_type": "execute_result"
    }
   ],
   "source": [
    "s = '123'\n",
    "s"
   ]
  },
  {
   "cell_type": "code",
   "execution_count": 10,
   "id": "9039bc1d",
   "metadata": {},
   "outputs": [
    {
     "data": {
      "text/plain": [
       "'321'"
      ]
     },
     "execution_count": 10,
     "metadata": {},
     "output_type": "execute_result"
    }
   ],
   "source": [
    "s[::-1]"
   ]
  },
  {
   "cell_type": "code",
   "execution_count": 13,
   "id": "233fa49f",
   "metadata": {},
   "outputs": [
    {
     "name": "stdout",
     "output_type": "stream",
     "text": [
      "请输入一个数字1\n",
      "1是一个回文数\n"
     ]
    }
   ],
   "source": [
    "inp = input('请输入一个数字')\n",
    "if inp == inp[::-1]:\n",
    "    print(f'{inp}是一个回文数')\n",
    "else:\n",
    "    print(f'{inp}不是一个回文数')\n"
   ]
  },
  {
   "cell_type": "code",
   "execution_count": 17,
   "id": "309ad40b",
   "metadata": {},
   "outputs": [
    {
     "name": "stdout",
     "output_type": "stream",
     "text": [
      "请输入一个数字(输入q退出程序)q\n",
      "退出程序\n"
     ]
    }
   ],
   "source": [
    "while True:\n",
    "    inp = input('请输入一个数字(输入q退出程序)')\n",
    "    if inp == 'q':\n",
    "        print('退出程序')\n",
    "        break\n",
    "    if inp == inp[::-1]:\n",
    "        print(f'{inp}是一个回文数')\n",
    "    else:\n",
    "        print(f'{inp}不是一个回文数')\n",
    "# 条件控制语句，break，continue"
   ]
  },
  {
   "cell_type": "code",
   "execution_count": 3,
   "id": "7ab0b2e9",
   "metadata": {},
   "outputs": [
    {
     "ename": "IndexError",
     "evalue": "string index out of range",
     "output_type": "error",
     "traceback": [
      "\u001b[0;31m---------------------------------------------------------------------------\u001b[0m",
      "\u001b[0;31mIndexError\u001b[0m                                Traceback (most recent call last)",
      "\u001b[0;32m/var/folders/7_/gl5k51h93z55mwsdpj89djpw0000gn/T/ipykernel_1889/393526899.py\u001b[0m in \u001b[0;36m<module>\u001b[0;34m\u001b[0m\n\u001b[1;32m      1\u001b[0m \u001b[0ms\u001b[0m\u001b[0;34m=\u001b[0m\u001b[0;34m'12'\u001b[0m\u001b[0;34m\u001b[0m\u001b[0;34m\u001b[0m\u001b[0m\n\u001b[0;32m----> 2\u001b[0;31m \u001b[0ms\u001b[0m\u001b[0;34m[\u001b[0m\u001b[0;36m3\u001b[0m\u001b[0;34m]\u001b[0m\u001b[0;34m\u001b[0m\u001b[0;34m\u001b[0m\u001b[0m\n\u001b[0m",
      "\u001b[0;31mIndexError\u001b[0m: string index out of range"
     ]
    }
   ],
   "source": [
    "s='12'\n",
    "s[3]"
   ]
  },
  {
   "cell_type": "markdown",
   "id": "08abc83f",
   "metadata": {},
   "source": [
    "上节课知识点回顾\n",
    "1.索引\n",
    "2.切片\n",
    "3.拼接"
   ]
  },
  {
   "cell_type": "code",
   "execution_count": null,
   "id": "e93dd90b",
   "metadata": {},
   "outputs": [],
   "source": [
    "字符串检索与查询\n",
    "转换成字符串\n",
    "包含\n",
    "长度\n",
    "查找位置\n",
    "查找子串在字符串中出现的次数\n"
   ]
  },
  {
   "cell_type": "code",
   "execution_count": null,
   "id": "419ab7a1",
   "metadata": {},
   "outputs": [],
   "source": [
    "1. 转换成字符串，str()"
   ]
  },
  {
   "cell_type": "code",
   "execution_count": null,
   "id": "dbb92e8e",
   "metadata": {},
   "outputs": [],
   "source": [
    "2. 字符串长度，length"
   ]
  },
  {
   "cell_type": "code",
   "execution_count": 4,
   "id": "4b3bda63",
   "metadata": {},
   "outputs": [
    {
     "data": {
      "text/plain": [
       "'python'"
      ]
     },
     "execution_count": 4,
     "metadata": {},
     "output_type": "execute_result"
    }
   ],
   "source": [
    "s = 'python'\n",
    "s"
   ]
  },
  {
   "cell_type": "code",
   "execution_count": 5,
   "id": "1b323616",
   "metadata": {},
   "outputs": [
    {
     "name": "stdout",
     "output_type": "stream",
     "text": [
      "6\n"
     ]
    }
   ],
   "source": [
    "print(len(s))"
   ]
  },
  {
   "cell_type": "code",
   "execution_count": 6,
   "id": "05918acc",
   "metadata": {},
   "outputs": [
    {
     "name": "stdout",
     "output_type": "stream",
     "text": [
      "11\n"
     ]
    }
   ],
   "source": [
    "# 练习，求\"hello world\"的长度\n",
    "s='hello world'\n",
    "print(len(s))"
   ]
  },
  {
   "cell_type": "code",
   "execution_count": 7,
   "id": "7c05be6b",
   "metadata": {},
   "outputs": [
    {
     "name": "stdout",
     "output_type": "stream",
     "text": [
      "请输入你的手机号1231231\n",
      "您输入的手机号位数不正确，请重新输入\n"
     ]
    }
   ],
   "source": [
    "inp = input('请输入你的手机号')\n",
    "if len(inp) != 11:\n",
    "    print('您输入的手机号位数不正确，请重新输入')"
   ]
  },
  {
   "cell_type": "code",
   "execution_count": null,
   "id": "0e9870d4",
   "metadata": {},
   "outputs": [],
   "source": [
    "# 请设置密码，对密码长度进行校验。密码长度不得低于8位"
   ]
  },
  {
   "cell_type": "code",
   "execution_count": null,
   "id": "93909f0b",
   "metadata": {},
   "outputs": [],
   "source": [
    "3. 查找子串在字符串中的位置"
   ]
  },
  {
   "cell_type": "code",
   "execution_count": 11,
   "id": "917df359",
   "metadata": {},
   "outputs": [
    {
     "data": {
      "text/plain": [
       "2"
      ]
     },
     "execution_count": 11,
     "metadata": {},
     "output_type": "execute_result"
    }
   ],
   "source": [
    "#index\n",
    "s = 'python'\n",
    "s.index('t')"
   ]
  },
  {
   "cell_type": "code",
   "execution_count": 13,
   "id": "b2b09044",
   "metadata": {},
   "outputs": [
    {
     "data": {
      "text/plain": [
       "3"
      ]
     },
     "execution_count": 13,
     "metadata": {},
     "output_type": "execute_result"
    }
   ],
   "source": [
    "s.index('ho')"
   ]
  },
  {
   "cell_type": "code",
   "execution_count": 14,
   "id": "7d464a9c",
   "metadata": {},
   "outputs": [
    {
     "ename": "ValueError",
     "evalue": "substring not found",
     "output_type": "error",
     "traceback": [
      "\u001b[0;31m---------------------------------------------------------------------------\u001b[0m",
      "\u001b[0;31mValueError\u001b[0m                                Traceback (most recent call last)",
      "\u001b[0;32m/var/folders/7_/gl5k51h93z55mwsdpj89djpw0000gn/T/ipykernel_1889/2895783694.py\u001b[0m in \u001b[0;36m<module>\u001b[0;34m\u001b[0m\n\u001b[0;32m----> 1\u001b[0;31m \u001b[0ms\u001b[0m\u001b[0;34m.\u001b[0m\u001b[0mindex\u001b[0m\u001b[0;34m(\u001b[0m\u001b[0;34m'abc'\u001b[0m\u001b[0;34m)\u001b[0m\u001b[0;34m\u001b[0m\u001b[0;34m\u001b[0m\u001b[0m\n\u001b[0m",
      "\u001b[0;31mValueError\u001b[0m: substring not found"
     ]
    }
   ],
   "source": [
    "s.index('abc')"
   ]
  },
  {
   "cell_type": "code",
   "execution_count": 16,
   "id": "6fbc989e",
   "metadata": {},
   "outputs": [
    {
     "data": {
      "text/plain": [
       "2"
      ]
     },
     "execution_count": 16,
     "metadata": {},
     "output_type": "execute_result"
    }
   ],
   "source": [
    "#find,查找\n",
    "s = 'python'\n",
    "s.find('t')"
   ]
  },
  {
   "cell_type": "code",
   "execution_count": 17,
   "id": "9b02e543",
   "metadata": {},
   "outputs": [
    {
     "data": {
      "text/plain": [
       "-1"
      ]
     },
     "execution_count": 17,
     "metadata": {},
     "output_type": "execute_result"
    }
   ],
   "source": [
    "s.find('abc')"
   ]
  },
  {
   "cell_type": "code",
   "execution_count": 20,
   "id": "14ba7ebf",
   "metadata": {},
   "outputs": [],
   "source": [
    "# 练习：hello world ,find()查找hello，index()查找wo"
   ]
  },
  {
   "cell_type": "code",
   "execution_count": null,
   "id": "61940fcf",
   "metadata": {},
   "outputs": [],
   "source": [
    "4. 查询子串在字符串中出现的次数,count计数"
   ]
  },
  {
   "cell_type": "code",
   "execution_count": 23,
   "id": "af8e1be0",
   "metadata": {},
   "outputs": [
    {
     "data": {
      "text/plain": [
       "2"
      ]
     },
     "execution_count": 23,
     "metadata": {},
     "output_type": "execute_result"
    }
   ],
   "source": [
    "s = 'apple'\n",
    "s.count('p')"
   ]
  },
  {
   "cell_type": "code",
   "execution_count": 25,
   "id": "2114b72c",
   "metadata": {},
   "outputs": [
    {
     "data": {
      "text/plain": [
       "1"
      ]
     },
     "execution_count": 25,
     "metadata": {},
     "output_type": "execute_result"
    }
   ],
   "source": [
    "s.count('pl')"
   ]
  },
  {
   "cell_type": "code",
   "execution_count": 26,
   "id": "c683e168",
   "metadata": {},
   "outputs": [
    {
     "data": {
      "text/plain": [
       "4"
      ]
     },
     "execution_count": 26,
     "metadata": {},
     "output_type": "execute_result"
    }
   ],
   "source": [
    "s = 'appleplpleapple'\n",
    "s.count('pl')"
   ]
  },
  {
   "cell_type": "code",
   "execution_count": 27,
   "id": "c58657a6",
   "metadata": {},
   "outputs": [
    {
     "data": {
      "text/plain": [
       "0"
      ]
     },
     "execution_count": 27,
     "metadata": {},
     "output_type": "execute_result"
    }
   ],
   "source": [
    "s.count('zzzzz')"
   ]
  },
  {
   "cell_type": "code",
   "execution_count": 28,
   "id": "6af45128",
   "metadata": {},
   "outputs": [
    {
     "data": {
      "text/plain": [
       "2"
      ]
     },
     "execution_count": 28,
     "metadata": {},
     "output_type": "execute_result"
    }
   ],
   "source": [
    "s = '我是一名学生，我喜欢学习python'\n",
    "s.count('我')"
   ]
  },
  {
   "cell_type": "code",
   "execution_count": null,
   "id": "7f4b0b7d",
   "metadata": {},
   "outputs": [],
   "source": [
    "# 练习：mystr.count(str,start=0,end=len(mystr))，查找m出现的次数"
   ]
  },
  {
   "cell_type": "code",
   "execution_count": 1,
   "id": "a02e5e7a",
   "metadata": {},
   "outputs": [
    {
     "ename": "TypeError",
     "evalue": "count() takes no keyword arguments",
     "output_type": "error",
     "traceback": [
      "\u001b[0;31m---------------------------------------------------------------------------\u001b[0m",
      "\u001b[0;31mTypeError\u001b[0m                                 Traceback (most recent call last)",
      "Input \u001b[0;32mIn [1]\u001b[0m, in \u001b[0;36m<cell line: 2>\u001b[0;34m()\u001b[0m\n\u001b[1;32m      1\u001b[0m s \u001b[38;5;241m=\u001b[39m \u001b[38;5;124m'\u001b[39m\u001b[38;5;124mappleplpleapple\u001b[39m\u001b[38;5;124m'\u001b[39m\n\u001b[0;32m----> 2\u001b[0m \u001b[43ms\u001b[49m\u001b[38;5;241;43m.\u001b[39;49m\u001b[43mcount\u001b[49m\u001b[43m(\u001b[49m\u001b[38;5;124;43m'\u001b[39;49m\u001b[38;5;124;43mpl\u001b[39;49m\u001b[38;5;124;43m'\u001b[39;49m\u001b[43m,\u001b[49m\u001b[43mstart\u001b[49m\u001b[38;5;241;43m=\u001b[39;49m\u001b[38;5;241;43m5\u001b[39;49m\u001b[43m,\u001b[49m\u001b[43mend\u001b[49m\u001b[38;5;241;43m=\u001b[39;49m\u001b[38;5;28;43mlen\u001b[39;49m\u001b[43m(\u001b[49m\u001b[43ms\u001b[49m\u001b[43m)\u001b[49m\u001b[43m)\u001b[49m\n",
      "\u001b[0;31mTypeError\u001b[0m: count() takes no keyword arguments"
     ]
    }
   ],
   "source": [
    "s = 'appleplpleapple'\n",
    "s.count('pl',start=5,end=len(s))"
   ]
  },
  {
   "cell_type": "markdown",
   "id": "af9b586e",
   "metadata": {},
   "source": [
    "作业：\n",
    "给定一个字符串mystr=’hello world!’\n",
    "求mystr的长度，len()\n",
    "查询指定字符”a”的位置， find/index\n",
    "以及”or”是否在字符串中，in\n",
    "并查询字符‘l’出现的次数 count()"
   ]
  },
  {
   "cell_type": "code",
   "execution_count": 2,
   "id": "6c12d371",
   "metadata": {},
   "outputs": [],
   "source": [
    "s='abcde'"
   ]
  },
  {
   "cell_type": "code",
   "execution_count": 4,
   "id": "619851dc",
   "metadata": {},
   "outputs": [
    {
     "data": {
      "text/plain": [
       "False"
      ]
     },
     "execution_count": 4,
     "metadata": {},
     "output_type": "execute_result"
    }
   ],
   "source": [
    "'dd' in s"
   ]
  },
  {
   "cell_type": "code",
   "execution_count": null,
   "id": "76249f09",
   "metadata": {},
   "outputs": [],
   "source": []
  }
 ],
 "metadata": {
  "kernelspec": {
   "display_name": "Python 3 (ipykernel)",
   "language": "python",
   "name": "python3"
  },
  "language_info": {
   "codemirror_mode": {
    "name": "ipython",
    "version": 3
   },
   "file_extension": ".py",
   "mimetype": "text/x-python",
   "name": "python",
   "nbconvert_exporter": "python",
   "pygments_lexer": "ipython3",
   "version": "3.9.7"
  }
 },
 "nbformat": 4,
 "nbformat_minor": 5
}
