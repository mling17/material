{
 "cells": [
  {
   "cell_type": "markdown",
   "id": "2647d3a4",
   "metadata": {},
   "source": [
    "作业： 编写一个程序，输入6位密码（密码为555555），密码输入正确后提示‘密码输入正确，欢迎进入系统’。错误则输出‘密码错误，您已经输入*次，请重新输入’"
   ]
  },
  {
   "cell_type": "markdown",
   "id": "79062b28",
   "metadata": {},
   "source": [
    "x = 555555\n",
    "count = 1\n",
    "while count != 7:\n",
    "    input()\n",
    "    if 条件：\n",
    "        print（）\n",
    "    else：\n",
    "        print（）\n",
    "1. 先有一个密码    \n",
    "2. 有一个循环\n",
    "3. 输入密码\n",
    "4. 判断密码是否正确，正确打印正确，错误让用户重新输入\n",
    "5. 如果次数超过限制，要退出循环"
   ]
  },
  {
   "cell_type": "code",
   "execution_count": 3,
   "id": "59fc89ae",
   "metadata": {},
   "outputs": [
    {
     "name": "stdout",
     "output_type": "stream",
     "text": [
      "请输入一个数1\n"
     ]
    }
   ],
   "source": [
    "# 程钰航\n",
    "n = int(input('请输入一个数'))\n",
    "if n == 555555:\n",
    "    print('正确')\n",
    "else:\n",
    "    while n!= 1:\n",
    "            print('错误')"
   ]
  },
  {
   "cell_type": "code",
   "execution_count": 4,
   "id": "5e2f9af6",
   "metadata": {},
   "outputs": [
    {
     "name": "stdout",
     "output_type": "stream",
     "text": [
      "请输入密码111\n"
     ]
    }
   ],
   "source": [
    "# 黄玺润\n",
    "a=input(\"请输入密码\")\n",
    "a=int(a)\n",
    "n=0\n",
    "while int(n>6):\n",
    "    if(a==555555):\n",
    "        int(n+1)\n",
    "        print(\"密码输入正确，正进入系统\")\n",
    "    elif(n==6):\n",
    "        int(n+1)\n",
    "        print(\"此卡一锁死，请与发卡行联系\")\n",
    "    else:\n",
    "        int(n+1)\n",
    "        print(\"密码错误，您已经输入\")\n",
    "        print(n)\n",
    "        print(\"次，请重新输入\")\n"
   ]
  },
  {
   "cell_type": "code",
   "execution_count": 6,
   "id": "5eb2bf9e",
   "metadata": {},
   "outputs": [
    {
     "data": {
      "text/plain": [
       "0"
      ]
     },
     "execution_count": 6,
     "metadata": {},
     "output_type": "execute_result"
    }
   ],
   "source": [
    "int(0>6)\n"
   ]
  },
  {
   "cell_type": "code",
   "execution_count": 8,
   "id": "74567a4c",
   "metadata": {},
   "outputs": [
    {
     "name": "stdout",
     "output_type": "stream",
     "text": [
      "请输入一个6位数密码123\n",
      "密码错误，您已输入1次，请重新输入\n",
      "请输入一个6位数密码1231231\n",
      "密码错误，您已输入2次，请重新输入\n",
      "请输入一个6位数密码123123\n",
      "密码错误，您已输入3次，请重新输入\n",
      "请输入一个6位数密码123\n",
      "密码错误，您已输入4次，请重新输入\n",
      "请输入一个6位数密码12\n",
      "密码错误，您已输入5次，请重新输入\n",
      "请输入一个6位数密码1231\n",
      "密码错误，您已输入6次，请重新输入\n"
     ]
    }
   ],
   "source": [
    "# 徐乐岩\n",
    "x=555555\n",
    "y=1\n",
    "while y!=7:\n",
    "    a=input('请输入一个6位数密码')\n",
    "    a=int(a)\n",
    "    if a==x:\n",
    "        print('密码输入正确，欢迎进入系统')\n",
    "        y=6\n",
    "    else:\n",
    "        print('密码错误，您已输入%s次，请重新输入'%y)\n",
    "    y+=1"
   ]
  },
  {
   "cell_type": "markdown",
   "id": "5ed00971",
   "metadata": {},
   "source": [
    "### break和continue"
   ]
  },
  {
   "cell_type": "code",
   "execution_count": null,
   "id": "659219d7",
   "metadata": {},
   "outputs": [],
   "source": [
    "学习目标：\n",
    "1. 掌握break语句的概念以及应用\n",
    "2. 掌握continue语句的概念及应用"
   ]
  },
  {
   "cell_type": "markdown",
   "id": "617f6299",
   "metadata": {},
   "source": [
    "知识点回顾：\n",
    "while语句的格式及应用\n",
    "\n",
    "while 条件（condition）：\n",
    "    执行语句（statements）\n",
    "\n",
    "学习的时候要和if语句比较学习"
   ]
  },
  {
   "cell_type": "code",
   "execution_count": null,
   "id": "2f3e104b",
   "metadata": {},
   "outputs": [],
   "source": [
    "## break"
   ]
  },
  {
   "cell_type": "markdown",
   "id": "70d75598",
   "metadata": {},
   "source": [
    "break语句一般会结合if判断，当在某种条件下跳出循环。如果是循环嵌套则跳出内循环。"
   ]
  },
  {
   "cell_type": "markdown",
   "id": "d5176e53",
   "metadata": {},
   "source": [
    "while使用break语句的一般格式\n",
    "while condition1:\n",
    "    print('do something...')\n",
    "    if condition2:\n",
    "        break\n",
    "        "
   ]
  },
  {
   "cell_type": "markdown",
   "id": "f16ec0c2",
   "metadata": {},
   "source": [
    "for 使用break语句的一般格式\n",
    "for 迭代变量 in 对象名:\n",
    "    print('do something...')\n",
    "    if condition:\n",
    "        break"
   ]
  },
  {
   "cell_type": "code",
   "execution_count": 13,
   "id": "3dbfa301",
   "metadata": {},
   "outputs": [
    {
     "name": "stdout",
     "output_type": "stream",
     "text": [
      "0\n",
      "1\n",
      "2\n",
      "3\n",
      "out\n"
     ]
    }
   ],
   "source": [
    "for i in range(5):\n",
    "    print(i)\n",
    "    if i ==3:\n",
    "        break\n",
    "print('out')\n"
   ]
  },
  {
   "cell_type": "code",
   "execution_count": 14,
   "id": "a80b6dce",
   "metadata": {},
   "outputs": [
    {
     "name": "stdout",
     "output_type": "stream",
     "text": [
      "请输入密码：12\n",
      "密码错误，请重新输入\n",
      "请输入密码：12345\n",
      "密码正确\n"
     ]
    }
   ],
   "source": [
    "s = '12345'\n",
    "\n",
    "while True:\n",
    "    inp = input('请输入密码：')\n",
    "    if inp == s:\n",
    "        print('密码正确')\n",
    "        break\n",
    "    else:\n",
    "        print('密码错误，请重新输入')"
   ]
  },
  {
   "cell_type": "markdown",
   "id": "d00509e3",
   "metadata": {},
   "source": [
    "猜数字游戏：生成一个随机整数，让用户输入猜的数字，如果猜的数字大了就打印‘您猜的数字大了，如果小了’就打印‘您猜小了，请重新输入’，相等则打印‘恭喜你猜对了，你总共猜了**次’。\n",
    "知识点：\n",
    "1. 生成随机整数\n",
    "2. while循环\n",
    "3. break语句"
   ]
  },
  {
   "cell_type": "code",
   "execution_count": 32,
   "id": "16cb84be",
   "metadata": {},
   "outputs": [
    {
     "name": "stdout",
     "output_type": "stream",
     "text": [
      "46\n"
     ]
    }
   ],
   "source": [
    "#随机数\n",
    "import random\n",
    "r = random.random()# 生成随机的0-1之间的浮点数\n",
    "ri = random.randint(1,100) #生成1-10之间的整数，包括10\n",
    "print(ri)\n"
   ]
  },
  {
   "cell_type": "markdown",
   "id": "e3db230c",
   "metadata": {},
   "source": [
    "1. 生成1-100之间的随机整数\n",
    "2. 用户输入猜的数字\n",
    "3. 判断用户猜的数字大小，如果大了就输出大了，小了就输出小了，相等就恭喜输入正确\n",
    "4. 打印猜的次数\n"
   ]
  },
  {
   "cell_type": "code",
   "execution_count": null,
   "id": "00d127b9",
   "metadata": {},
   "outputs": [],
   "source": [
    "#于子津\n",
    "import random\n",
    "ri = random.randint(1,100)#生成1到10之间的整数，包括10\n",
    "a=input('请输入一个数')\n",
    "if a == ri:\n",
    "    print('恭喜输入正确')\n",
    "    print(ri)\n",
    "    if a < ri:\n",
    "          print('输入小了')\n",
    "    else:\n",
    "        print('输入的数大了')\n",
    "#1. 没有数据类型转换\n",
    "#2. 只能输入一次\n",
    "#3. 应该有三个条件"
   ]
  },
  {
   "cell_type": "code",
   "execution_count": 5,
   "id": "d997a3ca",
   "metadata": {},
   "outputs": [
    {
     "name": "stdout",
     "output_type": "stream",
     "text": [
      "100\n"
     ]
    },
    {
     "ename": "NameError",
     "evalue": "name 's' is not defined",
     "output_type": "error",
     "traceback": [
      "\u001b[0;31m---------------------------------------------------------------------------\u001b[0m",
      "\u001b[0;31mNameError\u001b[0m                                 Traceback (most recent call last)",
      "\u001b[0;32m/var/folders/7_/gl5k51h93z55mwsdpj89djpw0000gn/T/ipykernel_31162/2897366587.py\u001b[0m in \u001b[0;36m<module>\u001b[0;34m\u001b[0m\n\u001b[1;32m      4\u001b[0m \u001b[0mri\u001b[0m\u001b[0;34m=\u001b[0m\u001b[0mrandom\u001b[0m\u001b[0;34m.\u001b[0m\u001b[0mrandint\u001b[0m\u001b[0;34m(\u001b[0m\u001b[0;36m1\u001b[0m\u001b[0;34m,\u001b[0m\u001b[0;36m100\u001b[0m\u001b[0;34m)\u001b[0m\u001b[0;34m\u001b[0m\u001b[0;34m\u001b[0m\u001b[0m\n\u001b[1;32m      5\u001b[0m \u001b[0mprint\u001b[0m\u001b[0;34m(\u001b[0m\u001b[0mri\u001b[0m\u001b[0;34m)\u001b[0m\u001b[0;34m\u001b[0m\u001b[0;34m\u001b[0m\u001b[0m\n\u001b[0;32m----> 6\u001b[0;31m \u001b[0mint\u001b[0m\u001b[0;34m(\u001b[0m\u001b[0ms\u001b[0m\u001b[0;34m)\u001b[0m\u001b[0;34m\u001b[0m\u001b[0;34m\u001b[0m\u001b[0m\n\u001b[0m\u001b[1;32m      7\u001b[0m \u001b[0ms\u001b[0m\u001b[0;34m=\u001b[0m\u001b[0;36m0\u001b[0m\u001b[0;34m\u001b[0m\u001b[0;34m\u001b[0m\u001b[0m\n\u001b[1;32m      8\u001b[0m \u001b[0ma\u001b[0m\u001b[0;34m=\u001b[0m\u001b[0minput\u001b[0m\u001b[0;34m(\u001b[0m\u001b[0;34m\"请输入您所猜的数\"\u001b[0m\u001b[0;34m)\u001b[0m\u001b[0;34m\u001b[0m\u001b[0;34m\u001b[0m\u001b[0m\n",
      "\u001b[0;31mNameError\u001b[0m: name 's' is not defined"
     ]
    }
   ],
   "source": [
    "# 黄玺润\n",
    "import random\n",
    "#r=random.random()\n",
    "ri=random.randint(1,100)\n",
    "print(ri)\n",
    "int(s)\n",
    "s=0\n",
    "a=input(\"请输入您所猜的数\")\n",
    "a=int(a)\n",
    "while 1==8:\n",
    "    if(a==ri):\n",
    "        s+1\n",
    "        print(\"yes\")\n",
    "        print(s)\n",
    "    elif(a<ri):\n",
    "        s+=1  #s = s +1\n",
    "        print(\"大了\")\n",
    "        print(s)\n",
    "    else:\n",
    "        s+=1\n",
    "        print(\"xiao了\")\n",
    "        print(s)\n"
   ]
  },
  {
   "cell_type": "code",
   "execution_count": 6,
   "id": "8f023eb5",
   "metadata": {},
   "outputs": [
    {
     "name": "stdout",
     "output_type": "stream",
     "text": [
      "请输入一个数50\n",
      "输入的数大了\n"
     ]
    }
   ],
   "source": [
    "# 于子津2\n",
    "import random\n",
    "ri = random.randint(1,100)#生成1到100之间的整数，包括100\n",
    "#print(ri)\n",
    "a=input('请输入一个数')\n",
    "a=int(a)\n",
    "if a == ri:\n",
    "    print('恭喜输入正确')\n",
    "    print(ri)\n",
    "if a < ri:\n",
    "    print('输入小了')\n",
    "else:\n",
    "    print('输入的数大了')\n"
   ]
  },
  {
   "cell_type": "code",
   "execution_count": 5,
   "id": "1f034898",
   "metadata": {},
   "outputs": [
    {
     "name": "stdout",
     "output_type": "stream",
     "text": [
      "请输入你猜的数字50\n",
      "您猜小了\n",
      "请输入你猜的数字75\n",
      "您猜小了\n",
      "请输入你猜的数字90\n",
      "您猜小了\n",
      "请输入你猜的数字95\n",
      "您猜大了\n",
      "请输入你猜的数字93\n",
      "您猜大了\n",
      "请输入你猜的数字92\n",
      "您猜对正确了,您猜了6次\n"
     ]
    }
   ],
   "source": [
    "import random\n",
    "ri = random.randint(1,100)\n",
    "count = 0\n",
    "while True:\n",
    "    inp = int(input('请输入你猜的数字'))\n",
    "    count += 1\n",
    "    if inp == ri:\n",
    "        print('您猜对正确了,您猜了%s次'%count)\n",
    "        break\n",
    "    elif inp > ri:\n",
    "        print('您猜大了')\n",
    "    else:\n",
    "        print('您猜小了')"
   ]
  },
  {
   "cell_type": "code",
   "execution_count": null,
   "id": "ffd3f968",
   "metadata": {},
   "outputs": [],
   "source": [
    "# continue"
   ]
  },
  {
   "cell_type": "code",
   "execution_count": 8,
   "id": "18d47925",
   "metadata": {},
   "outputs": [
    {
     "name": "stdout",
     "output_type": "stream",
     "text": [
      "0\n",
      "1\n"
     ]
    }
   ],
   "source": [
    "for i in range(5):\n",
    "    if i == 2:\n",
    "        break # 结束整个循环\n",
    "    print(i)"
   ]
  },
  {
   "cell_type": "code",
   "execution_count": 9,
   "id": "ade82f67",
   "metadata": {},
   "outputs": [
    {
     "name": "stdout",
     "output_type": "stream",
     "text": [
      "0\n",
      "1\n",
      "3\n",
      "4\n"
     ]
    }
   ],
   "source": [
    "for i in range(5):\n",
    "    if i == 2:\n",
    "        continue # 结束本次循环\n",
    "    print(i)\n"
   ]
  },
  {
   "cell_type": "code",
   "execution_count": null,
   "id": "e07a9059",
   "metadata": {},
   "outputs": [],
   "source": [
    "# 使用continue语句打印出1-10之间的偶数\n"
   ]
  },
  {
   "cell_type": "code",
   "execution_count": 10,
   "id": "75803c20",
   "metadata": {},
   "outputs": [
    {
     "name": "stdout",
     "output_type": "stream",
     "text": [
      "2\n",
      "4\n",
      "6\n",
      "8\n",
      "10\n"
     ]
    }
   ],
   "source": [
    "# 徐乐岩\n",
    "for i in range(1,11):\n",
    "    if i%2==1:\n",
    "        continue\n",
    "    print(i)\n"
   ]
  },
  {
   "cell_type": "code",
   "execution_count": 14,
   "id": "3700a1d5",
   "metadata": {},
   "outputs": [
    {
     "data": {
      "text/plain": [
       "False"
      ]
     },
     "execution_count": 14,
     "metadata": {},
     "output_type": "execute_result"
    }
   ],
   "source": [
    "s = 'asdf;laksjdf'\n",
    "'sd' not in s"
   ]
  },
  {
   "cell_type": "code",
   "execution_count": null,
   "id": "f53edcab",
   "metadata": {},
   "outputs": [],
   "source": [
    "作业：打印出1-100之间，所有不带7和7的倍数的数字"
   ]
  }
 ],
 "metadata": {
  "kernelspec": {
   "display_name": "Python 3 (ipykernel)",
   "language": "python",
   "name": "python3"
  },
  "language_info": {
   "codemirror_mode": {
    "name": "ipython",
    "version": 3
   },
   "file_extension": ".py",
   "mimetype": "text/x-python",
   "name": "python",
   "nbconvert_exporter": "python",
   "pygments_lexer": "ipython3",
   "version": "3.7.3"
  }
 },
 "nbformat": 4,
 "nbformat_minor": 5
}
